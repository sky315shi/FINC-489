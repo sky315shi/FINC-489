{
  "nbformat": 4,
  "nbformat_minor": 0,
  "metadata": {
    "colab": {
      "provenance": []
    },
    "kernelspec": {
      "name": "python3",
      "display_name": "Python 3"
    },
    "language_info": {
      "name": "python"
    }
  },
  "cells": [
    {
      "cell_type": "markdown",
      "source": [
        "Practice Exam 2 for FINC 489-506; 689-606 (Quantitative Research Methods in Finance)"
      ],
      "metadata": {
        "id": "nXs1HZ2OTCao"
      }
    },
    {
      "cell_type": "markdown",
      "source": [
        "This part is to import basic modules."
      ],
      "metadata": {
        "id": "OyUpYTEeUCx4"
      }
    },
    {
      "cell_type": "code",
      "execution_count": 5,
      "metadata": {
        "id": "3b1MzOG2S1dp"
      },
      "outputs": [],
      "source": [
        "import yfinance as yf\n",
        "import pandas as pd\n",
        "import numpy as np\n",
        "import matplotlib.pyplot as plt\n",
        "import statsmodels.api as sm\n",
        "import statsmodels.formula.api as smf\n",
        "import pandas_datareader.data as web\n",
        "import scipy.stats as stats\n",
        "yf.pdr_override()"
      ]
    },
    {
      "cell_type": "markdown",
      "source": [
        "Q1: 5 points) Download the following mutual price data from yahoo finance between 2012.01.02 to 2023.04.05. Then, create a data copy and extract Adjusted Close Price ('Adj Close') from the data set you downloaded. Show the result.\n",
        "\n",
        "\n",
        "Tickers = [\n",
        "    'BCSIX', 'CIPMX', 'CIPSX', 'FDGRX', 'LSGRX', 'MPEGX', 'MSEQX', 'NWSAX',\n",
        "    'POAGX', 'POGRX', 'PGBHX', 'PMBPX', 'PRWAX', 'PRDSX', 'RPMGX', 'VHCOX',\n",
        "    'VIGAX', 'VUG', 'VRGWX', 'VONG', 'VSPGX', 'VOOG', 'VSGIX', 'VBK', 'WGROX',\n",
        "    'WAAEX', 'AMRMX', 'DHLYX', 'DODGX', 'HAMVX', 'JVMIX', 'OIEJX', 'LSVQX',\n",
        "    'MCVRX', 'MEIJX', 'OAKMX', 'SCHD', 'VHYAX', 'VYM', 'VMVAX', 'VOE', 'VRVIX',\n",
        "    'VMFVX', 'VSMVX', 'VSIAX', 'VBR', 'VVIAX', 'VTV', 'VEVRX', 'MADVX', 'CGDV',\n",
        "    'LCBOX', 'CDIRX', 'FDVV', 'QDF', 'LVHD', 'LCEYX', 'FSIUX', 'SDY', 'PRDGX',\n",
        "    'TDVG', 'VIG', 'VDADX', 'VDIGX', 'DLN', 'DON', 'DES', 'XMHQ', 'SPY']"
      ],
      "metadata": {
        "id": "pAL5_k1qUPYq"
      }
    },
    {
      "cell_type": "code",
      "source": [
        "# List of best (active) mutual funds in 2023 picked by the morningstar\n",
        "\n",
        "Tickers = [\n",
        "    'BCSIX', 'CIPMX', 'CIPSX', 'FDGRX', 'LSGRX', 'MPEGX', 'MSEQX', 'NWSAX',\n",
        "    'POAGX', 'POGRX', 'PGBHX', 'PMBPX', 'PRWAX', 'PRDSX', 'RPMGX', 'VHCOX',\n",
        "    'VIGAX', 'VUG', 'VRGWX', 'VONG', 'VSPGX', 'VOOG', 'VSGIX', 'VBK', 'WGROX',\n",
        "    'WAAEX', 'AMRMX', 'DHLYX', 'DODGX', 'HAMVX', 'JVMIX', 'OIEJX', 'LSVQX',\n",
        "    'MCVRX', 'MEIJX', 'OAKMX', 'SCHD', 'VHYAX', 'VYM', 'VMVAX', 'VOE', 'VRVIX',\n",
        "    'VMFVX', 'VSMVX', 'VSIAX', 'VBR', 'VVIAX', 'VTV', 'VEVRX', 'MADVX', 'CGDV',\n",
        "    'LCBOX', 'CDIRX', 'FDVV', 'QDF', 'LVHD', 'LCEYX', 'FSIUX', 'SDY', 'PRDGX',\n",
        "    'TDVG', 'VIG', 'VDADX', 'VDIGX', 'DLN', 'DON', 'DES', 'XMHQ', 'SPY'\n",
        "]"
      ],
      "metadata": {
        "id": "1gSxyeNPUONp"
      },
      "execution_count": 6,
      "outputs": []
    },
    {
      "cell_type": "code",
      "source": [
        "# Download historical data for the tickers\n",
        "data0 = yf.download(Tickers, start=\"2012-01-02\", end=\"2024-04-05\")['Adj Close']\n",
        "data = data0.copy()"
      ],
      "metadata": {
        "colab": {
          "base_uri": "https://localhost:8080/"
        },
        "id": "2p6iauIKWeRu",
        "outputId": "850f4196-ac3a-4ca3-b7bd-45e79b79276d"
      },
      "execution_count": 7,
      "outputs": [
        {
          "output_type": "stream",
          "name": "stderr",
          "text": [
            "[*********************100%%**********************]  69 of 69 completed\n"
          ]
        }
      ]
    },
    {
      "cell_type": "markdown",
      "source": [
        "Q2: 25 points) Calculate daily returns of each mutual funds Then, create another data set that computes the difference of mutual fund returns and SPY (SP500 mutual funds) returns. In so doing, add a condition such that if there are less than 60 observations, remove the specific mutual funds."
      ],
      "metadata": {
        "id": "OHycArAxWbve"
      }
    },
    {
      "cell_type": "code",
      "source": [
        "# Calculate daily returns\n",
        "returns = data.pct_change()\n",
        "\n",
        "# Calculate the difference between each ticker's return and SPY's return\n",
        "returns_minus_SPY = returns.subtract(returns['SPY'], axis=0)\n",
        "\n",
        "# Remove the SPY column from the new dataset\n",
        "returns_minus_SPY = returns_minus_SPY.drop(columns=['SPY'])\n",
        "\n",
        "# Filter out funds with fewer than n number of  non-NaN observations n = 60\n",
        "returns_minus_SPY = returns_minus_SPY.dropna(axis=1, thresh=60)\n",
        "\n",
        "# Display the first few rows of the new dataset\n",
        "print(returns_minus_SPY.head())\n",
        "\n",
        "x = returns_minus_SPY\n",
        "mu = np.mean(x)\n",
        "rows, columns = x.shape # This is to get the number of data points (rows in this case)\n",
        "n = rows\n",
        "\n",
        "print(\"Number of observations:\", n)"
      ],
      "metadata": {
        "colab": {
          "base_uri": "https://localhost:8080/"
        },
        "id": "77G-hbLWZ-3o",
        "outputId": "7d3d07f9-ff27-4ee9-f36e-78b8093d0e39"
      },
      "execution_count": 8,
      "outputs": [
        {
          "output_type": "stream",
          "name": "stdout",
          "text": [
            "Ticker         AMRMX     BCSIX     CDIRX  CGDV     CIPMX     CIPSX       DES  \\\n",
            "Date                                                                           \n",
            "2012-01-03       NaN       NaN       NaN   NaN       NaN       NaN       NaN   \n",
            "2012-01-04 -0.000802 -0.011733 -0.002295   NaN -0.007013 -0.009448 -0.006162   \n",
            "2012-01-05 -0.002279  0.004868 -0.001935   NaN  0.005549  0.002392  0.002612   \n",
            "2012-01-06 -0.000103  0.001218 -0.001059   NaN  0.003482 -0.003170  0.000391   \n",
            "2012-01-09 -0.000124  0.004150 -0.001697   NaN  0.000285 -0.000982 -0.001332   \n",
            "\n",
            "Ticker         DHLYX       DLN     DODGX  ...     VSIAX     VSMVX     VSPGX  \\\n",
            "Date                                      ...                                 \n",
            "2012-01-03       NaN       NaN       NaN  ...       NaN       NaN       NaN   \n",
            "2012-01-04 -0.000260 -0.002779 -0.003012  ... -0.005948 -0.008140 -0.001244   \n",
            "2012-01-05 -0.000048 -0.000037  0.000034  ...  0.003936  0.004932 -0.000798   \n",
            "2012-01-06 -0.000683 -0.000847 -0.000401  ...  0.000756 -0.001151  0.000797   \n",
            "2012-01-09  0.001497 -0.000407  0.001523  ...  0.002316  0.001234 -0.002022   \n",
            "\n",
            "Ticker           VTV       VUG     VVIAX       VYM     WAAEX     WGROX  \\\n",
            "Date                                                                     \n",
            "2012-01-03       NaN       NaN       NaN       NaN       NaN       NaN   \n",
            "2012-01-04 -0.001756  0.000027 -0.002050 -0.001569 -0.011553 -0.009284   \n",
            "2012-01-05  0.000903  0.000843  0.000706 -0.002662 -0.001070  0.001781   \n",
            "2012-01-06 -0.000415  0.002577 -0.000780  0.000388  0.000987  0.000365   \n",
            "2012-01-09  0.000761 -0.002110  0.001904 -0.001330  0.002350 -0.002981   \n",
            "\n",
            "Ticker          XMHQ  \n",
            "Date                  \n",
            "2012-01-03       NaN  \n",
            "2012-01-04 -0.003208  \n",
            "2012-01-05  0.001855  \n",
            "2012-01-06  0.005848  \n",
            "2012-01-09 -0.000797  \n",
            "\n",
            "[5 rows x 68 columns]\n",
            "Number of observations: 3083\n"
          ]
        }
      ]
    },
    {
      "cell_type": "markdown",
      "source": [
        "Q3: 25 points) Create a bootsrap function to compute the mean statistic for each bootstrapped sample allowing replacement. The function should return the list of means from each sample."
      ],
      "metadata": {
        "id": "NxMpXCtVahvX"
      }
    },
    {
      "cell_type": "code",
      "source": [
        "# Bootstrap function for mean (time-series average for fund return minus SPY)\n",
        "\n",
        "def bootstrap_mean(data, n_bootstrap=1000):\n",
        "    bootstrap_means = []\n",
        "    for _ in range(n_bootstrap):\n",
        "        bootstrap_sample = np.random.choice(data[~np.isnan(data)], size=len(data), replace=True) #sampling with replacement for observed data\n",
        "        bootstrap_means.append(np.mean(bootstrap_sample)) # Each repeat will add a mean based on newly bootstrapped samples\n",
        "    return bootstrap_means\n"
      ],
      "metadata": {
        "id": "d463UvsMasgr"
      },
      "execution_count": 9,
      "outputs": []
    },
    {
      "cell_type": "markdown",
      "source": [
        "Q4: 30 points) Perform a bootstrap analysis (1000 samples) for each ticker. In doing so, compute the t-statistics and confidence interval (95 percent)."
      ],
      "metadata": {
        "id": "wGIqpvycflOY"
      }
    },
    {
      "cell_type": "code",
      "source": [
        "# Perform bootstrap for each ticker and calculate t-statistics\n",
        "bootstrap_results = {}\n",
        "for ticker in returns_minus_SPY.columns:\n",
        "    bootstrap_means = bootstrap_mean(returns_minus_SPY[ticker])\n",
        "    mean_estimate = np.mean(bootstrap_means)\n",
        "    std_error = np.std(bootstrap_means, ddof=1) #standard error = std dev of estimate (i.e., mean in this case)\n",
        "    t_statistic = mean_estimate / std_error\n",
        "    conf_interval = stats.norm.interval(0.95, loc=mean_estimate, scale=std_error)\n",
        "    bootstrap_results[ticker] = {'t_statistic': t_statistic, 'conf_interval': conf_interval}"
      ],
      "metadata": {
        "id": "r7M_diwdf7pR"
      },
      "execution_count": 10,
      "outputs": []
    },
    {
      "cell_type": "code",
      "source": [
        "bootstrap_results"
      ],
      "metadata": {
        "colab": {
          "base_uri": "https://localhost:8080/"
        },
        "id": "VCxOyigGgbND",
        "outputId": "b88ded15-e789-4e9e-8dcd-744cc943cff5"
      },
      "execution_count": 11,
      "outputs": [
        {
          "output_type": "execute_result",
          "data": {
            "text/plain": [
              "{'AMRMX': {'t_statistic': -2.026612390993152,\n",
              "  'conf_interval': (-0.0002501251109955151, -4.1816432174902765e-06)},\n",
              " 'BCSIX': {'t_statistic': -0.4526989230432461,\n",
              "  'conf_interval': (-0.0003670072410361923, 0.00022928076275864536)},\n",
              " 'CDIRX': {'t_statistic': -1.8459728061969838,\n",
              "  'conf_interval': (-0.00020549198558368539, 6.154667001762073e-06)},\n",
              " 'CGDV': {'t_statistic': 2.3073747904123327,\n",
              "  'conf_interval': (2.1905758037393856e-05, 0.00026907421728863035)},\n",
              " 'CIPMX': {'t_statistic': -0.595243047965714,\n",
              "  'conf_interval': (-0.00019396481474541884, 0.0001035954583227059)},\n",
              " 'CIPSX': {'t_statistic': -1.0273439607577102,\n",
              "  'conf_interval': (-0.00035889063402566373, 0.00011204355150835058)},\n",
              " 'DES': {'t_statistic': -1.044602172902403,\n",
              "  'conf_interval': (-0.0003788576320115846, 0.00011542159174357145)},\n",
              " 'DHLYX': {'t_statistic': -1.222486228033569,\n",
              "  'conf_interval': (-0.0001823469536956679, 4.225575054904714e-05)},\n",
              " 'DLN': {'t_statistic': -1.7224832556832106,\n",
              "  'conf_interval': (-0.00018914146853204886, 1.219771822211399e-05)},\n",
              " 'DODGX': {'t_statistic': -0.1211584345178784,\n",
              "  'conf_interval': (-0.0001605274416913364, 0.00014183632255833847)},\n",
              " 'DON': {'t_statistic': -0.7958398700358537,\n",
              "  'conf_interval': (-0.00028637552872879307, 0.00012097256422786372)},\n",
              " 'FDGRX': {'t_statistic': 1.9720902491499919,\n",
              "  'conf_interval': (1.2546213951696798e-06, 0.0004068226718813425)},\n",
              " 'FDVV': {'t_statistic': -1.107049870183264,\n",
              "  'conf_interval': (-0.00023087662784902942, 6.420510108367329e-05)},\n",
              " 'FSIUX': {'t_statistic': -1.8932857024109802,\n",
              "  'conf_interval': (-0.00039863542400834736, 6.89815802974966e-06)},\n",
              " 'HAMVX': {'t_statistic': -0.6619758080611987,\n",
              "  'conf_interval': (-0.00030051296821265476, 0.0001487685875622671)},\n",
              " 'JVMIX': {'t_statistic': -0.4902073031931754,\n",
              "  'conf_interval': (-0.00020987581360621554, 0.00012589584281114667)},\n",
              " 'LCBOX': {'t_statistic': -1.7985584759033264,\n",
              "  'conf_interval': (-0.00017803903810597064, 7.645685719621315e-06)},\n",
              " 'LCEYX': {'t_statistic': -1.7114388938573084,\n",
              "  'conf_interval': (-0.0003146094994057576, 2.1296587969010848e-05)},\n",
              " 'LSGRX': {'t_statistic': 1.3923208072976532,\n",
              "  'conf_interval': (-3.9391006086308245e-05, 0.00023262830583080962)},\n",
              " 'LSVQX': {'t_statistic': -0.6713113162814219,\n",
              "  'conf_interval': (-0.0004215986552425703, 0.0002064756324976617)},\n",
              " 'LVHD': {'t_statistic': -1.7313561901061456,\n",
              "  'conf_interval': (-0.00047738069531717733, 2.956474721736802e-05)},\n",
              " 'MADVX': {'t_statistic': -1.855180940328345,\n",
              "  'conf_interval': (-0.00026607069137093027, 7.307637734973299e-06)},\n",
              " 'MCVRX': {'t_statistic': -1.199582607614682,\n",
              "  'conf_interval': (-0.0002537424600139992, 6.106605346759411e-05)},\n",
              " 'MEIJX': {'t_statistic': -1.5857035319913526,\n",
              "  'conf_interval': (-0.0002195872714766448, 2.317838071776679e-05)},\n",
              " 'MPEGX': {'t_statistic': -0.08233749298808415,\n",
              "  'conf_interval': (-0.0005294022001539274, 0.00048671540741282015)},\n",
              " 'MSEQX': {'t_statistic': 0.49300452633837905,\n",
              "  'conf_interval': (-0.0003382786172636355, 0.0005656508033755884)},\n",
              " 'NWSAX': {'t_statistic': -0.42880562482803203,\n",
              "  'conf_interval': (-0.0003887554747494161, 0.0002491852678935613)},\n",
              " 'OAKMX': {'t_statistic': 0.29532612645414086,\n",
              "  'conf_interval': (-0.00012808165965507085, 0.00017352801332534457)},\n",
              " 'OIEJX': {'t_statistic': -1.4322084372420627,\n",
              "  'conf_interval': (-0.00022020667443543014, 3.425984281904101e-05)},\n",
              " 'PGBHX': {'t_statistic': 1.1874762849609874,\n",
              "  'conf_interval': (-8.827520920988725e-05, 0.0003596703849358709)},\n",
              " 'PMBPX': {'t_statistic': 0.05689744241138017,\n",
              "  'conf_interval': (-0.00019409004684772829, 0.00020569576532227863)},\n",
              " 'POAGX': {'t_statistic': 0.4376348330055296,\n",
              "  'conf_interval': (-0.00017552979185037326, 0.00027645139749196544)},\n",
              " 'POGRX': {'t_statistic': 0.20631988416412506,\n",
              "  'conf_interval': (-0.00013690805115175496, 0.00016912308640173632)},\n",
              " 'PRDGX': {'t_statistic': -1.0486244498066297,\n",
              "  'conf_interval': (-0.00012795686493915668, 3.875975471697279e-05)},\n",
              " 'PRDSX': {'t_statistic': -0.4288544132319373,\n",
              "  'conf_interval': (-0.00023506344204791407, 0.00015066356082985284)},\n",
              " 'PRWAX': {'t_statistic': 1.7218334906582606,\n",
              "  'conf_interval': (-1.4454819336526842e-05, 0.00022348971973362746)},\n",
              " 'QDF': {'t_statistic': -1.7580630950970142,\n",
              "  'conf_interval': (-0.00019143625423584615, 1.039560744824757e-05)},\n",
              " 'RPMGX': {'t_statistic': -0.49903567138242527,\n",
              "  'conf_interval': (-0.00016335220979748512, 9.70499803589783e-05)},\n",
              " 'SCHD': {'t_statistic': -0.7430675358629275,\n",
              "  'conf_interval': (-0.00019647700133777738, 8.845333965584954e-05)},\n",
              " 'SDY': {'t_statistic': -1.221896816645715,\n",
              "  'conf_interval': (-0.00028186121987961913, 6.538077096844326e-05)},\n",
              " 'TDVG': {'t_statistic': -1.2291288422676718,\n",
              "  'conf_interval': (-0.0002062026838207109, 4.725487025660108e-05)},\n",
              " 'VBK': {'t_statistic': -0.7217265996561825,\n",
              "  'conf_interval': (-0.0002881663787110445, 0.00013305725324518216)},\n",
              " 'VBR': {'t_statistic': -0.6839421511081376,\n",
              "  'conf_interval': (-0.00028746168558962227, 0.0001387369173745538)},\n",
              " 'VDADX': {'t_statistic': -1.2450698713339092,\n",
              "  'conf_interval': (-0.00017318160322441612, 3.8628767815926e-05)},\n",
              " 'VDIGX': {'t_statistic': -1.2276554148314929,\n",
              "  'conf_interval': (-0.00020876553305658604, 4.796080389875122e-05)},\n",
              " 'VEVRX': {'t_statistic': -0.262987537911591,\n",
              "  'conf_interval': (-0.00024947227323363704, 0.00019044435629322247)},\n",
              " 'VHCOX': {'t_statistic': 0.8425832449025421,\n",
              "  'conf_interval': (-7.706380706503544e-05, 0.00019328681023307956)},\n",
              " 'VHYAX': {'t_statistic': -1.7601800695739713,\n",
              "  'conf_interval': (-0.0003450659922618565, 1.8531173484933195e-05)},\n",
              " 'VIG': {'t_statistic': -1.4062867711007019,\n",
              "  'conf_interval': (-0.00017451998478908837, 2.8704854712793896e-05)},\n",
              " 'VIGAX': {'t_statistic': 1.2548396561817128,\n",
              "  'conf_interval': (-4.5746670905559846e-05, 0.00020856827408081665)},\n",
              " 'VMFVX': {'t_statistic': -0.5010912884351766,\n",
              "  'conf_interval': (-0.0002877645305406771, 0.0001705820349193991)},\n",
              " 'VMVAX': {'t_statistic': -1.0951685224540237,\n",
              "  'conf_interval': (-0.00023999573499808866, 6.793395116945441e-05)},\n",
              " 'VOE': {'t_statistic': -1.0987995299702895,\n",
              "  'conf_interval': (-0.00024757482617028233, 6.970223069967069e-05)},\n",
              " 'VONG': {'t_statistic': 1.5431272678483168,\n",
              "  'conf_interval': (-2.5940948464524123e-05, 0.00021800744993377247)},\n",
              " 'VOOG': {'t_statistic': 0.9542136414862415,\n",
              "  'conf_interval': (-5.6275925007329555e-05, 0.00016306038836868565)},\n",
              " 'VRGWX': {'t_statistic': 1.6664777817379852,\n",
              "  'conf_interval': (-1.7498840834697537e-05, 0.00021622320456132706)},\n",
              " 'VRVIX': {'t_statistic': -1.8528761200898414,\n",
              "  'conf_interval': (-0.00022345287099520469, 6.2759229612300026e-06)},\n",
              " 'VSGIX': {'t_statistic': -0.6843059982839751,\n",
              "  'conf_interval': (-0.00029109049200703524, 0.00014042889465296223)},\n",
              " 'VSIAX': {'t_statistic': -0.6908077157581494,\n",
              "  'conf_interval': (-0.00030351787870260547, 0.00014532055642493182)},\n",
              " 'VSMVX': {'t_statistic': -0.6285405487033254,\n",
              "  'conf_interval': (-0.00037951353540328654, 0.0001952066178613404)},\n",
              " 'VSPGX': {'t_statistic': 0.9143315560978634,\n",
              "  'conf_interval': (-5.2826162173355534e-05, 0.0001452116424794737)},\n",
              " 'VTV': {'t_statistic': -1.1291893786028382,\n",
              "  'conf_interval': (-0.00019247263020932706, 5.176219977410578e-05)},\n",
              " 'VUG': {'t_statistic': 1.242459532057505,\n",
              "  'conf_interval': (-4.7690894321422594e-05, 0.00021285783101981134)},\n",
              " 'VVIAX': {'t_statistic': -1.1510678354591417,\n",
              "  'conf_interval': (-0.00019689327403047904, 5.1194015477227896e-05)},\n",
              " 'VYM': {'t_statistic': -1.458136622413329,\n",
              "  'conf_interval': (-0.00024180747478717347, 3.5500888115499175e-05)},\n",
              " 'WAAEX': {'t_statistic': -0.5392666137018401,\n",
              "  'conf_interval': (-0.0003377893952842389, 0.00019201769781265315)},\n",
              " 'WGROX': {'t_statistic': -0.016977200478179244,\n",
              "  'conf_interval': (-0.0002280838771285255, 0.00022416648622464215)},\n",
              " 'XMHQ': {'t_statistic': 0.28264348356460506,\n",
              "  'conf_interval': (-0.00020354410993017445, 0.00027214211043903906)}}"
            ]
          },
          "metadata": {},
          "execution_count": 11
        }
      ]
    },
    {
      "cell_type": "markdown",
      "source": [
        "Q5: 15 points) Filter the results for those with t-statistics is greater than 1.96 (5 percent significance)."
      ],
      "metadata": {
        "id": "IIMJ9n5LgnhX"
      }
    },
    {
      "cell_type": "code",
      "source": [
        "# Filter for positively significant funds\n",
        "positively_significant_funds = [ticker for ticker, results in bootstrap_results.items() if results['t_statistic'] > 1.96]\n",
        "\n",
        "# Print results for positively significant funds\n",
        "print(\"Positively significant funds:\")\n",
        "for fund in positively_significant_funds:\n",
        "    print(f\"{fund}: T-statistic = {bootstrap_results[fund]['t_statistic']}, 95% Confidence Interval = {bootstrap_results[fund]['conf_interval']}\")"
      ],
      "metadata": {
        "colab": {
          "base_uri": "https://localhost:8080/"
        },
        "id": "vdRqp775g1_X",
        "outputId": "13165aa7-ff7e-4611-fbc2-6188d812b76d"
      },
      "execution_count": 12,
      "outputs": [
        {
          "output_type": "stream",
          "name": "stdout",
          "text": [
            "Positively significant funds:\n",
            "CGDV: T-statistic = 2.3073747904123327, 95% Confidence Interval = (2.1905758037393856e-05, 0.00026907421728863035)\n",
            "FDGRX: T-statistic = 1.9720902491499919, 95% Confidence Interval = (1.2546213951696798e-06, 0.0004068226718813425)\n"
          ]
        }
      ]
    },
    {
      "cell_type": "markdown",
      "source": [
        "Q6: Bonus 15 points plus $\\alpha$) You instead run regressions of each mutual fund to SPY (i.e., a CAPM like regression) then to compute alphas (constant) term instead of the difference and repeat the above bootstrap analysis."
      ],
      "metadata": {
        "id": "fWjIrz7XhGxF"
      }
    },
    {
      "cell_type": "code",
      "source": [],
      "metadata": {
        "id": "FfUH8x3JhwKI"
      },
      "execution_count": null,
      "outputs": []
    }
  ]
}