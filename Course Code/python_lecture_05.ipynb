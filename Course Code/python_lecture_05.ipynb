{
 "cells": [
  {
   "cell_type": "markdown",
   "metadata": {
    "id": "EkIXmzti4T60"
   },
   "source": [
    "# Other Essentials for Python\n",
    "\n",
    "## Iterations (Looping)\n",
    "## Conditional statements (If and Logical Operators)\n",
    "## Making Functions (Functions and Classes)\n",
    "## Examples"
   ]
  },
  {
   "cell_type": "markdown",
   "metadata": {
    "id": "SM0n97Uj1gkj"
   },
   "source": [
    "# For Loop and If Conditional Statements"
   ]
  },
  {
   "cell_type": "code",
   "execution_count": 75,
   "metadata": {
    "id": "4sC5Tye81ZBG"
   },
   "outputs": [],
   "source": [
    "import numpy as np\n",
    "import pandas as pd"
   ]
  },
  {
   "cell_type": "markdown",
   "metadata": {
    "id": "RnsB-9wv24_j"
   },
   "source": [
    "A typical syntax is as follows:\n",
    "\n",
    "for x in X:\n",
    "  commands or functions"
   ]
  },
  {
   "cell_type": "code",
   "execution_count": 76,
   "metadata": {
    "colab": {
     "base_uri": "https://localhost:8080/"
    },
    "id": "AMqxik7n21m2",
    "outputId": "fc01a2dd-55f0-4be8-a4c8-aa88b0802622"
   },
   "outputs": [
    {
     "name": "stdout",
     "output_type": "stream",
     "text": [
      "1\n",
      "8\n",
      "27\n",
      "1000\n"
     ]
    }
   ],
   "source": [
    "# A simple example (looping without index)\n",
    "\n",
    "x_val = [1, 2, 3, 10] # X set for iteration\n",
    "for x in x_val:\n",
    "  print(x**3)"
   ]
  },
  {
   "cell_type": "code",
   "execution_count": 77,
   "metadata": {
    "colab": {
     "base_uri": "https://localhost:8080/"
    },
    "id": "eboQSiVIm9m1",
    "outputId": "aaf8e0f7-2e26-4530-c967-15c2628a3c1a"
   },
   "outputs": [
    {
     "name": "stdout",
     "output_type": "stream",
     "text": [
      "6\n",
      "11\n",
      "18\n",
      "123\n",
      "171\n"
     ]
    }
   ],
   "source": [
    "x_val = (1, 2, 3, 10, 12) # X set for iteration\n",
    "for x in x_val:\n",
    "  print(x**2 + 2*x + 3)"
   ]
  },
  {
   "cell_type": "code",
   "execution_count": 78,
   "metadata": {
    "colab": {
     "base_uri": "https://localhost:8080/"
    },
    "id": "XYL3n64TnjEi",
    "outputId": "031b4807-3141-43f4-d332-a40783a20c10"
   },
   "outputs": [
    {
     "data": {
      "text/plain": [
       "5"
      ]
     },
     "execution_count": 78,
     "metadata": {},
     "output_type": "execute_result"
    }
   ],
   "source": [
    "len(x_val)"
   ]
  },
  {
   "cell_type": "code",
   "execution_count": 79,
   "metadata": {
    "colab": {
     "base_uri": "https://localhost:8080/"
    },
    "id": "J15ABYiVIepo",
    "outputId": "253dfed6-b581-4afb-8a09-347bd4ef3c39"
   },
   "outputs": [
    {
     "name": "stdout",
     "output_type": "stream",
     "text": [
      "6\n",
      "11\n",
      "18\n",
      "123\n",
      "171\n"
     ]
    }
   ],
   "source": [
    "#Altnernatively, we may want to use indexing of Python\n",
    "for k in range(len(x_val)):\n",
    "  #print(x_val[k]**3)\n",
    "  print(x_val[k]**2 + 2*x_val[k] + 3)"
   ]
  },
  {
   "cell_type": "markdown",
   "metadata": {
    "id": "TQMkFqGrJC1N"
   },
   "source": [
    "The first method is easier and better in efficiency."
   ]
  },
  {
   "cell_type": "code",
   "execution_count": 80,
   "metadata": {
    "id": "oEK6x4sOI1aW"
   },
   "outputs": [],
   "source": [
    "countries = ('USA','Korea','Japan')\n",
    "capitalcities = ('Washington, D.C.','Seoul','Tokyo')"
   ]
  },
  {
   "cell_type": "markdown",
   "metadata": {
    "id": "zd3sKrtxKYIJ"
   },
   "source": [
    "formatted string literals (f function) are going to be used. \\\\\n",
    "A = \"Howdy\"\n",
    "f\"Aggies say {A}\""
   ]
  },
  {
   "cell_type": "code",
   "execution_count": 81,
   "metadata": {
    "colab": {
     "base_uri": "https://localhost:8080/",
     "height": 35
    },
    "id": "x7NiXNcYK9Yx",
    "outputId": "4ed6bf55-6664-4fb9-a905-a0b0a9e3fd3e"
   },
   "outputs": [
    {
     "data": {
      "application/vnd.google.colaboratory.intrinsic+json": {
       "type": "string"
      },
      "text/plain": [
       "'Aggies say Howdy'"
      ]
     },
     "execution_count": 81,
     "metadata": {},
     "output_type": "execute_result"
    }
   ],
   "source": [
    "A = \"Howdy\"\n",
    "f\"Aggies say {A}\""
   ]
  },
  {
   "cell_type": "code",
   "execution_count": 82,
   "metadata": {
    "colab": {
     "base_uri": "https://localhost:8080/"
    },
    "id": "TblZRGgfJdTj",
    "outputId": "b8cca411-10a7-4229-a567-e9278a3efe5b"
   },
   "outputs": [
    {
     "name": "stdout",
     "output_type": "stream",
     "text": [
      "The capital of USA is Washington, D.C.\n",
      "The capital of Korea is Seoul\n",
      "The capital of Japan is Tokyo\n"
     ]
    }
   ],
   "source": [
    "for country, city in zip(countries,capitalcities):\n",
    "  print(f'The capital of {country} is {city}')"
   ]
  },
  {
   "cell_type": "code",
   "execution_count": 83,
   "metadata": {
    "colab": {
     "base_uri": "https://localhost:8080/"
    },
    "id": "xzDi-NW-J9qe",
    "outputId": "e3366bcd-a395-437a-ffdb-0a31277acd0a"
   },
   "outputs": [
    {
     "name": "stdout",
     "output_type": "stream",
     "text": [
      "The capital of 'USA' is 'Washington, D.C.'\n",
      "The capital of 'Korea' is 'Seoul'\n",
      "The capital of 'Japan' is 'Tokyo'\n"
     ]
    }
   ],
   "source": [
    "for country, city in zip(countries,capitalcities):\n",
    "  print(f'The capital of {country!r} is {city!r}')"
   ]
  },
  {
   "cell_type": "code",
   "execution_count": 84,
   "metadata": {
    "colab": {
     "base_uri": "https://localhost:8080/"
    },
    "id": "qwv9onm9pFu5",
    "outputId": "54ba3de0-3643-4ce8-80bd-ba5e29848167"
   },
   "outputs": [
    {
     "name": "stdout",
     "output_type": "stream",
     "text": [
      "The capital of USA is Washington, D.C.\n",
      "The capital of USA is Seoul\n",
      "The capital of USA is Tokyo\n",
      "The capital of Korea is Washington, D.C.\n",
      "The capital of Korea is Seoul\n",
      "The capital of Korea is Tokyo\n",
      "The capital of Japan is Washington, D.C.\n",
      "The capital of Japan is Seoul\n",
      "The capital of Japan is Tokyo\n"
     ]
    }
   ],
   "source": [
    "for country1 in countries:\n",
    "  for city1 in capitalcities:\n",
    "    print(f'The capital of {country1} is {city1}')"
   ]
  },
  {
   "cell_type": "markdown",
   "metadata": {
    "id": "Mzyrr-nKKFg6"
   },
   "source": [
    "By the way, zip() function can be useful in creating dictionary data."
   ]
  },
  {
   "cell_type": "code",
   "execution_count": 85,
   "metadata": {
    "colab": {
     "base_uri": "https://localhost:8080/"
    },
    "id": "6Tq8d1FdKNzo",
    "outputId": "6c0f6667-8751-447e-8030-d3145770a612"
   },
   "outputs": [
    {
     "data": {
      "text/plain": [
       "{'Texas A&M': 'Aggies', 'Alabama': 'Crimson Tide', 'USC': 'Trojans'}"
      ]
     },
     "execution_count": 85,
     "metadata": {},
     "output_type": "execute_result"
    }
   ],
   "source": [
    "names =['Texas A&M','Alabama','USC']\n",
    "teams = ['Aggies','Crimson Tide','Trojans']\n",
    "dict(zip(names,teams))"
   ]
  },
  {
   "cell_type": "code",
   "execution_count": 86,
   "metadata": {
    "colab": {
     "base_uri": "https://localhost:8080/"
    },
    "id": "19dTZ1X9M46H",
    "outputId": "0ee10505-1c34-4a40-8bfa-67c887adddb1"
   },
   "outputs": [
    {
     "name": "stdout",
     "output_type": "stream",
     "text": [
      "list1[0] = 'a'\n",
      "list1[1] = 'b'\n",
      "list1[2] = 'c'\n"
     ]
    }
   ],
   "source": [
    "#If you want to index your results,\n",
    "list1 = ['a','b','c']\n",
    "for indx, lttr in enumerate(list1):\n",
    "  print(f\"list1[{indx}] = '{lttr}'\")"
   ]
  },
  {
   "cell_type": "code",
   "execution_count": 87,
   "metadata": {
    "colab": {
     "base_uri": "https://localhost:8080/"
    },
    "id": "bqSZEdWtq5rN",
    "outputId": "72a04458-2112-412f-9c93-fd652d351868"
   },
   "outputs": [
    {
     "data": {
      "text/plain": [
       "<enumerate at 0x7cab0aa05680>"
      ]
     },
     "execution_count": 87,
     "metadata": {},
     "output_type": "execute_result"
    }
   ],
   "source": [
    "enumerate(list1)"
   ]
  },
  {
   "cell_type": "markdown",
   "metadata": {
    "id": "WppeErw-PNem"
   },
   "source": [
    "You can include for loop inside functions!"
   ]
  },
  {
   "cell_type": "code",
   "execution_count": 88,
   "metadata": {
    "colab": {
     "base_uri": "https://localhost:8080/"
    },
    "id": "XDlCoWhCPMbY",
    "outputId": "1c439240-82d0-4b66-e2e0-02b2124bc49a"
   },
   "outputs": [
    {
     "data": {
      "text/plain": [
       "array([ 2,  8, 23, 47, 87])"
      ]
     },
     "execution_count": 88,
     "metadata": {},
     "output_type": "execute_result"
    }
   ],
   "source": [
    "x_val = [1,2,3,4,5]\n",
    "y_val = [2,3,5,6,8]\n",
    "np.cumsum([x*y for x,y in zip(x_val,y_val) ])"
   ]
  },
  {
   "cell_type": "code",
   "execution_count": 89,
   "metadata": {
    "colab": {
     "base_uri": "https://localhost:8080/"
    },
    "id": "FVF29cEnsNf4",
    "outputId": "0aa391ce-ed7c-46a9-c5ab-163d4055fb15"
   },
   "outputs": [
    {
     "data": {
      "text/plain": [
       "[2, 6, 15, 24, 40]"
      ]
     },
     "execution_count": 89,
     "metadata": {},
     "output_type": "execute_result"
    }
   ],
   "source": [
    "[x*y for x,y in zip(x_val,y_val) ]"
   ]
  },
  {
   "cell_type": "code",
   "execution_count": 90,
   "metadata": {
    "colab": {
     "base_uri": "https://localhost:8080/"
    },
    "id": "Ze0SfweXTBdd",
    "outputId": "36ed5997-6b2a-4500-ef74-95e741eac8e6"
   },
   "outputs": [
    {
     "data": {
      "text/plain": [
       "87"
      ]
     },
     "execution_count": 90,
     "metadata": {},
     "output_type": "execute_result"
    }
   ],
   "source": [
    "sum((x*y for x,y in zip(x_val,y_val)))"
   ]
  },
  {
   "cell_type": "markdown",
   "metadata": {
    "id": "XCMYzb3WiX3e"
   },
   "source": [
    "Do not print cherry"
   ]
  },
  {
   "cell_type": "code",
   "execution_count": 91,
   "metadata": {
    "colab": {
     "base_uri": "https://localhost:8080/"
    },
    "id": "cY6Ge87-iWMG",
    "outputId": "6168d242-97c7-401d-a492-2b7b4f8e947c"
   },
   "outputs": [
    {
     "name": "stdout",
     "output_type": "stream",
     "text": [
      "apple\n",
      "banana\n",
      "pineapple\n"
     ]
    }
   ],
   "source": [
    "fruits = [\"apple\", \"banana\", \"cherry\",\"pineapple\"]\n",
    "for x in fruits:\n",
    "  if x == \"cherry\":\n",
    "    continue\n",
    "  print(x)"
   ]
  },
  {
   "cell_type": "markdown",
   "metadata": {
    "id": "xabZIfKyWCQ1"
   },
   "source": [
    "Exercise from Quant Econ Book) Can we count the number of even numbers in 0 to 99?\n",
    "\n",
    "x % 2 returns 0 if x is even, 1 otherwise\n",
    "\n",
    "The modulo operator (%) gives the remainder when x is divided by 2."
   ]
  },
  {
   "cell_type": "code",
   "execution_count": 92,
   "metadata": {
    "colab": {
     "base_uri": "https://localhost:8080/"
    },
    "id": "SiS5pfaKtT4U",
    "outputId": "1293a1b8-4cce-42df-f50b-2ddfc4ee52ea"
   },
   "outputs": [
    {
     "data": {
      "text/plain": [
       "[True,\n",
       " False,\n",
       " True,\n",
       " False,\n",
       " True,\n",
       " False,\n",
       " True,\n",
       " False,\n",
       " True,\n",
       " False,\n",
       " True,\n",
       " False,\n",
       " True,\n",
       " False,\n",
       " True,\n",
       " False,\n",
       " True,\n",
       " False,\n",
       " True,\n",
       " False,\n",
       " True,\n",
       " False,\n",
       " True,\n",
       " False,\n",
       " True,\n",
       " False,\n",
       " True,\n",
       " False,\n",
       " True,\n",
       " False,\n",
       " True,\n",
       " False,\n",
       " True,\n",
       " False,\n",
       " True,\n",
       " False,\n",
       " True,\n",
       " False,\n",
       " True,\n",
       " False,\n",
       " True,\n",
       " False,\n",
       " True,\n",
       " False,\n",
       " True,\n",
       " False,\n",
       " True,\n",
       " False,\n",
       " True,\n",
       " False,\n",
       " True,\n",
       " False,\n",
       " True,\n",
       " False,\n",
       " True,\n",
       " False,\n",
       " True,\n",
       " False,\n",
       " True,\n",
       " False,\n",
       " True,\n",
       " False,\n",
       " True,\n",
       " False,\n",
       " True,\n",
       " False,\n",
       " True,\n",
       " False,\n",
       " True,\n",
       " False,\n",
       " True,\n",
       " False,\n",
       " True,\n",
       " False,\n",
       " True,\n",
       " False,\n",
       " True,\n",
       " False,\n",
       " True,\n",
       " False,\n",
       " True,\n",
       " False,\n",
       " True,\n",
       " False,\n",
       " True,\n",
       " False,\n",
       " True,\n",
       " False,\n",
       " True,\n",
       " False,\n",
       " True,\n",
       " False,\n",
       " True,\n",
       " False,\n",
       " True,\n",
       " False,\n",
       " True,\n",
       " False,\n",
       " True,\n",
       " False]"
      ]
     },
     "execution_count": 92,
     "metadata": {},
     "output_type": "execute_result"
    }
   ],
   "source": [
    "[x % 2 ==0 for x in np.linspace(0,99,100)]"
   ]
  },
  {
   "cell_type": "code",
   "execution_count": 93,
   "metadata": {
    "colab": {
     "base_uri": "https://localhost:8080/"
    },
    "id": "Rd_Ta7AWWBtC",
    "outputId": "14c6a903-bad1-4e40-f938-41d416087e23"
   },
   "outputs": [
    {
     "data": {
      "text/plain": [
       "50"
      ]
     },
     "execution_count": 93,
     "metadata": {},
     "output_type": "execute_result"
    }
   ],
   "source": [
    "sum([x % 2 ==0 for x in np.linspace(0,99,100)])"
   ]
  },
  {
   "cell_type": "code",
   "execution_count": 94,
   "metadata": {
    "colab": {
     "base_uri": "https://localhost:8080/"
    },
    "id": "IlQplaCQtwdB",
    "outputId": "1497fac5-b34d-4b63-938b-5ffd8dbab587"
   },
   "outputs": [
    {
     "data": {
      "text/plain": [
       "[1,\n",
       " 3,\n",
       " 5,\n",
       " 7,\n",
       " 9,\n",
       " 11,\n",
       " 13,\n",
       " 15,\n",
       " 17,\n",
       " 19,\n",
       " 21,\n",
       " 23,\n",
       " 25,\n",
       " 27,\n",
       " 29,\n",
       " 31,\n",
       " 33,\n",
       " 35,\n",
       " 37,\n",
       " 39,\n",
       " 41,\n",
       " 43,\n",
       " 45,\n",
       " 47,\n",
       " 49,\n",
       " 51,\n",
       " 53,\n",
       " 55,\n",
       " 57,\n",
       " 59,\n",
       " 61,\n",
       " 63,\n",
       " 65,\n",
       " 67,\n",
       " 69,\n",
       " 71,\n",
       " 73,\n",
       " 75,\n",
       " 77,\n",
       " 79,\n",
       " 81,\n",
       " 83,\n",
       " 85,\n",
       " 87,\n",
       " 89,\n",
       " 91,\n",
       " 93,\n",
       " 95,\n",
       " 97,\n",
       " 99]"
      ]
     },
     "execution_count": 94,
     "metadata": {},
     "output_type": "execute_result"
    }
   ],
   "source": [
    "[x for x in range(100) if x % 2 == 1] #odd numbers"
   ]
  },
  {
   "cell_type": "code",
   "execution_count": 95,
   "metadata": {
    "colab": {
     "base_uri": "https://localhost:8080/"
    },
    "id": "M_3DRq9AYSXt",
    "outputId": "c5260107-97c1-46da-a27e-7751a1318426"
   },
   "outputs": [
    {
     "data": {
      "text/plain": [
       "50"
      ]
     },
     "execution_count": 95,
     "metadata": {},
     "output_type": "execute_result"
    }
   ],
   "source": [
    "#Alternatively,\n",
    "len([x for x in range(100) if x % 2 == 0])"
   ]
  },
  {
   "cell_type": "markdown",
   "metadata": {
    "id": "aYILwkQb2LLh"
   },
   "source": [
    "Example from Quant Econ) Given pairs = ((2, 5), (4, 2), (9, 8), (12, 10)), count the number of pairs (a, b) such that both a and b are even."
   ]
  },
  {
   "cell_type": "code",
   "execution_count": 96,
   "metadata": {
    "id": "kIdBR1D62Kv5"
   },
   "outputs": [],
   "source": [
    "PAS = ((2, 5), (4, 2), (9, 8), (12, 10))"
   ]
  },
  {
   "cell_type": "code",
   "execution_count": 97,
   "metadata": {
    "colab": {
     "base_uri": "https://localhost:8080/"
    },
    "id": "pYp9BKf42bpU",
    "outputId": "81695ae2-22b2-443f-9edc-c4b3df0ccb75"
   },
   "outputs": [
    {
     "data": {
      "text/plain": [
       "2"
      ]
     },
     "execution_count": 97,
     "metadata": {},
     "output_type": "execute_result"
    }
   ],
   "source": [
    "sum([x % 2 == 0 and y % 2 == 0 for x, y in PAS])"
   ]
  },
  {
   "cell_type": "code",
   "execution_count": 98,
   "metadata": {
    "colab": {
     "base_uri": "https://localhost:8080/"
    },
    "id": "_GhcFHhCudEI",
    "outputId": "65bdd799-143d-4355-f961-0a8efb9cd82f"
   },
   "outputs": [
    {
     "data": {
      "text/plain": [
       "[False, True, False, True]"
      ]
     },
     "execution_count": 98,
     "metadata": {},
     "output_type": "execute_result"
    }
   ],
   "source": [
    "PAS1 = (2,4,9,12)\n",
    "PAS2 = (5,2,8,10)\n",
    "\n",
    "[x % 2 == 0 and y % 2 == 0 for x, y in zip(PAS1,PAS2)]"
   ]
  },
  {
   "cell_type": "code",
   "execution_count": 99,
   "metadata": {
    "colab": {
     "base_uri": "https://localhost:8080/"
    },
    "id": "m4TPdjo5u5f3",
    "outputId": "8ba76fb8-8710-41ef-a47f-18c4e07f9420"
   },
   "outputs": [
    {
     "data": {
      "text/plain": [
       "2"
      ]
     },
     "execution_count": 99,
     "metadata": {},
     "output_type": "execute_result"
    }
   ],
   "source": [
    "sum([x % 2 == 0 and y % 2 == 0 for x, y in zip(PAS1,PAS2)])"
   ]
  },
  {
   "cell_type": "code",
   "execution_count": 100,
   "metadata": {
    "colab": {
     "base_uri": "https://localhost:8080/"
    },
    "id": "OpHIllRa6IC0",
    "outputId": "a30d21e9-75e7-4cd8-8403-e5a835c8bbe5"
   },
   "outputs": [
    {
     "name": "stdout",
     "output_type": "stream",
     "text": [
      "1\n",
      "3\n",
      "5\n",
      "7\n",
      "9\n"
     ]
    }
   ],
   "source": [
    "# (i,j, strides)\n",
    "for n in range(1,11,2):\n",
    "  print(n)"
   ]
  },
  {
   "cell_type": "code",
   "execution_count": 101,
   "metadata": {
    "id": "_j5yg_UUvmT1"
   },
   "outputs": [],
   "source": [
    "# (i,j, strides)\n",
    "M = 0\n",
    "for n in range(1,11,2):\n",
    "  M = M + n"
   ]
  },
  {
   "cell_type": "code",
   "execution_count": 102,
   "metadata": {
    "colab": {
     "base_uri": "https://localhost:8080/"
    },
    "id": "mEjJPTlrvx1t",
    "outputId": "2029563e-f5bc-47f4-80e2-81780c99aef9"
   },
   "outputs": [
    {
     "name": "stdout",
     "output_type": "stream",
     "text": [
      "25\n"
     ]
    }
   ],
   "source": [
    "print(M)"
   ]
  },
  {
   "cell_type": "code",
   "execution_count": 103,
   "metadata": {
    "colab": {
     "base_uri": "https://localhost:8080/"
    },
    "id": "zfH7AlWk6bUm",
    "outputId": "a040d522-384d-4f28-9942-ec236df88748"
   },
   "outputs": [
    {
     "name": "stdout",
     "output_type": "stream",
     "text": [
      "GOOG 2490.1\n",
      "AAPL 160.5\n",
      " IBM 101.5\n",
      "MSFT 252.13\n"
     ]
    }
   ],
   "source": [
    "# Loop over a dictionary\n",
    "prices = {\"GOOG\": 2490.10, \"AAPL\": 160.50, \" IBM\": 101.50, \"MSFT\": 252.13}\n",
    "for ticker in prices:\n",
    "  print(ticker, prices[ticker])"
   ]
  },
  {
   "cell_type": "code",
   "execution_count": 104,
   "metadata": {
    "colab": {
     "base_uri": "https://localhost:8080/"
    },
    "id": "zlt7YOMU62lb",
    "outputId": "49e7d68e-44bc-41b6-ca3c-179356736323"
   },
   "outputs": [
    {
     "name": "stdout",
     "output_type": "stream",
     "text": [
      "Issuers are ['037833', '17275R', '38259P', '594918']\n"
     ]
    }
   ],
   "source": [
    "# list comprehension\n",
    "CUSIP9 = [\"037833100\", '17275R102', '38259P508', '594918104'] # issues\n",
    "CUSIP6 = [i[:6] for i in CUSIP9] # issuer\n",
    "print(f'Issuers are {CUSIP6}')"
   ]
  },
  {
   "cell_type": "markdown",
   "metadata": {
    "id": "DihKn07R59-K"
   },
   "source": [
    "Note: %%file is an IPython cell magic\n",
    "Q) What is it?"
   ]
  },
  {
   "cell_type": "code",
   "execution_count": 105,
   "metadata": {
    "colab": {
     "base_uri": "https://localhost:8080/"
    },
    "id": "23YA3KP92xpk",
    "outputId": "5510a2fd-bed3-4837-f0bd-0cad774514ba"
   },
   "outputs": [
    {
     "name": "stdout",
     "output_type": "stream",
     "text": [
      "Overwriting us_cities.txt\n"
     ]
    }
   ],
   "source": [
    "%%file us_cities.txt\n",
    "         new york : 8244910\n",
    "         los angeles : 3819702\n",
    "         chicago : 2707120\n",
    "         houston : 2145146\n",
    "         philadelphia : 1536471\n",
    "         phoenix : 1469471\n",
    "         san antonio : 1359758\n",
    "         san diego : 1326179\n",
    "         dallas : 1223229\n",
    "         college station + bryan : 200000"
   ]
  },
  {
   "cell_type": "markdown",
   "metadata": {
    "id": "P8pgcImXtVM6"
   },
   "source": [
    "The following example shows that for loop can be used"
   ]
  },
  {
   "cell_type": "code",
   "execution_count": 106,
   "metadata": {
    "id": "pA4PoGLQ7KOi"
   },
   "outputs": [],
   "source": [
    "data_file = open('us_cities.txt', 'r')"
   ]
  },
  {
   "cell_type": "code",
   "execution_count": 107,
   "metadata": {
    "colab": {
     "base_uri": "https://localhost:8080/"
    },
    "id": "lphtOXjz77Iv",
    "outputId": "52c030f3-2cc4-4249-8910-2030aa58739c"
   },
   "outputs": [
    {
     "name": "stdout",
     "output_type": "stream",
     "text": [
      "         New York 8,244,910\n",
      "         Los Angeles 3,819,702\n",
      "         Chicago 2,707,120\n",
      "         Houston 2,145,146\n",
      "         Philadelphia 1,536,471\n",
      "         Phoenix 1,469,471\n",
      "         San Antonio 1,359,758\n",
      "         San Diego 1,326,179\n",
      "         Dallas 1,223,229\n",
      "         College Station + Bryan 200,000\n"
     ]
    }
   ],
   "source": [
    "for line in data_file:\n",
    "  city1, population = line.split(':') # Each line of the dat_file is going to be split based on :.\n",
    "  city1 = city1.title()\n",
    "  population = f'{int(population):,}'\n",
    "  print(city1.ljust(5) + population)\n",
    "data_file.close()"
   ]
  },
  {
   "cell_type": "code",
   "execution_count": 108,
   "metadata": {
    "colab": {
     "base_uri": "https://localhost:8080/"
    },
    "id": "PMBy3bo-879A",
    "outputId": "585058e5-a861-4f95-b976-5bc84882d067"
   },
   "outputs": [
    {
     "name": "stdout",
     "output_type": "stream",
     "text": [
      "         new york : 8244910\n",
      "         los angeles : 3819702\n",
      "         chicago : 2707120\n",
      "         houston : 2145146\n",
      "         philadelphia : 1536471\n",
      "         phoenix : 1469471\n",
      "         san antonio : 1359758\n",
      "         san diego : 1326179\n",
      "         dallas : 1223229\n",
      "         college station + bryan : 200000\n",
      "\n"
     ]
    }
   ],
   "source": [
    "with open('us_cities.txt', 'r') as f:\n",
    "  contents =f.read()\n",
    "  print(contents)"
   ]
  },
  {
   "cell_type": "code",
   "execution_count": 109,
   "metadata": {
    "id": "DPG6rFli9pbY"
   },
   "outputs": [],
   "source": [
    "# The lowest and highest population cities\n",
    "max = 0\n",
    "min = 10**9\n",
    "max_city = 'A'\n",
    "min_city = 'B'"
   ]
  },
  {
   "cell_type": "code",
   "execution_count": 110,
   "metadata": {
    "id": "vUN0FeD597_C"
   },
   "outputs": [],
   "source": [
    "with open('us_cities.txt','r') as f:\n",
    "  for line in f.readlines():\n",
    "    city2, pop2 = line.split(':')\n",
    "    values = float(pop2)\n",
    "    if values > max:\n",
    "        max = values\n",
    "        max_city = city2\n",
    "    if values < min:\n",
    "        min = values\n",
    "        min_city = city2"
   ]
  },
  {
   "cell_type": "code",
   "execution_count": 111,
   "metadata": {
    "colab": {
     "base_uri": "https://localhost:8080/"
    },
    "id": "3RKBpqCC_LCp",
    "outputId": "da96df83-5b8b-43bb-ea6c-b9b7e021021b"
   },
   "outputs": [
    {
     "name": "stdout",
     "output_type": "stream",
     "text": [
      "The largest population is  8244910.0\n"
     ]
    }
   ],
   "source": [
    "print('The largest population is ', max)"
   ]
  },
  {
   "cell_type": "code",
   "execution_count": 112,
   "metadata": {
    "colab": {
     "base_uri": "https://localhost:8080/"
    },
    "id": "3CbaOhd2_N8e",
    "outputId": "f7e2221d-55d5-4e69-c551-c067938bf8ef"
   },
   "outputs": [
    {
     "name": "stdout",
     "output_type": "stream",
     "text": [
      "The smallest population is  200000.0\n"
     ]
    }
   ],
   "source": [
    "print('The smallest population is ', min)"
   ]
  },
  {
   "cell_type": "code",
   "execution_count": 113,
   "metadata": {
    "colab": {
     "base_uri": "https://localhost:8080/",
     "height": 35
    },
    "id": "q2_FEQZxRYCV",
    "outputId": "3ffda74f-296c-4a26-d264-0606f259b1e2"
   },
   "outputs": [
    {
     "data": {
      "application/vnd.google.colaboratory.intrinsic+json": {
       "type": "string"
      },
      "text/plain": [
       "'         new york '"
      ]
     },
     "execution_count": 113,
     "metadata": {},
     "output_type": "execute_result"
    }
   ],
   "source": [
    "max_city"
   ]
  },
  {
   "cell_type": "code",
   "execution_count": 114,
   "metadata": {
    "colab": {
     "base_uri": "https://localhost:8080/"
    },
    "id": "-5EVahVUQm22",
    "outputId": "95360e39-184f-4a3c-f6a1-c8cc41b885ba"
   },
   "outputs": [
    {
     "name": "stdout",
     "output_type": "stream",
     "text": [
      "The largest population city is         new york  with the population of 8244910.0\n"
     ]
    }
   ],
   "source": [
    "print(f'The largest population city is{max_city} with the population of {max}')"
   ]
  },
  {
   "cell_type": "code",
   "execution_count": 115,
   "metadata": {
    "colab": {
     "base_uri": "https://localhost:8080/"
    },
    "id": "KBI8DxZvRRAy",
    "outputId": "be7f6ee8-d528-4b33-c613-1ba0e8105755"
   },
   "outputs": [
    {
     "name": "stdout",
     "output_type": "stream",
     "text": [
      "The largest population city is          college station + bryan  with the population of 200000.0\n"
     ]
    }
   ],
   "source": [
    "print(f'The largest population city is {min_city} with the population of {min}')"
   ]
  },
  {
   "cell_type": "markdown",
   "metadata": {
    "id": "po0PAffxkmNt"
   },
   "source": [
    "If, else, and elif"
   ]
  },
  {
   "cell_type": "code",
   "execution_count": 116,
   "metadata": {
    "id": "cxRlhd0SkcFX"
   },
   "outputs": [],
   "source": [
    "# With two conditions\n",
    "x= 10\n",
    "if x<10:\n",
    "  x +=1 # This is identical to x =x+1\n",
    "else:\n",
    "  x -=1 # This is identical to x = x-1"
   ]
  },
  {
   "cell_type": "code",
   "execution_count": 117,
   "metadata": {
    "colab": {
     "base_uri": "https://localhost:8080/"
    },
    "id": "7OfXkInplENu",
    "outputId": "67f23f5a-bac0-4241-cdaf-a40a9030338d"
   },
   "outputs": [
    {
     "data": {
      "text/plain": [
       "9"
      ]
     },
     "execution_count": 117,
     "metadata": {},
     "output_type": "execute_result"
    }
   ],
   "source": [
    "x"
   ]
  },
  {
   "cell_type": "code",
   "execution_count": 118,
   "metadata": {
    "id": "BRRGiSlllE2g"
   },
   "outputs": [],
   "source": [
    "# If more than two conditions are used,\n",
    "x=10\n",
    "if x<10:\n",
    "  x +=1 # This is identical to x =x+1\n",
    "elif x>10:\n",
    "  x -=1 # This is identical to x = x-1\n",
    "else:\n",
    "  x = x**3"
   ]
  },
  {
   "cell_type": "code",
   "execution_count": 119,
   "metadata": {
    "colab": {
     "base_uri": "https://localhost:8080/"
    },
    "id": "Dhujmv0Ploxq",
    "outputId": "13f3fded-fc09-4f5f-a38b-7e1b6e442807"
   },
   "outputs": [
    {
     "data": {
      "text/plain": [
       "1000"
      ]
     },
     "execution_count": 119,
     "metadata": {},
     "output_type": "execute_result"
    }
   ],
   "source": [
    "x"
   ]
  },
  {
   "cell_type": "markdown",
   "metadata": {
    "id": "lL2td4OnnfTu"
   },
   "source": [
    "Prototypical examples of using 'for' loop and 'if'"
   ]
  },
  {
   "cell_type": "code",
   "execution_count": 120,
   "metadata": {
    "id": "5RFoLUwzlw3_"
   },
   "outputs": [],
   "source": [
    "count = 0\n",
    "\n",
    "x = 10\n",
    "for i in range(100):\n",
    "  count += i # count = count + i\n",
    "  if count <= x:\n",
    "   count = count*x\n",
    "\n"
   ]
  },
  {
   "cell_type": "code",
   "execution_count": 121,
   "metadata": {
    "colab": {
     "base_uri": "https://localhost:8080/"
    },
    "id": "hEyJ62ZWoXLH",
    "outputId": "50781e0f-884a-4fe6-b6a9-d56948668b4a"
   },
   "outputs": [
    {
     "data": {
      "text/plain": [
       "4959"
      ]
     },
     "execution_count": 121,
     "metadata": {},
     "output_type": "execute_result"
    }
   ],
   "source": [
    "count"
   ]
  },
  {
   "cell_type": "markdown",
   "metadata": {
    "id": "HYc9DbE1oxWG"
   },
   "source": [
    "Double Loop"
   ]
  },
  {
   "cell_type": "code",
   "execution_count": 122,
   "metadata": {
    "id": "akdyBZHUof0b"
   },
   "outputs": [],
   "source": [
    "count = 0\n",
    "for i in range(10): #outer loop\n",
    "    for j in range(10): #inner loop\n",
    "        count += j # count = count + j"
   ]
  },
  {
   "cell_type": "code",
   "execution_count": 123,
   "metadata": {
    "colab": {
     "base_uri": "https://localhost:8080/"
    },
    "id": "E1JyD3CQovfR",
    "outputId": "ad09dd6f-d9cd-4d4e-a52a-472c63c065f0"
   },
   "outputs": [
    {
     "data": {
      "text/plain": [
       "450"
      ]
     },
     "execution_count": 123,
     "metadata": {},
     "output_type": "execute_result"
    }
   ],
   "source": [
    "count"
   ]
  },
  {
   "cell_type": "code",
   "execution_count": 124,
   "metadata": {
    "id": "8CbYdBFvb-XM"
   },
   "outputs": [],
   "source": [
    "x_tmp = np.zeros((3,2))"
   ]
  },
  {
   "cell_type": "code",
   "execution_count": 125,
   "metadata": {
    "colab": {
     "base_uri": "https://localhost:8080/"
    },
    "id": "GVGurE0pcCVi",
    "outputId": "4b84a923-25e8-4b9e-a4e3-92a92ab89f4d"
   },
   "outputs": [
    {
     "data": {
      "text/plain": [
       "array([[0., 0.],\n",
       "       [0., 0.],\n",
       "       [0., 0.]])"
      ]
     },
     "execution_count": 125,
     "metadata": {},
     "output_type": "execute_result"
    }
   ],
   "source": [
    "x_tmp"
   ]
  },
  {
   "cell_type": "code",
   "execution_count": 126,
   "metadata": {
    "colab": {
     "base_uri": "https://localhost:8080/"
    },
    "id": "hQb8JbZRcg5R",
    "outputId": "dab4a2c7-ebc0-4fb6-b39d-6dade4e0b527"
   },
   "outputs": [
    {
     "data": {
      "text/plain": [
       "2"
      ]
     },
     "execution_count": 126,
     "metadata": {},
     "output_type": "execute_result"
    }
   ],
   "source": [
    "np.size(x_tmp,1) # produces the number of columns"
   ]
  },
  {
   "cell_type": "code",
   "execution_count": 127,
   "metadata": {
    "colab": {
     "base_uri": "https://localhost:8080/"
    },
    "id": "pUIlKqnDco4o",
    "outputId": "c76abaff-e232-4323-9400-45b94edc5dd2"
   },
   "outputs": [
    {
     "data": {
      "text/plain": [
       "3"
      ]
     },
     "execution_count": 127,
     "metadata": {},
     "output_type": "execute_result"
    }
   ],
   "source": [
    "np.size(x_tmp,0) # produces the number of rows"
   ]
  },
  {
   "cell_type": "code",
   "execution_count": 128,
   "metadata": {
    "id": "UlSO32SQowIf"
   },
   "outputs": [],
   "source": [
    "x = np.zeros((10,10)) # initialization\n",
    "\n",
    "for i in range(np.size(x,0)): #outer loop\n",
    "    for j in range(np.size(x,1)): #inner loop\n",
    "      if i<j: #condition 1\n",
    "        x[i,j]=i+j;\n",
    "      else: # condition 2\n",
    "        x[i,j]=i-j"
   ]
  },
  {
   "cell_type": "code",
   "execution_count": 129,
   "metadata": {
    "colab": {
     "base_uri": "https://localhost:8080/"
    },
    "id": "sieF5C1-o9pC",
    "outputId": "415feab3-b608-4a2f-fa02-a520e9829a34"
   },
   "outputs": [
    {
     "data": {
      "text/plain": [
       "array([[ 0.,  1.,  2.,  3.,  4.,  5.,  6.,  7.,  8.,  9.],\n",
       "       [ 1.,  0.,  3.,  4.,  5.,  6.,  7.,  8.,  9., 10.],\n",
       "       [ 2.,  1.,  0.,  5.,  6.,  7.,  8.,  9., 10., 11.],\n",
       "       [ 3.,  2.,  1.,  0.,  7.,  8.,  9., 10., 11., 12.],\n",
       "       [ 4.,  3.,  2.,  1.,  0.,  9., 10., 11., 12., 13.],\n",
       "       [ 5.,  4.,  3.,  2.,  1.,  0., 11., 12., 13., 14.],\n",
       "       [ 6.,  5.,  4.,  3.,  2.,  1.,  0., 13., 14., 15.],\n",
       "       [ 7.,  6.,  5.,  4.,  3.,  2.,  1.,  0., 15., 16.],\n",
       "       [ 8.,  7.,  6.,  5.,  4.,  3.,  2.,  1.,  0., 17.],\n",
       "       [ 9.,  8.,  7.,  6.,  5.,  4.,  3.,  2.,  1.,  0.]])"
      ]
     },
     "execution_count": 129,
     "metadata": {},
     "output_type": "execute_result"
    }
   ],
   "source": [
    "x"
   ]
  },
  {
   "cell_type": "code",
   "execution_count": 130,
   "metadata": {
    "colab": {
     "base_uri": "https://localhost:8080/"
    },
    "id": "97_L7gKZeA7l",
    "outputId": "ec411210-9d55-4078-e20d-e05d742d63e2"
   },
   "outputs": [
    {
     "data": {
      "text/plain": [
       "array([  0.,  10.,  20.,  30.,  40.,  50.,  60.,  70.,  80.,  90., 100.])"
      ]
     },
     "execution_count": 130,
     "metadata": {},
     "output_type": "execute_result"
    }
   ],
   "source": [
    "x = np.linspace(0,100,11)\n",
    "x"
   ]
  },
  {
   "cell_type": "code",
   "execution_count": 131,
   "metadata": {
    "colab": {
     "base_uri": "https://localhost:8080/"
    },
    "id": "Bc1xwxdveJes",
    "outputId": "9a401023-5322-4ed7-aab2-ebaae8b01a6f"
   },
   "outputs": [
    {
     "data": {
      "text/plain": [
       "<enumerate at 0x7cab0aa28680>"
      ]
     },
     "execution_count": 131,
     "metadata": {},
     "output_type": "execute_result"
    }
   ],
   "source": [
    "enumerate(x)"
   ]
  },
  {
   "cell_type": "code",
   "execution_count": 132,
   "metadata": {
    "colab": {
     "base_uri": "https://localhost:8080/"
    },
    "id": "YVB4X4HapUuM",
    "outputId": "606af21a-16d5-43eb-fdf5-e4620336f1d7"
   },
   "outputs": [
    {
     "name": "stdout",
     "output_type": "stream",
     "text": [
      "i is : 0\n",
      "y is: 0.0\n",
      "i is : 1\n",
      "y is: 10.0\n",
      "i is : 2\n",
      "y is: 20.0\n",
      "i is : 3\n",
      "y is: 30.0\n",
      "i is : 4\n",
      "y is: 40.0\n",
      "i is : 5\n",
      "y is: 50.0\n",
      "i is : 6\n",
      "y is: 60.0\n",
      "i is : 7\n",
      "y is: 70.0\n",
      "i is : 8\n",
      "y is: 80.0\n",
      "i is : 9\n",
      "y is: 90.0\n",
      "i is : 10\n",
      "y is: 100.0\n"
     ]
    }
   ],
   "source": [
    "for i,y in enumerate(x):\n",
    "  print('i is :', i)\n",
    "  print('y is:', y)"
   ]
  },
  {
   "cell_type": "code",
   "execution_count": 132,
   "metadata": {
    "id": "H_Hi6x7bd_jO"
   },
   "outputs": [],
   "source": []
  },
  {
   "cell_type": "markdown",
   "metadata": {
    "id": "Awqe-nWHq5-n"
   },
   "source": [
    "Simulate a model of Stochastic Volatility Model ($SVM$). Specifically, define a stochastic volatility model as\n",
    "\n",
    "\\begin{align}\n",
    "  \\sigma_{t+1}^2 = \\kappa + \\rho \\sigma_{t}^2 + \\alpha \\sigma_{t}^2 \\epsilon_{t+1}^2 \\\\\n",
    "x_t = \\sigma_{t-1} \\zeta_t\n",
    "  \\end{align}\n",
    "\n",
    "  $-1 < \\rho <1$ is preferred because this condition makes the volatility process rather stable (stationary).\n",
    "  $\\rho = 1$ is so called a random walk (or unit root) case."
   ]
  },
  {
   "cell_type": "markdown",
   "metadata": {
    "id": "9MNqQEocZQ4M"
   },
   "source": [
    "For the purpose of simulation, this is a daily model for 10 years. For the parameters,\n",
    "\n",
    "$\\kappa = 0.001$\n",
    "\n",
    "$\\rho = 0.98$\n",
    "\n",
    "$\\alpha = 0.1$"
   ]
  },
  {
   "cell_type": "code",
   "execution_count": 133,
   "metadata": {
    "id": "-66MGhpUpjKU"
   },
   "outputs": [],
   "source": [
    "kappa = 0.001\n",
    "rho =0.91\n",
    "alpha = 0.1\n",
    "\n",
    "yrs = 10\n",
    "days = yrs*251 + 1000\n",
    "sig2 = 0 #initial point\n",
    "\n",
    "np.random.seed(12)\n",
    "\n",
    "x = np.zeros(days)\n",
    "x[0]=kappa\n",
    "for t in range(1,days):\n",
    "  epsil = np.random.randn() # epsilon number randomly generated\n",
    "  sig2 = kappa + rho * sig2 + alpha * sig2 * epsil**2 #SVM assumed above\n",
    "  x[t] = np.sqrt(sig2) * np.random.randn() # last command refers to zeta\n"
   ]
  },
  {
   "cell_type": "code",
   "execution_count": 134,
   "metadata": {
    "id": "cpWzRwDzcBxv"
   },
   "outputs": [],
   "source": [
    "import matplotlib.pyplot as plt\n"
   ]
  },
  {
   "cell_type": "code",
   "execution_count": 135,
   "metadata": {
    "colab": {
     "base_uri": "https://localhost:8080/",
     "height": 430
    },
    "id": "sHt7Zmipcfos",
    "outputId": "24fb58b7-ec17-4f2f-b413-71c296c58bc1"
   },
   "outputs": [
    {
     "data": {
      "image/png": "[encoded data removed]",
      "text/plain": [
       "<Figure size 640x480 with 1 Axes>"
      ]
     },
     "metadata": {},
     "output_type": "display_data"
    }
   ],
   "source": [
    "plt.plot(x[1001:])\n",
    "plt.show()"
   ]
  },
  {
   "cell_type": "markdown",
   "metadata": {
    "id": "AyJsiO2Cdoh-"
   },
   "source": [
    "Function: How to make the above simulation routine as a function (y=f(x))?\n",
    "\n",
    "def function_name(x):\n",
    "\n",
    "    y=f(x) #contents of the function\n",
    "\n",
    "    return y # output declaration\n"
   ]
  },
  {
   "cell_type": "code",
   "execution_count": 136,
   "metadata": {
    "id": "r4ndAilJc88L"
   },
   "outputs": [],
   "source": [
    "# A simple quadratic function example\n",
    "\n",
    "def quad_fun(x, a=1, b=2, c=3):\n",
    "    y = a*x**2 + b*x + c\n",
    "    return y"
   ]
  },
  {
   "cell_type": "code",
   "execution_count": 137,
   "metadata": {
    "colab": {
     "base_uri": "https://localhost:8080/"
    },
    "id": "RXnxllb9p0qj",
    "outputId": "19d61d9f-26a1-4e08-b840-8b32dafd07e1"
   },
   "outputs": [
    {
     "data": {
      "text/plain": [
       "22.25"
      ]
     },
     "execution_count": 137,
     "metadata": {},
     "output_type": "execute_result"
    }
   ],
   "source": [
    "quad_fun(3.5)"
   ]
  },
  {
   "cell_type": "code",
   "execution_count": 138,
   "metadata": {
    "colab": {
     "base_uri": "https://localhost:8080/",
     "height": 430
    },
    "id": "oVEP0PnWdNXu",
    "outputId": "a359d98e-7b76-4e24-8ae5-4510d3959f38"
   },
   "outputs": [
    {
     "data": {
      "image/png": "[encoded data removed]",
      "text/plain": [
       "<Figure size 640x480 with 1 Axes>"
      ]
     },
     "metadata": {},
     "output_type": "display_data"
    }
   ],
   "source": [
    "x = [i * 0.01 for i in range(-600, 401)]\n",
    "y = [quad_fun(i) for i in x]\n",
    "\n",
    "plt.plot(x, y)\n",
    "plt.axvline(x=0, color=\"black\")\n",
    "plt.axhline(y=0, color=\"black\")\n",
    "plt.show()"
   ]
  },
  {
   "cell_type": "code",
   "execution_count": 139,
   "metadata": {
    "id": "br8EO1UIrOli"
   },
   "outputs": [],
   "source": [
    "def lin_fun(x,a=1,b=2):\n",
    "  y = a*x + b\n",
    "  return y"
   ]
  },
  {
   "cell_type": "code",
   "execution_count": 140,
   "metadata": {
    "colab": {
     "base_uri": "https://localhost:8080/"
    },
    "id": "4UL0JNprrmWJ",
    "outputId": "e034a6c4-fdbe-41e6-e8e2-fd19538f16fd"
   },
   "outputs": [
    {
     "data": {
      "text/plain": [
       "2"
      ]
     },
     "execution_count": 140,
     "metadata": {},
     "output_type": "execute_result"
    }
   ],
   "source": [
    "lin_fun(0)"
   ]
  },
  {
   "cell_type": "code",
   "execution_count": 141,
   "metadata": {
    "id": "EOX0SFCLy9nj"
   },
   "outputs": [],
   "source": [
    "# Function can be used within the function being defined, if recursive\n",
    "# Define a function that returns n!\n",
    "def factorial(n):\n",
    "  if n==1: #basecase1!=1\n",
    "    return n\n",
    "  else: # recursive case n! = n * (n-1)!\n",
    "    return n * factorial(n - 1)"
   ]
  },
  {
   "cell_type": "code",
   "execution_count": 142,
   "metadata": {
    "colab": {
     "base_uri": "https://localhost:8080/"
    },
    "id": "7oJvBnwL0OO3",
    "outputId": "afab1ffa-2ece-4002-a7f9-061b5776d24d"
   },
   "outputs": [
    {
     "data": {
      "text/plain": [
       "6"
      ]
     },
     "execution_count": 142,
     "metadata": {},
     "output_type": "execute_result"
    }
   ],
   "source": [
    "factorial(3)"
   ]
  },
  {
   "cell_type": "code",
   "execution_count": 143,
   "metadata": {
    "id": "X0MyxHSc-tcb"
   },
   "outputs": [],
   "source": [
    "  yrs = 10\n",
    "  days = yrs*251 + 1000\n"
   ]
  },
  {
   "cell_type": "code",
   "execution_count": 144,
   "metadata": {
    "id": "X_6pSKf58h4-"
   },
   "outputs": [],
   "source": [
    "# Stochastic Volatility Simulation Function\n",
    "\n",
    "def sv1(tlength=days):\n",
    "  sig2 = 0 #initial point\n",
    "  x = np.zeros(days)\n",
    "  x[0]=kappa\n",
    "  for t in range(1,days):\n",
    "    epsil = np.random.randn() #standard normal random number generation\n",
    "    sig2 = kappa + rho * sig2 + alpha * sig2 * epsil**2\n",
    "    x[t] = np.sqrt(sig2) * np.random.randn()\n",
    "  return x\n"
   ]
  },
  {
   "cell_type": "code",
   "execution_count": 145,
   "metadata": {
    "id": "IrUfV65wuIYa"
   },
   "outputs": [],
   "source": [
    "def sv2(days1):\n",
    "  sig2 = 0 #initial point\n",
    "  x = np.zeros(days1)\n",
    "  x[0]=kappa\n",
    "  for t in range(1,days1):\n",
    "    epsil = np.random.randn() #standard normal random number generation\n",
    "    sig2 = kappa + rho * sig2 + alpha * sig2 * epsil**2\n",
    "    x[t] = np.sqrt(sig2) * np.random.randn()\n",
    "  return x\n"
   ]
  },
  {
   "cell_type": "code",
   "execution_count": 146,
   "metadata": {
    "id": "XCX0F0Tuuzk6"
   },
   "outputs": [],
   "source": [
    "def sv2(tlength=days):\n",
    "  sig2 = 0 #initial point\n",
    "  x = np.zeros(tlength)\n",
    "  x[0]=kappa\n",
    "  for t in range(1,tlength):\n",
    "    epsil = np.random.randn() #standard normal random number generation\n",
    "    sig2 = kappa + rho * sig2 + alpha * sig2 * epsil**2\n",
    "    x[t] = np.sqrt(sig2) * np.random.randn()\n",
    "  return x"
   ]
  },
  {
   "cell_type": "code",
   "execution_count": 147,
   "metadata": {
    "colab": {
     "base_uri": "https://localhost:8080/"
    },
    "id": "7fgyzcChu6hi",
    "outputId": "3a1cd6b1-5db6-4000-dbd6-fe6a37d07e22"
   },
   "outputs": [
    {
     "data": {
      "text/plain": [
       "array([ 0.001     , -0.00543441,  0.01384717,  0.05012346, -0.01989403,\n",
       "        0.07734152, -0.0409247 , -0.10296184, -0.00746163, -0.02138978])"
      ]
     },
     "execution_count": 147,
     "metadata": {},
     "output_type": "execute_result"
    }
   ],
   "source": [
    "sv2(10)"
   ]
  },
  {
   "cell_type": "code",
   "execution_count": 148,
   "metadata": {
    "colab": {
     "base_uri": "https://localhost:8080/",
     "height": 447
    },
    "id": "yVnGsytJ9zyi",
    "outputId": "f79fd5a1-7417-4e83-c213-d097475a7704"
   },
   "outputs": [
    {
     "data": {
      "text/plain": [
       "[<matplotlib.lines.Line2D at 0x7cab0a8d7a60>]"
      ]
     },
     "execution_count": 148,
     "metadata": {},
     "output_type": "execute_result"
    },
    {
     "data": {
      "image/png": "[encoded data removed]",
      "text/plain": [
       "<Figure size 640x480 with 1 Axes>"
      ]
     },
     "metadata": {},
     "output_type": "display_data"
    }
   ],
   "source": [
    "fig, ax = plt.subplots()\n",
    "np.random.seed(12)\n",
    "ax.plot(sv1())"
   ]
  }
 ],
 "metadata": {
  "colab": {
   "provenance": []
  },
  "kernelspec": {
   "display_name": "Python 3",
   "language": "python",
   "name": "python3"
  },
  "language_info": {
   "codemirror_mode": {
    "name": "ipython",
    "version": 3
   },
   "file_extension": ".py",
   "mimetype": "text/x-python",
   "name": "python",
   "nbconvert_exporter": "python",
   "pygments_lexer": "ipython3",
   "version": "3.8.8"
  }
 },
 "nbformat": 4,
 "nbformat_minor": 1
}
