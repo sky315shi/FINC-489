{
 "cells": [
  {
   "cell_type": "markdown",
   "metadata": {
    "id": "nXs1HZ2OTCao"
   },
   "source": [
    "Practice Exam 2 for FINC 489-506; 689-606 (Quantitative Research Methods in Finance)"
   ]
  },
  {
   "cell_type": "markdown",
   "metadata": {
    "id": "OyUpYTEeUCx4"
   },
   "source": [
    "This part is to import basic modules."
   ]
  },
  {
   "cell_type": "code",
   "execution_count": 1,
   "metadata": {
    "id": "3b1MzOG2S1dp"
   },
   "outputs": [],
   "source": [
    "import yfinance as yf\n",
    "import pandas as pd\n",
    "import numpy as np\n",
    "import matplotlib.pyplot as plt\n",
    "import statsmodels.api as sm\n",
    "import statsmodels.formula.api as smf\n",
    "import pandas_datareader.data as web\n",
    "import scipy.stats as stats\n",
    "yf.pdr_override()"
   ]
  },
  {
   "cell_type": "markdown",
   "metadata": {
    "id": "pAL5_k1qUPYq"
   },
   "source": [
    "Q1: 5 points) Download the following mutual price data from yahoo finance between 2012.01.02 to 2023.04.05. Then, create a data copy and extract Adjusted Close Price ('Adj Close') from the data set you downloaded. Show the result.\n",
    "\n",
    "\n",
    "Tickers = [\n",
    "    'BCSIX', 'CIPMX', 'CIPSX', 'FDGRX', 'LSGRX', 'MPEGX', 'MSEQX', 'NWSAX',\n",
    "    'POAGX', 'POGRX', 'PGBHX', 'PMBPX', 'PRWAX', 'PRDSX', 'RPMGX', 'VHCOX',\n",
    "    'VIGAX', 'VUG', 'VRGWX', 'VONG', 'VSPGX', 'VOOG', 'VSGIX', 'VBK', 'WGROX',\n",
    "    'WAAEX', 'AMRMX', 'DHLYX', 'DODGX', 'HAMVX', 'JVMIX', 'OIEJX', 'LSVQX',\n",
    "    'MCVRX', 'MEIJX', 'OAKMX', 'SCHD', 'VHYAX', 'VYM', 'VMVAX', 'VOE', 'VRVIX',\n",
    "    'VMFVX', 'VSMVX', 'VSIAX', 'VBR', 'VVIAX', 'VTV', 'VEVRX', 'MADVX', 'CGDV',\n",
    "    'LCBOX', 'CDIRX', 'FDVV', 'QDF', 'LVHD', 'LCEYX', 'FSIUX', 'SDY', 'PRDGX',\n",
    "    'TDVG', 'VIG', 'VDADX', 'VDIGX', 'DLN', 'DON', 'DES', 'XMHQ', 'SPY']"
   ]
  },
  {
   "cell_type": "code",
   "execution_count": 2,
   "metadata": {
    "id": "1gSxyeNPUONp"
   },
   "outputs": [],
   "source": [
    "# List of best (active) mutual funds in 2023 picked by the morningstar\n",
    "\n",
    "Tickers = [\n",
    "    'BCSIX', 'CIPMX', 'CIPSX', 'FDGRX', 'LSGRX', 'MPEGX', 'MSEQX', 'NWSAX',\n",
    "    'POAGX', 'POGRX', 'PGBHX', 'PMBPX', 'PRWAX', 'PRDSX', 'RPMGX', 'VHCOX',\n",
    "    'VIGAX', 'VUG', 'VRGWX', 'VONG', 'VSPGX', 'VOOG', 'VSGIX', 'VBK', 'WGROX',\n",
    "    'WAAEX', 'AMRMX', 'DHLYX', 'DODGX', 'HAMVX', 'JVMIX', 'OIEJX', 'LSVQX',\n",
    "    'MCVRX', 'MEIJX', 'OAKMX', 'SCHD', 'VHYAX', 'VYM', 'VMVAX', 'VOE', 'VRVIX',\n",
    "    'VMFVX', 'VSMVX', 'VSIAX', 'VBR', 'VVIAX', 'VTV', 'VEVRX', 'MADVX', 'CGDV',\n",
    "    'LCBOX', 'CDIRX', 'FDVV', 'QDF', 'LVHD', 'LCEYX', 'FSIUX', 'SDY', 'PRDGX',\n",
    "    'TDVG', 'VIG', 'VDADX', 'VDIGX', 'DLN', 'DON', 'DES', 'XMHQ', 'SPY'\n",
    "]"
   ]
  },
  {
   "cell_type": "code",
   "execution_count": 3,
   "metadata": {
    "colab": {
     "base_uri": "https://localhost:8080/"
    },
    "id": "2p6iauIKWeRu",
    "outputId": "850f4196-ac3a-4ca3-b7bd-45e79b79276d"
   },
   "outputs": [
    {
     "name": "stderr",
     "output_type": "stream",
     "text": [
      "[*********************100%%**********************]  69 of 69 completed\n"
     ]
    }
   ],
   "source": [
    "# Download historical data for the tickers\n",
    "data0 = yf.download(Tickers, start=\"2012-01-02\", end=\"2024-04-05\")['Adj Close']\n",
    "data = data0.copy()"
   ]
  },
  {
   "cell_type": "markdown",
   "metadata": {
    "id": "OHycArAxWbve"
   },
   "source": [
    "Q2: 25 points) Calculate daily returns of each mutual funds Then, create another data set that computes the difference of mutual fund returns and SPY (SP500 mutual funds) returns. In so doing, add a condition such that if there are less than 60 observations, remove the specific mutual funds."
   ]
  },
  {
   "cell_type": "code",
   "execution_count": 4,
   "metadata": {
    "colab": {
     "base_uri": "https://localhost:8080/"
    },
    "id": "77G-hbLWZ-3o",
    "outputId": "7d3d07f9-ff27-4ee9-f36e-78b8093d0e39"
   },
   "outputs": [
    {
     "name": "stdout",
     "output_type": "stream",
     "text": [
      "Ticker         AMRMX     BCSIX     CDIRX  CGDV     CIPMX     CIPSX       DES  \\\n",
      "Date                                                                           \n",
      "2012-01-03       NaN       NaN       NaN   NaN       NaN       NaN       NaN   \n",
      "2012-01-04 -0.000802 -0.011734 -0.002296   NaN -0.007013 -0.009448 -0.006162   \n",
      "2012-01-05 -0.002279  0.004868 -0.001934   NaN  0.005549  0.002392  0.002612   \n",
      "2012-01-06 -0.000103  0.001218 -0.001059   NaN  0.003482 -0.003170  0.000391   \n",
      "2012-01-09 -0.000124  0.004150 -0.001698   NaN  0.000285 -0.000982 -0.001332   \n",
      "\n",
      "Ticker         DHLYX       DLN     DODGX  ...     VSIAX     VSMVX     VSPGX  \\\n",
      "Date                                      ...                                 \n",
      "2012-01-03       NaN       NaN       NaN  ...       NaN       NaN       NaN   \n",
      "2012-01-04 -0.000260 -0.002779 -0.003012  ... -0.005948 -0.008140 -0.001244   \n",
      "2012-01-05 -0.000048 -0.000038  0.000034  ...  0.003936  0.004932 -0.000798   \n",
      "2012-01-06 -0.000682 -0.000846 -0.000401  ...  0.000756 -0.001151  0.000797   \n",
      "2012-01-09  0.001497 -0.000406  0.001523  ...  0.002316  0.001234 -0.002022   \n",
      "\n",
      "Ticker           VTV       VUG     VVIAX       VYM     WAAEX     WGROX  \\\n",
      "Date                                                                     \n",
      "2012-01-03       NaN       NaN       NaN       NaN       NaN       NaN   \n",
      "2012-01-04 -0.001756  0.000027 -0.002050 -0.001569 -0.011553 -0.009285   \n",
      "2012-01-05  0.000903  0.000843  0.000706 -0.002662 -0.001070  0.001781   \n",
      "2012-01-06 -0.000415  0.002577 -0.000780  0.000388  0.000987  0.000365   \n",
      "2012-01-09  0.000761 -0.002109  0.001904 -0.001330  0.002350 -0.002981   \n",
      "\n",
      "Ticker          XMHQ  \n",
      "Date                  \n",
      "2012-01-03       NaN  \n",
      "2012-01-04 -0.003209  \n",
      "2012-01-05  0.001855  \n",
      "2012-01-06  0.005848  \n",
      "2012-01-09 -0.000797  \n",
      "\n",
      "[5 rows x 68 columns]\n",
      "Number of observations: 3083\n"
     ]
    },
    {
     "name": "stderr",
     "output_type": "stream",
     "text": [
      "c:\\Users\\95223\\anaconda3\\lib\\site-packages\\numpy\\core\\fromnumeric.py:3438: FutureWarning: In a future version, DataFrame.mean(axis=None) will return a scalar mean over the entire DataFrame. To retain the old behavior, use 'frame.mean(axis=0)' or just 'frame.mean()'\n",
      "  return mean(axis=axis, dtype=dtype, out=out, **kwargs)\n"
     ]
    }
   ],
   "source": [
    "# Calculate daily returns\n",
    "returns = data.pct_change()\n",
    "\n",
    "# Calculate the difference between each ticker's return and SPY's return\n",
    "returns_minus_SPY = returns.subtract(returns['SPY'], axis=0)\n",
    "\n",
    "# Remove the SPY column from the new dataset\n",
    "returns_minus_SPY = returns_minus_SPY.drop(columns=['SPY'])\n",
    "\n",
    "# Filter out funds with fewer than n number of  non-NaN observations n = 60\n",
    "returns_minus_SPY = returns_minus_SPY.dropna(axis=1, thresh=60)\n",
    "\n",
    "# Display the first few rows of the new dataset\n",
    "print(returns_minus_SPY.head())\n",
    "\n",
    "x = returns_minus_SPY\n",
    "mu = np.mean(x)\n",
    "rows, columns = x.shape # This is to get the number of data points (rows in this case)\n",
    "n = rows\n",
    "\n",
    "print(\"Number of observations:\", n)"
   ]
  },
  {
   "cell_type": "markdown",
   "metadata": {
    "id": "NxMpXCtVahvX"
   },
   "source": [
    "Q3: 25 points) Create a bootsrap function to compute the mean statistic for each bootstrapped sample allowing replacement. The function should return the list of means from each sample."
   ]
  },
  {
   "cell_type": "code",
   "execution_count": 5,
   "metadata": {
    "id": "d463UvsMasgr"
   },
   "outputs": [],
   "source": [
    "# Bootstrap function for mean (time-series average for fund return minus SPY)\n",
    "\n",
    "def bootstrap_mean(data, n_bootstrap=1000):\n",
    "    bootstrap_means = []\n",
    "    for _ in range(n_bootstrap):\n",
    "        bootstrap_sample = np.random.choice(data[~np.isnan(data)], size=len(data), replace=True) #sampling with replacement for observed data\n",
    "        bootstrap_means.append(np.mean(bootstrap_sample)) # Each repeat will add a mean based on newly bootstrapped samples\n",
    "    return bootstrap_means\n"
   ]
  },
  {
   "cell_type": "markdown",
   "metadata": {
    "id": "wGIqpvycflOY"
   },
   "source": [
    "Q4: 30 points) Perform a bootstrap analysis (1000 samples) for each ticker. In doing so, compute the t-statistics and confidence interval (95 percent)."
   ]
  },
  {
   "cell_type": "code",
   "execution_count": 6,
   "metadata": {
    "id": "r7M_diwdf7pR"
   },
   "outputs": [],
   "source": [
    "# Perform bootstrap for each ticker and calculate t-statistics\n",
    "bootstrap_results = {}\n",
    "for ticker in returns_minus_SPY.columns:\n",
    "    bootstrap_means = bootstrap_mean(returns_minus_SPY[ticker])\n",
    "    mean_estimate = np.mean(bootstrap_means)\n",
    "    std_error = np.std(bootstrap_means, ddof=1) #standard error = std dev of estimate (i.e., mean in this case)\n",
    "    t_statistic = mean_estimate / std_error\n",
    "    conf_interval = stats.norm.interval(0.95, loc=mean_estimate, scale=std_error)\n",
    "    bootstrap_results[ticker] = {'t_statistic': t_statistic, 'conf_interval': conf_interval}"
   ]
  },
  {
   "cell_type": "code",
   "execution_count": 7,
   "metadata": {
    "colab": {
     "base_uri": "https://localhost:8080/"
    },
    "id": "VCxOyigGgbND",
    "outputId": "b88ded15-e789-4e9e-8dcd-744cc943cff5"
   },
   "outputs": [
    {
     "data": {
      "text/plain": [
       "{'AMRMX': {'t_statistic': -2.046850431337877,\n",
       "  'conf_interval': (-0.00024836747626815706, -5.385766664801824e-06)},\n",
       " 'BCSIX': {'t_statistic': -0.541226338059032,\n",
       "  'conf_interval': (-0.00037878126556153225, 0.00021485419817051217)},\n",
       " 'CDIRX': {'t_statistic': -1.8079133394584848,\n",
       "  'conf_interval': (-0.00019623232797222987, 7.918849126003873e-06)},\n",
       " 'CGDV': {'t_statistic': 2.3052689530030985,\n",
       "  'conf_interval': (2.180976424912112e-05, 0.00026939584810914234)},\n",
       " 'CIPMX': {'t_statistic': -0.554474921849807,\n",
       "  'conf_interval': (-0.00018867165729129123, 0.00010546128207317725)},\n",
       " 'CIPSX': {'t_statistic': -1.0095674618005106,\n",
       "  'conf_interval': (-0.00035565293190371997, 0.00011382647932553796)},\n",
       " 'DES': {'t_statistic': -1.04062091044188,\n",
       "  'conf_interval': (-0.0004056321353043533, 0.00012428080100228454)},\n",
       " 'DHLYX': {'t_statistic': -1.2772057807758221,\n",
       "  'conf_interval': (-0.00019236047170197125, 4.0571146914089253e-05)},\n",
       " 'DLN': {'t_statistic': -1.743480631754136,\n",
       "  'conf_interval': (-0.00018984011989408157, 1.1097027201955267e-05)},\n",
       " 'DODGX': {'t_statistic': -0.12173696293819901,\n",
       "  'conf_interval': (-0.000159091298400518, 0.0001404841189969297)},\n",
       " 'DON': {'t_statistic': -0.7222107590716812,\n",
       "  'conf_interval': (-0.00027376550372116827, 0.00012633559243666547)},\n",
       " 'FDGRX': {'t_statistic': 1.8720534821535464,\n",
       "  'conf_interval': (-9.405948149080796e-06, 0.00041000513726587376)},\n",
       " 'FDVV': {'t_statistic': -1.1045607270558049,\n",
       "  'conf_interval': (-0.00023463691384899169, 6.54943912421443e-05)},\n",
       " 'FSIUX': {'t_statistic': -1.8011297430695588,\n",
       "  'conf_interval': (-0.00039526062440432624, 1.6692198069819534e-05)},\n",
       " 'HAMVX': {'t_statistic': -0.6025173666700435,\n",
       "  'conf_interval': (-0.00030429608958128533, 0.00016119754293553035)},\n",
       " 'JVMIX': {'t_statistic': -0.4406354947113834,\n",
       "  'conf_interval': (-0.00019727809274312972, 0.0001248564074575083)},\n",
       " 'LCBOX': {'t_statistic': -1.5807288259252041,\n",
       "  'conf_interval': (-0.00018334212931744935, 1.9637338005425774e-05)},\n",
       " 'LCEYX': {'t_statistic': -1.7016667574906417,\n",
       "  'conf_interval': (-0.00031486693003478477, 2.221121151949965e-05)},\n",
       " 'LSGRX': {'t_statistic': 1.4198943920752776,\n",
       "  'conf_interval': (-3.664728917630598e-05, 0.0002293457158687572)},\n",
       " 'LSVQX': {'t_statistic': -0.7278772298223132,\n",
       "  'conf_interval': (-0.00039907044490797105, 0.00018293097328186844)},\n",
       " 'LVHD': {'t_statistic': -1.7809246545699708,\n",
       "  'conf_interval': (-0.0004674054151533358, 2.2370073110048686e-05)},\n",
       " 'MADVX': {'t_statistic': -1.8285783533977003,\n",
       "  'conf_interval': (-0.0002655778145175783, 9.2101673058754e-06)},\n",
       " 'MCVRX': {'t_statistic': -1.168812998001403,\n",
       "  'conf_interval': (-0.000254724440181022, 6.441030897032014e-05)},\n",
       " 'MEIJX': {'t_statistic': -1.6479329697368932,\n",
       "  'conf_interval': (-0.00021531533931628513, 1.862166926633076e-05)},\n",
       " 'MPEGX': {'t_statistic': -0.1253530430925882,\n",
       "  'conf_interval': (-0.000522627660145042, 0.00045979503878778617)},\n",
       " 'MSEQX': {'t_statistic': 0.4234846283075963,\n",
       "  'conf_interval': (-0.0003575103986926925, 0.0005545845184227719)},\n",
       " 'NWSAX': {'t_statistic': -0.44243998800845286,\n",
       "  'conf_interval': (-0.00039638947692195064, 0.0002503869249614821)},\n",
       " 'OAKMX': {'t_statistic': 0.2806037348142815,\n",
       "  'conf_interval': (-0.00012699823355126163, 0.0001694384171332174)},\n",
       " 'OIEJX': {'t_statistic': -1.4083531492035266,\n",
       "  'conf_interval': (-0.00021661670469401325, 3.5474130457339165e-05)},\n",
       " 'PGBHX': {'t_statistic': 1.2648927098467104,\n",
       "  'conf_interval': (-7.828433859102663e-05, 0.00036320846877508)},\n",
       " 'PMBPX': {'t_statistic': 0.026558940058107505,\n",
       "  'conf_interval': (-0.00020028144222849491, 0.00020578392380531652)},\n",
       " 'POAGX': {'t_statistic': 0.4183685925516136,\n",
       "  'conf_interval': (-0.00017506904279791346, 0.0002700918865549224)},\n",
       " 'POGRX': {'t_statistic': 0.1543382965015487,\n",
       "  'conf_interval': (-0.00014155569569681946, 0.0001657550245817249)},\n",
       " 'PRDGX': {'t_statistic': -1.049211234414552,\n",
       "  'conf_interval': (-0.00012589691586318403, 3.810378393138145e-05)},\n",
       " 'PRDSX': {'t_statistic': -0.45248314537501966,\n",
       "  'conf_interval': (-0.000228506312694031, 0.00014278816051261278)},\n",
       " 'PRWAX': {'t_statistic': 1.6564651934428651,\n",
       "  'conf_interval': (-1.8634882543425857e-05, 0.00022204942798849267)},\n",
       " 'QDF': {'t_statistic': -1.8561690752189486,\n",
       "  'conf_interval': (-0.00018963565869755918, 5.157895621124998e-06)},\n",
       " 'RPMGX': {'t_statistic': -0.5604505020091789,\n",
       "  'conf_interval': (-0.00016536218867737934, 9.18208547799847e-05)},\n",
       " 'SCHD': {'t_statistic': -0.7158548527347531,\n",
       "  'conf_interval': (-0.00019669660635444726, 9.145314352069809e-05)},\n",
       " 'SDY': {'t_statistic': -1.249723904784548,\n",
       "  'conf_interval': (-0.00027967152682360915, 6.188574539512058e-05)},\n",
       " 'TDVG': {'t_statistic': -1.2718812904655883,\n",
       "  'conf_interval': (-0.00019530665623236512, 4.158216707661128e-05)},\n",
       " 'VBK': {'t_statistic': -0.703975644717493,\n",
       "  'conf_interval': (-0.00028582787255426165, 0.00013476149053141107)},\n",
       " 'VBR': {'t_statistic': -0.6091194772883959,\n",
       "  'conf_interval': (-0.0002885245421478305, 0.00015170849789765298)},\n",
       " 'VDADX': {'t_statistic': -1.2411117849466278,\n",
       "  'conf_interval': (-0.00017097994998216114, 3.8396252379480544e-05)},\n",
       " 'VDIGX': {'t_statistic': -1.344254441838516,\n",
       "  'conf_interval': (-0.00020190102925113539, 3.76223282936634e-05)},\n",
       " 'VEVRX': {'t_statistic': -0.2252032976120357,\n",
       "  'conf_interval': (-0.0002441964837186272, 0.0001938627139904467)},\n",
       " 'VHCOX': {'t_statistic': 0.9376895692476978,\n",
       "  'conf_interval': (-6.929427935770051e-05, 0.00019641576844176304)},\n",
       " 'VHYAX': {'t_statistic': -1.755000719646682,\n",
       "  'conf_interval': (-0.00035653900430193837, 1.9671088207432944e-05)},\n",
       " 'VIG': {'t_statistic': -1.3717906163484135,\n",
       "  'conf_interval': (-0.0001755824914264974, 3.099656419781439e-05)},\n",
       " 'VIGAX': {'t_statistic': 1.284056836030137,\n",
       "  'conf_interval': (-4.393098593237606e-05, 0.00021084705694707283)},\n",
       " 'VMFVX': {'t_statistic': -0.5924660630077356,\n",
       "  'conf_interval': (-0.0002891070209592191, 0.00015489288360398453)},\n",
       " 'VMVAX': {'t_statistic': -1.0803388678413535,\n",
       "  'conf_interval': (-0.0002489572268412723, 7.20286893595845e-05)},\n",
       " 'VOE': {'t_statistic': -1.0485028391695121,\n",
       "  'conf_interval': (-0.0002441609256252058, 7.397229551319321e-05)},\n",
       " 'VONG': {'t_statistic': 1.5114195350200983,\n",
       "  'conf_interval': (-2.771760228125596e-05, 0.00021451258144839462)},\n",
       " 'VOOG': {'t_statistic': 1.0172572585586246,\n",
       "  'conf_interval': (-5.258251019614953e-05, 0.00016606412371615259)},\n",
       " 'VRGWX': {'t_statistic': 1.6524909729209674,\n",
       "  'conf_interval': (-1.8346312665516867e-05, 0.00021554811523354604)},\n",
       " 'VRVIX': {'t_statistic': -1.8220959871429965,\n",
       "  'conf_interval': (-0.0002217788778810798, 8.08453858145046e-06)},\n",
       " 'VSGIX': {'t_statistic': -0.7692477766338164,\n",
       "  'conf_interval': (-0.00028871184476389575, 0.00012596086454904422)},\n",
       " 'VSIAX': {'t_statistic': -0.6907432351405884,\n",
       "  'conf_interval': (-0.0002879363396424415, 0.00013787066865285434)},\n",
       " 'VSMVX': {'t_statistic': -0.5881746320105545,\n",
       "  'conf_interval': (-0.00037057666122588195, 0.0001994997897146385)},\n",
       " 'VSPGX': {'t_statistic': 0.9374851188666544,\n",
       "  'conf_interval': (-5.289016970617953e-05, 0.00014987749863491908)},\n",
       " 'VTV': {'t_statistic': -1.0303048558561114,\n",
       "  'conf_interval': (-0.00019599677005993936, 6.093438289469994e-05)},\n",
       " 'VUG': {'t_statistic': 1.2309675063117476,\n",
       "  'conf_interval': (-4.923542883075473e-05, 0.00021551116502437393)},\n",
       " 'VVIAX': {'t_statistic': -1.1769910946914302,\n",
       "  'conf_interval': (-0.00019180540538483364, 4.787395061440979e-05)},\n",
       " 'VYM': {'t_statistic': -1.4763472871582044,\n",
       "  'conf_interval': (-0.0002292067997399008, 3.225791459016796e-05)},\n",
       " 'WAAEX': {'t_statistic': -0.600891801881719,\n",
       "  'conf_interval': (-0.0003455187946192504, 0.0001833703345742879)},\n",
       " 'WGROX': {'t_statistic': -0.015201055558475316,\n",
       "  'conf_interval': (-0.00021566974819804493, 0.00021235011894369432)},\n",
       " 'XMHQ': {'t_statistic': 0.19056094556890854,\n",
       "  'conf_interval': (-0.00021198813069960265, 0.00025764947268417515)}}"
      ]
     },
     "execution_count": 7,
     "metadata": {},
     "output_type": "execute_result"
    }
   ],
   "source": [
    "bootstrap_results"
   ]
  },
  {
   "cell_type": "markdown",
   "metadata": {
    "id": "IIMJ9n5LgnhX"
   },
   "source": [
    "Q5: 15 points) Filter the results for those with t-statistics is greater than 1.96 (5 percent significance)."
   ]
  },
  {
   "cell_type": "code",
   "execution_count": 8,
   "metadata": {
    "colab": {
     "base_uri": "https://localhost:8080/"
    },
    "id": "vdRqp775g1_X",
    "outputId": "13165aa7-ff7e-4611-fbc2-6188d812b76d"
   },
   "outputs": [
    {
     "name": "stdout",
     "output_type": "stream",
     "text": [
      "Positively significant funds:\n",
      "CGDV: T-statistic = 2.3052689530030985, 95% Confidence Interval = (2.180976424912112e-05, 0.00026939584810914234)\n"
     ]
    }
   ],
   "source": [
    "# Filter for positively significant funds\n",
    "positively_significant_funds = [ticker for ticker, results in bootstrap_results.items() if results['t_statistic'] > 1.96]\n",
    "\n",
    "# Print results for positively significant funds\n",
    "print(\"Positively significant funds:\")\n",
    "for fund in positively_significant_funds:\n",
    "    print(f\"{fund}: T-statistic = {bootstrap_results[fund]['t_statistic']}, 95% Confidence Interval = {bootstrap_results[fund]['conf_interval']}\")"
   ]
  },
  {
   "cell_type": "markdown",
   "metadata": {
    "id": "fWjIrz7XhGxF"
   },
   "source": [
    "Q6: Bonus 15 points plus $\\alpha$) You instead run regressions of each mutual fund to SPY (i.e., a CAPM like regression) then to compute alphas (constant) term instead of the difference and repeat the above bootstrap analysis."
   ]
  },
  {
   "cell_type": "code",
   "execution_count": null,
   "metadata": {
    "id": "FfUH8x3JhwKI"
   },
   "outputs": [],
   "source": []
  }
 ],
 "metadata": {
  "colab": {
   "provenance": []
  },
  "kernelspec": {
   "display_name": "Python 3",
   "language": "python",
   "name": "python3"
  },
  "language_info": {
   "codemirror_mode": {
    "name": "ipython",
    "version": 3
   },
   "file_extension": ".py",
   "mimetype": "text/x-python",
   "name": "python",
   "nbconvert_exporter": "python",
   "pygments_lexer": "ipython3",
   "version": "3.8.8"
  }
 },
 "nbformat": 4,
 "nbformat_minor": 1
}
