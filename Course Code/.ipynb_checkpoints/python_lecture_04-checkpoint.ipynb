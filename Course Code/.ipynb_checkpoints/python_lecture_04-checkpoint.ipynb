{
 "cells": [
  {
   "cell_type": "markdown",
   "metadata": {
    "id": "YLXh2TbuBYMg"
   },
   "source": [
    "# Lecture on Data handling with Pandas\n",
    "\n",
    "In addition to Series, this lecture introduces 'DataFrame', which is a python class and most Python data sets are formed as. DataFrames collect multiple (Pandas) Series. Thus, a DataFrame is like a two-dimensional NumPy array – and when all data is numeric and of the same type (e.g. float64), it is virtually indistinguishable. However, as mentioned, a DataFrame consists of Series, and each Series has its own data type.\n",
    "\n",
    "A number of methods are available to initialize a DataFrame. The simplest method uses a homogeneous NumPy array. But, many data sets we download or import can be already given as DataFrame.\n",
    "\n",
    "## Basics"
   ]
  },
  {
   "cell_type": "code",
   "execution_count": 1,
   "metadata": {
    "id": "iOFmp3QtLfTv"
   },
   "outputs": [],
   "source": [
    "import pandas as pd\n",
    "import numpy as np"
   ]
  },
  {
   "cell_type": "code",
   "execution_count": 2,
   "metadata": {
    "colab": {
     "base_uri": "https://localhost:8080/"
    },
    "id": "MRtCiLbQTlau",
    "outputId": "a74aad66-9777-4d86-8f27-6e512f902b05"
   },
   "outputs": [
    {
     "data": {
      "text/plain": [
       "array([[1., 2.],\n",
       "       [3., 4.]])"
      ]
     },
     "execution_count": 2,
     "metadata": {},
     "output_type": "execute_result"
    }
   ],
   "source": [
    "A = np.array([[1.0,2],[3,4]]) # a 2 by 2 array\n",
    "A"
   ]
  },
  {
   "cell_type": "code",
   "execution_count": 3,
   "metadata": {
    "id": "GmG6WtNzLukl"
   },
   "outputs": [],
   "source": [
    "df = pd.DataFrame(A) # We can change it into a DataFrame."
   ]
  },
  {
   "cell_type": "code",
   "execution_count": 4,
   "metadata": {
    "colab": {
     "base_uri": "https://localhost:8080/",
     "height": 112
    },
    "id": "ZDoSbMhUMKpc",
    "outputId": "ab452e46-4070-46b5-8a39-2ca1c3faeb77"
   },
   "outputs": [
    {
     "data": {
      "text/html": [
       "<div>\n",
       "<style scoped>\n",
       "    .dataframe tbody tr th:only-of-type {\n",
       "        vertical-align: middle;\n",
       "    }\n",
       "\n",
       "    .dataframe tbody tr th {\n",
       "        vertical-align: top;\n",
       "    }\n",
       "\n",
       "    .dataframe thead th {\n",
       "        text-align: right;\n",
       "    }\n",
       "</style>\n",
       "<table border=\"1\" class=\"dataframe\">\n",
       "  <thead>\n",
       "    <tr style=\"text-align: right;\">\n",
       "      <th></th>\n",
       "      <th>0</th>\n",
       "      <th>1</th>\n",
       "    </tr>\n",
       "  </thead>\n",
       "  <tbody>\n",
       "    <tr>\n",
       "      <th>0</th>\n",
       "      <td>1.0</td>\n",
       "      <td>2.0</td>\n",
       "    </tr>\n",
       "    <tr>\n",
       "      <th>1</th>\n",
       "      <td>3.0</td>\n",
       "      <td>4.0</td>\n",
       "    </tr>\n",
       "  </tbody>\n",
       "</table>\n",
       "</div>"
      ],
      "text/plain": [
       "     0    1\n",
       "0  1.0  2.0\n",
       "1  3.0  4.0"
      ]
     },
     "execution_count": 4,
     "metadata": {},
     "output_type": "execute_result"
    }
   ],
   "source": [
    "df # Alternatively, you can type print(df)"
   ]
  },
  {
   "cell_type": "markdown",
   "metadata": {
    "id": "a1JnViR2MI1l"
   },
   "source": [
    "You may want to add names to each column. You can use columns=[ ]"
   ]
  },
  {
   "cell_type": "code",
   "execution_count": 5,
   "metadata": {
    "colab": {
     "base_uri": "https://localhost:8080/",
     "height": 112
    },
    "id": "6Zvv-DuNOlxV",
    "outputId": "ccfca93f-6cb6-410b-d1af-0020985cfc52"
   },
   "outputs": [
    {
     "data": {
      "text/html": [
       "<div>\n",
       "<style scoped>\n",
       "    .dataframe tbody tr th:only-of-type {\n",
       "        vertical-align: middle;\n",
       "    }\n",
       "\n",
       "    .dataframe tbody tr th {\n",
       "        vertical-align: top;\n",
       "    }\n",
       "\n",
       "    .dataframe thead th {\n",
       "        text-align: right;\n",
       "    }\n",
       "</style>\n",
       "<table border=\"1\" class=\"dataframe\">\n",
       "  <thead>\n",
       "    <tr style=\"text-align: right;\">\n",
       "      <th></th>\n",
       "      <th>a</th>\n",
       "      <th>b</th>\n",
       "    </tr>\n",
       "  </thead>\n",
       "  <tbody>\n",
       "    <tr>\n",
       "      <th>0</th>\n",
       "      <td>1</td>\n",
       "      <td>2</td>\n",
       "    </tr>\n",
       "    <tr>\n",
       "      <th>1</th>\n",
       "      <td>3</td>\n",
       "      <td>4</td>\n",
       "    </tr>\n",
       "  </tbody>\n",
       "</table>\n",
       "</div>"
      ],
      "text/plain": [
       "   a  b\n",
       "0  1  2\n",
       "1  3  4"
      ]
     },
     "execution_count": 5,
     "metadata": {},
     "output_type": "execute_result"
    }
   ],
   "source": [
    "df = pd.DataFrame(np.array([[1,2],[3,4]]),columns=['a','b'])\n",
    "df"
   ]
  },
  {
   "cell_type": "code",
   "execution_count": 6,
   "metadata": {
    "colab": {
     "base_uri": "https://localhost:8080/",
     "height": 112
    },
    "id": "HF6C5dHDQA89",
    "outputId": "1fe1dfdc-8abb-4c95-b7e5-d4fa106fcee6"
   },
   "outputs": [
    {
     "data": {
      "text/html": [
       "<div>\n",
       "<style scoped>\n",
       "    .dataframe tbody tr th:only-of-type {\n",
       "        vertical-align: middle;\n",
       "    }\n",
       "\n",
       "    .dataframe tbody tr th {\n",
       "        vertical-align: top;\n",
       "    }\n",
       "\n",
       "    .dataframe thead th {\n",
       "        text-align: right;\n",
       "    }\n",
       "</style>\n",
       "<table border=\"1\" class=\"dataframe\">\n",
       "  <thead>\n",
       "    <tr style=\"text-align: right;\">\n",
       "      <th></th>\n",
       "      <th>dogs</th>\n",
       "      <th>cats</th>\n",
       "    </tr>\n",
       "  </thead>\n",
       "  <tbody>\n",
       "    <tr>\n",
       "      <th>0</th>\n",
       "      <td>1</td>\n",
       "      <td>2</td>\n",
       "    </tr>\n",
       "    <tr>\n",
       "      <th>1</th>\n",
       "      <td>3</td>\n",
       "      <td>4</td>\n",
       "    </tr>\n",
       "  </tbody>\n",
       "</table>\n",
       "</div>"
      ],
      "text/plain": [
       "   dogs  cats\n",
       "0     1     2\n",
       "1     3     4"
      ]
     },
     "execution_count": 6,
     "metadata": {},
     "output_type": "execute_result"
    }
   ],
   "source": [
    "# You can change names of the columns using .columns method\n",
    "df.columns = ['dogs','cats']\n",
    "df"
   ]
  },
  {
   "cell_type": "code",
   "execution_count": 7,
   "metadata": {
    "id": "bS2OTWm9QLNa"
   },
   "outputs": [],
   "source": [
    "# Row names are referred to as index. You can do similar changes\n",
    "df = pd.DataFrame(np.array([[1,2],[3,4]]), columns=['dogs','cats'],index=['Alice','Bob'])"
   ]
  },
  {
   "cell_type": "code",
   "execution_count": 8,
   "metadata": {
    "colab": {
     "base_uri": "https://localhost:8080/",
     "height": 112
    },
    "id": "8MyPVYfmQQjB",
    "outputId": "b32151fe-98c6-4b33-e9ac-db2a17a430ff"
   },
   "outputs": [
    {
     "data": {
      "text/html": [
       "<div>\n",
       "<style scoped>\n",
       "    .dataframe tbody tr th:only-of-type {\n",
       "        vertical-align: middle;\n",
       "    }\n",
       "\n",
       "    .dataframe tbody tr th {\n",
       "        vertical-align: top;\n",
       "    }\n",
       "\n",
       "    .dataframe thead th {\n",
       "        text-align: right;\n",
       "    }\n",
       "</style>\n",
       "<table border=\"1\" class=\"dataframe\">\n",
       "  <thead>\n",
       "    <tr style=\"text-align: right;\">\n",
       "      <th></th>\n",
       "      <th>dogs</th>\n",
       "      <th>cats</th>\n",
       "    </tr>\n",
       "  </thead>\n",
       "  <tbody>\n",
       "    <tr>\n",
       "      <th>Alice</th>\n",
       "      <td>1</td>\n",
       "      <td>2</td>\n",
       "    </tr>\n",
       "    <tr>\n",
       "      <th>Bob</th>\n",
       "      <td>3</td>\n",
       "      <td>4</td>\n",
       "    </tr>\n",
       "  </tbody>\n",
       "</table>\n",
       "</div>"
      ],
      "text/plain": [
       "       dogs  cats\n",
       "Alice     1     2\n",
       "Bob       3     4"
      ]
     },
     "execution_count": 8,
     "metadata": {},
     "output_type": "execute_result"
    }
   ],
   "source": [
    "df"
   ]
  },
  {
   "cell_type": "markdown",
   "metadata": {
    "id": "YVEGq4p0XuBE"
   },
   "source": [
    "## How to manage time series or panel data\n",
    "\n",
    "Pandas provides a powerful toolkit to make and manipulate data with time series involved. Python has a built-in module 'datetime' that Pandas can interact with. We can do most of the things we learned in list, tuple, and"
   ]
  },
  {
   "cell_type": "code",
   "execution_count": 9,
   "metadata": {
    "id": "u2064cpcqxsR"
   },
   "outputs": [],
   "source": [
    "import datetime as dt"
   ]
  },
  {
   "cell_type": "markdown",
   "metadata": {
    "id": "k_J82fTos2w1"
   },
   "source": [
    "Create Dates and Time"
   ]
  },
  {
   "cell_type": "code",
   "execution_count": 10,
   "metadata": {
    "colab": {
     "base_uri": "https://localhost:8080/"
    },
    "id": "ztF_PKJcq7xj",
    "outputId": "609f7aee-9903-42d9-fe38-7469af6e944f"
   },
   "outputs": [
    {
     "data": {
      "text/plain": [
       "datetime.date(2021, 12, 28)"
      ]
     },
     "execution_count": 10,
     "metadata": {},
     "output_type": "execute_result"
    }
   ],
   "source": [
    "yr, mo, dd = 2021, 12, 28\n",
    "\n",
    "dt.date(yr,mo,dd)"
   ]
  },
  {
   "cell_type": "code",
   "execution_count": 11,
   "metadata": {
    "colab": {
     "base_uri": "https://localhost:8080/"
    },
    "id": "cCQzMDrUsCnU",
    "outputId": "5ecda20f-88bc-4388-9cb2-79cbe00dd71a"
   },
   "outputs": [
    {
     "data": {
      "text/plain": [
       "datetime.time(15, 30, 58, 20)"
      ]
     },
     "execution_count": 11,
     "metadata": {},
     "output_type": "execute_result"
    }
   ],
   "source": [
    "hr, mm, ss, ms = 15, 30, 58, 20\n",
    "\n",
    "dt.time(hr,mm,ss,ms)"
   ]
  },
  {
   "cell_type": "code",
   "execution_count": 12,
   "metadata": {
    "colab": {
     "base_uri": "https://localhost:8080/"
    },
    "id": "kJopzB1BsWFJ",
    "outputId": "ea46ccc4-2eb8-44b8-fd83-d051f126e34e"
   },
   "outputs": [
    {
     "data": {
      "text/plain": [
       "datetime.datetime(2021, 12, 28, 15, 30, 58, 20)"
      ]
     },
     "execution_count": 12,
     "metadata": {},
     "output_type": "execute_result"
    }
   ],
   "source": [
    "dt.datetime(yr,mo,dd,hr,mm,ss,ms)"
   ]
  },
  {
   "cell_type": "markdown",
   "metadata": {
    "id": "ayLfFZq6ti8u"
   },
   "source": [
    "You can subtract Datetimes and dates (not times, though) to produce a 'timedelta' type"
   ]
  },
  {
   "cell_type": "code",
   "execution_count": 13,
   "metadata": {
    "id": "XnuWwizUvj65"
   },
   "outputs": [],
   "source": [
    "d1 = dt.datetime(yr,mo,dd,hr,mm,ss,ms)\n",
    "d2 = dt.datetime(yr+1,mo,dd,hr,mm,ss,ms)\n",
    "d3 = dt.datetime(yr,mo,dd+1,hr,mm,ss,ms)"
   ]
  },
  {
   "cell_type": "code",
   "execution_count": 14,
   "metadata": {
    "colab": {
     "base_uri": "https://localhost:8080/"
    },
    "id": "vPLTskr2xGj6",
    "outputId": "432d9df3-f5a4-430f-a40f-5ae372ba19cc"
   },
   "outputs": [
    {
     "data": {
      "text/plain": [
       "datetime.datetime(2022, 12, 28, 15, 30, 58, 20)"
      ]
     },
     "execution_count": 14,
     "metadata": {},
     "output_type": "execute_result"
    }
   ],
   "source": [
    "d2"
   ]
  },
  {
   "cell_type": "code",
   "execution_count": 15,
   "metadata": {
    "colab": {
     "base_uri": "https://localhost:8080/"
    },
    "id": "alVmTRlov-Xm",
    "outputId": "a764c349-60ca-432d-e515-95ebd1c6f6f4"
   },
   "outputs": [
    {
     "data": {
      "text/plain": [
       "datetime.timedelta(days=365)"
      ]
     },
     "execution_count": 15,
     "metadata": {},
     "output_type": "execute_result"
    }
   ],
   "source": [
    "d2-d1"
   ]
  },
  {
   "cell_type": "code",
   "execution_count": 16,
   "metadata": {
    "colab": {
     "base_uri": "https://localhost:8080/"
    },
    "id": "V_e2vpumwIbS",
    "outputId": "9a389d21-9b75-4253-8d04-31ae8d99e9c0"
   },
   "outputs": [
    {
     "data": {
      "text/plain": [
       "datetime.timedelta(days=-364)"
      ]
     },
     "execution_count": 16,
     "metadata": {},
     "output_type": "execute_result"
    }
   ],
   "source": [
    "d3-d2"
   ]
  },
  {
   "cell_type": "code",
   "execution_count": 17,
   "metadata": {
    "colab": {
     "base_uri": "https://localhost:8080/"
    },
    "id": "YnvM5i3lwCNb",
    "outputId": "5c809ad8-31b1-4b0c-8e72-4a2e999c1703"
   },
   "outputs": [
    {
     "data": {
      "text/plain": [
       "datetime.timedelta(days=1)"
      ]
     },
     "execution_count": 17,
     "metadata": {},
     "output_type": "execute_result"
    }
   ],
   "source": [
    "d3-d1"
   ]
  },
  {
   "cell_type": "code",
   "execution_count": 18,
   "metadata": {
    "colab": {
     "base_uri": "https://localhost:8080/"
    },
    "id": "JEtNFTRxwnOO",
    "outputId": "bec31b23-f96b-424a-9dac-1c0a4d2429ac"
   },
   "outputs": [
    {
     "data": {
      "text/plain": [
       "datetime.datetime(2023, 1, 7, 15, 30, 58, 20)"
      ]
     },
     "execution_count": 18,
     "metadata": {},
     "output_type": "execute_result"
    }
   ],
   "source": [
    "d2 + dt.timedelta(10,0,0) #ten days added"
   ]
  },
  {
   "cell_type": "code",
   "execution_count": 19,
   "metadata": {
    "colab": {
     "base_uri": "https://localhost:8080/"
    },
    "id": "-ozgr6XLxo64",
    "outputId": "dd65e238-502c-41fa-c9ba-f7426ffc1675"
   },
   "outputs": [
    {
     "data": {
      "text/plain": [
       "datetime.date(2020, 11, 29)"
      ]
     },
     "execution_count": 19,
     "metadata": {},
     "output_type": "execute_result"
    }
   ],
   "source": [
    "dt.date(2020,10,30) + dt.timedelta(30,0,0)"
   ]
  },
  {
   "cell_type": "code",
   "execution_count": 20,
   "metadata": {
    "colab": {
     "base_uri": "https://localhost:8080/"
    },
    "id": "u4spBgHYQwsh",
    "outputId": "dda74af6-7a66-4bb4-a3c5-546049457908"
   },
   "outputs": [
    {
     "name": "stdout",
     "output_type": "stream",
     "text": [
      "Name: pandas-datareader\n",
      "Version: 0.10.0\n",
      "Summary: Data readers extracted from the pandas codebase,should be compatible with recent pandas versions\n",
      "Home-page: https://github.com/pydata/pandas-datareader\n",
      "Author: The PyData Development Team\n",
      "Author-email: pydata@googlegroups.com\n",
      "License: BSD License\n",
      "Location: c:\\users\\95223\\anaconda3\\lib\\site-packages\n",
      "Requires: lxml, pandas, requests\n",
      "Required-by: pyfinance\n"
     ]
    }
   ],
   "source": [
    "# Google Colab has some issues with yahoo finance api. Need to update pandas_datareader Un# the two lines below, if you use an offline Python.\n",
    "!pip show pandas_datareader\n",
    "\n"
   ]
  },
  {
   "cell_type": "code",
   "execution_count": 21,
   "metadata": {
    "colab": {
     "base_uri": "https://localhost:8080/"
    },
    "id": "RlK4vsPPcVY_",
    "outputId": "6dd4195e-ba4e-452f-96e1-8cb439b83d78"
   },
   "outputs": [
    {
     "name": "stdout",
     "output_type": "stream",
     "text": [
      "Looking in indexes: http://mirrors.aliyun.com/pypi/simple/\n",
      "Requirement already satisfied: pandas_datareader in c:\\users\\95223\\anaconda3\\lib\\site-packages (0.10.0)\n",
      "Requirement already satisfied: lxml in c:\\users\\95223\\anaconda3\\lib\\site-packages (from pandas_datareader) (5.1.0)\n",
      "Requirement already satisfied: pandas>=0.23 in c:\\users\\95223\\anaconda3\\lib\\site-packages (from pandas_datareader) (1.4.2)\n",
      "Requirement already satisfied: requests>=2.19.0 in c:\\users\\95223\\anaconda3\\lib\\site-packages (from pandas_datareader) (2.31.0)\n",
      "Requirement already satisfied: python-dateutil>=2.8.1 in c:\\users\\95223\\anaconda3\\lib\\site-packages (from pandas>=0.23->pandas_datareader) (2.8.2)\n",
      "Requirement already satisfied: pytz>=2020.1 in c:\\users\\95223\\anaconda3\\lib\\site-packages (from pandas>=0.23->pandas_datareader) (2024.1)\n",
      "Requirement already satisfied: numpy>=1.18.5 in c:\\users\\95223\\anaconda3\\lib\\site-packages (from pandas>=0.23->pandas_datareader) (1.21.5)\n",
      "Requirement already satisfied: charset-normalizer<4,>=2 in c:\\users\\95223\\anaconda3\\lib\\site-packages (from requests>=2.19.0->pandas_datareader) (2.0.4)\n",
      "Requirement already satisfied: idna<4,>=2.5 in c:\\users\\95223\\anaconda3\\lib\\site-packages (from requests>=2.19.0->pandas_datareader) (3.3)\n",
      "Requirement already satisfied: urllib3<3,>=1.21.1 in c:\\users\\95223\\anaconda3\\lib\\site-packages (from requests>=2.19.0->pandas_datareader) (1.26.9)\n",
      "Requirement already satisfied: certifi>=2017.4.17 in c:\\users\\95223\\anaconda3\\lib\\site-packages (from requests>=2.19.0->pandas_datareader) (2023.11.17)"
     ]
    },
    {
     "name": "stderr",
     "output_type": "stream",
     "text": [
      "\n",
      "[notice] A new release of pip is available: 23.3.2 -> 24.0\n",
      "[notice] To update, run: python.exe -m pip install --upgrade pip\n"
     ]
    },
    {
     "name": "stdout",
     "output_type": "stream",
     "text": [
      "\n",
      "Requirement already satisfied: six>=1.5 in c:\\users\\95223\\anaconda3\\lib\\site-packages (from python-dateutil>=2.8.1->pandas>=0.23->pandas_datareader) (1.16.0)\n"
     ]
    }
   ],
   "source": [
    "!pip install --upgrade pandas_datareader"
   ]
  },
  {
   "cell_type": "markdown",
   "metadata": {
    "id": "5wr1Spm2NwlJ"
   },
   "source": [
    "We import pandas_datareader.data to downlowad data sets. We will use this library for various databases avaialble onine.\n"
   ]
  },
  {
   "cell_type": "code",
   "execution_count": 22,
   "metadata": {
    "colab": {
     "base_uri": "https://localhost:8080/"
    },
    "id": "Ixfc4FyncEUV",
    "outputId": "e51b2442-572b-4f51-e54b-8145b29944c5"
   },
   "outputs": [
    {
     "name": "stdout",
     "output_type": "stream",
     "text": [
      "Looking in indexes: http://mirrors.aliyun.com/pypi/simple/\n",
      "Requirement already satisfied: yfinance in c:\\users\\95223\\anaconda3\\lib\\site-packages (0.2.37)\n",
      "Requirement already satisfied: pandas>=1.3.0 in c:\\users\\95223\\anaconda3\\lib\\site-packages (from yfinance) (1.4.2)\n",
      "Requirement already satisfied: numpy>=1.16.5 in c:\\users\\95223\\anaconda3\\lib\\site-packages (from yfinance) (1.21.5)\n",
      "Requirement already satisfied: requests>=2.31 in c:\\users\\95223\\anaconda3\\lib\\site-packages (from yfinance) (2.31.0)\n",
      "Requirement already satisfied: multitasking>=0.0.7 in c:\\users\\95223\\anaconda3\\lib\\site-packages (from yfinance) (0.0.11)\n",
      "Requirement already satisfied: lxml>=4.9.1 in c:\\users\\95223\\anaconda3\\lib\\site-packages (from yfinance) (5.1.0)\n",
      "Requirement already satisfied: appdirs>=1.4.4 in c:\\users\\95223\\anaconda3\\lib\\site-packages (from yfinance) (1.4.4)\n",
      "Requirement already satisfied: pytz>=2022.5 in c:\\users\\95223\\anaconda3\\lib\\site-packages (from yfinance) (2024.1)\n",
      "Requirement already satisfied: frozendict>=2.3.4 in c:\\users\\95223\\anaconda3\\lib\\site-packages (from yfinance) (2.4.0)\n",
      "Requirement already satisfied: peewee>=3.16.2 in c:\\users\\95223\\anaconda3\\lib\\site-packages (from yfinance) (3.17.1)\n",
      "Requirement already satisfied: beautifulsoup4>=4.11.1 in c:\\users\\95223\\anaconda3\\lib\\site-packages (from yfinance) (4.11.1)\n",
      "Requirement already satisfied: html5lib>=1.1 in c:\\users\\95223\\anaconda3\\lib\\site-packages (from yfinance) (1.1)\n",
      "Requirement already satisfied: soupsieve>1.2 in c:\\users\\95223\\anaconda3\\lib\\site-packages (from beautifulsoup4>=4.11.1->yfinance) (2.3.1)\n",
      "Requirement already satisfied: six>=1.9 in c:\\users\\95223\\anaconda3\\lib\\site-packages (from html5lib>=1.1->yfinance) (1.16.0)\n",
      "Requirement already satisfied: webencodings in c:\\users\\95223\\anaconda3\\lib\\site-packages (from html5lib>=1.1->yfinance) (0.5.1)\n",
      "Requirement already satisfied: python-dateutil>=2.8.1 in c:\\users\\95223\\anaconda3\\lib\\site-packages (from pandas>=1.3.0->yfinance) (2.8.2)\n",
      "Requirement already satisfied: charset-normalizer<4,>=2 in c:\\users\\95223\\anaconda3\\lib\\site-packages (from requests>=2.31->yfinance) (2.0.4)\n",
      "Requirement already satisfied: idna<4,>=2.5 in c:\\users\\95223\\anaconda3\\lib\\site-packages (from requests>=2.31->yfinance) (3.3)"
     ]
    },
    {
     "name": "stderr",
     "output_type": "stream",
     "text": [
      "\n",
      "[notice] A new release of pip is available: 23.3.2 -> 24.0\n",
      "[notice] To update, run: python.exe -m pip install --upgrade pip\n"
     ]
    },
    {
     "name": "stdout",
     "output_type": "stream",
     "text": [
      "\n",
      "Requirement already satisfied: urllib3<3,>=1.21.1 in c:\\users\\95223\\anaconda3\\lib\\site-packages (from requests>=2.31->yfinance) (1.26.9)\n",
      "Requirement already satisfied: certifi>=2017.4.17 in c:\\users\\95223\\anaconda3\\lib\\site-packages (from requests>=2.31->yfinance) (2023.11.17)\n"
     ]
    }
   ],
   "source": [
    "!pip install yfinance"
   ]
  },
  {
   "cell_type": "code",
   "execution_count": 23,
   "metadata": {
    "colab": {
     "base_uri": "https://localhost:8080/"
    },
    "id": "pkzKRyqGb6P1",
    "outputId": "bc1ec404-b90b-4d80-856f-aa28d536c0e3"
   },
   "outputs": [],
   "source": [
    "import yfinance as yf"
   ]
  },
  {
   "cell_type": "code",
   "execution_count": 24,
   "metadata": {
    "id": "ta7AMTy1b_Ay"
   },
   "outputs": [],
   "source": [
    "yf.pdr_override()"
   ]
  },
  {
   "cell_type": "code",
   "execution_count": 25,
   "metadata": {
    "id": "Sz4DGqjacbn1"
   },
   "outputs": [],
   "source": [
    "#import datetime as dt"
   ]
  },
  {
   "cell_type": "code",
   "execution_count": 26,
   "metadata": {
    "id": "Vl0tbZDBM68Z"
   },
   "outputs": [],
   "source": [
    "# For time indexing, you can use either method.\n",
    "\n",
    "\n",
    "startd = dt.datetime(2020, 1, 2)\n",
    "endd = dt.datetime(2022, 1, 3)"
   ]
  },
  {
   "cell_type": "code",
   "execution_count": 27,
   "metadata": {
    "id": "cAZ6LeM7cjBP"
   },
   "outputs": [],
   "source": [
    "import pandas_datareader.data as web"
   ]
  },
  {
   "cell_type": "code",
   "execution_count": 28,
   "metadata": {
    "colab": {
     "base_uri": "https://localhost:8080/"
    },
    "id": "6IW3ejgOQ1Bk",
    "outputId": "cfdcac17-f3c8-4f06-f133-3e2120421f13"
   },
   "outputs": [
    {
     "name": "stderr",
     "output_type": "stream",
     "text": [
      "[*********************100%%**********************]  6 of 6 completed\n"
     ]
    }
   ],
   "source": [
    "Ticker = [\"AAPL\",\"AMZN\",\"MSFT\",\"GOOG\",\"TSLA\",\"SPY\"]\n",
    "#data = web.DataReader(Ticker, 'yahoo'startd, endd)\n",
    "data = web.get_data_yahoo(Ticker, start=\"2017-01-01\", end=\"2020-04-30\")"
   ]
  },
  {
   "cell_type": "code",
   "execution_count": 29,
   "metadata": {
    "colab": {
     "base_uri": "https://localhost:8080/",
     "height": 680
    },
    "id": "7rZSh1GzI77B",
    "outputId": "d71213b2-c895-4fda-b9ef-3543007e85dc"
   },
   "outputs": [
    {
     "data": {
      "text/html": [
       "<div>\n",
       "<style scoped>\n",
       "    .dataframe tbody tr th:only-of-type {\n",
       "        vertical-align: middle;\n",
       "    }\n",
       "\n",
       "    .dataframe tbody tr th {\n",
       "        vertical-align: top;\n",
       "    }\n",
       "\n",
       "    .dataframe thead tr th {\n",
       "        text-align: left;\n",
       "    }\n",
       "\n",
       "    .dataframe thead tr:last-of-type th {\n",
       "        text-align: right;\n",
       "    }\n",
       "</style>\n",
       "<table border=\"1\" class=\"dataframe\">\n",
       "  <thead>\n",
       "    <tr>\n",
       "      <th>Price</th>\n",
       "      <th colspan=\"6\" halign=\"left\">Adj Close</th>\n",
       "      <th colspan=\"4\" halign=\"left\">Close</th>\n",
       "      <th>...</th>\n",
       "      <th colspan=\"4\" halign=\"left\">Open</th>\n",
       "      <th colspan=\"6\" halign=\"left\">Volume</th>\n",
       "    </tr>\n",
       "    <tr>\n",
       "      <th>Ticker</th>\n",
       "      <th>AAPL</th>\n",
       "      <th>AMZN</th>\n",
       "      <th>GOOG</th>\n",
       "      <th>MSFT</th>\n",
       "      <th>SPY</th>\n",
       "      <th>TSLA</th>\n",
       "      <th>AAPL</th>\n",
       "      <th>AMZN</th>\n",
       "      <th>GOOG</th>\n",
       "      <th>MSFT</th>\n",
       "      <th>...</th>\n",
       "      <th>GOOG</th>\n",
       "      <th>MSFT</th>\n",
       "      <th>SPY</th>\n",
       "      <th>TSLA</th>\n",
       "      <th>AAPL</th>\n",
       "      <th>AMZN</th>\n",
       "      <th>GOOG</th>\n",
       "      <th>MSFT</th>\n",
       "      <th>SPY</th>\n",
       "      <th>TSLA</th>\n",
       "    </tr>\n",
       "    <tr>\n",
       "      <th>Date</th>\n",
       "      <th></th>\n",
       "      <th></th>\n",
       "      <th></th>\n",
       "      <th></th>\n",
       "      <th></th>\n",
       "      <th></th>\n",
       "      <th></th>\n",
       "      <th></th>\n",
       "      <th></th>\n",
       "      <th></th>\n",
       "      <th></th>\n",
       "      <th></th>\n",
       "      <th></th>\n",
       "      <th></th>\n",
       "      <th></th>\n",
       "      <th></th>\n",
       "      <th></th>\n",
       "      <th></th>\n",
       "      <th></th>\n",
       "      <th></th>\n",
       "      <th></th>\n",
       "    </tr>\n",
       "  </thead>\n",
       "  <tbody>\n",
       "    <tr>\n",
       "      <th>2017-01-03</th>\n",
       "      <td>26.989265</td>\n",
       "      <td>37.683498</td>\n",
       "      <td>39.306999</td>\n",
       "      <td>57.033264</td>\n",
       "      <td>199.819519</td>\n",
       "      <td>14.466000</td>\n",
       "      <td>29.037500</td>\n",
       "      <td>37.683498</td>\n",
       "      <td>39.306999</td>\n",
       "      <td>62.580002</td>\n",
       "      <td>...</td>\n",
       "      <td>38.940498</td>\n",
       "      <td>62.790001</td>\n",
       "      <td>225.039993</td>\n",
       "      <td>14.324000</td>\n",
       "      <td>115127600</td>\n",
       "      <td>70422000</td>\n",
       "      <td>33146000</td>\n",
       "      <td>20694100</td>\n",
       "      <td>91366500</td>\n",
       "      <td>88849500</td>\n",
       "    </tr>\n",
       "    <tr>\n",
       "      <th>2017-01-04</th>\n",
       "      <td>26.959057</td>\n",
       "      <td>37.859001</td>\n",
       "      <td>39.345001</td>\n",
       "      <td>56.778069</td>\n",
       "      <td>201.008331</td>\n",
       "      <td>15.132667</td>\n",
       "      <td>29.004999</td>\n",
       "      <td>37.859001</td>\n",
       "      <td>39.345001</td>\n",
       "      <td>62.299999</td>\n",
       "      <td>...</td>\n",
       "      <td>39.417999</td>\n",
       "      <td>62.480000</td>\n",
       "      <td>225.619995</td>\n",
       "      <td>14.316667</td>\n",
       "      <td>84472400</td>\n",
       "      <td>50210000</td>\n",
       "      <td>21460000</td>\n",
       "      <td>21340000</td>\n",
       "      <td>78744400</td>\n",
       "      <td>168202500</td>\n",
       "    </tr>\n",
       "    <tr>\n",
       "      <th>2017-01-05</th>\n",
       "      <td>27.096157</td>\n",
       "      <td>39.022499</td>\n",
       "      <td>39.701000</td>\n",
       "      <td>56.778069</td>\n",
       "      <td>200.848587</td>\n",
       "      <td>15.116667</td>\n",
       "      <td>29.152500</td>\n",
       "      <td>39.022499</td>\n",
       "      <td>39.701000</td>\n",
       "      <td>62.299999</td>\n",
       "      <td>...</td>\n",
       "      <td>39.304001</td>\n",
       "      <td>62.189999</td>\n",
       "      <td>226.270004</td>\n",
       "      <td>15.094667</td>\n",
       "      <td>88774400</td>\n",
       "      <td>116602000</td>\n",
       "      <td>26704000</td>\n",
       "      <td>24876000</td>\n",
       "      <td>78379000</td>\n",
       "      <td>88675500</td>\n",
       "    </tr>\n",
       "    <tr>\n",
       "      <th>2017-01-06</th>\n",
       "      <td>27.398230</td>\n",
       "      <td>39.799500</td>\n",
       "      <td>40.307499</td>\n",
       "      <td>57.270214</td>\n",
       "      <td>201.567200</td>\n",
       "      <td>15.267333</td>\n",
       "      <td>29.477501</td>\n",
       "      <td>39.799500</td>\n",
       "      <td>40.307499</td>\n",
       "      <td>62.840000</td>\n",
       "      <td>...</td>\n",
       "      <td>39.763000</td>\n",
       "      <td>62.299999</td>\n",
       "      <td>226.529999</td>\n",
       "      <td>15.128667</td>\n",
       "      <td>127007600</td>\n",
       "      <td>119724000</td>\n",
       "      <td>32804000</td>\n",
       "      <td>19922900</td>\n",
       "      <td>71559900</td>\n",
       "      <td>82918500</td>\n",
       "    </tr>\n",
       "    <tr>\n",
       "      <th>2017-01-09</th>\n",
       "      <td>27.649179</td>\n",
       "      <td>39.846001</td>\n",
       "      <td>40.332500</td>\n",
       "      <td>57.087940</td>\n",
       "      <td>200.901825</td>\n",
       "      <td>15.418667</td>\n",
       "      <td>29.747499</td>\n",
       "      <td>39.846001</td>\n",
       "      <td>40.332500</td>\n",
       "      <td>62.639999</td>\n",
       "      <td>...</td>\n",
       "      <td>40.320000</td>\n",
       "      <td>62.759998</td>\n",
       "      <td>226.910004</td>\n",
       "      <td>15.264667</td>\n",
       "      <td>134247600</td>\n",
       "      <td>68922000</td>\n",
       "      <td>25492000</td>\n",
       "      <td>20382700</td>\n",
       "      <td>46939700</td>\n",
       "      <td>59692500</td>\n",
       "    </tr>\n",
       "    <tr>\n",
       "      <th>...</th>\n",
       "      <td>...</td>\n",
       "      <td>...</td>\n",
       "      <td>...</td>\n",
       "      <td>...</td>\n",
       "      <td>...</td>\n",
       "      <td>...</td>\n",
       "      <td>...</td>\n",
       "      <td>...</td>\n",
       "      <td>...</td>\n",
       "      <td>...</td>\n",
       "      <td>...</td>\n",
       "      <td>...</td>\n",
       "      <td>...</td>\n",
       "      <td>...</td>\n",
       "      <td>...</td>\n",
       "      <td>...</td>\n",
       "      <td>...</td>\n",
       "      <td>...</td>\n",
       "      <td>...</td>\n",
       "      <td>...</td>\n",
       "      <td>...</td>\n",
       "    </tr>\n",
       "    <tr>\n",
       "      <th>2020-04-23</th>\n",
       "      <td>67.059166</td>\n",
       "      <td>119.972504</td>\n",
       "      <td>63.815498</td>\n",
       "      <td>165.332245</td>\n",
       "      <td>263.601837</td>\n",
       "      <td>47.042000</td>\n",
       "      <td>68.757500</td>\n",
       "      <td>119.972504</td>\n",
       "      <td>63.815498</td>\n",
       "      <td>171.419998</td>\n",
       "      <td>...</td>\n",
       "      <td>63.577499</td>\n",
       "      <td>174.110001</td>\n",
       "      <td>280.489990</td>\n",
       "      <td>48.506668</td>\n",
       "      <td>124814400</td>\n",
       "      <td>101332000</td>\n",
       "      <td>31324000</td>\n",
       "      <td>32790800</td>\n",
       "      <td>104709700</td>\n",
       "      <td>198550500</td>\n",
       "    </tr>\n",
       "    <tr>\n",
       "      <th>2020-04-24</th>\n",
       "      <td>68.995140</td>\n",
       "      <td>120.511002</td>\n",
       "      <td>63.965500</td>\n",
       "      <td>168.351120</td>\n",
       "      <td>267.276093</td>\n",
       "      <td>48.343334</td>\n",
       "      <td>70.742500</td>\n",
       "      <td>120.511002</td>\n",
       "      <td>63.965500</td>\n",
       "      <td>174.550003</td>\n",
       "      <td>...</td>\n",
       "      <td>63.058498</td>\n",
       "      <td>172.059998</td>\n",
       "      <td>280.730011</td>\n",
       "      <td>47.387333</td>\n",
       "      <td>126161200</td>\n",
       "      <td>76498000</td>\n",
       "      <td>32792000</td>\n",
       "      <td>34277600</td>\n",
       "      <td>85063200</td>\n",
       "      <td>198180000</td>\n",
       "    </tr>\n",
       "    <tr>\n",
       "      <th>2020-04-27</th>\n",
       "      <td>69.043930</td>\n",
       "      <td>118.800003</td>\n",
       "      <td>63.793999</td>\n",
       "      <td>167.868881</td>\n",
       "      <td>271.129791</td>\n",
       "      <td>53.250000</td>\n",
       "      <td>70.792503</td>\n",
       "      <td>118.800003</td>\n",
       "      <td>63.793999</td>\n",
       "      <td>174.050003</td>\n",
       "      <td>...</td>\n",
       "      <td>64.800003</td>\n",
       "      <td>176.589996</td>\n",
       "      <td>285.119995</td>\n",
       "      <td>49.174000</td>\n",
       "      <td>117087600</td>\n",
       "      <td>112912000</td>\n",
       "      <td>32012000</td>\n",
       "      <td>33194400</td>\n",
       "      <td>77896600</td>\n",
       "      <td>310221000</td>\n",
       "    </tr>\n",
       "    <tr>\n",
       "      <th>2020-04-28</th>\n",
       "      <td>67.924744</td>\n",
       "      <td>115.704002</td>\n",
       "      <td>61.683498</td>\n",
       "      <td>163.779449</td>\n",
       "      <td>269.883026</td>\n",
       "      <td>51.274666</td>\n",
       "      <td>69.644997</td>\n",
       "      <td>115.704002</td>\n",
       "      <td>61.683498</td>\n",
       "      <td>169.809998</td>\n",
       "      <td>...</td>\n",
       "      <td>64.396500</td>\n",
       "      <td>175.589996</td>\n",
       "      <td>291.019989</td>\n",
       "      <td>53.042667</td>\n",
       "      <td>112004800</td>\n",
       "      <td>105388000</td>\n",
       "      <td>59026000</td>\n",
       "      <td>34392700</td>\n",
       "      <td>105270000</td>\n",
       "      <td>228330000</td>\n",
       "    </tr>\n",
       "    <tr>\n",
       "      <th>2020-04-29</th>\n",
       "      <td>70.155754</td>\n",
       "      <td>118.635498</td>\n",
       "      <td>67.073997</td>\n",
       "      <td>171.128830</td>\n",
       "      <td>276.948212</td>\n",
       "      <td>53.367332</td>\n",
       "      <td>71.932503</td>\n",
       "      <td>118.635498</td>\n",
       "      <td>67.073997</td>\n",
       "      <td>177.429993</td>\n",
       "      <td>...</td>\n",
       "      <td>67.072998</td>\n",
       "      <td>173.220001</td>\n",
       "      <td>291.529999</td>\n",
       "      <td>52.678001</td>\n",
       "      <td>137280800</td>\n",
       "      <td>91832000</td>\n",
       "      <td>75872000</td>\n",
       "      <td>51286600</td>\n",
       "      <td>118745600</td>\n",
       "      <td>243240000</td>\n",
       "    </tr>\n",
       "  </tbody>\n",
       "</table>\n",
       "<p>836 rows × 36 columns</p>\n",
       "</div>"
      ],
      "text/plain": [
       "Price       Adj Close                                                 \\\n",
       "Ticker           AAPL        AMZN       GOOG        MSFT         SPY   \n",
       "Date                                                                   \n",
       "2017-01-03  26.989265   37.683498  39.306999   57.033264  199.819519   \n",
       "2017-01-04  26.959057   37.859001  39.345001   56.778069  201.008331   \n",
       "2017-01-05  27.096157   39.022499  39.701000   56.778069  200.848587   \n",
       "2017-01-06  27.398230   39.799500  40.307499   57.270214  201.567200   \n",
       "2017-01-09  27.649179   39.846001  40.332500   57.087940  200.901825   \n",
       "...               ...         ...        ...         ...         ...   \n",
       "2020-04-23  67.059166  119.972504  63.815498  165.332245  263.601837   \n",
       "2020-04-24  68.995140  120.511002  63.965500  168.351120  267.276093   \n",
       "2020-04-27  69.043930  118.800003  63.793999  167.868881  271.129791   \n",
       "2020-04-28  67.924744  115.704002  61.683498  163.779449  269.883026   \n",
       "2020-04-29  70.155754  118.635498  67.073997  171.128830  276.948212   \n",
       "\n",
       "Price                      Close                                     ...  \\\n",
       "Ticker           TSLA       AAPL        AMZN       GOOG        MSFT  ...   \n",
       "Date                                                                 ...   \n",
       "2017-01-03  14.466000  29.037500   37.683498  39.306999   62.580002  ...   \n",
       "2017-01-04  15.132667  29.004999   37.859001  39.345001   62.299999  ...   \n",
       "2017-01-05  15.116667  29.152500   39.022499  39.701000   62.299999  ...   \n",
       "2017-01-06  15.267333  29.477501   39.799500  40.307499   62.840000  ...   \n",
       "2017-01-09  15.418667  29.747499   39.846001  40.332500   62.639999  ...   \n",
       "...               ...        ...         ...        ...         ...  ...   \n",
       "2020-04-23  47.042000  68.757500  119.972504  63.815498  171.419998  ...   \n",
       "2020-04-24  48.343334  70.742500  120.511002  63.965500  174.550003  ...   \n",
       "2020-04-27  53.250000  70.792503  118.800003  63.793999  174.050003  ...   \n",
       "2020-04-28  51.274666  69.644997  115.704002  61.683498  169.809998  ...   \n",
       "2020-04-29  53.367332  71.932503  118.635498  67.073997  177.429993  ...   \n",
       "\n",
       "Price            Open                                        Volume  \\\n",
       "Ticker           GOOG        MSFT         SPY       TSLA       AAPL   \n",
       "Date                                                                  \n",
       "2017-01-03  38.940498   62.790001  225.039993  14.324000  115127600   \n",
       "2017-01-04  39.417999   62.480000  225.619995  14.316667   84472400   \n",
       "2017-01-05  39.304001   62.189999  226.270004  15.094667   88774400   \n",
       "2017-01-06  39.763000   62.299999  226.529999  15.128667  127007600   \n",
       "2017-01-09  40.320000   62.759998  226.910004  15.264667  134247600   \n",
       "...               ...         ...         ...        ...        ...   \n",
       "2020-04-23  63.577499  174.110001  280.489990  48.506668  124814400   \n",
       "2020-04-24  63.058498  172.059998  280.730011  47.387333  126161200   \n",
       "2020-04-27  64.800003  176.589996  285.119995  49.174000  117087600   \n",
       "2020-04-28  64.396500  175.589996  291.019989  53.042667  112004800   \n",
       "2020-04-29  67.072998  173.220001  291.529999  52.678001  137280800   \n",
       "\n",
       "Price                                                            \n",
       "Ticker           AMZN      GOOG      MSFT        SPY       TSLA  \n",
       "Date                                                             \n",
       "2017-01-03   70422000  33146000  20694100   91366500   88849500  \n",
       "2017-01-04   50210000  21460000  21340000   78744400  168202500  \n",
       "2017-01-05  116602000  26704000  24876000   78379000   88675500  \n",
       "2017-01-06  119724000  32804000  19922900   71559900   82918500  \n",
       "2017-01-09   68922000  25492000  20382700   46939700   59692500  \n",
       "...               ...       ...       ...        ...        ...  \n",
       "2020-04-23  101332000  31324000  32790800  104709700  198550500  \n",
       "2020-04-24   76498000  32792000  34277600   85063200  198180000  \n",
       "2020-04-27  112912000  32012000  33194400   77896600  310221000  \n",
       "2020-04-28  105388000  59026000  34392700  105270000  228330000  \n",
       "2020-04-29   91832000  75872000  51286600  118745600  243240000  \n",
       "\n",
       "[836 rows x 36 columns]"
      ]
     },
     "execution_count": 29,
     "metadata": {},
     "output_type": "execute_result"
    }
   ],
   "source": [
    "data"
   ]
  },
  {
   "cell_type": "code",
   "execution_count": 30,
   "metadata": {
    "colab": {
     "base_uri": "https://localhost:8080/",
     "height": 455
    },
    "id": "BQhyA2wXjOrz",
    "outputId": "bba5a23b-6fb3-43b5-9694-6e6d6a8ab6d9"
   },
   "outputs": [
    {
     "data": {
      "text/html": [
       "<div>\n",
       "<style scoped>\n",
       "    .dataframe tbody tr th:only-of-type {\n",
       "        vertical-align: middle;\n",
       "    }\n",
       "\n",
       "    .dataframe tbody tr th {\n",
       "        vertical-align: top;\n",
       "    }\n",
       "\n",
       "    .dataframe thead th {\n",
       "        text-align: right;\n",
       "    }\n",
       "</style>\n",
       "<table border=\"1\" class=\"dataframe\">\n",
       "  <thead>\n",
       "    <tr style=\"text-align: right;\">\n",
       "      <th>Ticker</th>\n",
       "      <th>AAPL</th>\n",
       "      <th>AMZN</th>\n",
       "      <th>GOOG</th>\n",
       "      <th>MSFT</th>\n",
       "      <th>SPY</th>\n",
       "      <th>TSLA</th>\n",
       "    </tr>\n",
       "    <tr>\n",
       "      <th>Date</th>\n",
       "      <th></th>\n",
       "      <th></th>\n",
       "      <th></th>\n",
       "      <th></th>\n",
       "      <th></th>\n",
       "      <th></th>\n",
       "    </tr>\n",
       "  </thead>\n",
       "  <tbody>\n",
       "    <tr>\n",
       "      <th>2017-01-03</th>\n",
       "      <td>26.989265</td>\n",
       "      <td>37.683498</td>\n",
       "      <td>39.306999</td>\n",
       "      <td>57.033264</td>\n",
       "      <td>199.819519</td>\n",
       "      <td>14.466000</td>\n",
       "    </tr>\n",
       "    <tr>\n",
       "      <th>2017-01-04</th>\n",
       "      <td>26.959057</td>\n",
       "      <td>37.859001</td>\n",
       "      <td>39.345001</td>\n",
       "      <td>56.778069</td>\n",
       "      <td>201.008331</td>\n",
       "      <td>15.132667</td>\n",
       "    </tr>\n",
       "    <tr>\n",
       "      <th>2017-01-05</th>\n",
       "      <td>27.096157</td>\n",
       "      <td>39.022499</td>\n",
       "      <td>39.701000</td>\n",
       "      <td>56.778069</td>\n",
       "      <td>200.848587</td>\n",
       "      <td>15.116667</td>\n",
       "    </tr>\n",
       "    <tr>\n",
       "      <th>2017-01-06</th>\n",
       "      <td>27.398230</td>\n",
       "      <td>39.799500</td>\n",
       "      <td>40.307499</td>\n",
       "      <td>57.270214</td>\n",
       "      <td>201.567200</td>\n",
       "      <td>15.267333</td>\n",
       "    </tr>\n",
       "    <tr>\n",
       "      <th>2017-01-09</th>\n",
       "      <td>27.649179</td>\n",
       "      <td>39.846001</td>\n",
       "      <td>40.332500</td>\n",
       "      <td>57.087940</td>\n",
       "      <td>200.901825</td>\n",
       "      <td>15.418667</td>\n",
       "    </tr>\n",
       "    <tr>\n",
       "      <th>...</th>\n",
       "      <td>...</td>\n",
       "      <td>...</td>\n",
       "      <td>...</td>\n",
       "      <td>...</td>\n",
       "      <td>...</td>\n",
       "      <td>...</td>\n",
       "    </tr>\n",
       "    <tr>\n",
       "      <th>2020-04-23</th>\n",
       "      <td>67.059166</td>\n",
       "      <td>119.972504</td>\n",
       "      <td>63.815498</td>\n",
       "      <td>165.332245</td>\n",
       "      <td>263.601837</td>\n",
       "      <td>47.042000</td>\n",
       "    </tr>\n",
       "    <tr>\n",
       "      <th>2020-04-24</th>\n",
       "      <td>68.995140</td>\n",
       "      <td>120.511002</td>\n",
       "      <td>63.965500</td>\n",
       "      <td>168.351120</td>\n",
       "      <td>267.276093</td>\n",
       "      <td>48.343334</td>\n",
       "    </tr>\n",
       "    <tr>\n",
       "      <th>2020-04-27</th>\n",
       "      <td>69.043930</td>\n",
       "      <td>118.800003</td>\n",
       "      <td>63.793999</td>\n",
       "      <td>167.868881</td>\n",
       "      <td>271.129791</td>\n",
       "      <td>53.250000</td>\n",
       "    </tr>\n",
       "    <tr>\n",
       "      <th>2020-04-28</th>\n",
       "      <td>67.924744</td>\n",
       "      <td>115.704002</td>\n",
       "      <td>61.683498</td>\n",
       "      <td>163.779449</td>\n",
       "      <td>269.883026</td>\n",
       "      <td>51.274666</td>\n",
       "    </tr>\n",
       "    <tr>\n",
       "      <th>2020-04-29</th>\n",
       "      <td>70.155754</td>\n",
       "      <td>118.635498</td>\n",
       "      <td>67.073997</td>\n",
       "      <td>171.128830</td>\n",
       "      <td>276.948212</td>\n",
       "      <td>53.367332</td>\n",
       "    </tr>\n",
       "  </tbody>\n",
       "</table>\n",
       "<p>836 rows × 6 columns</p>\n",
       "</div>"
      ],
      "text/plain": [
       "Ticker           AAPL        AMZN       GOOG        MSFT         SPY  \\\n",
       "Date                                                                   \n",
       "2017-01-03  26.989265   37.683498  39.306999   57.033264  199.819519   \n",
       "2017-01-04  26.959057   37.859001  39.345001   56.778069  201.008331   \n",
       "2017-01-05  27.096157   39.022499  39.701000   56.778069  200.848587   \n",
       "2017-01-06  27.398230   39.799500  40.307499   57.270214  201.567200   \n",
       "2017-01-09  27.649179   39.846001  40.332500   57.087940  200.901825   \n",
       "...               ...         ...        ...         ...         ...   \n",
       "2020-04-23  67.059166  119.972504  63.815498  165.332245  263.601837   \n",
       "2020-04-24  68.995140  120.511002  63.965500  168.351120  267.276093   \n",
       "2020-04-27  69.043930  118.800003  63.793999  167.868881  271.129791   \n",
       "2020-04-28  67.924744  115.704002  61.683498  163.779449  269.883026   \n",
       "2020-04-29  70.155754  118.635498  67.073997  171.128830  276.948212   \n",
       "\n",
       "Ticker           TSLA  \n",
       "Date                   \n",
       "2017-01-03  14.466000  \n",
       "2017-01-04  15.132667  \n",
       "2017-01-05  15.116667  \n",
       "2017-01-06  15.267333  \n",
       "2017-01-09  15.418667  \n",
       "...               ...  \n",
       "2020-04-23  47.042000  \n",
       "2020-04-24  48.343334  \n",
       "2020-04-27  53.250000  \n",
       "2020-04-28  51.274666  \n",
       "2020-04-29  53.367332  \n",
       "\n",
       "[836 rows x 6 columns]"
      ]
     },
     "execution_count": 30,
     "metadata": {},
     "output_type": "execute_result"
    }
   ],
   "source": [
    "dcopy = data.copy() # Create a copy to work with\n",
    "data_AdjP = dcopy['Adj Close'] # Just pick adjusted close date for each ticker\n",
    "data_AdjP =data_AdjP.dropna() # Remove NaN observations (Not necessary)\n",
    "data_AdjP # Show the results for your review"
   ]
  },
  {
   "cell_type": "code",
   "execution_count": 31,
   "metadata": {
    "colab": {
     "base_uri": "https://localhost:8080/",
     "height": 455
    },
    "id": "MlCMyOEUhkot",
    "outputId": "d32b3a3b-8c7c-4ead-ae70-d3bd85cdc8e7"
   },
   "outputs": [
    {
     "data": {
      "text/html": [
       "<div>\n",
       "<style scoped>\n",
       "    .dataframe tbody tr th:only-of-type {\n",
       "        vertical-align: middle;\n",
       "    }\n",
       "\n",
       "    .dataframe tbody tr th {\n",
       "        vertical-align: top;\n",
       "    }\n",
       "\n",
       "    .dataframe thead th {\n",
       "        text-align: right;\n",
       "    }\n",
       "</style>\n",
       "<table border=\"1\" class=\"dataframe\">\n",
       "  <thead>\n",
       "    <tr style=\"text-align: right;\">\n",
       "      <th></th>\n",
       "      <th>SPY</th>\n",
       "      <th>Volume</th>\n",
       "      <th>Low</th>\n",
       "      <th>High</th>\n",
       "    </tr>\n",
       "    <tr>\n",
       "      <th>Date</th>\n",
       "      <th></th>\n",
       "      <th></th>\n",
       "      <th></th>\n",
       "      <th></th>\n",
       "    </tr>\n",
       "  </thead>\n",
       "  <tbody>\n",
       "    <tr>\n",
       "      <th>2017-01-03</th>\n",
       "      <td>199.819519</td>\n",
       "      <td>91366500</td>\n",
       "      <td>223.880005</td>\n",
       "      <td>225.830002</td>\n",
       "    </tr>\n",
       "    <tr>\n",
       "      <th>2017-01-04</th>\n",
       "      <td>201.008331</td>\n",
       "      <td>78744400</td>\n",
       "      <td>225.610001</td>\n",
       "      <td>226.750000</td>\n",
       "    </tr>\n",
       "    <tr>\n",
       "      <th>2017-01-05</th>\n",
       "      <td>200.848587</td>\n",
       "      <td>78379000</td>\n",
       "      <td>225.479996</td>\n",
       "      <td>226.580002</td>\n",
       "    </tr>\n",
       "    <tr>\n",
       "      <th>2017-01-06</th>\n",
       "      <td>201.567200</td>\n",
       "      <td>71559900</td>\n",
       "      <td>225.899994</td>\n",
       "      <td>227.750000</td>\n",
       "    </tr>\n",
       "    <tr>\n",
       "      <th>2017-01-09</th>\n",
       "      <td>200.901825</td>\n",
       "      <td>46939700</td>\n",
       "      <td>226.419998</td>\n",
       "      <td>227.070007</td>\n",
       "    </tr>\n",
       "    <tr>\n",
       "      <th>...</th>\n",
       "      <td>...</td>\n",
       "      <td>...</td>\n",
       "      <td>...</td>\n",
       "      <td>...</td>\n",
       "    </tr>\n",
       "    <tr>\n",
       "      <th>2020-04-23</th>\n",
       "      <td>263.601837</td>\n",
       "      <td>104709700</td>\n",
       "      <td>278.750000</td>\n",
       "      <td>283.940002</td>\n",
       "    </tr>\n",
       "    <tr>\n",
       "      <th>2020-04-24</th>\n",
       "      <td>267.276093</td>\n",
       "      <td>85063200</td>\n",
       "      <td>278.500000</td>\n",
       "      <td>283.700012</td>\n",
       "    </tr>\n",
       "    <tr>\n",
       "      <th>2020-04-27</th>\n",
       "      <td>271.129791</td>\n",
       "      <td>77896600</td>\n",
       "      <td>284.619995</td>\n",
       "      <td>288.269989</td>\n",
       "    </tr>\n",
       "    <tr>\n",
       "      <th>2020-04-28</th>\n",
       "      <td>269.883026</td>\n",
       "      <td>105270000</td>\n",
       "      <td>285.399994</td>\n",
       "      <td>291.399994</td>\n",
       "    </tr>\n",
       "    <tr>\n",
       "      <th>2020-04-29</th>\n",
       "      <td>276.948212</td>\n",
       "      <td>118745600</td>\n",
       "      <td>290.410004</td>\n",
       "      <td>294.880005</td>\n",
       "    </tr>\n",
       "  </tbody>\n",
       "</table>\n",
       "<p>836 rows × 4 columns</p>\n",
       "</div>"
      ],
      "text/plain": [
       "                   SPY     Volume         Low        High\n",
       "Date                                                     \n",
       "2017-01-03  199.819519   91366500  223.880005  225.830002\n",
       "2017-01-04  201.008331   78744400  225.610001  226.750000\n",
       "2017-01-05  200.848587   78379000  225.479996  226.580002\n",
       "2017-01-06  201.567200   71559900  225.899994  227.750000\n",
       "2017-01-09  200.901825   46939700  226.419998  227.070007\n",
       "...                ...        ...         ...         ...\n",
       "2020-04-23  263.601837  104709700  278.750000  283.940002\n",
       "2020-04-24  267.276093   85063200  278.500000  283.700012\n",
       "2020-04-27  271.129791   77896600  284.619995  288.269989\n",
       "2020-04-28  269.883026  105270000  285.399994  291.399994\n",
       "2020-04-29  276.948212  118745600  290.410004  294.880005\n",
       "\n",
       "[836 rows x 4 columns]"
      ]
     },
     "execution_count": 31,
     "metadata": {},
     "output_type": "execute_result"
    }
   ],
   "source": [
    "# What if you want to focus on one stock or portfolio\n",
    "# Create DataFrame for SPY (Adj price, High, Low, Volume)\n",
    "DSPY = pd.DataFrame(dcopy['Adj Close'].SPY)\n",
    "DSPY['Volume']=dcopy['Volume'].SPY\n",
    "DSPY['Low']=dcopy['Low'].SPY\n",
    "DSPY['High']=dcopy['High'].SPY\n",
    "DSPY"
   ]
  },
  {
   "cell_type": "code",
   "execution_count": 32,
   "metadata": {
    "colab": {
     "base_uri": "https://localhost:8080/"
    },
    "id": "jL9HPFl1RyVO",
    "outputId": "a8fc3b0f-9b69-4c4f-a96e-fb341094ab5f"
   },
   "outputs": [],
   "source": [
    "# Let's plot some figures\n",
    "import matplotlib.pyplot as plt\n",
    "#for style\n",
    "plt.style.use('seaborn')\n",
    "%matplotlib inline"
   ]
  },
  {
   "cell_type": "code",
   "execution_count": 33,
   "metadata": {
    "colab": {
     "base_uri": "https://localhost:8080/",
     "height": 484
    },
    "id": "h667Ny_XR3Ns",
    "outputId": "b8a375a7-844f-4f9f-de5a-fa8e02ced12f"
   },
   "outputs": [
    {
     "data": {
      "image/png": "[encoded data removed]",
      "text/plain": [
       "<Figure size 432x288 with 1 Axes>"
      ]
     },
     "metadata": {
      "needs_background": "light"
     },
     "output_type": "display_data"
    }
   ],
   "source": [
    "# Warm up\n",
    "x = np.linspace(-10,10,100)\n",
    "y = x**2\n",
    "plt.plot(x,y)\n",
    "plt.show() # This is not necessary in jupyter notebook or google colab but for a typical python program, you need this to show."
   ]
  },
  {
   "cell_type": "code",
   "execution_count": 34,
   "metadata": {
    "colab": {
     "base_uri": "https://localhost:8080/",
     "height": 501
    },
    "id": "Q76I5lFZSXBq",
    "outputId": "9b4990a0-440b-4280-f98d-a52b21234b6a"
   },
   "outputs": [
    {
     "data": {
      "text/plain": [
       "[<matplotlib.lines.Line2D at 0x1c6284fc610>]"
      ]
     },
     "execution_count": 34,
     "metadata": {},
     "output_type": "execute_result"
    },
    {
     "data": {
      "image/png": "[encoded data removed]",
      "text/plain": [
       "<Figure size 432x288 with 1 Axes>"
      ]
     },
     "metadata": {
      "needs_background": "light"
     },
     "output_type": "display_data"
    }
   ],
   "source": [
    "plt.plot(x,y,'r.') # Many options exist."
   ]
  },
  {
   "cell_type": "code",
   "execution_count": 35,
   "metadata": {
    "colab": {
     "base_uri": "https://localhost:8080/",
     "height": 484
    },
    "id": "mRJCAvuTSpDX",
    "outputId": "ec32504d-edb0-499f-94d7-c6dfc64a0fd2"
   },
   "outputs": [
    {
     "data": {
      "image/png": "[encoded data removed]",
      "text/plain": [
       "<Figure size 432x288 with 1 Axes>"
      ]
     },
     "metadata": {
      "needs_background": "light"
     },
     "output_type": "display_data"
    }
   ],
   "source": [
    "# If you use multiple plt.plot commands, plots will be integrated.\n",
    "plt.plot(x,np.sin(x))\n",
    "plt.plot(x,np.cos(x), 'r-o')\n",
    "plt.plot(x,-np.sin(x), 'g--')\n",
    "plt.show()"
   ]
  },
  {
   "cell_type": "code",
   "execution_count": 36,
   "metadata": {
    "colab": {
     "base_uri": "https://localhost:8080/",
     "height": 508
    },
    "id": "Hp_PN4S3TpD5",
    "outputId": "8edff1d1-b5e4-4176-b9ee-3e6c48414478"
   },
   "outputs": [
    {
     "data": {
      "image/png": "[encoded data removed]",
      "text/plain": [
       "<Figure size 432x288 with 3 Axes>"
      ]
     },
     "metadata": {
      "needs_background": "light"
     },
     "output_type": "display_data"
    }
   ],
   "source": [
    "plt.subplot(3,1,1)\n",
    "plt.plot(x,np.sin(x))\n",
    "plt.title('$sin(x)$')\n",
    "\n",
    "plt.subplot(3,1,2)\n",
    "plt.plot(x,np.cos(x), 'r-')\n",
    "plt.title('$cos(x)$')\n",
    "\n",
    "plt.subplot(3,1,3)\n",
    "plt.plot(x,-np.sin(x), 'g--')\n",
    "plt.title('$-sin(x)$')\n",
    "plt.show()"
   ]
  },
  {
   "cell_type": "code",
   "execution_count": 37,
   "metadata": {
    "colab": {
     "base_uri": "https://localhost:8080/",
     "height": 484
    },
    "id": "fp9ebK-kWRrQ",
    "outputId": "c8a39c34-f35d-42c7-b1bc-419b43eb47da"
   },
   "outputs": [
    {
     "data": {
      "image/png": "[encoded data removed]",
      "text/plain": [
       "<Figure size 432x288 with 3 Axes>"
      ]
     },
     "metadata": {
      "needs_background": "light"
     },
     "output_type": "display_data"
    }
   ],
   "source": [
    "#Alternatively, you can use plt.subplots() function\n",
    "\n",
    "fig, (ax1,ax2,ax3) = plt.subplots(3,1)\n",
    "ax1.plot(x,np.sin(x))\n",
    "ax2.plot(x,np.cos(x), 'r-')\n",
    "ax3.plot(x,-np.sin(x), 'g--')\n",
    "plt.show()"
   ]
  },
  {
   "cell_type": "code",
   "execution_count": 38,
   "metadata": {
    "colab": {
     "base_uri": "https://localhost:8080/",
     "height": 851
    },
    "id": "4BcXKEtam_vb",
    "outputId": "357eba2d-9a4b-423f-d5fb-e881194add48"
   },
   "outputs": [
    {
     "data": {
      "image/png": "[encoded data removed]",
      "text/plain": [
       "<Figure size 1080x720 with 2 Axes>"
      ]
     },
     "metadata": {
      "needs_background": "light"
     },
     "output_type": "display_data"
    }
   ],
   "source": [
    "# Let's draw SPY prices and trading volumes over time using subplot\n",
    "# subplot2grid() function gives more flexibility in producing axes and locatins of the grid of multiple figures\n",
    "\n",
    "top = plt.subplot2grid((5,5), (0,0), rowspan=3,colspan=5)\n",
    "top.plot(DSPY.index,DSPY.SPY,label='Adjusted Close SPY Price')\n",
    "plt.title('SPY Prices from 2010 to 2021')\n",
    "plt.legend(loc=2)\n",
    "\n",
    "bottom = plt.subplot2grid((5,5),(3,0), rowspan=2,colspan=5)\n",
    "bottom.bar(DSPY.index,DSPY.Volume)\n",
    "plt.title('SPY Trading Volume')\n",
    "\n",
    "plt.gcf().set_size_inches(15,10)\n",
    "plt.subplots_adjust(hspace=0.7)"
   ]
  },
  {
   "cell_type": "code",
   "execution_count": 39,
   "metadata": {
    "colab": {
     "base_uri": "https://localhost:8080/",
     "height": 484
    },
    "id": "-PylcYYX3Y2s",
    "outputId": "f9a27c9c-a2d6-4155-a698-d51b2ff82c7a"
   },
   "outputs": [
    {
     "data": {
      "image/png": "[encoded data removed]",
      "text/plain": [
       "<Figure size 432x288 with 1 Axes>"
      ]
     },
     "metadata": {
      "needs_background": "light"
     },
     "output_type": "display_data"
    }
   ],
   "source": [
    "plt.plot(DSPY['SPY'].pct_change(periods=12))\n",
    "plt.show() # A quick return computation using pct_change (annual returns)"
   ]
  },
  {
   "cell_type": "code",
   "execution_count": 40,
   "metadata": {
    "colab": {
     "base_uri": "https://localhost:8080/",
     "height": 484
    },
    "id": "JFKuOcGKZNku",
    "outputId": "4ed10b1d-41b6-45bb-9a4a-9d153e284192"
   },
   "outputs": [
    {
     "data": {
      "image/png": "[encoded data removed]",
      "text/plain": [
       "<Figure size 432x288 with 1 Axes>"
      ]
     },
     "metadata": {
      "needs_background": "light"
     },
     "output_type": "display_data"
    }
   ],
   "source": [
    "# For a quarterly-return figure, set periods = 3 for monthly data.\n",
    "plt.plot(DSPY['SPY'].pct_change(periods=3))\n",
    "plt.show()"
   ]
  },
  {
   "cell_type": "code",
   "execution_count": 41,
   "metadata": {
    "colab": {
     "base_uri": "https://localhost:8080/",
     "height": 488
    },
    "id": "9itdpWGlYskz",
    "outputId": "4e5480ce-bf7a-4b69-8689-ec4fa872e68f"
   },
   "outputs": [
    {
     "data": {
      "image/png": "[encoded data removed]",
      "text/plain": [
       "<Figure size 432x288 with 1 Axes>"
      ]
     },
     "metadata": {
      "needs_background": "light"
     },
     "output_type": "display_data"
    }
   ],
   "source": [
    "# For a monthly-return figure, set periods = 1 for monthly data.\n",
    "plt.plot(DSPY['SPY'].pct_change(periods=1))\n",
    "plt.show()"
   ]
  },
  {
   "cell_type": "code",
   "execution_count": 42,
   "metadata": {
    "colab": {
     "base_uri": "https://localhost:8080/",
     "height": 478
    },
    "id": "PR_qWUlFav6a",
    "outputId": "106c5b0a-9285-4a1d-e41f-c412e33524ab"
   },
   "outputs": [
    {
     "data": {
      "image/png": "[encoded data removed]",
      "text/plain": [
       "<Figure size 432x288 with 1 Axes>"
      ]
     },
     "metadata": {
      "needs_background": "light"
     },
     "output_type": "display_data"
    }
   ],
   "source": [
    "# Daily high minus low to consider short-term volatility\n",
    "DSPY['HmL']=DSPY['High']-DSPY['Low']\n",
    "DSPY['HmL'].plot()\n",
    "plt.show()"
   ]
  },
  {
   "cell_type": "code",
   "execution_count": 43,
   "metadata": {
    "colab": {
     "base_uri": "https://localhost:8080/",
     "height": 493
    },
    "id": "3f7kgLqyc7Vy",
    "outputId": "06a1af29-0021-49dc-e5f2-257ab4ddb3f2"
   },
   "outputs": [
    {
     "data": {
      "image/png": "[encoded data removed]",
      "text/plain": [
       "<Figure size 432x288 with 1 Axes>"
      ]
     },
     "metadata": {
      "needs_background": "light"
     },
     "output_type": "display_data"
    }
   ],
   "source": [
    "DSPY['Volume'].plot()\n",
    "plt.show()"
   ]
  },
  {
   "cell_type": "code",
   "execution_count": 44,
   "metadata": {
    "colab": {
     "base_uri": "https://localhost:8080/",
     "height": 478
    },
    "id": "njngjUJpdCnp",
    "outputId": "1dc8aa7a-b818-4763-ab72-5b6f0c6e0b5f"
   },
   "outputs": [
    {
     "data": {
      "image/png": "[encoded data removed]",
      "text/plain": [
       "<Figure size 432x288 with 1 Axes>"
      ]
     },
     "metadata": {
      "needs_background": "light"
     },
     "output_type": "display_data"
    }
   ],
   "source": [
    "# Measuring and Plotting Volatility\n",
    "# Use pct_change() rolling() and std()\n",
    "# Pandas allows sequential applications of the above functions defined by . (eg., X().Y().Z())\n",
    "SPY_Vol = DSPY['SPY'].pct_change(periods=1).rolling(window=12, min_periods=12).std()\n",
    "SPY_Vol.plot()\n",
    "plt.show()"
   ]
  },
  {
   "cell_type": "code",
   "execution_count": 45,
   "metadata": {
    "colab": {
     "base_uri": "https://localhost:8080/",
     "height": 536
    },
    "id": "wkJdcnFSkGuB",
    "outputId": "3cad37cc-1761-479a-c053-f5e9959cdf02"
   },
   "outputs": [
    {
     "name": "stderr",
     "output_type": "stream",
     "text": [
      "[*********************100%%**********************]  1 of 1 completed\n"
     ]
    },
    {
     "data": {
      "image/png": "[encoded data removed]",
      "text/plain": [
       "<Figure size 432x288 with 1 Axes>"
      ]
     },
     "metadata": {
      "needs_background": "light"
     },
     "output_type": "display_data"
    }
   ],
   "source": [
    "# For the return volatility, using high-frequency is desired. (^GSPC)\n",
    "# It is called, 'realized volatility'\n",
    "# To this end, I download the SPY data again with daily frequency.\n",
    "SPYd = web.get_data_yahoo('SPY', start=\"2017-01-01\", end=\"2020-04-30\")\n",
    "\n",
    "SPYd_fill = SPYd.asfreq('D',method='ffill') # This line is to fill in daily data so that missing observations due to holidays etc create issues.\n",
    "SPYd_fill_ret = SPYd_fill['Adj Close'].pct_change(periods=1)\n",
    "SPYd_Vol = SPYd_fill_ret.rolling(window=30, min_periods=30).std()\n",
    "SPYd_Vol.plot()\n",
    "plt.show()"
   ]
  },
  {
   "cell_type": "code",
   "execution_count": 46,
   "metadata": {
    "colab": {
     "base_uri": "https://localhost:8080/",
     "height": 665
    },
    "id": "YSD7RmnYmcE0",
    "outputId": "dc91331a-c7e9-4446-87d8-0c97de360103"
   },
   "outputs": [
    {
     "data": {
      "text/plain": [
       "<AxesSubplot:xlabel='Date', ylabel='Daily High minus Low Prices'>"
      ]
     },
     "execution_count": 46,
     "metadata": {},
     "output_type": "execute_result"
    },
    {
     "data": {
      "image/png": "[encoded data removed]",
      "text/plain": [
       "<Figure size 1080x576 with 2 Axes>"
      ]
     },
     "metadata": {
      "needs_background": "light"
     },
     "output_type": "display_data"
    }
   ],
   "source": [
    "# With daily data, we can also draw daily high and low difference with more accuracy.\n",
    "\n",
    "SPYHmL = SPYd['High']-SPYd['Low']\n",
    "\n",
    "plt.figure(figsize=(15,8))\n",
    "plt.subplot(121)\n",
    "SPYd_Vol.plot()\n",
    "plt.ylabel('Rolling-window Monthly Return Volatility')\n",
    "plt.subplot(122)\n",
    "plt.ylabel('Daily High minus Low Prices')\n",
    "SPYHmL.plot()"
   ]
  },
  {
   "cell_type": "code",
   "execution_count": 49,
   "metadata": {
    "colab": {
     "base_uri": "https://localhost:8080/",
     "height": 648
    },
    "id": "NAB8GPKdcwKh",
    "outputId": "b3449db8-9278-4ce4-916c-d458ff301f04"
   },
   "outputs": [
    {
     "data": {
      "image/png": "[encoded data removed]",
      "text/plain": [
       "<Figure size 1080x576 with 2 Axes>"
      ]
     },
     "metadata": {
      "needs_background": "light"
     },
     "output_type": "display_data"
    }
   ],
   "source": [
    "SPYHmL_norm = (SPYd['High']-SPYd['Low'])/SPYd['Open']\n",
    "plt.figure(figsize=(15,8))\n",
    "plt.subplot(121)\n",
    "SPYd_Vol.plot()\n",
    "plt.ylabel('Rolling-window Monthly Return Volatility')\n",
    "plt.subplot(122)\n",
    "plt.ylabel('Daily High minus Low Prices Normalized')\n",
    "SPYHmL_norm.plot()\n",
    "plt.show()\n"
   ]
  },
  {
   "cell_type": "markdown",
   "metadata": {
    "id": "m5dHWlPFd3js"
   },
   "source": [
    "# Alternative ways to compute returns"
   ]
  },
  {
   "cell_type": "code",
   "execution_count": 50,
   "metadata": {
    "colab": {
     "base_uri": "https://localhost:8080/",
     "height": 238
    },
    "id": "meqen877V05M",
    "outputId": "9e2dff91-0fad-4673-f933-9d3f57115018"
   },
   "outputs": [
    {
     "data": {
      "text/html": [
       "<div>\n",
       "<style scoped>\n",
       "    .dataframe tbody tr th:only-of-type {\n",
       "        vertical-align: middle;\n",
       "    }\n",
       "\n",
       "    .dataframe tbody tr th {\n",
       "        vertical-align: top;\n",
       "    }\n",
       "\n",
       "    .dataframe thead th {\n",
       "        text-align: right;\n",
       "    }\n",
       "</style>\n",
       "<table border=\"1\" class=\"dataframe\">\n",
       "  <thead>\n",
       "    <tr style=\"text-align: right;\">\n",
       "      <th>Ticker</th>\n",
       "      <th>AAPL</th>\n",
       "      <th>AMZN</th>\n",
       "      <th>GOOG</th>\n",
       "      <th>MSFT</th>\n",
       "      <th>SPY</th>\n",
       "      <th>TSLA</th>\n",
       "    </tr>\n",
       "    <tr>\n",
       "      <th>Date</th>\n",
       "      <th></th>\n",
       "      <th></th>\n",
       "      <th></th>\n",
       "      <th></th>\n",
       "      <th></th>\n",
       "      <th></th>\n",
       "    </tr>\n",
       "  </thead>\n",
       "  <tbody>\n",
       "    <tr>\n",
       "      <th>2017-01-03</th>\n",
       "      <td>26.989265</td>\n",
       "      <td>37.683498</td>\n",
       "      <td>39.306999</td>\n",
       "      <td>57.033264</td>\n",
       "      <td>199.819519</td>\n",
       "      <td>14.466000</td>\n",
       "    </tr>\n",
       "    <tr>\n",
       "      <th>2017-01-04</th>\n",
       "      <td>26.959057</td>\n",
       "      <td>37.859001</td>\n",
       "      <td>39.345001</td>\n",
       "      <td>56.778069</td>\n",
       "      <td>201.008331</td>\n",
       "      <td>15.132667</td>\n",
       "    </tr>\n",
       "    <tr>\n",
       "      <th>2017-01-05</th>\n",
       "      <td>27.096157</td>\n",
       "      <td>39.022499</td>\n",
       "      <td>39.701000</td>\n",
       "      <td>56.778069</td>\n",
       "      <td>200.848587</td>\n",
       "      <td>15.116667</td>\n",
       "    </tr>\n",
       "    <tr>\n",
       "      <th>2017-01-06</th>\n",
       "      <td>27.398230</td>\n",
       "      <td>39.799500</td>\n",
       "      <td>40.307499</td>\n",
       "      <td>57.270214</td>\n",
       "      <td>201.567200</td>\n",
       "      <td>15.267333</td>\n",
       "    </tr>\n",
       "    <tr>\n",
       "      <th>2017-01-09</th>\n",
       "      <td>27.649179</td>\n",
       "      <td>39.846001</td>\n",
       "      <td>40.332500</td>\n",
       "      <td>57.087940</td>\n",
       "      <td>200.901825</td>\n",
       "      <td>15.418667</td>\n",
       "    </tr>\n",
       "  </tbody>\n",
       "</table>\n",
       "</div>"
      ],
      "text/plain": [
       "Ticker           AAPL       AMZN       GOOG       MSFT         SPY       TSLA\n",
       "Date                                                                         \n",
       "2017-01-03  26.989265  37.683498  39.306999  57.033264  199.819519  14.466000\n",
       "2017-01-04  26.959057  37.859001  39.345001  56.778069  201.008331  15.132667\n",
       "2017-01-05  27.096157  39.022499  39.701000  56.778069  200.848587  15.116667\n",
       "2017-01-06  27.398230  39.799500  40.307499  57.270214  201.567200  15.267333\n",
       "2017-01-09  27.649179  39.846001  40.332500  57.087940  200.901825  15.418667"
      ]
     },
     "execution_count": 50,
     "metadata": {},
     "output_type": "execute_result"
    }
   ],
   "source": [
    "data_AdjP.head()"
   ]
  },
  {
   "cell_type": "code",
   "execution_count": 51,
   "metadata": {
    "colab": {
     "base_uri": "https://localhost:8080/"
    },
    "id": "144grHCEh7BO",
    "outputId": "924c5724-b068-46f7-d8aa-7c082cdf871e"
   },
   "outputs": [
    {
     "name": "stdout",
     "output_type": "stream",
     "text": [
      "Index(['AAPL', 'AMZN', 'GOOG', 'MSFT', 'SPY', 'TSLA'], dtype='object', name='Ticker')\n",
      "DatetimeIndex(['2017-01-03', '2017-01-04', '2017-01-05', '2017-01-06',\n",
      "               '2017-01-09', '2017-01-10', '2017-01-11', '2017-01-12',\n",
      "               '2017-01-13', '2017-01-17',\n",
      "               ...\n",
      "               '2020-04-16', '2020-04-17', '2020-04-20', '2020-04-21',\n",
      "               '2020-04-22', '2020-04-23', '2020-04-24', '2020-04-27',\n",
      "               '2020-04-28', '2020-04-29'],\n",
      "              dtype='datetime64[ns]', name='Date', length=836, freq=None)\n"
     ]
    }
   ],
   "source": [
    "print(data_AdjP.columns);print(data_AdjP.index)"
   ]
  },
  {
   "cell_type": "code",
   "execution_count": 52,
   "metadata": {
    "colab": {
     "base_uri": "https://localhost:8080/"
    },
    "id": "VyapN159oTvY",
    "outputId": "86837860-3335-491a-dd6d-d5b6759fa73f"
   },
   "outputs": [
    {
     "data": {
      "text/plain": [
       "pandas.core.frame.DataFrame"
      ]
     },
     "execution_count": 52,
     "metadata": {},
     "output_type": "execute_result"
    }
   ],
   "source": [
    "type(data_AdjP)"
   ]
  },
  {
   "cell_type": "code",
   "execution_count": 53,
   "metadata": {
    "id": "jFgIuGqYovg8"
   },
   "outputs": [],
   "source": [
    "# We can use .shift() method\n",
    "\n",
    "Ret = np.log(data_AdjP / data_AdjP.shift(1))"
   ]
  },
  {
   "cell_type": "code",
   "execution_count": 54,
   "metadata": {
    "colab": {
     "base_uri": "https://localhost:8080/",
     "height": 238
    },
    "id": "2F3VfjjlpNaM",
    "outputId": "8f37b830-baa1-4388-bf48-5b16b8f749e3"
   },
   "outputs": [
    {
     "data": {
      "text/html": [
       "<div>\n",
       "<style scoped>\n",
       "    .dataframe tbody tr th:only-of-type {\n",
       "        vertical-align: middle;\n",
       "    }\n",
       "\n",
       "    .dataframe tbody tr th {\n",
       "        vertical-align: top;\n",
       "    }\n",
       "\n",
       "    .dataframe thead th {\n",
       "        text-align: right;\n",
       "    }\n",
       "</style>\n",
       "<table border=\"1\" class=\"dataframe\">\n",
       "  <thead>\n",
       "    <tr style=\"text-align: right;\">\n",
       "      <th>Ticker</th>\n",
       "      <th>AAPL</th>\n",
       "      <th>AMZN</th>\n",
       "      <th>GOOG</th>\n",
       "      <th>MSFT</th>\n",
       "      <th>SPY</th>\n",
       "      <th>TSLA</th>\n",
       "    </tr>\n",
       "    <tr>\n",
       "      <th>Date</th>\n",
       "      <th></th>\n",
       "      <th></th>\n",
       "      <th></th>\n",
       "      <th></th>\n",
       "      <th></th>\n",
       "      <th></th>\n",
       "    </tr>\n",
       "  </thead>\n",
       "  <tbody>\n",
       "    <tr>\n",
       "      <th>2017-01-03</th>\n",
       "      <td>NaN</td>\n",
       "      <td>NaN</td>\n",
       "      <td>NaN</td>\n",
       "      <td>NaN</td>\n",
       "      <td>NaN</td>\n",
       "      <td>NaN</td>\n",
       "    </tr>\n",
       "    <tr>\n",
       "      <th>2017-01-04</th>\n",
       "      <td>-0.001120</td>\n",
       "      <td>0.004646</td>\n",
       "      <td>0.000966</td>\n",
       "      <td>-0.004485</td>\n",
       "      <td>0.005932</td>\n",
       "      <td>0.045055</td>\n",
       "    </tr>\n",
       "    <tr>\n",
       "      <th>2017-01-05</th>\n",
       "      <td>0.005073</td>\n",
       "      <td>0.030270</td>\n",
       "      <td>0.009007</td>\n",
       "      <td>0.000000</td>\n",
       "      <td>-0.000795</td>\n",
       "      <td>-0.001058</td>\n",
       "    </tr>\n",
       "    <tr>\n",
       "      <th>2017-01-06</th>\n",
       "      <td>0.011086</td>\n",
       "      <td>0.019716</td>\n",
       "      <td>0.015161</td>\n",
       "      <td>0.008631</td>\n",
       "      <td>0.003571</td>\n",
       "      <td>0.009918</td>\n",
       "    </tr>\n",
       "    <tr>\n",
       "      <th>2017-01-09</th>\n",
       "      <td>0.009118</td>\n",
       "      <td>0.001168</td>\n",
       "      <td>0.000620</td>\n",
       "      <td>-0.003188</td>\n",
       "      <td>-0.003306</td>\n",
       "      <td>0.009863</td>\n",
       "    </tr>\n",
       "  </tbody>\n",
       "</table>\n",
       "</div>"
      ],
      "text/plain": [
       "Ticker          AAPL      AMZN      GOOG      MSFT       SPY      TSLA\n",
       "Date                                                                  \n",
       "2017-01-03       NaN       NaN       NaN       NaN       NaN       NaN\n",
       "2017-01-04 -0.001120  0.004646  0.000966 -0.004485  0.005932  0.045055\n",
       "2017-01-05  0.005073  0.030270  0.009007  0.000000 -0.000795 -0.001058\n",
       "2017-01-06  0.011086  0.019716  0.015161  0.008631  0.003571  0.009918\n",
       "2017-01-09  0.009118  0.001168  0.000620 -0.003188 -0.003306  0.009863"
      ]
     },
     "execution_count": 54,
     "metadata": {},
     "output_type": "execute_result"
    }
   ],
   "source": [
    "Ret.head() # .head() displays the last five rows"
   ]
  },
  {
   "cell_type": "code",
   "execution_count": 55,
   "metadata": {
    "colab": {
     "base_uri": "https://localhost:8080/",
     "height": 238
    },
    "id": "BqQUBDXtcaKo",
    "outputId": "99f5086d-3311-4393-a6f5-8a6c7eaf965e"
   },
   "outputs": [
    {
     "data": {
      "text/html": [
       "<div>\n",
       "<style scoped>\n",
       "    .dataframe tbody tr th:only-of-type {\n",
       "        vertical-align: middle;\n",
       "    }\n",
       "\n",
       "    .dataframe tbody tr th {\n",
       "        vertical-align: top;\n",
       "    }\n",
       "\n",
       "    .dataframe thead th {\n",
       "        text-align: right;\n",
       "    }\n",
       "</style>\n",
       "<table border=\"1\" class=\"dataframe\">\n",
       "  <thead>\n",
       "    <tr style=\"text-align: right;\">\n",
       "      <th>Ticker</th>\n",
       "      <th>AAPL</th>\n",
       "      <th>AMZN</th>\n",
       "      <th>GOOG</th>\n",
       "      <th>MSFT</th>\n",
       "      <th>SPY</th>\n",
       "      <th>TSLA</th>\n",
       "    </tr>\n",
       "    <tr>\n",
       "      <th>Date</th>\n",
       "      <th></th>\n",
       "      <th></th>\n",
       "      <th></th>\n",
       "      <th></th>\n",
       "      <th></th>\n",
       "      <th></th>\n",
       "    </tr>\n",
       "  </thead>\n",
       "  <tbody>\n",
       "    <tr>\n",
       "      <th>2020-04-23</th>\n",
       "      <td>-0.003883</td>\n",
       "      <td>0.015100</td>\n",
       "      <td>0.010317</td>\n",
       "      <td>-0.012176</td>\n",
       "      <td>-0.000072</td>\n",
       "      <td>-0.036840</td>\n",
       "    </tr>\n",
       "    <tr>\n",
       "      <th>2020-04-24</th>\n",
       "      <td>0.028461</td>\n",
       "      <td>0.004478</td>\n",
       "      <td>0.002348</td>\n",
       "      <td>0.018095</td>\n",
       "      <td>0.013842</td>\n",
       "      <td>0.027288</td>\n",
       "    </tr>\n",
       "    <tr>\n",
       "      <th>2020-04-27</th>\n",
       "      <td>0.000707</td>\n",
       "      <td>-0.014300</td>\n",
       "      <td>-0.002685</td>\n",
       "      <td>-0.002869</td>\n",
       "      <td>0.014315</td>\n",
       "      <td>0.096669</td>\n",
       "    </tr>\n",
       "    <tr>\n",
       "      <th>2020-04-28</th>\n",
       "      <td>-0.016343</td>\n",
       "      <td>-0.026406</td>\n",
       "      <td>-0.033643</td>\n",
       "      <td>-0.024663</td>\n",
       "      <td>-0.004609</td>\n",
       "      <td>-0.037801</td>\n",
       "    </tr>\n",
       "    <tr>\n",
       "      <th>2020-04-29</th>\n",
       "      <td>0.032317</td>\n",
       "      <td>0.025021</td>\n",
       "      <td>0.083780</td>\n",
       "      <td>0.043896</td>\n",
       "      <td>0.025842</td>\n",
       "      <td>0.040002</td>\n",
       "    </tr>\n",
       "  </tbody>\n",
       "</table>\n",
       "</div>"
      ],
      "text/plain": [
       "Ticker          AAPL      AMZN      GOOG      MSFT       SPY      TSLA\n",
       "Date                                                                  \n",
       "2020-04-23 -0.003883  0.015100  0.010317 -0.012176 -0.000072 -0.036840\n",
       "2020-04-24  0.028461  0.004478  0.002348  0.018095  0.013842  0.027288\n",
       "2020-04-27  0.000707 -0.014300 -0.002685 -0.002869  0.014315  0.096669\n",
       "2020-04-28 -0.016343 -0.026406 -0.033643 -0.024663 -0.004609 -0.037801\n",
       "2020-04-29  0.032317  0.025021  0.083780  0.043896  0.025842  0.040002"
      ]
     },
     "execution_count": 55,
     "metadata": {},
     "output_type": "execute_result"
    }
   ],
   "source": [
    "Ret.tail() # .tail() displays the last five rows"
   ]
  },
  {
   "cell_type": "markdown",
   "metadata": {
    "id": "V3lRRPMle5Wh"
   },
   "source": [
    "## Similar to the case of Series, we can extract or access the elements of dataframe via bracket notations ([]), but there are certain cases in which index names are unconventional and bracket notation does not work. In this case, .loc[] for index values or logical arrays, and .iloc[] for index numbers work well."
   ]
  },
  {
   "cell_type": "code",
   "execution_count": 56,
   "metadata": {
    "colab": {
     "base_uri": "https://localhost:8080/"
    },
    "id": "YjLyVp10e4H1",
    "outputId": "a59c4952-7e5a-4ace-e0c6-8fa31916894e"
   },
   "outputs": [
    {
     "data": {
      "text/plain": [
       "Date\n",
       "2017-01-03         NaN\n",
       "2017-01-04   -0.001120\n",
       "2017-01-05    0.005073\n",
       "2017-01-06    0.011086\n",
       "2017-01-09    0.009118\n",
       "                ...   \n",
       "2020-04-23   -0.003883\n",
       "2020-04-24    0.028461\n",
       "2020-04-27    0.000707\n",
       "2020-04-28   -0.016343\n",
       "2020-04-29    0.032317\n",
       "Name: AAPL, Length: 836, dtype: float64"
      ]
     },
     "execution_count": 56,
     "metadata": {},
     "output_type": "execute_result"
    }
   ],
   "source": [
    "Ret.iloc[:,0] # AAPL returns using iloc"
   ]
  },
  {
   "cell_type": "code",
   "execution_count": 57,
   "metadata": {
    "colab": {
     "base_uri": "https://localhost:8080/"
    },
    "id": "aybe_bGCf2EY",
    "outputId": "b8af85be-713e-4211-beec-20dd26253cc0"
   },
   "outputs": [
    {
     "data": {
      "text/plain": [
       "Date\n",
       "2017-01-03         NaN\n",
       "2017-01-04   -0.001120\n",
       "2017-01-05    0.005073\n",
       "2017-01-06    0.011086\n",
       "2017-01-09    0.009118\n",
       "                ...   \n",
       "2020-04-23   -0.003883\n",
       "2020-04-24    0.028461\n",
       "2020-04-27    0.000707\n",
       "2020-04-28   -0.016343\n",
       "2020-04-29    0.032317\n",
       "Name: AAPL, Length: 836, dtype: float64"
      ]
     },
     "execution_count": 57,
     "metadata": {},
     "output_type": "execute_result"
    }
   ],
   "source": [
    "Ret.loc[:,'AAPL']"
   ]
  },
  {
   "cell_type": "code",
   "execution_count": 58,
   "metadata": {
    "colab": {
     "base_uri": "https://localhost:8080/",
     "height": 238
    },
    "id": "eLegr-yEf8_F",
    "outputId": "7c88f319-e45e-4cb6-f662-d121cd48bde9"
   },
   "outputs": [
    {
     "data": {
      "text/html": [
       "<div>\n",
       "<style scoped>\n",
       "    .dataframe tbody tr th:only-of-type {\n",
       "        vertical-align: middle;\n",
       "    }\n",
       "\n",
       "    .dataframe tbody tr th {\n",
       "        vertical-align: top;\n",
       "    }\n",
       "\n",
       "    .dataframe thead th {\n",
       "        text-align: right;\n",
       "    }\n",
       "</style>\n",
       "<table border=\"1\" class=\"dataframe\">\n",
       "  <thead>\n",
       "    <tr style=\"text-align: right;\">\n",
       "      <th>Ticker</th>\n",
       "      <th>AAPL</th>\n",
       "      <th>AMZN</th>\n",
       "      <th>GOOG</th>\n",
       "    </tr>\n",
       "    <tr>\n",
       "      <th>Date</th>\n",
       "      <th></th>\n",
       "      <th></th>\n",
       "      <th></th>\n",
       "    </tr>\n",
       "  </thead>\n",
       "  <tbody>\n",
       "    <tr>\n",
       "      <th>2017-01-03</th>\n",
       "      <td>NaN</td>\n",
       "      <td>NaN</td>\n",
       "      <td>NaN</td>\n",
       "    </tr>\n",
       "    <tr>\n",
       "      <th>2017-01-04</th>\n",
       "      <td>-0.001120</td>\n",
       "      <td>0.004646</td>\n",
       "      <td>0.000966</td>\n",
       "    </tr>\n",
       "    <tr>\n",
       "      <th>2017-01-05</th>\n",
       "      <td>0.005073</td>\n",
       "      <td>0.030270</td>\n",
       "      <td>0.009007</td>\n",
       "    </tr>\n",
       "    <tr>\n",
       "      <th>2017-01-06</th>\n",
       "      <td>0.011086</td>\n",
       "      <td>0.019716</td>\n",
       "      <td>0.015161</td>\n",
       "    </tr>\n",
       "    <tr>\n",
       "      <th>2017-01-09</th>\n",
       "      <td>0.009118</td>\n",
       "      <td>0.001168</td>\n",
       "      <td>0.000620</td>\n",
       "    </tr>\n",
       "  </tbody>\n",
       "</table>\n",
       "</div>"
      ],
      "text/plain": [
       "Ticker          AAPL      AMZN      GOOG\n",
       "Date                                    \n",
       "2017-01-03       NaN       NaN       NaN\n",
       "2017-01-04 -0.001120  0.004646  0.000966\n",
       "2017-01-05  0.005073  0.030270  0.009007\n",
       "2017-01-06  0.011086  0.019716  0.015161\n",
       "2017-01-09  0.009118  0.001168  0.000620"
      ]
     },
     "execution_count": 58,
     "metadata": {},
     "output_type": "execute_result"
    }
   ],
   "source": [
    "Ret.iloc[:5,:3]"
   ]
  },
  {
   "cell_type": "code",
   "execution_count": 59,
   "metadata": {
    "id": "x8YUnX8xgV2M"
   },
   "outputs": [],
   "source": [
    "#Try below. Does it work?\n",
    "# Ret.loc[:5,['AAPL','AMZN','MSFT']]"
   ]
  },
  {
   "cell_type": "code",
   "execution_count": 60,
   "metadata": {
    "colab": {
     "base_uri": "https://localhost:8080/",
     "height": 81
    },
    "id": "e1kAFt7hhNzM",
    "outputId": "e92c7962-1a37-4992-fd35-917ec59af6d5"
   },
   "outputs": [
    {
     "data": {
      "text/html": [
       "<div>\n",
       "<style scoped>\n",
       "    .dataframe tbody tr th:only-of-type {\n",
       "        vertical-align: middle;\n",
       "    }\n",
       "\n",
       "    .dataframe tbody tr th {\n",
       "        vertical-align: top;\n",
       "    }\n",
       "\n",
       "    .dataframe thead th {\n",
       "        text-align: right;\n",
       "    }\n",
       "</style>\n",
       "<table border=\"1\" class=\"dataframe\">\n",
       "  <thead>\n",
       "    <tr style=\"text-align: right;\">\n",
       "      <th>Ticker</th>\n",
       "      <th>AAPL</th>\n",
       "      <th>AMZN</th>\n",
       "      <th>MSFT</th>\n",
       "    </tr>\n",
       "    <tr>\n",
       "      <th>Date</th>\n",
       "      <th></th>\n",
       "      <th></th>\n",
       "      <th></th>\n",
       "    </tr>\n",
       "  </thead>\n",
       "  <tbody>\n",
       "  </tbody>\n",
       "</table>\n",
       "</div>"
      ],
      "text/plain": [
       "Empty DataFrame\n",
       "Columns: [AAPL, AMZN, MSFT]\n",
       "Index: []"
      ]
     },
     "execution_count": 60,
     "metadata": {},
     "output_type": "execute_result"
    }
   ],
   "source": [
    "Ret.loc[:'2012-11-01',['AAPL','AMZN','MSFT']]"
   ]
  },
  {
   "cell_type": "code",
   "execution_count": 61,
   "metadata": {
    "colab": {
     "base_uri": "https://localhost:8080/",
     "height": 175
    },
    "id": "EFzHTmWjhj0d",
    "outputId": "7296d215-c309-42a5-e14b-a50183be831f"
   },
   "outputs": [
    {
     "data": {
      "text/html": [
       "<div>\n",
       "<style scoped>\n",
       "    .dataframe tbody tr th:only-of-type {\n",
       "        vertical-align: middle;\n",
       "    }\n",
       "\n",
       "    .dataframe tbody tr th {\n",
       "        vertical-align: top;\n",
       "    }\n",
       "\n",
       "    .dataframe thead th {\n",
       "        text-align: right;\n",
       "    }\n",
       "</style>\n",
       "<table border=\"1\" class=\"dataframe\">\n",
       "  <thead>\n",
       "    <tr style=\"text-align: right;\">\n",
       "      <th>Ticker</th>\n",
       "      <th>AMZN</th>\n",
       "      <th>MSFT</th>\n",
       "      <th>TSLA</th>\n",
       "    </tr>\n",
       "    <tr>\n",
       "      <th>Date</th>\n",
       "      <th></th>\n",
       "      <th></th>\n",
       "      <th></th>\n",
       "    </tr>\n",
       "  </thead>\n",
       "  <tbody>\n",
       "    <tr>\n",
       "      <th>2017-01-03</th>\n",
       "      <td>NaN</td>\n",
       "      <td>NaN</td>\n",
       "      <td>NaN</td>\n",
       "    </tr>\n",
       "    <tr>\n",
       "      <th>2017-01-04</th>\n",
       "      <td>0.004646</td>\n",
       "      <td>-0.004485</td>\n",
       "      <td>0.045055</td>\n",
       "    </tr>\n",
       "    <tr>\n",
       "      <th>2017-01-05</th>\n",
       "      <td>0.030270</td>\n",
       "      <td>0.000000</td>\n",
       "      <td>-0.001058</td>\n",
       "    </tr>\n",
       "  </tbody>\n",
       "</table>\n",
       "</div>"
      ],
      "text/plain": [
       "Ticker          AMZN      MSFT      TSLA\n",
       "Date                                    \n",
       "2017-01-03       NaN       NaN       NaN\n",
       "2017-01-04  0.004646 -0.004485  0.045055\n",
       "2017-01-05  0.030270  0.000000 -0.001058"
      ]
     },
     "execution_count": 61,
     "metadata": {},
     "output_type": "execute_result"
    }
   ],
   "source": [
    "Ret.iloc[:3,[1,3,-1]]"
   ]
  },
  {
   "cell_type": "code",
   "execution_count": 62,
   "metadata": {
    "colab": {
     "base_uri": "https://localhost:8080/",
     "height": 238
    },
    "id": "62jm4MWvpOCL",
    "outputId": "6443179b-d0b8-4bf9-99d3-529f4cc76675"
   },
   "outputs": [
    {
     "data": {
      "text/html": [
       "<div>\n",
       "<style scoped>\n",
       "    .dataframe tbody tr th:only-of-type {\n",
       "        vertical-align: middle;\n",
       "    }\n",
       "\n",
       "    .dataframe tbody tr th {\n",
       "        vertical-align: top;\n",
       "    }\n",
       "\n",
       "    .dataframe thead th {\n",
       "        text-align: right;\n",
       "    }\n",
       "</style>\n",
       "<table border=\"1\" class=\"dataframe\">\n",
       "  <thead>\n",
       "    <tr style=\"text-align: right;\">\n",
       "      <th>Ticker</th>\n",
       "      <th>AAPL</th>\n",
       "      <th>AMZN</th>\n",
       "      <th>GOOG</th>\n",
       "      <th>MSFT</th>\n",
       "      <th>SPY</th>\n",
       "      <th>TSLA</th>\n",
       "    </tr>\n",
       "    <tr>\n",
       "      <th>Date</th>\n",
       "      <th></th>\n",
       "      <th></th>\n",
       "      <th></th>\n",
       "      <th></th>\n",
       "      <th></th>\n",
       "      <th></th>\n",
       "    </tr>\n",
       "  </thead>\n",
       "  <tbody>\n",
       "    <tr>\n",
       "      <th>2017-01-04</th>\n",
       "      <td>-0.001120</td>\n",
       "      <td>0.004646</td>\n",
       "      <td>0.000966</td>\n",
       "      <td>-0.004485</td>\n",
       "      <td>0.005932</td>\n",
       "      <td>0.045055</td>\n",
       "    </tr>\n",
       "    <tr>\n",
       "      <th>2017-01-05</th>\n",
       "      <td>0.005073</td>\n",
       "      <td>0.030270</td>\n",
       "      <td>0.009007</td>\n",
       "      <td>0.000000</td>\n",
       "      <td>-0.000795</td>\n",
       "      <td>-0.001058</td>\n",
       "    </tr>\n",
       "    <tr>\n",
       "      <th>2017-01-06</th>\n",
       "      <td>0.011086</td>\n",
       "      <td>0.019716</td>\n",
       "      <td>0.015161</td>\n",
       "      <td>0.008631</td>\n",
       "      <td>0.003571</td>\n",
       "      <td>0.009918</td>\n",
       "    </tr>\n",
       "    <tr>\n",
       "      <th>2017-01-09</th>\n",
       "      <td>0.009118</td>\n",
       "      <td>0.001168</td>\n",
       "      <td>0.000620</td>\n",
       "      <td>-0.003188</td>\n",
       "      <td>-0.003306</td>\n",
       "      <td>0.009863</td>\n",
       "    </tr>\n",
       "    <tr>\n",
       "      <th>2017-01-10</th>\n",
       "      <td>0.001008</td>\n",
       "      <td>-0.001281</td>\n",
       "      <td>-0.002309</td>\n",
       "      <td>-0.000319</td>\n",
       "      <td>0.000000</td>\n",
       "      <td>-0.006115</td>\n",
       "    </tr>\n",
       "  </tbody>\n",
       "</table>\n",
       "</div>"
      ],
      "text/plain": [
       "Ticker          AAPL      AMZN      GOOG      MSFT       SPY      TSLA\n",
       "Date                                                                  \n",
       "2017-01-04 -0.001120  0.004646  0.000966 -0.004485  0.005932  0.045055\n",
       "2017-01-05  0.005073  0.030270  0.009007  0.000000 -0.000795 -0.001058\n",
       "2017-01-06  0.011086  0.019716  0.015161  0.008631  0.003571  0.009918\n",
       "2017-01-09  0.009118  0.001168  0.000620 -0.003188 -0.003306  0.009863\n",
       "2017-01-10  0.001008 -0.001281 -0.002309 -0.000319  0.000000 -0.006115"
      ]
     },
     "execution_count": 62,
     "metadata": {},
     "output_type": "execute_result"
    }
   ],
   "source": [
    "Ret = Ret.dropna() #drops nan (missing values). If you want to specify values to drop, you can use drop(names), say drop('SPY')\n",
    "Ret.head()"
   ]
  },
  {
   "cell_type": "markdown",
   "metadata": {
    "id": "DTbNbIUjjRj0"
   },
   "source": [
    "As mentioned above, in most cases, you can directly access rows and columns using a bracket or brackets."
   ]
  },
  {
   "cell_type": "code",
   "execution_count": 63,
   "metadata": {
    "colab": {
     "base_uri": "https://localhost:8080/"
    },
    "id": "1oNEY9MEjQSM",
    "outputId": "4c22f319-194a-4ad7-9f79-871dc90b6944"
   },
   "outputs": [
    {
     "data": {
      "text/plain": [
       "Date\n",
       "2017-01-04    0.005932\n",
       "2017-01-05   -0.000795\n",
       "2017-01-06    0.003571\n",
       "2017-01-09   -0.003306\n",
       "2017-01-10    0.000000\n",
       "                ...   \n",
       "2020-04-23   -0.000072\n",
       "2020-04-24    0.013842\n",
       "2020-04-27    0.014315\n",
       "2020-04-28   -0.004609\n",
       "2020-04-29    0.025842\n",
       "Name: SPY, Length: 835, dtype: float64"
      ]
     },
     "execution_count": 63,
     "metadata": {},
     "output_type": "execute_result"
    }
   ],
   "source": [
    "Ret['SPY']"
   ]
  },
  {
   "cell_type": "code",
   "execution_count": 64,
   "metadata": {
    "colab": {
     "base_uri": "https://localhost:8080/"
    },
    "id": "rc7fNjY8jqm6",
    "outputId": "f5fad0ac-69de-4a39-bf24-97596e63395d"
   },
   "outputs": [
    {
     "data": {
      "text/plain": [
       "pandas.core.series.Series"
      ]
     },
     "execution_count": 64,
     "metadata": {},
     "output_type": "execute_result"
    }
   ],
   "source": [
    "type(Ret['SPY']) #Series"
   ]
  },
  {
   "cell_type": "code",
   "execution_count": 65,
   "metadata": {
    "colab": {
     "base_uri": "https://localhost:8080/"
    },
    "id": "nAJTo5jajeaN",
    "outputId": "0428d7db-b0de-47bd-f118-832683710527"
   },
   "outputs": [
    {
     "data": {
      "text/plain": [
       "Date\n",
       "2017-01-04    0.005932\n",
       "2017-01-05   -0.000795\n",
       "2017-01-06    0.003571\n",
       "2017-01-09   -0.003306\n",
       "2017-01-10    0.000000\n",
       "Name: SPY, dtype: float64"
      ]
     },
     "execution_count": 65,
     "metadata": {},
     "output_type": "execute_result"
    }
   ],
   "source": [
    "Ret['SPY'].head()"
   ]
  },
  {
   "cell_type": "code",
   "execution_count": 66,
   "metadata": {
    "colab": {
     "base_uri": "https://localhost:8080/",
     "height": 455
    },
    "id": "EG0wSBR3j9L_",
    "outputId": "6e1665c4-11ac-490b-b92f-9aae0191bfe3"
   },
   "outputs": [
    {
     "data": {
      "text/html": [
       "<div>\n",
       "<style scoped>\n",
       "    .dataframe tbody tr th:only-of-type {\n",
       "        vertical-align: middle;\n",
       "    }\n",
       "\n",
       "    .dataframe tbody tr th {\n",
       "        vertical-align: top;\n",
       "    }\n",
       "\n",
       "    .dataframe thead th {\n",
       "        text-align: right;\n",
       "    }\n",
       "</style>\n",
       "<table border=\"1\" class=\"dataframe\">\n",
       "  <thead>\n",
       "    <tr style=\"text-align: right;\">\n",
       "      <th>Ticker</th>\n",
       "      <th>SPY</th>\n",
       "    </tr>\n",
       "    <tr>\n",
       "      <th>Date</th>\n",
       "      <th></th>\n",
       "    </tr>\n",
       "  </thead>\n",
       "  <tbody>\n",
       "    <tr>\n",
       "      <th>2017-01-04</th>\n",
       "      <td>0.005932</td>\n",
       "    </tr>\n",
       "    <tr>\n",
       "      <th>2017-01-05</th>\n",
       "      <td>-0.000795</td>\n",
       "    </tr>\n",
       "    <tr>\n",
       "      <th>2017-01-06</th>\n",
       "      <td>0.003571</td>\n",
       "    </tr>\n",
       "    <tr>\n",
       "      <th>2017-01-09</th>\n",
       "      <td>-0.003306</td>\n",
       "    </tr>\n",
       "    <tr>\n",
       "      <th>2017-01-10</th>\n",
       "      <td>0.000000</td>\n",
       "    </tr>\n",
       "    <tr>\n",
       "      <th>...</th>\n",
       "      <td>...</td>\n",
       "    </tr>\n",
       "    <tr>\n",
       "      <th>2020-04-23</th>\n",
       "      <td>-0.000072</td>\n",
       "    </tr>\n",
       "    <tr>\n",
       "      <th>2020-04-24</th>\n",
       "      <td>0.013842</td>\n",
       "    </tr>\n",
       "    <tr>\n",
       "      <th>2020-04-27</th>\n",
       "      <td>0.014315</td>\n",
       "    </tr>\n",
       "    <tr>\n",
       "      <th>2020-04-28</th>\n",
       "      <td>-0.004609</td>\n",
       "    </tr>\n",
       "    <tr>\n",
       "      <th>2020-04-29</th>\n",
       "      <td>0.025842</td>\n",
       "    </tr>\n",
       "  </tbody>\n",
       "</table>\n",
       "<p>835 rows × 1 columns</p>\n",
       "</div>"
      ],
      "text/plain": [
       "Ticker           SPY\n",
       "Date                \n",
       "2017-01-04  0.005932\n",
       "2017-01-05 -0.000795\n",
       "2017-01-06  0.003571\n",
       "2017-01-09 -0.003306\n",
       "2017-01-10  0.000000\n",
       "...              ...\n",
       "2020-04-23 -0.000072\n",
       "2020-04-24  0.013842\n",
       "2020-04-27  0.014315\n",
       "2020-04-28 -0.004609\n",
       "2020-04-29  0.025842\n",
       "\n",
       "[835 rows x 1 columns]"
      ]
     },
     "execution_count": 66,
     "metadata": {},
     "output_type": "execute_result"
    }
   ],
   "source": [
    "Ret[['SPY']] # This is a DataFrame. Remember, DatFrame is a collection of columns (Series)."
   ]
  },
  {
   "cell_type": "code",
   "execution_count": 67,
   "metadata": {
    "colab": {
     "base_uri": "https://localhost:8080/"
    },
    "id": "HDKFld9jlapK",
    "outputId": "9cb1d1d4-3f9e-4897-c382-0ed546b45772"
   },
   "outputs": [
    {
     "data": {
      "text/plain": [
       "pandas.core.frame.DataFrame"
      ]
     },
     "execution_count": 67,
     "metadata": {},
     "output_type": "execute_result"
    }
   ],
   "source": [
    "type(Ret[['SPY']] )"
   ]
  },
  {
   "cell_type": "code",
   "execution_count": 68,
   "metadata": {
    "colab": {
     "base_uri": "https://localhost:8080/",
     "height": 300
    },
    "id": "BOJseDi1Lojs",
    "outputId": "1cd30987-4457-448b-948c-f0b72f477476"
   },
   "outputs": [
    {
     "data": {
      "text/html": [
       "<div>\n",
       "<style scoped>\n",
       "    .dataframe tbody tr th:only-of-type {\n",
       "        vertical-align: middle;\n",
       "    }\n",
       "\n",
       "    .dataframe tbody tr th {\n",
       "        vertical-align: top;\n",
       "    }\n",
       "\n",
       "    .dataframe thead th {\n",
       "        text-align: right;\n",
       "    }\n",
       "</style>\n",
       "<table border=\"1\" class=\"dataframe\">\n",
       "  <thead>\n",
       "    <tr style=\"text-align: right;\">\n",
       "      <th>Ticker</th>\n",
       "      <th>AAPL</th>\n",
       "      <th>AMZN</th>\n",
       "      <th>GOOG</th>\n",
       "      <th>MSFT</th>\n",
       "      <th>SPY</th>\n",
       "      <th>TSLA</th>\n",
       "    </tr>\n",
       "  </thead>\n",
       "  <tbody>\n",
       "    <tr>\n",
       "      <th>count</th>\n",
       "      <td>835.000000</td>\n",
       "      <td>835.000000</td>\n",
       "      <td>835.000000</td>\n",
       "      <td>835.000000</td>\n",
       "      <td>835.000000</td>\n",
       "      <td>835.000000</td>\n",
       "    </tr>\n",
       "    <tr>\n",
       "      <th>mean</th>\n",
       "      <td>0.001144</td>\n",
       "      <td>0.001373</td>\n",
       "      <td>0.000640</td>\n",
       "      <td>0.001316</td>\n",
       "      <td>0.000391</td>\n",
       "      <td>0.001563</td>\n",
       "    </tr>\n",
       "    <tr>\n",
       "      <th>std</th>\n",
       "      <td>0.019249</td>\n",
       "      <td>0.018578</td>\n",
       "      <td>0.017537</td>\n",
       "      <td>0.018158</td>\n",
       "      <td>0.012851</td>\n",
       "      <td>0.036668</td>\n",
       "    </tr>\n",
       "    <tr>\n",
       "      <th>min</th>\n",
       "      <td>-0.137708</td>\n",
       "      <td>-0.082535</td>\n",
       "      <td>-0.117667</td>\n",
       "      <td>-0.159453</td>\n",
       "      <td>-0.115886</td>\n",
       "      <td>-0.205522</td>\n",
       "    </tr>\n",
       "    <tr>\n",
       "      <th>25%</th>\n",
       "      <td>-0.005717</td>\n",
       "      <td>-0.006433</td>\n",
       "      <td>-0.005673</td>\n",
       "      <td>-0.005380</td>\n",
       "      <td>-0.002508</td>\n",
       "      <td>-0.014103</td>\n",
       "    </tr>\n",
       "    <tr>\n",
       "      <th>50%</th>\n",
       "      <td>0.001000</td>\n",
       "      <td>0.001631</td>\n",
       "      <td>0.000966</td>\n",
       "      <td>0.001427</td>\n",
       "      <td>0.000603</td>\n",
       "      <td>0.001164</td>\n",
       "    </tr>\n",
       "    <tr>\n",
       "      <th>75%</th>\n",
       "      <td>0.009620</td>\n",
       "      <td>0.009916</td>\n",
       "      <td>0.008785</td>\n",
       "      <td>0.009076</td>\n",
       "      <td>0.004853</td>\n",
       "      <td>0.018313</td>\n",
       "    </tr>\n",
       "    <tr>\n",
       "      <th>max</th>\n",
       "      <td>0.113157</td>\n",
       "      <td>0.124131</td>\n",
       "      <td>0.099380</td>\n",
       "      <td>0.132929</td>\n",
       "      <td>0.086731</td>\n",
       "      <td>0.181445</td>\n",
       "    </tr>\n",
       "  </tbody>\n",
       "</table>\n",
       "</div>"
      ],
      "text/plain": [
       "Ticker        AAPL        AMZN        GOOG        MSFT         SPY        TSLA\n",
       "count   835.000000  835.000000  835.000000  835.000000  835.000000  835.000000\n",
       "mean      0.001144    0.001373    0.000640    0.001316    0.000391    0.001563\n",
       "std       0.019249    0.018578    0.017537    0.018158    0.012851    0.036668\n",
       "min      -0.137708   -0.082535   -0.117667   -0.159453   -0.115886   -0.205522\n",
       "25%      -0.005717   -0.006433   -0.005673   -0.005380   -0.002508   -0.014103\n",
       "50%       0.001000    0.001631    0.000966    0.001427    0.000603    0.001164\n",
       "75%       0.009620    0.009916    0.008785    0.009076    0.004853    0.018313\n",
       "max       0.113157    0.124131    0.099380    0.132929    0.086731    0.181445"
      ]
     },
     "execution_count": 68,
     "metadata": {},
     "output_type": "execute_result"
    }
   ],
   "source": [
    "Ret.describe() # Sum stats"
   ]
  },
  {
   "cell_type": "code",
   "execution_count": 69,
   "metadata": {
    "colab": {
     "base_uri": "https://localhost:8080/"
    },
    "id": "kAVNAhz9h8sB",
    "outputId": "f7313d8f-0ddc-4621-bd94-4df604fc9332"
   },
   "outputs": [
    {
     "name": "stdout",
     "output_type": "stream",
     "text": [
      "<class 'pandas.core.frame.DataFrame'>\n",
      "DatetimeIndex: 835 entries, 2017-01-04 to 2020-04-29\n",
      "Data columns (total 6 columns):\n",
      " #   Column  Non-Null Count  Dtype  \n",
      "---  ------  --------------  -----  \n",
      " 0   AAPL    835 non-null    float64\n",
      " 1   AMZN    835 non-null    float64\n",
      " 2   GOOG    835 non-null    float64\n",
      " 3   MSFT    835 non-null    float64\n",
      " 4   SPY     835 non-null    float64\n",
      " 5   TSLA    835 non-null    float64\n",
      "dtypes: float64(6)\n",
      "memory usage: 45.7 KB\n"
     ]
    }
   ],
   "source": [
    "Ret.info()"
   ]
  },
  {
   "cell_type": "code",
   "execution_count": 70,
   "metadata": {
    "colab": {
     "base_uri": "https://localhost:8080/"
    },
    "id": "E-ndjsmoh82A",
    "outputId": "b6fec59d-424b-4012-b208-6b22f17de581"
   },
   "outputs": [
    {
     "name": "stderr",
     "output_type": "stream",
     "text": [
      "[*********************100%%**********************]  7 of 7 completed\n"
     ]
    }
   ],
   "source": [
    "Ticker2 = [\"XOM\",\"VLO\",\"COP\",\"MRO\",\"CVX\",\"JNJ\",\"F\"]\n",
    "#data2 = web.DataReader(Ticker2, 'yahoo', sdate, edate)\n",
    "data2 = web.get_data_yahoo(Ticker2, startd, endd)"
   ]
  },
  {
   "cell_type": "code",
   "execution_count": 71,
   "metadata": {
    "id": "AthOQvfWmj4R"
   },
   "outputs": [],
   "source": [
    "dcopy2 = data2.copy()\n",
    "data2_AdjP = dcopy2['Adj Close']\n",
    "Ret2 = np.log(data2_AdjP / data2_AdjP.shift(1))"
   ]
  },
  {
   "cell_type": "code",
   "execution_count": 72,
   "metadata": {
    "colab": {
     "base_uri": "https://localhost:8080/",
     "height": 238
    },
    "id": "1cX7TN5um6St",
    "outputId": "d726968b-bd7d-4516-ffcc-ad1d7b3ec0c3"
   },
   "outputs": [
    {
     "data": {
      "text/html": [
       "<div>\n",
       "<style scoped>\n",
       "    .dataframe tbody tr th:only-of-type {\n",
       "        vertical-align: middle;\n",
       "    }\n",
       "\n",
       "    .dataframe tbody tr th {\n",
       "        vertical-align: top;\n",
       "    }\n",
       "\n",
       "    .dataframe thead th {\n",
       "        text-align: right;\n",
       "    }\n",
       "</style>\n",
       "<table border=\"1\" class=\"dataframe\">\n",
       "  <thead>\n",
       "    <tr style=\"text-align: right;\">\n",
       "      <th>Ticker</th>\n",
       "      <th>COP</th>\n",
       "      <th>CVX</th>\n",
       "      <th>F</th>\n",
       "      <th>JNJ</th>\n",
       "      <th>MRO</th>\n",
       "      <th>VLO</th>\n",
       "      <th>XOM</th>\n",
       "    </tr>\n",
       "    <tr>\n",
       "      <th>Date</th>\n",
       "      <th></th>\n",
       "      <th></th>\n",
       "      <th></th>\n",
       "      <th></th>\n",
       "      <th></th>\n",
       "      <th></th>\n",
       "      <th></th>\n",
       "    </tr>\n",
       "  </thead>\n",
       "  <tbody>\n",
       "    <tr>\n",
       "      <th>2020-01-02</th>\n",
       "      <td>NaN</td>\n",
       "      <td>NaN</td>\n",
       "      <td>NaN</td>\n",
       "      <td>NaN</td>\n",
       "      <td>NaN</td>\n",
       "      <td>NaN</td>\n",
       "      <td>NaN</td>\n",
       "    </tr>\n",
       "    <tr>\n",
       "      <th>2020-01-03</th>\n",
       "      <td>0.003660</td>\n",
       "      <td>-0.003465</td>\n",
       "      <td>-0.022545</td>\n",
       "      <td>-0.011645</td>\n",
       "      <td>0.005104</td>\n",
       "      <td>-0.038687</td>\n",
       "      <td>-0.008072</td>\n",
       "    </tr>\n",
       "    <tr>\n",
       "      <th>2020-01-06</th>\n",
       "      <td>0.011802</td>\n",
       "      <td>-0.003394</td>\n",
       "      <td>-0.005444</td>\n",
       "      <td>-0.001249</td>\n",
       "      <td>0.015157</td>\n",
       "      <td>0.000109</td>\n",
       "      <td>0.007649</td>\n",
       "    </tr>\n",
       "    <tr>\n",
       "      <th>2020-01-07</th>\n",
       "      <td>0.000000</td>\n",
       "      <td>-0.012852</td>\n",
       "      <td>0.009778</td>\n",
       "      <td>0.006088</td>\n",
       "      <td>-0.012252</td>\n",
       "      <td>0.013025</td>\n",
       "      <td>-0.008218</td>\n",
       "    </tr>\n",
       "    <tr>\n",
       "      <th>2020-01-08</th>\n",
       "      <td>-0.023437</td>\n",
       "      <td>-0.011489</td>\n",
       "      <td>0.000000</td>\n",
       "      <td>-0.000138</td>\n",
       "      <td>-0.037685</td>\n",
       "      <td>0.003875</td>\n",
       "      <td>-0.015195</td>\n",
       "    </tr>\n",
       "  </tbody>\n",
       "</table>\n",
       "</div>"
      ],
      "text/plain": [
       "Ticker           COP       CVX         F       JNJ       MRO       VLO  \\\n",
       "Date                                                                     \n",
       "2020-01-02       NaN       NaN       NaN       NaN       NaN       NaN   \n",
       "2020-01-03  0.003660 -0.003465 -0.022545 -0.011645  0.005104 -0.038687   \n",
       "2020-01-06  0.011802 -0.003394 -0.005444 -0.001249  0.015157  0.000109   \n",
       "2020-01-07  0.000000 -0.012852  0.009778  0.006088 -0.012252  0.013025   \n",
       "2020-01-08 -0.023437 -0.011489  0.000000 -0.000138 -0.037685  0.003875   \n",
       "\n",
       "Ticker           XOM  \n",
       "Date                  \n",
       "2020-01-02       NaN  \n",
       "2020-01-03 -0.008072  \n",
       "2020-01-06  0.007649  \n",
       "2020-01-07 -0.008218  \n",
       "2020-01-08 -0.015195  "
      ]
     },
     "execution_count": 72,
     "metadata": {},
     "output_type": "execute_result"
    }
   ],
   "source": [
    "Ret2.head()"
   ]
  },
  {
   "cell_type": "markdown",
   "metadata": {
    "id": "I12vl5CVpep_"
   },
   "source": [
    "If you want to add 'SPY' in Ret to Ret2, you can do the following."
   ]
  },
  {
   "cell_type": "code",
   "execution_count": 73,
   "metadata": {
    "id": "aO_1VuHipuEX"
   },
   "outputs": [],
   "source": [
    "Ret21 = Ret2.copy() #If you want to keep the original Ret2\n",
    "#Ret21.loc[:,'SPY'] = Ret['SPY']\n",
    "#Alternatively,\n",
    "Ret21['SPY'] = Ret['SPY']"
   ]
  },
  {
   "cell_type": "code",
   "execution_count": 74,
   "metadata": {
    "colab": {
     "base_uri": "https://localhost:8080/",
     "height": 455
    },
    "id": "pkVg3GBJqKDj",
    "outputId": "e8251d22-9630-4409-cf80-ca83e7e5ffa8"
   },
   "outputs": [
    {
     "data": {
      "text/html": [
       "<div>\n",
       "<style scoped>\n",
       "    .dataframe tbody tr th:only-of-type {\n",
       "        vertical-align: middle;\n",
       "    }\n",
       "\n",
       "    .dataframe tbody tr th {\n",
       "        vertical-align: top;\n",
       "    }\n",
       "\n",
       "    .dataframe thead th {\n",
       "        text-align: right;\n",
       "    }\n",
       "</style>\n",
       "<table border=\"1\" class=\"dataframe\">\n",
       "  <thead>\n",
       "    <tr style=\"text-align: right;\">\n",
       "      <th>Ticker</th>\n",
       "      <th>COP</th>\n",
       "      <th>CVX</th>\n",
       "      <th>F</th>\n",
       "      <th>JNJ</th>\n",
       "      <th>MRO</th>\n",
       "      <th>VLO</th>\n",
       "      <th>XOM</th>\n",
       "      <th>SPY</th>\n",
       "    </tr>\n",
       "    <tr>\n",
       "      <th>Date</th>\n",
       "      <th></th>\n",
       "      <th></th>\n",
       "      <th></th>\n",
       "      <th></th>\n",
       "      <th></th>\n",
       "      <th></th>\n",
       "      <th></th>\n",
       "      <th></th>\n",
       "    </tr>\n",
       "  </thead>\n",
       "  <tbody>\n",
       "    <tr>\n",
       "      <th>2020-01-02</th>\n",
       "      <td>NaN</td>\n",
       "      <td>NaN</td>\n",
       "      <td>NaN</td>\n",
       "      <td>NaN</td>\n",
       "      <td>NaN</td>\n",
       "      <td>NaN</td>\n",
       "      <td>NaN</td>\n",
       "      <td>0.009309</td>\n",
       "    </tr>\n",
       "    <tr>\n",
       "      <th>2020-01-03</th>\n",
       "      <td>0.003660</td>\n",
       "      <td>-0.003465</td>\n",
       "      <td>-0.022545</td>\n",
       "      <td>-0.011645</td>\n",
       "      <td>0.005104</td>\n",
       "      <td>-0.038687</td>\n",
       "      <td>-0.008072</td>\n",
       "      <td>-0.007601</td>\n",
       "    </tr>\n",
       "    <tr>\n",
       "      <th>2020-01-06</th>\n",
       "      <td>0.011802</td>\n",
       "      <td>-0.003394</td>\n",
       "      <td>-0.005444</td>\n",
       "      <td>-0.001249</td>\n",
       "      <td>0.015157</td>\n",
       "      <td>0.000109</td>\n",
       "      <td>0.007649</td>\n",
       "      <td>0.003808</td>\n",
       "    </tr>\n",
       "    <tr>\n",
       "      <th>2020-01-07</th>\n",
       "      <td>0.000000</td>\n",
       "      <td>-0.012852</td>\n",
       "      <td>0.009778</td>\n",
       "      <td>0.006088</td>\n",
       "      <td>-0.012252</td>\n",
       "      <td>0.013025</td>\n",
       "      <td>-0.008218</td>\n",
       "      <td>-0.002816</td>\n",
       "    </tr>\n",
       "    <tr>\n",
       "      <th>2020-01-08</th>\n",
       "      <td>-0.023437</td>\n",
       "      <td>-0.011489</td>\n",
       "      <td>0.000000</td>\n",
       "      <td>-0.000138</td>\n",
       "      <td>-0.037685</td>\n",
       "      <td>0.003875</td>\n",
       "      <td>-0.015195</td>\n",
       "      <td>0.005315</td>\n",
       "    </tr>\n",
       "    <tr>\n",
       "      <th>...</th>\n",
       "      <td>...</td>\n",
       "      <td>...</td>\n",
       "      <td>...</td>\n",
       "      <td>...</td>\n",
       "      <td>...</td>\n",
       "      <td>...</td>\n",
       "      <td>...</td>\n",
       "      <td>...</td>\n",
       "    </tr>\n",
       "    <tr>\n",
       "      <th>2021-12-27</th>\n",
       "      <td>0.027979</td>\n",
       "      <td>0.020239</td>\n",
       "      <td>0.026798</td>\n",
       "      <td>0.008404</td>\n",
       "      <td>0.034401</td>\n",
       "      <td>0.019329</td>\n",
       "      <td>0.014157</td>\n",
       "      <td>NaN</td>\n",
       "    </tr>\n",
       "    <tr>\n",
       "      <th>2021-12-28</th>\n",
       "      <td>-0.001230</td>\n",
       "      <td>-0.001938</td>\n",
       "      <td>-0.001925</td>\n",
       "      <td>0.004000</td>\n",
       "      <td>-0.004843</td>\n",
       "      <td>0.018561</td>\n",
       "      <td>-0.003237</td>\n",
       "      <td>NaN</td>\n",
       "    </tr>\n",
       "    <tr>\n",
       "      <th>2021-12-29</th>\n",
       "      <td>-0.002739</td>\n",
       "      <td>-0.005158</td>\n",
       "      <td>-0.009681</td>\n",
       "      <td>0.007020</td>\n",
       "      <td>0.005446</td>\n",
       "      <td>0.002011</td>\n",
       "      <td>-0.008792</td>\n",
       "      <td>NaN</td>\n",
       "    </tr>\n",
       "    <tr>\n",
       "      <th>2021-12-30</th>\n",
       "      <td>-0.008816</td>\n",
       "      <td>-0.004418</td>\n",
       "      <td>-0.004387</td>\n",
       "      <td>0.004420</td>\n",
       "      <td>-0.013366</td>\n",
       "      <td>-0.004969</td>\n",
       "      <td>-0.005905</td>\n",
       "      <td>NaN</td>\n",
       "    </tr>\n",
       "    <tr>\n",
       "      <th>2021-12-31</th>\n",
       "      <td>0.001386</td>\n",
       "      <td>-0.000681</td>\n",
       "      <td>0.014549</td>\n",
       "      <td>-0.007222</td>\n",
       "      <td>0.004272</td>\n",
       "      <td>0.011112</td>\n",
       "      <td>0.006559</td>\n",
       "      <td>NaN</td>\n",
       "    </tr>\n",
       "  </tbody>\n",
       "</table>\n",
       "<p>505 rows × 8 columns</p>\n",
       "</div>"
      ],
      "text/plain": [
       "Ticker           COP       CVX         F       JNJ       MRO       VLO  \\\n",
       "Date                                                                     \n",
       "2020-01-02       NaN       NaN       NaN       NaN       NaN       NaN   \n",
       "2020-01-03  0.003660 -0.003465 -0.022545 -0.011645  0.005104 -0.038687   \n",
       "2020-01-06  0.011802 -0.003394 -0.005444 -0.001249  0.015157  0.000109   \n",
       "2020-01-07  0.000000 -0.012852  0.009778  0.006088 -0.012252  0.013025   \n",
       "2020-01-08 -0.023437 -0.011489  0.000000 -0.000138 -0.037685  0.003875   \n",
       "...              ...       ...       ...       ...       ...       ...   \n",
       "2021-12-27  0.027979  0.020239  0.026798  0.008404  0.034401  0.019329   \n",
       "2021-12-28 -0.001230 -0.001938 -0.001925  0.004000 -0.004843  0.018561   \n",
       "2021-12-29 -0.002739 -0.005158 -0.009681  0.007020  0.005446  0.002011   \n",
       "2021-12-30 -0.008816 -0.004418 -0.004387  0.004420 -0.013366 -0.004969   \n",
       "2021-12-31  0.001386 -0.000681  0.014549 -0.007222  0.004272  0.011112   \n",
       "\n",
       "Ticker           XOM       SPY  \n",
       "Date                            \n",
       "2020-01-02       NaN  0.009309  \n",
       "2020-01-03 -0.008072 -0.007601  \n",
       "2020-01-06  0.007649  0.003808  \n",
       "2020-01-07 -0.008218 -0.002816  \n",
       "2020-01-08 -0.015195  0.005315  \n",
       "...              ...       ...  \n",
       "2021-12-27  0.014157       NaN  \n",
       "2021-12-28 -0.003237       NaN  \n",
       "2021-12-29 -0.008792       NaN  \n",
       "2021-12-30 -0.005905       NaN  \n",
       "2021-12-31  0.006559       NaN  \n",
       "\n",
       "[505 rows x 8 columns]"
      ]
     },
     "execution_count": 74,
     "metadata": {},
     "output_type": "execute_result"
    }
   ],
   "source": [
    "Ret21"
   ]
  },
  {
   "cell_type": "code",
   "execution_count": 75,
   "metadata": {
    "colab": {
     "base_uri": "https://localhost:8080/",
     "height": 484
    },
    "id": "uV6VNYm1NMUl",
    "outputId": "2eade914-3943-42bd-c8c0-f1e743b24eef"
   },
   "outputs": [
    {
     "data": {
      "image/png": "[encoded data removed]",
      "text/plain": [
       "<Figure size 432x288 with 1 Axes>"
      ]
     },
     "metadata": {
      "needs_background": "light"
     },
     "output_type": "display_data"
    }
   ],
   "source": [
    "plt.plot(Ret21) # A quick plot\n",
    "plt.show()"
   ]
  },
  {
   "cell_type": "code",
   "execution_count": 76,
   "metadata": {
    "colab": {
     "base_uri": "https://localhost:8080/",
     "height": 478
    },
    "id": "IyQ3bSRSNZX-",
    "outputId": "eddbcd8c-16f7-4c76-e2a0-dd3a4a6313a0"
   },
   "outputs": [
    {
     "data": {
      "image/png": "[encoded data removed]",
      "text/plain": [
       "<Figure size 432x288 with 1 Axes>"
      ]
     },
     "metadata": {
      "needs_background": "light"
     },
     "output_type": "display_data"
    }
   ],
   "source": [
    "A=Ret21.cumsum()\n",
    "A.plot()\n",
    "plt.show()"
   ]
  },
  {
   "cell_type": "code",
   "execution_count": 77,
   "metadata": {
    "colab": {
     "base_uri": "https://localhost:8080/",
     "height": 478
    },
    "id": "4GAlKpl3QTah",
    "outputId": "1af329cb-8a7d-4c7c-bdc2-37ca83e4a064"
   },
   "outputs": [
    {
     "data": {
      "image/png": "[encoded data removed]",
      "text/plain": [
       "<Figure size 432x288 with 1 Axes>"
      ]
     },
     "metadata": {
      "needs_background": "light"
     },
     "output_type": "display_data"
    }
   ],
   "source": [
    "B=Ret.cumsum()\n",
    "B.plot()\n",
    "plt.show()"
   ]
  },
  {
   "cell_type": "code",
   "execution_count": 78,
   "metadata": {
    "colab": {
     "base_uri": "https://localhost:8080/",
     "height": 368
    },
    "id": "lcdEaSGFWiwI",
    "outputId": "dcc5f99f-456a-40ef-ec5c-d27b638dc8e8"
   },
   "outputs": [
    {
     "data": {
      "image/png": "[encoded data removed]",
      "text/plain": [
       "<Figure size 576x288 with 1 Axes>"
      ]
     },
     "metadata": {
      "needs_background": "light"
     },
     "output_type": "display_data"
    }
   ],
   "source": [
    "Ret['SPY'].hist(bins=50, figsize=(8,4))\n",
    "plt.show()"
   ]
  },
  {
   "cell_type": "code",
   "execution_count": 79,
   "metadata": {
    "colab": {
     "base_uri": "https://localhost:8080/"
    },
    "id": "CUGofSdW7tVI",
    "outputId": "f732569c-e0e4-4f06-9425-9663a4347f91"
   },
   "outputs": [
    {
     "name": "stderr",
     "output_type": "stream",
     "text": [
      "'pwd' 不是内部或外部命令，也不是可运行的程序\n",
      "或批处理文件。\n"
     ]
    }
   ],
   "source": [
    "!pwd"
   ]
  },
  {
   "cell_type": "markdown",
   "metadata": {
    "id": "FE3ldgQZTEDz"
   },
   "source": [
    "# Questions) Say, you want to compare these stocks with existing factors or the interest rates. Plus, you also want to check how business cycles or economic growth affect these stocks and vice versa. What should you do?"
   ]
  },
  {
   "cell_type": "code",
   "execution_count": null,
   "metadata": {},
   "outputs": [],
   "source": []
  }
 ],
 "metadata": {
  "colab": {
   "provenance": []
  },
  "kernelspec": {
   "display_name": "Python 3",
   "language": "python",
   "name": "python3"
  },
  "language_info": {
   "codemirror_mode": {
    "name": "ipython",
    "version": 3
   },
   "file_extension": ".py",
   "mimetype": "text/x-python",
   "name": "python",
   "nbconvert_exporter": "python",
   "pygments_lexer": "ipython3",
   "version": "3.8.8"
  }
 },
 "nbformat": 4,
 "nbformat_minor": 1
}
