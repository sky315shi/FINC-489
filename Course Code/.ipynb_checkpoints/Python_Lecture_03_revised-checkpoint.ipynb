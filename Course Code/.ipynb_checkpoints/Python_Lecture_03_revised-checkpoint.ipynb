{
 "cells": [
  {
   "cell_type": "markdown",
   "metadata": {
    "id": "4sMhCzleIf_L"
   },
   "source": [
    "# Array, Matrices, and Data Handling (with Numpy and Pandas)\n",
    "\n",
    "## Part 2 (More Numpy + Introducing Pandas)\n",
    "\n",
    "In this part, we learn some commands and functions useful for your programming. There are too many functions to cover in this lecture, so we will learn a core set of functions. Then, we add one more library to Python, Pandas, which is useful for data analytics."
   ]
  },
  {
   "cell_type": "markdown",
   "metadata": {
    "id": "G3NJW0FWLSxA"
   },
   "source": [
    "## Contents\n",
    "\n",
    "- Functions and Methods/Properties\n",
    "- Convenient functions\n",
    "- Special Arrays\n",
    "- NaN and Inf\n",
    "- Sorting and Extreme Values"
   ]
  },
  {
   "cell_type": "code",
   "execution_count": 1,
   "metadata": {
    "id": "1TFOMzGTMFxz"
   },
   "outputs": [],
   "source": [
    "import numpy as np"
   ]
  },
  {
   "cell_type": "code",
   "execution_count": 2,
   "metadata": {
    "id": "PYEuC0qiIYtg"
   },
   "outputs": [],
   "source": [
    "#linspace(a,b,n) produces a set of n points with an equal distance between a and b.\n",
    "\n",
    "x=np.linspace(0,10,21)"
   ]
  },
  {
   "cell_type": "code",
   "execution_count": 3,
   "metadata": {
    "colab": {
     "base_uri": "https://localhost:8080/"
    },
    "id": "hoE5LQI3MCJA",
    "outputId": "37b66d07-17ed-44ce-b03c-b8158406ea08"
   },
   "outputs": [
    {
     "data": {
      "text/plain": [
       "array([ 0. ,  0.5,  1. ,  1.5,  2. ,  2.5,  3. ,  3.5,  4. ,  4.5,  5. ,\n",
       "        5.5,  6. ,  6.5,  7. ,  7.5,  8. ,  8.5,  9. ,  9.5, 10. ])"
      ]
     },
     "execution_count": 3,
     "metadata": {},
     "output_type": "execute_result"
    }
   ],
   "source": [
    "x"
   ]
  },
  {
   "cell_type": "code",
   "execution_count": 4,
   "metadata": {
    "colab": {
     "base_uri": "https://localhost:8080/",
     "height": 201
    },
    "id": "POT-OZQOMKlf",
    "outputId": "787536a9-3ba1-444a-d660-37e73823d189"
   },
   "outputs": [],
   "source": [
    "#logspace(a,b,n) is similar to linspace(a,b,n), except taht it makes an array of points between 10**a and 10**b\n",
    "\n",
    "logx = np.logspace(0,1,11)"
   ]
  },
  {
   "cell_type": "code",
   "execution_count": 5,
   "metadata": {
    "colab": {
     "base_uri": "https://localhost:8080/"
    },
    "id": "JeN2y5sMMSXe",
    "outputId": "03ae671d-f385-4426-ad11-52af03b52ecc"
   },
   "outputs": [
    {
     "data": {
      "text/plain": [
       "array([ 1.        ,  1.25892541,  1.58489319,  1.99526231,  2.51188643,\n",
       "        3.16227766,  3.98107171,  5.01187234,  6.30957344,  7.94328235,\n",
       "       10.        ])"
      ]
     },
     "execution_count": 5,
     "metadata": {},
     "output_type": "execute_result"
    }
   ],
   "source": [
    "logx"
   ]
  },
  {
   "cell_type": "markdown",
   "metadata": {
    "id": "zy3LNxVwh3RL"
   },
   "source": [
    "## arange(a,b,s)\n",
    "\n",
    "arange(a,b,n) creates an array of numbers between a and b (b not included) with a distance $s$. So, the main difference between linspace and arange lies in the way the set of points is spaced by. If only one input is provided for the arange, say arange(b), this refers to arange(0,b,1)."
   ]
  },
  {
   "cell_type": "code",
   "execution_count": 6,
   "metadata": {
    "id": "eDR4QoDVMTFu"
   },
   "outputs": [],
   "source": [
    "x = np.arange(11.5)"
   ]
  },
  {
   "cell_type": "code",
   "execution_count": 7,
   "metadata": {
    "colab": {
     "base_uri": "https://localhost:8080/"
    },
    "id": "u_xZwca1McZS",
    "outputId": "9530be20-6b99-4310-b79e-abfc543611b9"
   },
   "outputs": [
    {
     "data": {
      "text/plain": [
       "array([ 0.,  1.,  2.,  3.,  4.,  5.,  6.,  7.,  8.,  9., 10., 11.])"
      ]
     },
     "execution_count": 7,
     "metadata": {},
     "output_type": "execute_result"
    }
   ],
   "source": [
    "x"
   ]
  },
  {
   "cell_type": "code",
   "execution_count": 8,
   "metadata": {
    "id": "Z2nlltSJMcvN"
   },
   "outputs": [],
   "source": [
    "x = np.arange(12)"
   ]
  },
  {
   "cell_type": "code",
   "execution_count": 9,
   "metadata": {
    "colab": {
     "base_uri": "https://localhost:8080/"
    },
    "id": "jnj-Kr3UMhCl",
    "outputId": "13e3e3d1-c769-4b5f-b162-a4d32b4667c1"
   },
   "outputs": [
    {
     "data": {
      "text/plain": [
       "array([ 0,  1,  2,  3,  4,  5,  6,  7,  8,  9, 10, 11])"
      ]
     },
     "execution_count": 9,
     "metadata": {},
     "output_type": "execute_result"
    }
   ],
   "source": [
    "x"
   ]
  },
  {
   "cell_type": "code",
   "execution_count": 10,
   "metadata": {
    "colab": {
     "base_uri": "https://localhost:8080/"
    },
    "id": "QHWmkfZXjBKN",
    "outputId": "5d19d4c1-623e-43b4-f3da-c67a80a19e54"
   },
   "outputs": [
    {
     "data": {
      "text/plain": [
       "array([1. , 1.3, 1.6, 1.9, 2.2, 2.5, 2.8, 3.1, 3.4, 3.7, 4. , 4.3, 4.6,\n",
       "       4.9, 5.2, 5.5, 5.8, 6.1, 6.4, 6.7, 7. , 7.3, 7.6, 7.9, 8.2, 8.5,\n",
       "       8.8, 9.1, 9.4, 9.7])"
      ]
     },
     "execution_count": 10,
     "metadata": {},
     "output_type": "execute_result"
    }
   ],
   "source": [
    "x=np.arange(1,10,.3)\n",
    "x"
   ]
  },
  {
   "cell_type": "markdown",
   "metadata": {
    "id": "U5AUVxwejK3N"
   },
   "source": [
    "# You can create a mesh grid"
   ]
  },
  {
   "cell_type": "code",
   "execution_count": 11,
   "metadata": {
    "id": "HqlvXOA_MhV0"
   },
   "outputs": [],
   "source": [
    "x = np.arange(5)\n",
    "y = np.arange(3)"
   ]
  },
  {
   "cell_type": "code",
   "execution_count": 12,
   "metadata": {
    "id": "50nKYTeGMoPl"
   },
   "outputs": [],
   "source": [
    "X,Y = np.meshgrid(x,y)"
   ]
  },
  {
   "cell_type": "code",
   "execution_count": 13,
   "metadata": {
    "colab": {
     "base_uri": "https://localhost:8080/"
    },
    "id": "x9SNX1e9MqZN",
    "outputId": "e2b14ee3-024a-4414-8c9e-b0cd95ac7d8b"
   },
   "outputs": [
    {
     "data": {
      "text/plain": [
       "array([[0, 1, 2, 3, 4],\n",
       "       [0, 1, 2, 3, 4],\n",
       "       [0, 1, 2, 3, 4]])"
      ]
     },
     "execution_count": 13,
     "metadata": {},
     "output_type": "execute_result"
    }
   ],
   "source": [
    "X"
   ]
  },
  {
   "cell_type": "code",
   "execution_count": 14,
   "metadata": {
    "colab": {
     "base_uri": "https://localhost:8080/"
    },
    "id": "Gz6RgIksMtyK",
    "outputId": "cbe772d6-a9c1-4b15-f02c-01d31961a448"
   },
   "outputs": [
    {
     "data": {
      "text/plain": [
       "array([[0, 0, 0, 0, 0],\n",
       "       [1, 1, 1, 1, 1],\n",
       "       [2, 2, 2, 2, 2]])"
      ]
     },
     "execution_count": 14,
     "metadata": {},
     "output_type": "execute_result"
    }
   ],
   "source": [
    "Y"
   ]
  },
  {
   "cell_type": "code",
   "execution_count": 15,
   "metadata": {
    "colab": {
     "base_uri": "https://localhost:8080/"
    },
    "id": "k-SX_xz1MuNH",
    "outputId": "1a8b185f-1f5a-42e0-d395-971984242039"
   },
   "outputs": [
    {
     "data": {
      "text/plain": [
       "array([0. , 0.5, 1. , 1.5, 2. , 2.5, 3. , 3.5, 4. , 4.5, 5. , 5.5, 6. ,\n",
       "       6.5, 7. , 7.5, 8. , 8.5, 9. , 9.5])"
      ]
     },
     "execution_count": 15,
     "metadata": {},
     "output_type": "execute_result"
    }
   ],
   "source": [
    "np.r_[0:10:.5] # arange equivalent"
   ]
  },
  {
   "cell_type": "code",
   "execution_count": 16,
   "metadata": {
    "colab": {
     "base_uri": "https://localhost:8080/"
    },
    "id": "_18ARIVvM5yT",
    "outputId": "d02d485a-dbdc-4fa1-c5fb-13a3a045e1ff"
   },
   "outputs": [
    {
     "data": {
      "text/plain": [
       "array([0. , 0.3, 0.6, 0.9, 1.2, 1.5, 1.8, 2.1, 2.4, 2.7, 3. , 3.3, 3.6,\n",
       "       3.9, 4.2, 4.5, 4.8, 5.1, 5.4, 5.7, 6. , 6.3, 6.6, 6.9, 7.2, 7.5,\n",
       "       7.8, 8.1, 8.4, 8.7, 9. , 9.3, 9.6, 9.9])"
      ]
     },
     "execution_count": 16,
     "metadata": {},
     "output_type": "execute_result"
    }
   ],
   "source": [
    "np.r_[0:10:0.3]"
   ]
  },
  {
   "cell_type": "code",
   "execution_count": 17,
   "metadata": {
    "id": "vhjNjirLNAXK"
   },
   "outputs": [],
   "source": [
    "# Additional related commands to check\n",
    "# c_, ix_, mgrid_, ogrid_,..."
   ]
  },
  {
   "cell_type": "code",
   "execution_count": null,
   "metadata": {
    "id": "C2_THvMVJUUA"
   },
   "outputs": [],
   "source": []
  },
  {
   "cell_type": "code",
   "execution_count": 18,
   "metadata": {
    "colab": {
     "base_uri": "https://localhost:8080/"
    },
    "id": "d05OsZchNfDC",
    "outputId": "2a667ad0-82d8-49df-d404-2dbf2ff4b1ce"
   },
   "outputs": [
    {
     "data": {
      "text/plain": [
       "array([[-0.50673698, -0.25009892, -0.01920054,  0.52970537,  0.61354357,\n",
       "         0.96921989,  1.10491053, -0.27216524, -2.02621729, -1.06230206],\n",
       "       [-0.67587975, -4.70754784,  1.43732375,  1.67784936,  0.53910777,\n",
       "         0.11571398, -0.41932509,  1.68539043, -0.37220132, -0.21367025]])"
      ]
     },
     "execution_count": 18,
     "metadata": {},
     "output_type": "execute_result"
    }
   ],
   "source": [
    "# Can we generate random (normal distribution) array?\n",
    "\n",
    "x = np.random.randn(2,10)\n",
    "x"
   ]
  },
  {
   "cell_type": "markdown",
   "metadata": {
    "id": "xltreXEEJvbR"
   },
   "source": [
    "## You can create random samples from various other distributions:\n",
    "https://numpy.org/doc/1.16/reference/routines.random.html"
   ]
  },
  {
   "cell_type": "code",
   "execution_count": 19,
   "metadata": {
    "colab": {
     "base_uri": "https://localhost:8080/"
    },
    "id": "YJMafLKXJu0M",
    "outputId": "41f0ee24-c02a-4f4b-a95f-766468b9fdd2"
   },
   "outputs": [
    {
     "data": {
      "text/plain": [
       "array([[-0.67587975, -4.70754784,  1.43732375,  1.67784936,  0.53910777,\n",
       "         0.11571398, -0.41932509,  1.68539043, -0.37220132, -0.21367025],\n",
       "       [-0.50673698, -0.25009892, -0.01920054,  0.52970537,  0.61354357,\n",
       "         0.96921989,  1.10491053, -0.27216524, -2.02621729, -1.06230206]])"
      ]
     },
     "execution_count": 19,
     "metadata": {},
     "output_type": "execute_result"
    }
   ],
   "source": [
    "#random permutation of x drawn above\n",
    "np.random.permutation(x)"
   ]
  },
  {
   "cell_type": "code",
   "execution_count": 20,
   "metadata": {
    "colab": {
     "base_uri": "https://localhost:8080/"
    },
    "id": "BGYgUJ-yNpwg",
    "outputId": "74142730-f26e-4da4-a1c0-40ef1b5c8abf"
   },
   "outputs": [
    {
     "data": {
      "text/plain": [
       "-1.8525806217517637"
      ]
     },
     "execution_count": 20,
     "metadata": {},
     "output_type": "execute_result"
    }
   ],
   "source": [
    "np.sum(x)"
   ]
  },
  {
   "cell_type": "code",
   "execution_count": 21,
   "metadata": {
    "colab": {
     "base_uri": "https://localhost:8080/"
    },
    "id": "f_f1xQG_mhvA",
    "outputId": "9b07c2b4-1c8d-47b3-fa77-72592714ed6a"
   },
   "outputs": [
    {
     "data": {
      "text/plain": [
       "-1.8525806217517637"
      ]
     },
     "execution_count": 21,
     "metadata": {},
     "output_type": "execute_result"
    }
   ],
   "source": [
    "x.sum()"
   ]
  },
  {
   "cell_type": "code",
   "execution_count": 22,
   "metadata": {
    "colab": {
     "base_uri": "https://localhost:8080/"
    },
    "id": "l_iFcLnON_Iy",
    "outputId": "ad5cb5e1-1212-4846-dc56-a93e86187e42"
   },
   "outputs": [
    {
     "data": {
      "text/plain": [
       "array([-0.91934168, -0.93323894])"
      ]
     },
     "execution_count": 22,
     "metadata": {},
     "output_type": "execute_result"
    }
   ],
   "source": [
    "np.sum(x,1)"
   ]
  },
  {
   "cell_type": "code",
   "execution_count": 23,
   "metadata": {
    "colab": {
     "base_uri": "https://localhost:8080/"
    },
    "id": "p0DYvwz-nRER",
    "outputId": "0b813e92-22df-411e-8861-32889445bb5c"
   },
   "outputs": [
    {
     "data": {
      "text/plain": [
       "array([-0.91934168, -0.93323894])"
      ]
     },
     "execution_count": 23,
     "metadata": {},
     "output_type": "execute_result"
    }
   ],
   "source": [
    "x.sum(1)"
   ]
  },
  {
   "cell_type": "code",
   "execution_count": 24,
   "metadata": {
    "colab": {
     "base_uri": "https://localhost:8080/"
    },
    "id": "iRdSc7rYOOwl",
    "outputId": "66e34abd-9a6c-46a6-82ee-6905064062fe"
   },
   "outputs": [
    {
     "data": {
      "text/plain": [
       "array([-1.18261673, -4.95764676,  1.41812321,  2.20755474,  1.15265134,\n",
       "        1.08493387,  0.68558544,  1.41322519, -2.39841861, -1.27597231])"
      ]
     },
     "execution_count": 24,
     "metadata": {},
     "output_type": "execute_result"
    }
   ],
   "source": [
    "np.sum(x,0)"
   ]
  },
  {
   "cell_type": "code",
   "execution_count": 25,
   "metadata": {
    "colab": {
     "base_uri": "https://localhost:8080/"
    },
    "id": "7sUvCo6VOSmH",
    "outputId": "0e90b632-bbad-4478-f268-36a5353aa44d"
   },
   "outputs": [
    {
     "data": {
      "text/plain": [
       "array([[-0.50673698, -0.25009892, -0.01920054,  0.52970537,  0.61354357,\n",
       "         0.96921989,  1.10491053, -0.27216524, -2.02621729, -1.06230206],\n",
       "       [-1.18261673, -4.95764676,  1.41812321,  2.20755474,  1.15265134,\n",
       "         1.08493387,  0.68558544,  1.41322519, -2.39841861, -1.27597231]])"
      ]
     },
     "execution_count": 25,
     "metadata": {},
     "output_type": "execute_result"
    }
   ],
   "source": [
    "np.cumsum(x,0)"
   ]
  },
  {
   "cell_type": "code",
   "execution_count": 26,
   "metadata": {
    "colab": {
     "base_uri": "https://localhost:8080/"
    },
    "id": "y5ZDqWvIOhAR",
    "outputId": "ca90a635-db7b-4648-e41e-16d6ce298485"
   },
   "outputs": [
    {
     "data": {
      "text/plain": [
       "array([[-0.50673698, -0.7568359 , -0.77603645, -0.24633107,  0.3672125 ,\n",
       "         1.33643238,  2.44134291,  2.16917767,  0.14296038, -0.91934168],\n",
       "       [-0.67587975, -5.38342758, -3.94610383, -2.26825447, -1.7291467 ,\n",
       "        -1.61343271, -2.0327578 , -0.34736738, -0.71956869, -0.93323894]])"
      ]
     },
     "execution_count": 26,
     "metadata": {},
     "output_type": "execute_result"
    }
   ],
   "source": [
    "np.cumsum(x,1)"
   ]
  },
  {
   "cell_type": "code",
   "execution_count": 27,
   "metadata": {
    "colab": {
     "base_uri": "https://localhost:8080/"
    },
    "id": "pyMxPi45OoW8",
    "outputId": "fd701893-3938-4fe4-f712-e334849c3f76"
   },
   "outputs": [
    {
     "data": {
      "text/plain": [
       "array([[-0.50673698, -0.7568359 , -0.77603645, -0.24633107,  0.3672125 ,\n",
       "         1.33643238,  2.44134291,  2.16917767,  0.14296038, -0.91934168],\n",
       "       [-0.67587975, -5.38342758, -3.94610383, -2.26825447, -1.7291467 ,\n",
       "        -1.61343271, -2.0327578 , -0.34736738, -0.71956869, -0.93323894]])"
      ]
     },
     "execution_count": 27,
     "metadata": {},
     "output_type": "execute_result"
    }
   ],
   "source": [
    "# As methods,...\n",
    "x.cumsum(1)"
   ]
  },
  {
   "cell_type": "code",
   "execution_count": 28,
   "metadata": {
    "colab": {
     "base_uri": "https://localhost:8080/"
    },
    "id": "RpPWMcESOuj5",
    "outputId": "34dd6404-deaa-4d0b-92fc-e34a0d440d7c"
   },
   "outputs": [
    {
     "data": {
      "text/plain": [
       "array([[-0.50673698, -0.25009892, -0.01920054,  0.52970537,  0.61354357,\n",
       "         0.96921989,  1.10491053, -0.27216524, -2.02621729, -1.06230206],\n",
       "       [-1.18261673, -4.95764676,  1.41812321,  2.20755474,  1.15265134,\n",
       "         1.08493387,  0.68558544,  1.41322519, -2.39841861, -1.27597231]])"
      ]
     },
     "execution_count": 28,
     "metadata": {},
     "output_type": "execute_result"
    }
   ],
   "source": [
    "x.cumsum(0)"
   ]
  },
  {
   "cell_type": "code",
   "execution_count": 29,
   "metadata": {
    "colab": {
     "base_uri": "https://localhost:8080/"
    },
    "id": "Ri92mEbXO-kj",
    "outputId": "37336dec-95fe-48e8-9a25-26a0b8787f02"
   },
   "outputs": [
    {
     "data": {
      "text/plain": [
       "array([[-0.50673698, -0.25009892, -0.01920054,  0.52970537,  0.61354357,\n",
       "         0.96921989,  1.10491053, -0.27216524, -2.02621729, -1.06230206],\n",
       "       [-0.67587975, -4.70754784,  1.43732375,  1.67784936,  0.53910777,\n",
       "         0.11571398, -0.41932509,  1.68539043, -0.37220132, -0.21367025]])"
      ]
     },
     "execution_count": 29,
     "metadata": {},
     "output_type": "execute_result"
    }
   ],
   "source": [
    "x"
   ]
  },
  {
   "cell_type": "code",
   "execution_count": 30,
   "metadata": {
    "colab": {
     "base_uri": "https://localhost:8080/"
    },
    "id": "0v6ZmB5oPGle",
    "outputId": "8e143192-a812-4709-8021-74a25ebe55c1"
   },
   "outputs": [
    {
     "data": {
      "text/plain": [
       "array([[ 0.25663806,  0.23089838,  0.54890592,  0.08383819,  0.35567632,\n",
       "         0.13569064, -1.37707577, -1.75405205,  0.96391524],\n",
       "       [-4.03166809,  6.14487159,  0.24052561, -1.13874159, -0.42339379,\n",
       "        -0.53503907,  2.10471552, -2.05759174,  0.15853107]])"
      ]
     },
     "execution_count": 30,
     "metadata": {},
     "output_type": "execute_result"
    }
   ],
   "source": [
    "np.diff(x)"
   ]
  },
  {
   "cell_type": "code",
   "execution_count": 31,
   "metadata": {
    "colab": {
     "base_uri": "https://localhost:8080/"
    },
    "id": "FflTY6a-PQ_9",
    "outputId": "91f93525-fb9e-4787-b6dd-628218d77080"
   },
   "outputs": [
    {
     "data": {
      "text/plain": [
       "array([[-0.16914277, -4.45744891,  1.45652429,  1.14814399, -0.07443579,\n",
       "        -0.8535059 , -1.52423562,  1.95755567,  1.65401598,  0.84863181]])"
      ]
     },
     "execution_count": 31,
     "metadata": {},
     "output_type": "execute_result"
    }
   ],
   "source": [
    "np.diff(x,axis=0)"
   ]
  },
  {
   "cell_type": "code",
   "execution_count": 32,
   "metadata": {
    "colab": {
     "base_uri": "https://localhost:8080/"
    },
    "id": "X-emNcxCPcm0",
    "outputId": "9fbf82a5-f43c-4055-c2b7-17955366075b"
   },
   "outputs": [
    {
     "data": {
      "text/plain": [
       "array([[-0.16914277, -4.45744891,  1.45652429,  1.14814399, -0.07443579,\n",
       "        -0.8535059 , -1.52423562,  1.95755567,  1.65401598,  0.84863181]])"
      ]
     },
     "execution_count": 32,
     "metadata": {},
     "output_type": "execute_result"
    }
   ],
   "source": [
    "np.diff(x,1,axis=0)"
   ]
  },
  {
   "cell_type": "markdown",
   "metadata": {
    "id": "Nmc-1pKwP-eD"
   },
   "source": [
    "## Sorting?"
   ]
  },
  {
   "cell_type": "code",
   "execution_count": 33,
   "metadata": {
    "id": "FsKB5K1MP3xT"
   },
   "outputs": [],
   "source": [
    "x = np.random.randn(5,3)"
   ]
  },
  {
   "cell_type": "code",
   "execution_count": 34,
   "metadata": {
    "colab": {
     "base_uri": "https://localhost:8080/"
    },
    "id": "iClmCoeTQE01",
    "outputId": "866a5914-85c4-4be2-fdbb-78b245a06d27"
   },
   "outputs": [
    {
     "data": {
      "text/plain": [
       "array([[-1.99571195, -1.44261688,  2.11716732],\n",
       "       [ 0.58139515,  0.23030174,  0.73083982],\n",
       "       [ 1.10361846, -0.25402342, -0.62177902],\n",
       "       [-0.16136988,  0.16125194, -0.39747914],\n",
       "       [-1.38981832, -0.90989114, -0.97725964]])"
      ]
     },
     "execution_count": 34,
     "metadata": {},
     "output_type": "execute_result"
    }
   ],
   "source": [
    "x"
   ]
  },
  {
   "cell_type": "code",
   "execution_count": 35,
   "metadata": {
    "colab": {
     "base_uri": "https://localhost:8080/"
    },
    "id": "qTbre8aEQFOX",
    "outputId": "206f7c49-7397-474c-90c6-972e7de7fd91"
   },
   "outputs": [
    {
     "data": {
      "text/plain": [
       "array([[-1.99571195, -1.44261688,  2.11716732],\n",
       "       [ 0.23030174,  0.58139515,  0.73083982],\n",
       "       [-0.62177902, -0.25402342,  1.10361846],\n",
       "       [-0.39747914, -0.16136988,  0.16125194],\n",
       "       [-1.38981832, -0.97725964, -0.90989114]])"
      ]
     },
     "execution_count": 35,
     "metadata": {},
     "output_type": "execute_result"
    }
   ],
   "source": [
    "np.sort(x)"
   ]
  },
  {
   "cell_type": "code",
   "execution_count": 36,
   "metadata": {
    "colab": {
     "base_uri": "https://localhost:8080/"
    },
    "id": "S72tzLQgQHGA",
    "outputId": "ecfb5337-b931-42c7-fdc9-8eb71ad28900"
   },
   "outputs": [
    {
     "data": {
      "text/plain": [
       "array([[-1.99571195, -1.44261688, -0.97725964],\n",
       "       [-1.38981832, -0.90989114, -0.62177902],\n",
       "       [-0.16136988, -0.25402342, -0.39747914],\n",
       "       [ 0.58139515,  0.16125194,  0.73083982],\n",
       "       [ 1.10361846,  0.23030174,  2.11716732]])"
      ]
     },
     "execution_count": 36,
     "metadata": {},
     "output_type": "execute_result"
    }
   ],
   "source": [
    "np.sort(x,0)"
   ]
  },
  {
   "cell_type": "code",
   "execution_count": 37,
   "metadata": {
    "colab": {
     "base_uri": "https://localhost:8080/"
    },
    "id": "lr5NNsmFQMiZ",
    "outputId": "7b9c213e-a138-4fc5-cbf2-a6688308ce30"
   },
   "outputs": [
    {
     "data": {
      "text/plain": [
       "array([-1.99571195, -1.44261688, -1.38981832, -0.97725964, -0.90989114,\n",
       "       -0.62177902, -0.39747914, -0.25402342, -0.16136988,  0.16125194,\n",
       "        0.23030174,  0.58139515,  0.73083982,  1.10361846,  2.11716732])"
      ]
     },
     "execution_count": 37,
     "metadata": {},
     "output_type": "execute_result"
    }
   ],
   "source": [
    "np.sort(x,axis=None)"
   ]
  },
  {
   "cell_type": "code",
   "execution_count": null,
   "metadata": {
    "id": "HxFVy1xzQSXy"
   },
   "outputs": [],
   "source": []
  },
  {
   "cell_type": "markdown",
   "metadata": {
    "id": "wk_mPQUijpk4"
   },
   "source": [
    "## Nan Functions"
   ]
  },
  {
   "cell_type": "code",
   "execution_count": 38,
   "metadata": {
    "colab": {
     "base_uri": "https://localhost:8080/"
    },
    "id": "x9WCF-SPj0CX",
    "outputId": "a8f8c4c3-852d-474e-aee6-27a54a70537a"
   },
   "outputs": [
    {
     "data": {
      "text/plain": [
       "array([-2.46492526, -0.24485475,  1.96747993,  0.6757862 , -0.59534472])"
      ]
     },
     "execution_count": 38,
     "metadata": {},
     "output_type": "execute_result"
    }
   ],
   "source": [
    "x = np.random.randn(5)\n",
    "x"
   ]
  },
  {
   "cell_type": "code",
   "execution_count": 39,
   "metadata": {
    "colab": {
     "base_uri": "https://localhost:8080/"
    },
    "id": "7Sb-4Z5zkBmu",
    "outputId": "f5b934f1-0113-4aba-f0e7-27a0b052de38"
   },
   "outputs": [
    {
     "data": {
      "text/plain": [
       "array([-2.46492526,         nan,  1.96747993,  0.6757862 , -0.59534472])"
      ]
     },
     "execution_count": 39,
     "metadata": {},
     "output_type": "execute_result"
    }
   ],
   "source": [
    "x[1]= np.nan #You can add a nan number using this way.\n",
    "x"
   ]
  },
  {
   "cell_type": "code",
   "execution_count": 40,
   "metadata": {
    "colab": {
     "base_uri": "https://localhost:8080/"
    },
    "id": "Al1crMKEkQTg",
    "outputId": "f628305d-0ee2-4b90-e2cd-51a9e316cfc3"
   },
   "outputs": [
    {
     "data": {
      "text/plain": [
       "nan"
      ]
     },
     "execution_count": 40,
     "metadata": {},
     "output_type": "execute_result"
    }
   ],
   "source": [
    "np.sum(x)"
   ]
  },
  {
   "cell_type": "code",
   "execution_count": 41,
   "metadata": {
    "colab": {
     "base_uri": "https://localhost:8080/"
    },
    "id": "lSV5DJJnkTtD",
    "outputId": "f22a67b4-db51-4330-c32a-70990e6b236a"
   },
   "outputs": [
    {
     "data": {
      "text/plain": [
       "-0.417003845039024"
      ]
     },
     "execution_count": 41,
     "metadata": {},
     "output_type": "execute_result"
    }
   ],
   "source": [
    "np.nansum(x)"
   ]
  },
  {
   "cell_type": "code",
   "execution_count": 42,
   "metadata": {
    "colab": {
     "base_uri": "https://localhost:8080/"
    },
    "id": "mh0YYlwekpHZ",
    "outputId": "1a03b52a-869b-447d-e93e-7ffc26c16855"
   },
   "outputs": [
    {
     "data": {
      "text/plain": [
       "-0.417003845039024"
      ]
     },
     "execution_count": 42,
     "metadata": {},
     "output_type": "execute_result"
    }
   ],
   "source": [
    "sum(x[np.logical_not(np.isnan(x))]) # A verbose, alternative way"
   ]
  },
  {
   "cell_type": "code",
   "execution_count": 43,
   "metadata": {
    "colab": {
     "base_uri": "https://localhost:8080/"
    },
    "id": "ETfVaiLZk_GL",
    "outputId": "daccdc82-293d-4098-f86b-d63640e3ab17"
   },
   "outputs": [
    {
     "data": {
      "text/plain": [
       "array([False,  True, False, False, False])"
      ]
     },
     "execution_count": 43,
     "metadata": {},
     "output_type": "execute_result"
    }
   ],
   "source": [
    "np.isnan(x) # What does 'isnan' do?"
   ]
  },
  {
   "cell_type": "code",
   "execution_count": 44,
   "metadata": {
    "colab": {
     "base_uri": "https://localhost:8080/"
    },
    "id": "V-tHeY2Skc5w",
    "outputId": "cf9e3e20-1432-4a36-ff6b-8ce7c8da8a98"
   },
   "outputs": [
    {
     "data": {
      "text/plain": [
       "nan"
      ]
     },
     "execution_count": 44,
     "metadata": {},
     "output_type": "execute_result"
    }
   ],
   "source": [
    "np.mean(x)"
   ]
  },
  {
   "cell_type": "code",
   "execution_count": 45,
   "metadata": {
    "colab": {
     "base_uri": "https://localhost:8080/"
    },
    "id": "SKkkOmGekg7c",
    "outputId": "7fe94128-70e7-4ad4-eb4e-0ef1eb6c73d7"
   },
   "outputs": [
    {
     "data": {
      "text/plain": [
       "-0.104250961259756"
      ]
     },
     "execution_count": 45,
     "metadata": {},
     "output_type": "execute_result"
    }
   ],
   "source": [
    "np.nanmean(x)"
   ]
  },
  {
   "cell_type": "code",
   "execution_count": 46,
   "metadata": {
    "colab": {
     "base_uri": "https://localhost:8080/"
    },
    "id": "U8b7FQdbl-BR",
    "outputId": "60ab7d0a-0364-45fb-f3b9-2692278f1b86"
   },
   "outputs": [
    {
     "data": {
      "text/plain": [
       "array([-2.46492526, -2.46492526, -0.49744533,  0.17834087, -0.41700385])"
      ]
     },
     "execution_count": 46,
     "metadata": {},
     "output_type": "execute_result"
    }
   ],
   "source": [
    "np.nancumsum(x)"
   ]
  },
  {
   "cell_type": "markdown",
   "metadata": {
    "id": "cv2k_MNkj1fu"
   },
   "source": [
    "Also check nanmax, nanargmax, nanmin, nanargmin, etc."
   ]
  },
  {
   "cell_type": "markdown",
   "metadata": {
    "id": "ZFnvNw6fmdOZ"
   },
   "source": [
    "# There are useful functions that generate arrays we often need to build\n",
    "\n",
    "## ones\n",
    "## zeros\n",
    "## empty\n",
    "## eye, identity\n",
    "\n"
   ]
  },
  {
   "cell_type": "code",
   "execution_count": 47,
   "metadata": {
    "colab": {
     "base_uri": "https://localhost:8080/"
    },
    "id": "NbexuxmRlTA1",
    "outputId": "b8bb2100-348c-4fb7-e7ec-8ebba8417c94"
   },
   "outputs": [
    {
     "data": {
      "text/plain": [
       "array([[1., 1., 1.],\n",
       "       [1., 1., 1.],\n",
       "       [1., 1., 1.]])"
      ]
     },
     "execution_count": 47,
     "metadata": {},
     "output_type": "execute_result"
    }
   ],
   "source": [
    "np.ones((3,3))"
   ]
  },
  {
   "cell_type": "code",
   "execution_count": 48,
   "metadata": {
    "colab": {
     "base_uri": "https://localhost:8080/"
    },
    "id": "o0XJeh1tnAlq",
    "outputId": "b146678d-0e28-4cda-9717-2ee88eba83f7"
   },
   "outputs": [
    {
     "data": {
      "text/plain": [
       "array([[0., 0., 0.],\n",
       "       [0., 0., 0.],\n",
       "       [0., 0., 0.]])"
      ]
     },
     "execution_count": 48,
     "metadata": {},
     "output_type": "execute_result"
    }
   ],
   "source": [
    "np.zeros((3,3))"
   ]
  },
  {
   "cell_type": "code",
   "execution_count": 49,
   "metadata": {
    "colab": {
     "base_uri": "https://localhost:8080/"
    },
    "id": "oggMU_8XnLRy",
    "outputId": "d5f7ac7f-929d-4d68-821e-854559c348ac"
   },
   "outputs": [
    {
     "data": {
      "text/plain": [
       "array([[-2.46492526,  1.96747993],\n",
       "       [ 0.6757862 , -0.59534472]])"
      ]
     },
     "execution_count": 49,
     "metadata": {},
     "output_type": "execute_result"
    }
   ],
   "source": [
    "np.empty((2,2))"
   ]
  },
  {
   "cell_type": "code",
   "execution_count": 50,
   "metadata": {
    "colab": {
     "base_uri": "https://localhost:8080/"
    },
    "id": "OGqGNjPRnQ06",
    "outputId": "0697840e-aef2-44bc-a3cf-e8dd03057364"
   },
   "outputs": [
    {
     "data": {
      "text/plain": [
       "array([[1., 0., 0., 0., 0.],\n",
       "       [0., 1., 0., 0., 0.],\n",
       "       [0., 0., 1., 0., 0.],\n",
       "       [0., 0., 0., 1., 0.],\n",
       "       [0., 0., 0., 0., 1.]])"
      ]
     },
     "execution_count": 50,
     "metadata": {},
     "output_type": "execute_result"
    }
   ],
   "source": [
    "np.eye(5)"
   ]
  },
  {
   "cell_type": "markdown",
   "metadata": {
    "id": "N733_n_wjUcw"
   },
   "source": [
    "## Reshaping arrays\n",
    "You can reshape or resize ndarray objects. Reshape function provides another view on the same data points, whereas Resize function produces a new object.\n"
   ]
  },
  {
   "cell_type": "code",
   "execution_count": 51,
   "metadata": {
    "id": "UzyrYVbynfIe"
   },
   "outputs": [],
   "source": [
    "X = np.arange(16)"
   ]
  },
  {
   "cell_type": "code",
   "execution_count": 52,
   "metadata": {
    "colab": {
     "base_uri": "https://localhost:8080/"
    },
    "id": "ND4Dg4mskAmM",
    "outputId": "98f367f9-0a79-4769-af6f-13c0e1f5c8d4"
   },
   "outputs": [
    {
     "data": {
      "text/plain": [
       "array([ 0,  1,  2,  3,  4,  5,  6,  7,  8,  9, 10, 11, 12, 13, 14, 15])"
      ]
     },
     "execution_count": 52,
     "metadata": {},
     "output_type": "execute_result"
    }
   ],
   "source": [
    "X"
   ]
  },
  {
   "cell_type": "code",
   "execution_count": 53,
   "metadata": {
    "colab": {
     "base_uri": "https://localhost:8080/"
    },
    "id": "szQABceOkHgX",
    "outputId": "adb496b8-b755-4eb8-d26b-4b3c84d436be"
   },
   "outputs": [
    {
     "data": {
      "text/plain": [
       "array([ 0, 20,  2,  3,  4,  5,  6,  7,  8,  9, 10, 11, 12, 13, 14, 15])"
      ]
     },
     "execution_count": 53,
     "metadata": {},
     "output_type": "execute_result"
    }
   ],
   "source": [
    "X[1] =20 # Remeber, you can modify some elements in array.\n",
    "X"
   ]
  },
  {
   "cell_type": "code",
   "execution_count": 54,
   "metadata": {
    "colab": {
     "base_uri": "https://localhost:8080/"
    },
    "id": "wKA82AEXks5i",
    "outputId": "eb80811a-cd5c-4ff7-a22f-d1694d36e4cb"
   },
   "outputs": [
    {
     "data": {
      "text/plain": [
       "(16,)"
      ]
     },
     "execution_count": 54,
     "metadata": {},
     "output_type": "execute_result"
    }
   ],
   "source": [
    "X.shape"
   ]
  },
  {
   "cell_type": "code",
   "execution_count": 55,
   "metadata": {
    "colab": {
     "base_uri": "https://localhost:8080/"
    },
    "id": "cu8XlGahqh5f",
    "outputId": "ece19e37-bd1a-489b-9e54-15009c84318f"
   },
   "outputs": [
    {
     "data": {
      "text/plain": [
       "array([[ 0, 20,  2,  3,  4,  5,  6,  7],\n",
       "       [ 8,  9, 10, 11, 12, 13, 14, 15]])"
      ]
     },
     "execution_count": 55,
     "metadata": {},
     "output_type": "execute_result"
    }
   ],
   "source": [
    "X = np.reshape(X,(2,8))\n",
    "X"
   ]
  },
  {
   "cell_type": "code",
   "execution_count": 56,
   "metadata": {
    "colab": {
     "base_uri": "https://localhost:8080/"
    },
    "id": "F3u4jqsHlcf6",
    "outputId": "f1b4f006-e993-49fe-ac5b-c1a8b36e6917"
   },
   "outputs": [
    {
     "data": {
      "text/plain": [
       "array([[ 0, 20,  2],\n",
       "       [ 3,  4,  5],\n",
       "       [ 6,  7,  8]])"
      ]
     },
     "execution_count": 56,
     "metadata": {},
     "output_type": "execute_result"
    }
   ],
   "source": [
    "X2 = np.resize(X,(3,3))\n",
    "X2"
   ]
  },
  {
   "cell_type": "code",
   "execution_count": 57,
   "metadata": {
    "colab": {
     "base_uri": "https://localhost:8080/"
    },
    "id": "2ryD7SBQl0Gc",
    "outputId": "8d1010db-23aa-4ec3-c353-a2f4a08e4d46"
   },
   "outputs": [
    {
     "data": {
      "text/plain": [
       "array([[ 0, 20,  2,  3,  4],\n",
       "       [ 5,  6,  7,  8,  9]])"
      ]
     },
     "execution_count": 57,
     "metadata": {},
     "output_type": "execute_result"
    }
   ],
   "source": [
    "X3 = np.resize(X,(2,5))\n",
    "X3"
   ]
  },
  {
   "cell_type": "code",
   "execution_count": 58,
   "metadata": {
    "colab": {
     "base_uri": "https://localhost:8080/"
    },
    "id": "nB4M7AbWmDsy",
    "outputId": "2a2792f6-bcc1-46cc-809a-0a5c4e7e8179"
   },
   "outputs": [
    {
     "data": {
      "text/plain": [
       "array([[ 0, 20,  2,  3,  4],\n",
       "       [ 5,  6,  7,  8,  9],\n",
       "       [10, 11, 12, 13, 14],\n",
       "       [15,  0, 20,  2,  3],\n",
       "       [ 4,  5,  6,  7,  8]])"
      ]
     },
     "execution_count": 58,
     "metadata": {},
     "output_type": "execute_result"
    }
   ],
   "source": [
    "X4 = np.resize(X,(5,5))\n",
    "X4"
   ]
  },
  {
   "cell_type": "markdown",
   "metadata": {
    "id": "9PgR2-DVqKgE"
   },
   "source": [
    "# Linear algebra functions\n",
    "\n",
    "Note: Not all, but some functions use the following format (numpy.linalg.XXX)\n",
    "\n",
    "## T or transpose\n",
    "## diag\n",
    "## triu, tril\n",
    "## linalg.svd\n",
    "\n",
    "## lstsq\n",
    "## cholesky\n",
    "## det\n",
    "## eig\n",
    "## inv\n",
    "## trace\n",
    "## kron\n",
    "## matrix_rank"
   ]
  },
  {
   "cell_type": "code",
   "execution_count": 59,
   "metadata": {
    "colab": {
     "base_uri": "https://localhost:8080/"
    },
    "id": "9trlqJ-DwyV9",
    "outputId": "0e5d3e97-88c6-4b90-a1a2-e1993b6a1cfa"
   },
   "outputs": [
    {
     "data": {
      "text/plain": [
       "array([[ 0, 20,  2,  3,  4,  5,  6,  7],\n",
       "       [ 8,  9, 10, 11, 12, 13, 14, 15]])"
      ]
     },
     "execution_count": 59,
     "metadata": {},
     "output_type": "execute_result"
    }
   ],
   "source": [
    "X"
   ]
  },
  {
   "cell_type": "code",
   "execution_count": 60,
   "metadata": {
    "colab": {
     "base_uri": "https://localhost:8080/"
    },
    "id": "mMycI-Ttk6zw",
    "outputId": "e54ebbdc-f959-4b67-bcd4-2a6c71695792"
   },
   "outputs": [
    {
     "data": {
      "text/plain": [
       "array([[ 0,  8],\n",
       "       [20,  9],\n",
       "       [ 2, 10],\n",
       "       [ 3, 11],\n",
       "       [ 4, 12],\n",
       "       [ 5, 13],\n",
       "       [ 6, 14],\n",
       "       [ 7, 15]])"
      ]
     },
     "execution_count": 60,
     "metadata": {},
     "output_type": "execute_result"
    }
   ],
   "source": [
    "X.T # transpose"
   ]
  },
  {
   "cell_type": "code",
   "execution_count": 61,
   "metadata": {
    "colab": {
     "base_uri": "https://localhost:8080/"
    },
    "id": "GpeV7awLlL-D",
    "outputId": "736c04ab-f926-41ff-ec00-3b312e8c11a6"
   },
   "outputs": [
    {
     "data": {
      "text/plain": [
       "array([[ 0,  8],\n",
       "       [20,  9],\n",
       "       [ 2, 10],\n",
       "       [ 3, 11],\n",
       "       [ 4, 12],\n",
       "       [ 5, 13],\n",
       "       [ 6, 14],\n",
       "       [ 7, 15]])"
      ]
     },
     "execution_count": 61,
     "metadata": {},
     "output_type": "execute_result"
    }
   ],
   "source": [
    "#Alternatively,\n",
    "X.transpose()"
   ]
  },
  {
   "cell_type": "code",
   "execution_count": 62,
   "metadata": {
    "colab": {
     "base_uri": "https://localhost:8080/"
    },
    "id": "_-qc8cMlqkPl",
    "outputId": "3d176996-4574-444c-85a3-f1af1690eed6"
   },
   "outputs": [
    {
     "data": {
      "text/plain": [
       "array([ 0,  6, 12,  2,  8])"
      ]
     },
     "execution_count": 62,
     "metadata": {},
     "output_type": "execute_result"
    }
   ],
   "source": [
    "np.diag(X4) # Diagonal elements"
   ]
  },
  {
   "cell_type": "code",
   "execution_count": 63,
   "metadata": {
    "colab": {
     "base_uri": "https://localhost:8080/"
    },
    "id": "n1w9N0atqqVh",
    "outputId": "58ff3660-6de1-4143-f4a9-a1c3205a40d4"
   },
   "outputs": [
    {
     "data": {
      "text/plain": [
       "array([[ 0, 20,  2,  3,  4],\n",
       "       [ 0,  6,  7,  8,  9],\n",
       "       [ 0,  0, 12, 13, 14],\n",
       "       [ 0,  0,  0,  2,  3],\n",
       "       [ 0,  0,  0,  0,  8]])"
      ]
     },
     "execution_count": 63,
     "metadata": {},
     "output_type": "execute_result"
    }
   ],
   "source": [
    "np.triu(X4) #Upper triangular matrix"
   ]
  },
  {
   "cell_type": "code",
   "execution_count": 64,
   "metadata": {
    "colab": {
     "base_uri": "https://localhost:8080/"
    },
    "id": "sr5JrqxAqvXm",
    "outputId": "035c019e-0c30-41d8-cb90-39891418a6f2"
   },
   "outputs": [
    {
     "data": {
      "text/plain": [
       "array([[0, 0, 0, 0, 0, 0, 0, 0],\n",
       "       [8, 9, 0, 0, 0, 0, 0, 0]])"
      ]
     },
     "execution_count": 64,
     "metadata": {},
     "output_type": "execute_result"
    }
   ],
   "source": [
    "np.tril(X) #Lower triangular matrix"
   ]
  },
  {
   "cell_type": "code",
   "execution_count": 65,
   "metadata": {
    "colab": {
     "base_uri": "https://localhost:8080/"
    },
    "id": "6e7vHYADqzx8",
    "outputId": "ba79cf6c-1668-4d88-b433-626127f1e406"
   },
   "outputs": [
    {
     "data": {
      "text/plain": [
       "array([[ 0, 20,  2,  3],\n",
       "       [ 4,  5,  6,  7],\n",
       "       [ 8,  9, 10, 11],\n",
       "       [12, 13, 14, 15]])"
      ]
     },
     "execution_count": 65,
     "metadata": {},
     "output_type": "execute_result"
    }
   ],
   "source": [
    "X = X.reshape((4,4))\n",
    "X"
   ]
  },
  {
   "cell_type": "code",
   "execution_count": 66,
   "metadata": {
    "id": "QQY4Gwcrq2A7"
   },
   "outputs": [],
   "source": [
    "y =np.reshape(np.random.randn(128,1),(32,4))"
   ]
  },
  {
   "cell_type": "code",
   "execution_count": 67,
   "metadata": {
    "id": "KFrwIarYrxbT"
   },
   "outputs": [],
   "source": [
    "u, s, vh = np.linalg.svd(y) # singular value decomposition X=USV'"
   ]
  },
  {
   "cell_type": "code",
   "execution_count": 68,
   "metadata": {
    "colab": {
     "base_uri": "https://localhost:8080/"
    },
    "id": "is1LGw9sryBS",
    "outputId": "f73cd785-5c7a-4805-e014-6e52ba3bbb1b"
   },
   "outputs": [
    {
     "data": {
      "text/plain": [
       "1024"
      ]
     },
     "execution_count": 68,
     "metadata": {},
     "output_type": "execute_result"
    }
   ],
   "source": [
    "np.size(u)"
   ]
  },
  {
   "cell_type": "code",
   "execution_count": 69,
   "metadata": {
    "colab": {
     "base_uri": "https://localhost:8080/"
    },
    "id": "sbnvKTc9slP0",
    "outputId": "4c367a58-1e2b-49f5-f869-44c1e3ba92ac"
   },
   "outputs": [
    {
     "data": {
      "text/plain": [
       "array([6.86400175, 5.84625514, 4.90807011, 4.39638034])"
      ]
     },
     "execution_count": 69,
     "metadata": {},
     "output_type": "execute_result"
    }
   ],
   "source": [
    "s"
   ]
  },
  {
   "cell_type": "code",
   "execution_count": 70,
   "metadata": {
    "colab": {
     "base_uri": "https://localhost:8080/"
    },
    "id": "aFlpmbghsl7d",
    "outputId": "50abb099-15f7-4089-df8a-a5b4cd88f236"
   },
   "outputs": [
    {
     "data": {
      "text/plain": [
       "array([[ 0.48434657,  0.85941367,  0.14922706,  0.06743757],\n",
       "       [-0.29774866,  0.33727254, -0.7770301 , -0.44024673],\n",
       "       [-0.1541849 ,  0.0560803 ,  0.5481064 , -0.82015937],\n",
       "       [ 0.80807249, -0.3801452 , -0.27117315, -0.35912895]])"
      ]
     },
     "execution_count": 70,
     "metadata": {},
     "output_type": "execute_result"
    }
   ],
   "source": [
    "vh"
   ]
  },
  {
   "cell_type": "code",
   "execution_count": 71,
   "metadata": {
    "colab": {
     "base_uri": "https://localhost:8080/"
    },
    "id": "mfEGKD1usmjy",
    "outputId": "72b9a7da-d051-419e-bd4c-a54eacacd201"
   },
   "outputs": [
    {
     "data": {
      "text/plain": [
       "array([[1. , 0.5],\n",
       "       [0.5, 1. ]])"
      ]
     },
     "execution_count": 71,
     "metadata": {},
     "output_type": "execute_result"
    }
   ],
   "source": [
    "x = np.array([[1,.5],[.5,1]])\n",
    "x"
   ]
  },
  {
   "cell_type": "code",
   "execution_count": 72,
   "metadata": {
    "id": "9-yJHU0z6CRL"
   },
   "outputs": [],
   "source": [
    "xInv = np.linalg.inv(x) #Inverse matrix"
   ]
  },
  {
   "cell_type": "code",
   "execution_count": 73,
   "metadata": {
    "colab": {
     "base_uri": "https://localhost:8080/"
    },
    "id": "k6EE7dJk6HcP",
    "outputId": "518620b8-2ab8-48fb-d678-6c7532d0b478"
   },
   "outputs": [
    {
     "data": {
      "text/plain": [
       "array([[ 1.33333333, -0.66666667],\n",
       "       [-0.66666667,  1.33333333]])"
      ]
     },
     "execution_count": 73,
     "metadata": {},
     "output_type": "execute_result"
    }
   ],
   "source": [
    "xInv"
   ]
  },
  {
   "cell_type": "markdown",
   "metadata": {
    "id": "ZzDlXdhFnnFE"
   },
   "source": [
    "# An Example using Numpy: Regression"
   ]
  },
  {
   "cell_type": "markdown",
   "metadata": {
    "id": "tj6nXsZSnviL"
   },
   "source": [
    "Let's take a look at the following linear equation system.\n",
    "\n",
    "\\begin{align}\n",
    " b_1 + b_2 = 5 \\\\\n",
    " b_1 + b_2 = 3 \\\\\n",
    " b_1 + b_2 = 7 \\\\\n",
    " b_2 = 1\n",
    " \\end{align}\n",
    "\n",
    "In matrix form,\n",
    "\n",
    "\\begin{equation*}\n",
    "\\begin{bmatrix}\n",
    "1 & 1 \\\\\n",
    "1 & 1 \\\\\n",
    "1 & 1 \\\\\n",
    "0 & 1\n",
    "\\end{bmatrix}\n",
    "\\begin{bmatrix}\n",
    "b_1 \\\\\n",
    "b_2 \\\\\n",
    "\\end{bmatrix} =\n",
    "\\begin{bmatrix}\n",
    "5 \\\\\n",
    "3 \\\\\n",
    "7 \\\\\n",
    "1\n",
    "\\end{bmatrix}\n",
    "\\end{equation*}\n",
    "or\n",
    "$Xb = y$\n",
    "\n",
    "As you can see, this system has no solutions. But what if we think of $X$ as input data and $y$ as outcome data. For instance, the first column of $X$ is an indicator that shows whether a company pay makes positive profits, and the second column of $X$ indicates if the company pays dividend. Suppose that $y$ is the current stock price of the four companies.\n",
    "\n",
    "The dimension of $X$ is $4 \\times 2$. So, we can reduce the dimension by multiplying both sides by $X^T$ (transpose):\n",
    "\n",
    "\\begin{align}\n",
    "X^T X b = X^T y ⟹ b = (X^T X)^{-1} X^T y\n",
    "\\end{align}\n",
    "\n",
    "This is the punchline of regression, which is a form of projection to find a solution from this type of equation systems.\n",
    "\n",
    "Let's code this in the below."
   ]
  },
  {
   "cell_type": "code",
   "execution_count": 74,
   "metadata": {
    "id": "uFNF7fnCtPZP"
   },
   "outputs": [],
   "source": [
    "X = np.array([1,1,1,1,1,1,0,1])"
   ]
  },
  {
   "cell_type": "code",
   "execution_count": 75,
   "metadata": {
    "colab": {
     "base_uri": "https://localhost:8080/"
    },
    "id": "Yro203KVtcHZ",
    "outputId": "e53baa26-b73f-4976-91ca-3d4dcd6fee21"
   },
   "outputs": [
    {
     "data": {
      "text/plain": [
       "array([[1, 1],\n",
       "       [1, 1],\n",
       "       [1, 1],\n",
       "       [0, 1]])"
      ]
     },
     "execution_count": 75,
     "metadata": {},
     "output_type": "execute_result"
    }
   ],
   "source": [
    "X = np.reshape(X,(4,2)) # Alternatively, X = X.reshape([4,2])\n",
    "X"
   ]
  },
  {
   "cell_type": "code",
   "execution_count": 76,
   "metadata": {
    "colab": {
     "base_uri": "https://localhost:8080/"
    },
    "id": "1snoMsUCtubH",
    "outputId": "bb649e28-6935-4a94-8261-2ba010cb4bb3"
   },
   "outputs": [
    {
     "data": {
      "text/plain": [
       "array([[5],\n",
       "       [3],\n",
       "       [7],\n",
       "       [1]])"
      ]
     },
     "execution_count": 76,
     "metadata": {},
     "output_type": "execute_result"
    }
   ],
   "source": [
    "y = np.array([5,3,7,1])\n",
    "y = y.reshape([4,1])\n",
    "y"
   ]
  },
  {
   "cell_type": "markdown",
   "metadata": {
    "id": "6iTgzMUCuPQp"
   },
   "source": [
    "Because it is annoying to keep using np.linalg.inv if we need to keep using the inverse function, we can use 'from numpy.linalg import inv'."
   ]
  },
  {
   "cell_type": "code",
   "execution_count": 77,
   "metadata": {
    "colab": {
     "base_uri": "https://localhost:8080/"
    },
    "id": "LoFt98DouEFv",
    "outputId": "1ed5a1ec-6cef-4e21-edd9-1ed016a228ec"
   },
   "outputs": [
    {
     "name": "stdout",
     "output_type": "stream",
     "text": [
      "[[4.]\n",
      " [1.]]\n"
     ]
    }
   ],
   "source": [
    "from numpy.linalg import inv\n",
    "\n",
    "b = inv(X.T @ X) @ (X.T @ y)\n",
    "\n",
    "print(b)"
   ]
  },
  {
   "cell_type": "markdown",
   "metadata": {
    "id": "ZsTjvGuqE3kQ"
   },
   "source": [
    "# An Example with Numpy: Black-Scholes Model of European Option Pricing (Monte Carlo Simulation Method)\n",
    "The underlying stock (asset) price at time $T$ is described by the following equation:\n",
    "\n",
    "$ S_T = S_0 exp \\left( (r- \\frac{1}{2}\\sigma^2)T + \\sigma \\sqrt{T} z \\right)$, where $z$ is the standard Brownian motion under a risk-neutral ($Q$) measure, and $r$ is the constant risk-free rate.\n",
    "\n",
    "Then, a derivate asset such as an European call option value today (time $0$) with strike price $K$ and an expiry ($T$) under the no-arbitrage condition is\n",
    "\n",
    "\\begin{equation}\n",
    "C_0 = e^{-rT} E_0^Q \\left( max(S_{T}-K,0)\\right)\n",
    "\\end{equation}"
   ]
  },
  {
   "cell_type": "markdown",
   "metadata": {
    "id": "B4QWamlMuLdt"
   },
   "source": [
    "There are several ways to solve the above problem but a simulation-based method uses the ideas that i) the expectation value is analogous to the sample average (analogy principle), and ii) the computer can simulate many sample paths to comput such averages. That is, we simulate $S$ up to time $T$ for $I$ times then compute the average with the option payoff:\n",
    "\n",
    "\\begin{equation}\n",
    "C_0 \\approx e^{-rT} \\frac{1}{I} \\sum_{i=1}^{I}( max(S_{T}(i)-K,0))\n",
    "\\end{equation}\n",
    "\n"
   ]
  },
  {
   "cell_type": "code",
   "execution_count": 78,
   "metadata": {
    "colab": {
     "base_uri": "https://localhost:8080/"
    },
    "id": "MvXuAtx5EIj8",
    "outputId": "cfe635f3-7840-478b-dd4c-f1168a7aaa3a"
   },
   "outputs": [
    {
     "name": "stdout",
     "output_type": "stream",
     "text": [
      "Value of the European Call option 6.464.\n"
     ]
    }
   ],
   "source": [
    "from math import sqrt, log\n",
    "\n",
    "# Parameters\n",
    "S0 = 100.0;\n",
    "K = 101.0;\n",
    "T = 1.0;\n",
    "r = 0.02;\n",
    "sigma = 0.15;\n",
    "\n",
    "I=5*10**5;\n",
    "\n",
    "z= np.random.standard_normal(I)\n",
    "\n",
    "ST = S0*np.exp((r-0.5*sigma ** 2)*T+sigma*sqrt(T)*z)\n",
    "\n",
    "hT = np.maximum(ST-K,0)\n",
    "\n",
    "C0= np.exp(-r*T)*np.mean(hT)\n",
    "\n",
    "print('Value of the European Call option %5.3f.' % C0)\n",
    "\n"
   ]
  },
  {
   "cell_type": "markdown",
   "metadata": {
    "id": "BWVjY8czEtnx"
   },
   "source": [
    "Compare with the actual formula"
   ]
  },
  {
   "cell_type": "code",
   "execution_count": 79,
   "metadata": {
    "id": "jK4iT-CBEx9i"
   },
   "outputs": [],
   "source": [
    "from scipy.stats import norm\n",
    "\n",
    "# S is stock price\n",
    "# K is strike price\n",
    "# T is maturity\n",
    "# r is continuously compounded rate\n",
    "# sigma is the volatility of stock price\n",
    "def call(S, K, T, r, sigma):\n",
    "    cdf = norm.cdf\n",
    "    d1 = (log(S/K) + (r + sigma**2 / 2.)*T) / (sigma * sqrt(T))\n",
    "    d2 = d1 - sigma * sqrt(T)\n",
    "    return S * cdf(d1) - K * np.exp(- r * T) * cdf(d2)\n",
    "\n",
    "def main():\n",
    "    print(call(100, 101, 1.0, 0.02, 0.15))"
   ]
  },
  {
   "cell_type": "code",
   "execution_count": 80,
   "metadata": {
    "colab": {
     "base_uri": "https://localhost:8080/"
    },
    "id": "1UZvYNyqEz1L",
    "outputId": "ee929e26-13b5-470e-d512-d8461dae321c"
   },
   "outputs": [
    {
     "name": "stdout",
     "output_type": "stream",
     "text": [
      "6.461925840199832\n"
     ]
    }
   ],
   "source": [
    "main()"
   ]
  },
  {
   "cell_type": "markdown",
   "metadata": {
    "id": "6-kZ2pBfcugG"
   },
   "source": [
    "Question: Can we use the same method to price Americal-style derivatives in which exercise timing is also to be chosen?\n",
    "\n"
   ]
  },
  {
   "cell_type": "markdown",
   "metadata": {
    "id": "lJxFUAQcePEL"
   },
   "source": [
    "\\begin{equation}\n",
    "V_0 = sup_{\\tau \\in \\{0,\\Delta t, 2 \\Delta t,...,T \\}} e^{-rT} E_0^Q \\left( F_{\\tau}(S_{\\tau})\\right)\n",
    "\\end{equation}\n",
    "\n",
    " After all, we can think recursively of the structure of this problem by solving backwards.\n",
    "\n",
    "At each given point of time $t$ and the price of the underlying asset $s$,\n",
    "\n",
    "\\begin{equation}\n",
    "V_t(s) = max (F_t(s),C_t(s)),\n",
    "\\end{equation}\n",
    "where $C_t(s) = E_t^Q(e^{-r \\Delta t} V_{t+\\Delta t}(S_{t+\\Delta t})|S_t=s)$ is the continuation value of the option given $S_t = s$\n",
    "\n",
    "Let's try solving for this after we learn function and loops.\n",
    "\n"
   ]
  },
  {
   "cell_type": "markdown",
   "metadata": {
    "id": "HEuD1tpnV5OP"
   },
   "source": [
    "Question: Can we extend the above model to include a stochastic and time-varying volatility? e.g., Heston model or k-regime volatility model\n",
    "\n",
    "Yes. We can try an intuitive one. For instance, there are two possible volatility values $\\sigma_{low}$ and $\\sigma_{high}$ with the latter being higher than the former. In most cases, stock volatility is low, but from time to time, volatility is high and persistent for a while.\n",
    "\n"
   ]
  },
  {
   "cell_type": "markdown",
   "metadata": {
    "id": "QrsQyW_V9QVz"
   },
   "source": [
    "# Pandas\n",
    "\n",
    "## Data Structures\n",
    "\n",
    "- Series, DataFrames, and Panels\n",
    "- A Series behaves similar to a NumPy array.\n",
    "- We can set up a Series via a list, tuple, array, or a dictionary.\n",
    "- A Series has another column, called an index, which makes important differnces.\n"
   ]
  },
  {
   "cell_type": "code",
   "execution_count": 81,
   "metadata": {
    "id": "wfPeV99v6Q_P"
   },
   "outputs": [],
   "source": [
    "import pandas as pd"
   ]
  },
  {
   "cell_type": "code",
   "execution_count": 82,
   "metadata": {
    "colab": {
     "base_uri": "https://localhost:8080/"
    },
    "id": "4Xvos3QVDKp1",
    "outputId": "d2a58c44-7132-4b96-be27-a4a3fe1c5550"
   },
   "outputs": [
    {
     "data": {
      "text/plain": [
       "array([0.1, 1.2, 2.3, 3.4, 4.5])"
      ]
     },
     "execution_count": 82,
     "metadata": {},
     "output_type": "execute_result"
    }
   ],
   "source": [
    "a = np.array([0.1, 1.2, 2.3, 3.4, 4.5])\n",
    "a"
   ]
  },
  {
   "cell_type": "code",
   "execution_count": 83,
   "metadata": {
    "colab": {
     "base_uri": "https://localhost:8080/"
    },
    "id": "xWF5jDAwDnzv",
    "outputId": "52ec6f04-bf7c-4762-e110-4ef30e82a062"
   },
   "outputs": [
    {
     "data": {
      "text/plain": [
       "0    0.1\n",
       "1    1.2\n",
       "2    2.3\n",
       "3    3.4\n",
       "4    4.5\n",
       "dtype: float64"
      ]
     },
     "execution_count": 83,
     "metadata": {},
     "output_type": "execute_result"
    }
   ],
   "source": [
    "s=pd.Series(a)\n",
    "s"
   ]
  },
  {
   "cell_type": "code",
   "execution_count": 84,
   "metadata": {
    "id": "lw77ZVHADsuF"
   },
   "outputs": [],
   "source": [
    "s = pd.Series([0.1, 1.2, 2.3, 3.4, 4.5], index = ['a','b','c','d','e'])"
   ]
  },
  {
   "cell_type": "code",
   "execution_count": 85,
   "metadata": {
    "colab": {
     "base_uri": "https://localhost:8080/"
    },
    "id": "fACCy_BQEvKy",
    "outputId": "47b98125-b4dc-4ad8-d5b3-99a3bc6c2dad"
   },
   "outputs": [
    {
     "data": {
      "text/plain": [
       "a    0.1\n",
       "b    1.2\n",
       "c    2.3\n",
       "d    3.4\n",
       "e    4.5\n",
       "dtype: float64"
      ]
     },
     "execution_count": 85,
     "metadata": {},
     "output_type": "execute_result"
    }
   ],
   "source": [
    "s"
   ]
  },
  {
   "cell_type": "code",
   "execution_count": 86,
   "metadata": {
    "colab": {
     "base_uri": "https://localhost:8080/"
    },
    "id": "piZOTHUsEyoJ",
    "outputId": "2c65c755-d261-4a1d-ff32-170b7217f2e2"
   },
   "outputs": [
    {
     "data": {
      "text/plain": [
       "0.1"
      ]
     },
     "execution_count": 86,
     "metadata": {},
     "output_type": "execute_result"
    }
   ],
   "source": [
    "s['a']"
   ]
  },
  {
   "cell_type": "code",
   "execution_count": 87,
   "metadata": {
    "colab": {
     "base_uri": "https://localhost:8080/"
    },
    "id": "5MYpBeBNE8Os",
    "outputId": "576f4f96-af67-4779-e968-297bfa1ae70d"
   },
   "outputs": [
    {
     "data": {
      "text/plain": [
       "0.1"
      ]
     },
     "execution_count": 87,
     "metadata": {},
     "output_type": "execute_result"
    }
   ],
   "source": [
    "s[0]"
   ]
  },
  {
   "cell_type": "code",
   "execution_count": 88,
   "metadata": {
    "colab": {
     "base_uri": "https://localhost:8080/"
    },
    "id": "CZyXOdngE90b",
    "outputId": "23539714-a02e-4dc7-d9df-8e722513e31d"
   },
   "outputs": [
    {
     "data": {
      "text/plain": [
       "0.1"
      ]
     },
     "execution_count": 88,
     "metadata": {},
     "output_type": "execute_result"
    }
   ],
   "source": [
    "s.iloc[0]"
   ]
  },
  {
   "cell_type": "code",
   "execution_count": 89,
   "metadata": {
    "colab": {
     "base_uri": "https://localhost:8080/"
    },
    "id": "XlMWvgyzFBdt",
    "outputId": "36f0a025-07eb-400b-e485-d7a970cc424d"
   },
   "outputs": [
    {
     "data": {
      "text/plain": [
       "0.1"
      ]
     },
     "execution_count": 89,
     "metadata": {},
     "output_type": "execute_result"
    }
   ],
   "source": [
    "s.loc['a']"
   ]
  },
  {
   "cell_type": "code",
   "execution_count": 90,
   "metadata": {
    "colab": {
     "base_uri": "https://localhost:8080/"
    },
    "id": "6aCRbJ_KFDiC",
    "outputId": "3819906c-476d-498a-e753-f3e2c369baaa"
   },
   "outputs": [
    {
     "data": {
      "text/plain": [
       "a    0.1\n",
       "d    3.4\n",
       "dtype: float64"
      ]
     },
     "execution_count": 90,
     "metadata": {},
     "output_type": "execute_result"
    }
   ],
   "source": [
    "s[['a','d']]"
   ]
  },
  {
   "cell_type": "code",
   "execution_count": 91,
   "metadata": {
    "colab": {
     "base_uri": "https://localhost:8080/"
    },
    "id": "W3wDbAd9FKLj",
    "outputId": "05ecb621-d3dd-4e1f-e61d-d64a68e1ee13"
   },
   "outputs": [
    {
     "data": {
      "text/plain": [
       "a    0.1\n",
       "b    1.2\n",
       "c    2.3\n",
       "dtype: float64"
      ]
     },
     "execution_count": 91,
     "metadata": {},
     "output_type": "execute_result"
    }
   ],
   "source": [
    "s.iloc[:3]"
   ]
  },
  {
   "cell_type": "code",
   "execution_count": 92,
   "metadata": {
    "colab": {
     "base_uri": "https://localhost:8080/"
    },
    "id": "8PsCpkt8FUXt",
    "outputId": "63466e2f-377a-4876-9178-e5fababcf022"
   },
   "outputs": [
    {
     "data": {
      "text/plain": [
       "a    0.1\n",
       "d    3.4\n",
       "dtype: float64"
      ]
     },
     "execution_count": 92,
     "metadata": {},
     "output_type": "execute_result"
    }
   ],
   "source": [
    "s.loc[['a','d']]"
   ]
  },
  {
   "cell_type": "code",
   "execution_count": 93,
   "metadata": {
    "colab": {
     "base_uri": "https://localhost:8080/"
    },
    "id": "nySQqIRZFawF",
    "outputId": "4f432fd9-3fa4-4aad-e3b9-1d3c3b69a4ff"
   },
   "outputs": [
    {
     "data": {
      "text/plain": [
       "a    0.1\n",
       "d    3.4\n",
       "dtype: float64"
      ]
     },
     "execution_count": 93,
     "metadata": {},
     "output_type": "execute_result"
    }
   ],
   "source": [
    "s.iloc[[0,3]]"
   ]
  },
  {
   "cell_type": "code",
   "execution_count": 94,
   "metadata": {
    "id": "9aI4BOz8FwGE"
   },
   "outputs": [],
   "source": [
    "s1 = pd.Series([0.1, 1.2, 2.3, 3.4, 4.5], index = ['a','b','c','a','b'])"
   ]
  },
  {
   "cell_type": "code",
   "execution_count": 95,
   "metadata": {
    "colab": {
     "base_uri": "https://localhost:8080/"
    },
    "id": "njtCWpiFGJC6",
    "outputId": "d3c3ccd0-64d1-4a7b-b937-b260131429bd"
   },
   "outputs": [
    {
     "data": {
      "text/plain": [
       "a    0.1\n",
       "a    3.4\n",
       "dtype: float64"
      ]
     },
     "execution_count": 95,
     "metadata": {},
     "output_type": "execute_result"
    }
   ],
   "source": [
    "s1.loc['a']"
   ]
  },
  {
   "cell_type": "code",
   "execution_count": 96,
   "metadata": {
    "colab": {
     "base_uri": "https://localhost:8080/"
    },
    "id": "2mIV3wysGRsh",
    "outputId": "19b8e30b-81d2-4d30-cab9-16e73f961338"
   },
   "outputs": [
    {
     "data": {
      "text/plain": [
       "count    5.000000\n",
       "mean     2.300000\n",
       "std      1.739253\n",
       "min      0.100000\n",
       "25%      1.200000\n",
       "50%      2.300000\n",
       "75%      3.400000\n",
       "max      4.500000\n",
       "dtype: float64"
      ]
     },
     "execution_count": 96,
     "metadata": {},
     "output_type": "execute_result"
    }
   ],
   "source": [
    "s1.describe() # Create summary statistics"
   ]
  },
  {
   "cell_type": "code",
   "execution_count": 97,
   "metadata": {
    "colab": {
     "base_uri": "https://localhost:8080/"
    },
    "id": "xSwUFuLcLsIa",
    "outputId": "3d715b07-49d1-4139-ed64-2329f175fc06"
   },
   "outputs": [
    {
     "data": {
      "text/plain": [
       "a    1.0\n",
       "b    2.0\n",
       "c    3.0\n",
       "dtype: float64"
      ]
     },
     "execution_count": 97,
     "metadata": {},
     "output_type": "execute_result"
    }
   ],
   "source": [
    "s2 = pd.Series(np.arange(1.0,4.0),index=['a','b','c'])\n",
    "s2"
   ]
  },
  {
   "cell_type": "code",
   "execution_count": 98,
   "metadata": {
    "id": "Vs1JhGkdMwya"
   },
   "outputs": [],
   "source": [
    "s3 = pd.Series(np.arange(1.0,4.0),index=['c','d','e'])"
   ]
  },
  {
   "cell_type": "code",
   "execution_count": 99,
   "metadata": {
    "id": "zSJtZ-5lM-MA"
   },
   "outputs": [],
   "source": [
    "s4 = s2 + s3"
   ]
  },
  {
   "cell_type": "code",
   "execution_count": 100,
   "metadata": {
    "colab": {
     "base_uri": "https://localhost:8080/"
    },
    "id": "rCpbD9bPNbMu",
    "outputId": "75f1af93-bac2-460a-bed9-5ce454fbaae2"
   },
   "outputs": [
    {
     "data": {
      "text/plain": [
       "a    NaN\n",
       "b    NaN\n",
       "c    4.0\n",
       "d    NaN\n",
       "e    NaN\n",
       "dtype: float64"
      ]
     },
     "execution_count": 100,
     "metadata": {},
     "output_type": "execute_result"
    }
   ],
   "source": [
    "s4"
   ]
  },
  {
   "cell_type": "code",
   "execution_count": 101,
   "metadata": {
    "colab": {
     "base_uri": "https://localhost:8080/"
    },
    "id": "Yrlkbb4lNbzX",
    "outputId": "c096b1e7-38a8-43a8-f2e2-b772acacc685"
   },
   "outputs": [
    {
     "data": {
      "text/plain": [
       "c    4.0\n",
       "dtype: float64"
      ]
     },
     "execution_count": 101,
     "metadata": {},
     "output_type": "execute_result"
    }
   ],
   "source": [
    "s4.dropna()"
   ]
  },
  {
   "cell_type": "code",
   "execution_count": 102,
   "metadata": {
    "colab": {
     "base_uri": "https://localhost:8080/"
    },
    "id": "RodITWV3NiTg",
    "outputId": "4ca4476c-d7a2-44f5-95d1-4b58072b47b3"
   },
   "outputs": [
    {
     "data": {
      "text/plain": [
       "b    NaN\n",
       "c    4.0\n",
       "d    NaN\n",
       "e    NaN\n",
       "dtype: float64"
      ]
     },
     "execution_count": 102,
     "metadata": {},
     "output_type": "execute_result"
    }
   ],
   "source": [
    "# You can drop a specific element using drop()\n",
    "s4.drop('a')"
   ]
  },
  {
   "cell_type": "code",
   "execution_count": 103,
   "metadata": {
    "colab": {
     "base_uri": "https://localhost:8080/"
    },
    "id": "uL7v1s4cOE4A",
    "outputId": "77445d75-5f5a-4d84-e048-b2c36b9e3409"
   },
   "outputs": [
    {
     "data": {
      "text/plain": [
       "a    NaN\n",
       "b    NaN\n",
       "c    4.0\n",
       "dtype: float64"
      ]
     },
     "execution_count": 103,
     "metadata": {},
     "output_type": "execute_result"
    }
   ],
   "source": [
    "s4.drop(['d','e'])"
   ]
  },
  {
   "cell_type": "code",
   "execution_count": 104,
   "metadata": {
    "colab": {
     "base_uri": "https://localhost:8080/"
    },
    "id": "U4lqZXsVOKTv",
    "outputId": "2f6895d6-3725-434b-ba47-d3486fb0d73c"
   },
   "outputs": [
    {
     "data": {
      "text/plain": [
       "a    0.0\n",
       "b    0.0\n",
       "c    4.0\n",
       "d    0.0\n",
       "e    0.0\n",
       "dtype: float64"
      ]
     },
     "execution_count": 104,
     "metadata": {},
     "output_type": "execute_result"
    }
   ],
   "source": [
    "# You can fill all null values in a series with a specific value\n",
    "\n",
    "s4.fillna(0.0)"
   ]
  },
  {
   "cell_type": "code",
   "execution_count": 105,
   "metadata": {
    "colab": {
     "base_uri": "https://localhost:8080/"
    },
    "id": "NCE7pYl-OnU5",
    "outputId": "2f71001e-3679-451c-ab6d-5ea9082893dd"
   },
   "outputs": [
    {
     "name": "stderr",
     "output_type": "stream",
     "text": [
      "C:\\Users\\95223\\AppData\\Local\\Temp\\ipykernel_23276\\3032514423.py:1: FutureWarning: The series.append method is deprecated and will be removed from pandas in a future version. Use pandas.concat instead.\n",
      "  s4.append(pd.Series([5,4,3,2,1],index=['f','g','h','k','l']))\n"
     ]
    },
    {
     "data": {
      "text/plain": [
       "a    NaN\n",
       "b    NaN\n",
       "c    4.0\n",
       "d    NaN\n",
       "e    NaN\n",
       "f    5.0\n",
       "g    4.0\n",
       "h    3.0\n",
       "k    2.0\n",
       "l    1.0\n",
       "dtype: float64"
      ]
     },
     "execution_count": 105,
     "metadata": {},
     "output_type": "execute_result"
    }
   ],
   "source": [
    "s4.append(pd.Series([5,4,3,2,1],index=['f','g','h','k','l']))"
   ]
  },
  {
   "cell_type": "code",
   "execution_count": 106,
   "metadata": {
    "colab": {
     "base_uri": "https://localhost:8080/"
    },
    "id": "SxC-F0pfOvGh",
    "outputId": "4ac84bd5-e3aa-4346-a5a7-d34ee3e0391b"
   },
   "outputs": [
    {
     "data": {
      "text/plain": [
       "a    1.0\n",
       "b    2.0\n",
       "c    3.0\n",
       "dtype: float64"
      ]
     },
     "execution_count": 106,
     "metadata": {},
     "output_type": "execute_result"
    }
   ],
   "source": [
    "# update\n",
    "\n",
    "s1 = pd.Series(np.arange(1.0,4.0),index=['a','b','c'])\n",
    "s1"
   ]
  },
  {
   "cell_type": "code",
   "execution_count": 107,
   "metadata": {
    "id": "_RtVQ-hlE8L-"
   },
   "outputs": [],
   "source": [
    "s2 = pd.Series(-1.0*np.arange(1.0,4.0),index=['c','d','e'])"
   ]
  },
  {
   "cell_type": "code",
   "execution_count": 108,
   "metadata": {
    "id": "RVzozy-BFJ1k"
   },
   "outputs": [],
   "source": [
    "s1.update(s2)"
   ]
  },
  {
   "cell_type": "code",
   "execution_count": 109,
   "metadata": {
    "colab": {
     "base_uri": "https://localhost:8080/"
    },
    "id": "Dc7L6qb5FtRY",
    "outputId": "8db2515b-8b3d-4b0c-c849-d45cf38e4324"
   },
   "outputs": [
    {
     "data": {
      "text/plain": [
       "a    1.0\n",
       "b    2.0\n",
       "c   -1.0\n",
       "dtype: float64"
      ]
     },
     "execution_count": 109,
     "metadata": {},
     "output_type": "execute_result"
    }
   ],
   "source": [
    "s1"
   ]
  },
  {
   "cell_type": "markdown",
   "metadata": {
    "id": "-LJsOY8AGLNw"
   },
   "source": [
    "You can create a series using dictionaries."
   ]
  },
  {
   "cell_type": "code",
   "execution_count": 110,
   "metadata": {
    "id": "Mv-6bRawFygy"
   },
   "outputs": [],
   "source": [
    "s = pd.Series({'a':0.1 ,'b': 1.2, 'c': 2.3, 'd':3.4, 'e': 4.5})"
   ]
  },
  {
   "cell_type": "code",
   "execution_count": 111,
   "metadata": {
    "colab": {
     "base_uri": "https://localhost:8080/"
    },
    "id": "GgFfT2_zGSDl",
    "outputId": "3abbe525-eda4-4632-bacf-700376edd3b7"
   },
   "outputs": [
    {
     "data": {
      "text/plain": [
       "a     0.3\n",
       "b     3.6\n",
       "c     6.9\n",
       "d    10.2\n",
       "e    13.5\n",
       "dtype: float64"
      ]
     },
     "execution_count": 111,
     "metadata": {},
     "output_type": "execute_result"
    }
   ],
   "source": [
    "s*3"
   ]
  },
  {
   "cell_type": "code",
   "execution_count": 112,
   "metadata": {
    "colab": {
     "base_uri": "https://localhost:8080/"
    },
    "id": "-BlJ3MepGbdN",
    "outputId": "53f2d980-9040-46e9-84d0-b1deda295c33"
   },
   "outputs": [
    {
     "data": {
      "text/plain": [
       "a   -1.8\n",
       "b    0.4\n",
       "c    2.6\n",
       "d    4.8\n",
       "e    7.0\n",
       "dtype: float64"
      ]
     },
     "execution_count": 112,
     "metadata": {},
     "output_type": "execute_result"
    }
   ],
   "source": [
    "2*s-2"
   ]
  },
  {
   "cell_type": "code",
   "execution_count": 113,
   "metadata": {
    "id": "OybpjIJnGfOS"
   },
   "outputs": [],
   "source": [
    "s1 = pd.Series(np.arange(10.0,20.0))"
   ]
  },
  {
   "cell_type": "code",
   "execution_count": 114,
   "metadata": {
    "colab": {
     "base_uri": "https://localhost:8080/"
    },
    "id": "U5vfdBgJOLpu",
    "outputId": "37ef2519-3387-4728-8eb6-2d1ad1534046"
   },
   "outputs": [
    {
     "data": {
      "text/plain": [
       "count    10.00000\n",
       "mean     14.50000\n",
       "std       3.02765\n",
       "min      10.00000\n",
       "25%      12.25000\n",
       "50%      14.50000\n",
       "75%      16.75000\n",
       "max      19.00000\n",
       "dtype: float64"
      ]
     },
     "execution_count": 114,
     "metadata": {},
     "output_type": "execute_result"
    }
   ],
   "source": [
    "s1.describe()"
   ]
  },
  {
   "cell_type": "code",
   "execution_count": 115,
   "metadata": {
    "id": "5dnaOoZYOOo3"
   },
   "outputs": [],
   "source": [
    "sumstat = s1.describe()"
   ]
  },
  {
   "cell_type": "code",
   "execution_count": 116,
   "metadata": {
    "colab": {
     "base_uri": "https://localhost:8080/"
    },
    "id": "MBoeIEMYORNp",
    "outputId": "d2a0bb51-eecc-499f-85c4-50d144c15595"
   },
   "outputs": [
    {
     "data": {
      "text/plain": [
       "19.0"
      ]
     },
     "execution_count": 116,
     "metadata": {},
     "output_type": "execute_result"
    }
   ],
   "source": [
    "sumstat['max']"
   ]
  },
  {
   "cell_type": "code",
   "execution_count": 117,
   "metadata": {
    "colab": {
     "base_uri": "https://localhost:8080/"
    },
    "id": "v5etsz6OOTIc",
    "outputId": "eaa6b936-d628-4449-a076-7aeb1f1e1c45"
   },
   "outputs": [
    {
     "name": "stdout",
     "output_type": "stream",
     "text": [
      "0\n",
      "1\n",
      "2\n",
      "3\n",
      "4\n",
      "5\n",
      "6\n",
      "7\n",
      "8\n",
      "9\n"
     ]
    }
   ],
   "source": [
    "for it in range(0,10):\n",
    "  print(it)\n",
    "  it += 1"
   ]
  }
 ],
 "metadata": {
  "colab": {
   "provenance": []
  },
  "kernelspec": {
   "display_name": "Python 3",
   "language": "python",
   "name": "python3"
  },
  "language_info": {
   "codemirror_mode": {
    "name": "ipython",
    "version": 3
   },
   "file_extension": ".py",
   "mimetype": "text/x-python",
   "name": "python",
   "nbconvert_exporter": "python",
   "pygments_lexer": "ipython3",
   "version": "3.8.8"
  }
 },
 "nbformat": 4,
 "nbformat_minor": 1
}
