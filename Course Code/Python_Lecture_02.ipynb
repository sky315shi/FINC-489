{
  "nbformat": 4,
  "nbformat_minor": 0,
  "metadata": {
    "colab": {
      "provenance": []
    },
    "kernelspec": {
      "name": "python3",
      "display_name": "Python 3"
    },
    "language_info": {
      "name": "python"
    }
  },
  "cells": [
    {
      "cell_type": "markdown",
      "source": [
        "# Array, Matrices, and Data Handling (with Numpy and Pandas)\n",
        "\n",
        "## Part 1 (Mostly Numpy)\n",
        "\n",
        "This is one of the most important building blocks in learning python for financial applications. Part 1 will focus on the basic functions of array using only Numpy, and part 2 introduces more commands and functions related to handling array and matrices. Toward the end of Part 2, Pandas library will be introduced. Then, part 3 uses the Pandas library more actively as well as the Numpy."
      ],
      "metadata": {
        "id": "AQtS7zQqMztG"
      }
    },
    {
      "cell_type": "markdown",
      "source": [
        "- NumPy provides the core data type for numerical analysis – arrays.\n",
        "- Arrays are similar to lists or tuples.\n",
        "- NumPy arrays are widely used through the Python econsystem\n",
        "- In particular, the key key libraries such as pandas and statsmodel are interactively used.\n",
        "- For this lecture, we mostly use an array where all elements have the same numeric type. Plus, in case of arrays, unlike lists, all dimensions have the same number of elements.\n"
      ],
      "metadata": {
        "id": "YHgqiRf8N-K2"
      }
    },
    {
      "cell_type": "markdown",
      "source": [
        "##How to use Numpy?\n",
        "\n",
        "Use import command: import numpy. Then, use numpy.specific_command\n",
        "Certain library names are long, and you can use a short-hand notation\n",
        "import numpy as np"
      ],
      "metadata": {
        "id": "vWpsuRHRqQw-"
      }
    },
    {
      "cell_type": "markdown",
      "source": [
        "Alternatively, if you want to use only one specific command, you can use from XX import YY command"
      ],
      "metadata": {
        "id": "yBVmesIxqcaG"
      }
    },
    {
      "cell_type": "markdown",
      "source": [
        "Arrays are initialized from lists (or tuples) using array. Two-dimensional arrays are initialized using lists of lists (or tuples of tuples, or lists of tuples, etc.), and higher dimensional arrays can be initialized by further nesting lists or tuples."
      ],
      "metadata": {
        "id": "boZOQcQ5ysOO"
      }
    },
    {
      "cell_type": "code",
      "execution_count": null,
      "metadata": {
        "id": "2vB3G3NkMvem"
      },
      "outputs": [],
      "source": [
        "from numpy import array"
      ]
    },
    {
      "cell_type": "code",
      "source": [
        "#Alternatively,\n",
        "#import numpy as np    Then, ... np.array\n",
        "#import pandas as pd"
      ],
      "metadata": {
        "id": "OZ2-3lUd-N_c"
      },
      "execution_count": null,
      "outputs": []
    },
    {
      "cell_type": "code",
      "source": [
        "x = [0.0, 1, 2, 3, 4]"
      ],
      "metadata": {
        "id": "KDAFASNzqscH"
      },
      "execution_count": null,
      "outputs": []
    },
    {
      "cell_type": "code",
      "source": [
        "type(x)"
      ],
      "metadata": {
        "colab": {
          "base_uri": "https://localhost:8080/"
        },
        "id": "rigGCAXgqyAQ",
        "outputId": "d1aa15f3-5490-4ec9-9707-d579b946d42b"
      },
      "execution_count": null,
      "outputs": [
        {
          "output_type": "execute_result",
          "data": {
            "text/plain": [
              "list"
            ]
          },
          "metadata": {},
          "execution_count": 241
        }
      ]
    },
    {
      "cell_type": "code",
      "source": [
        "# Convert it to an array\n",
        "y = array(x)"
      ],
      "metadata": {
        "id": "k3liWrvcq0wr"
      },
      "execution_count": null,
      "outputs": []
    },
    {
      "cell_type": "code",
      "source": [
        "type(y)"
      ],
      "metadata": {
        "colab": {
          "base_uri": "https://localhost:8080/"
        },
        "id": "kOOP8TCAq5Tf",
        "outputId": "9de71563-b07a-4e0b-a1df-bfa5df361e92"
      },
      "execution_count": null,
      "outputs": [
        {
          "output_type": "execute_result",
          "data": {
            "text/plain": [
              "numpy.ndarray"
            ]
          },
          "metadata": {},
          "execution_count": 243
        }
      ]
    },
    {
      "cell_type": "markdown",
      "source": [
        "Two (or higher) -dimensional arrays are initialized using nested lists."
      ],
      "metadata": {
        "id": "_8efSX1lq9QF"
      }
    },
    {
      "cell_type": "code",
      "source": [
        "y1=array([[0.0, 1, 2, 3, 4], [5, 6, 7, 8, 9]])"
      ],
      "metadata": {
        "id": "SvsFk3tJq6jN"
      },
      "execution_count": null,
      "outputs": []
    },
    {
      "cell_type": "code",
      "source": [
        "y1"
      ],
      "metadata": {
        "colab": {
          "base_uri": "https://localhost:8080/"
        },
        "id": "fb0X-YhmrET9",
        "outputId": "da7bec70-3469-484a-934e-7ab9468907ec"
      },
      "execution_count": null,
      "outputs": [
        {
          "output_type": "execute_result",
          "data": {
            "text/plain": [
              "array([[0., 1., 2., 3., 4.],\n",
              "       [5., 6., 7., 8., 9.]])"
            ]
          },
          "metadata": {},
          "execution_count": 245
        }
      ]
    },
    {
      "cell_type": "code",
      "source": [
        "from numpy import shape"
      ],
      "metadata": {
        "id": "EAmRq80XrKAc"
      },
      "execution_count": null,
      "outputs": []
    },
    {
      "cell_type": "code",
      "source": [
        "shape(y)"
      ],
      "metadata": {
        "colab": {
          "base_uri": "https://localhost:8080/"
        },
        "id": "zRbYMTDYrm3M",
        "outputId": "6f964a49-1dc9-42c9-b849-f53f0ca23014"
      },
      "execution_count": null,
      "outputs": [
        {
          "output_type": "execute_result",
          "data": {
            "text/plain": [
              "(5,)"
            ]
          },
          "metadata": {},
          "execution_count": 247
        }
      ]
    },
    {
      "cell_type": "code",
      "source": [
        "y1.dtype"
      ],
      "metadata": {
        "colab": {
          "base_uri": "https://localhost:8080/"
        },
        "id": "HRiG6cq4rwh8",
        "outputId": "92deb2c1-8fd1-4e9e-aafc-a1cd20ae00a3"
      },
      "execution_count": null,
      "outputs": [
        {
          "output_type": "execute_result",
          "data": {
            "text/plain": [
              "dtype('float64')"
            ]
          },
          "metadata": {},
          "execution_count": 248
        }
      ]
    },
    {
      "cell_type": "code",
      "source": [
        "y.dtype"
      ],
      "metadata": {
        "colab": {
          "base_uri": "https://localhost:8080/"
        },
        "id": "qBcz-RNssb1l",
        "outputId": "645cbd89-f958-4bdb-dce2-b3fe7dd52afa"
      },
      "execution_count": null,
      "outputs": [
        {
          "output_type": "execute_result",
          "data": {
            "text/plain": [
              "dtype('float64')"
            ]
          },
          "metadata": {},
          "execution_count": 249
        }
      ]
    },
    {
      "cell_type": "code",
      "source": [
        "x = [0,1,2,3,4]"
      ],
      "metadata": {
        "id": "d5xUmTDnseH9"
      },
      "execution_count": null,
      "outputs": []
    },
    {
      "cell_type": "code",
      "source": [
        "y=array(x)\n",
        "y.dtype"
      ],
      "metadata": {
        "colab": {
          "base_uri": "https://localhost:8080/"
        },
        "id": "HeXweDYUskuu",
        "outputId": "4f579e0b-9353-440f-a232-fbe24e7feaf0"
      },
      "execution_count": null,
      "outputs": [
        {
          "output_type": "execute_result",
          "data": {
            "text/plain": [
              "dtype('int64')"
            ]
          },
          "metadata": {},
          "execution_count": 251
        }
      ]
    },
    {
      "cell_type": "code",
      "source": [
        "y=array(x, dtype=float)"
      ],
      "metadata": {
        "id": "eKLWfL8ks-Ro"
      },
      "execution_count": null,
      "outputs": []
    },
    {
      "cell_type": "code",
      "source": [
        "y.dtype"
      ],
      "metadata": {
        "colab": {
          "base_uri": "https://localhost:8080/"
        },
        "id": "IJnTeQQktDXm",
        "outputId": "d96bb883-4347-46c5-b862-7bf44d09d47a"
      },
      "execution_count": null,
      "outputs": [
        {
          "output_type": "execute_result",
          "data": {
            "text/plain": [
              "dtype('float64')"
            ]
          },
          "metadata": {},
          "execution_count": 253
        }
      ]
    },
    {
      "cell_type": "code",
      "source": [
        "y"
      ],
      "metadata": {
        "colab": {
          "base_uri": "https://localhost:8080/"
        },
        "id": "JHy-hvmstHwb",
        "outputId": "45829215-37db-4b72-af3e-e98c8f270bf8"
      },
      "execution_count": null,
      "outputs": [
        {
          "output_type": "execute_result",
          "data": {
            "text/plain": [
              "array([0., 1., 2., 3., 4.])"
            ]
          },
          "metadata": {},
          "execution_count": 254
        }
      ]
    },
    {
      "cell_type": "code",
      "source": [
        "# Make a column array\n",
        "yc = array([[1.0], [2.0], [3.0], [4.0], [5.0]])"
      ],
      "metadata": {
        "id": "xDG08QHqtN3d"
      },
      "execution_count": null,
      "outputs": []
    },
    {
      "cell_type": "code",
      "source": [
        "yc"
      ],
      "metadata": {
        "colab": {
          "base_uri": "https://localhost:8080/"
        },
        "id": "5Sr5aKPBtRNm",
        "outputId": "a3597381-f8eb-486a-bc9f-00899bead2fd"
      },
      "execution_count": null,
      "outputs": [
        {
          "output_type": "execute_result",
          "data": {
            "text/plain": [
              "array([[1.],\n",
              "       [2.],\n",
              "       [3.],\n",
              "       [4.],\n",
              "       [5.]])"
            ]
          },
          "metadata": {},
          "execution_count": 256
        }
      ]
    },
    {
      "cell_type": "markdown",
      "source": [
        "Two-dimensional arrays are rows of columns"
      ],
      "metadata": {
        "id": "wRHLroIwt92a"
      }
    },
    {
      "cell_type": "code",
      "source": [
        "x = array([[1.0,2.0,3.0],[4.0,5.0,6.0],[7.0,8.0,9.0]])\n",
        "x"
      ],
      "metadata": {
        "colab": {
          "base_uri": "https://localhost:8080/"
        },
        "id": "FHELeS5xtoGq",
        "outputId": "9aed7d5a-6be9-40aa-bfb0-f6948984f859"
      },
      "execution_count": null,
      "outputs": [
        {
          "output_type": "execute_result",
          "data": {
            "text/plain": [
              "array([[1., 2., 3.],\n",
              "       [4., 5., 6.],\n",
              "       [7., 8., 9.]])"
            ]
          },
          "metadata": {},
          "execution_count": 257
        }
      ]
    },
    {
      "cell_type": "code",
      "source": [
        "y = array([[[1,2],[3,4]],[[5,6],[7,8]]])\n",
        "y"
      ],
      "metadata": {
        "colab": {
          "base_uri": "https://localhost:8080/"
        },
        "id": "9d29itoauERs",
        "outputId": "524b65c0-aa60-4d8c-afec-cd952b7b44a9"
      },
      "execution_count": null,
      "outputs": [
        {
          "output_type": "execute_result",
          "data": {
            "text/plain": [
              "array([[[1, 2],\n",
              "        [3, 4]],\n",
              "\n",
              "       [[5, 6],\n",
              "        [7, 8]]])"
            ]
          },
          "metadata": {},
          "execution_count": 258
        }
      ]
    },
    {
      "cell_type": "markdown",
      "source": [
        "We often need to concatenate data.\n",
        "\n",
        "For instance,\n",
        "$  x = \\begin{bmatrix}\n",
        "    1       & 3 \\\\\n",
        "    2       & 4\n",
        "\\end{bmatrix}$ and $  y = \\begin{bmatrix}\n",
        "    5       & 7 \\\\\n",
        "    9       & 10\n",
        "\\end{bmatrix}$ and $ z = \\begin{bmatrix}\n",
        "    x       \\\\\n",
        "    y\n",
        "\\end{bmatrix}$"
      ],
      "metadata": {
        "id": "NKqB8My-veUu"
      }
    },
    {
      "cell_type": "code",
      "source": [
        "x = array([[1.0,3.0],[2.0,4.0]])\n",
        "y = array([[5.0,7.0],[9.0,10.0]])"
      ],
      "metadata": {
        "id": "l5zKoaBCwvwp"
      },
      "execution_count": null,
      "outputs": []
    },
    {
      "cell_type": "code",
      "source": [
        "import numpy as np\n",
        "\n",
        "z = np.concatenate((x,y),axis=0) #axis=0 means arrays are concatednated vertically.\n",
        "z"
      ],
      "metadata": {
        "colab": {
          "base_uri": "https://localhost:8080/"
        },
        "id": "-RrNu3Tsw_yA",
        "outputId": "3408bc31-bce7-4416-8278-76e9cf1a7783"
      },
      "execution_count": null,
      "outputs": [
        {
          "output_type": "execute_result",
          "data": {
            "text/plain": [
              "array([[ 1.,  3.],\n",
              "       [ 2.,  4.],\n",
              "       [ 5.,  7.],\n",
              "       [ 9., 10.]])"
            ]
          },
          "metadata": {},
          "execution_count": 260
        }
      ]
    },
    {
      "cell_type": "code",
      "source": [
        "z1 = np.concatenate((x,y),axis=1) # Horizontal Concatenation\n",
        "\n",
        "z1"
      ],
      "metadata": {
        "colab": {
          "base_uri": "https://localhost:8080/"
        },
        "id": "UWofoOUExDh5",
        "outputId": "4d805da6-66e0-4531-e791-0d4ce43d5019"
      },
      "execution_count": null,
      "outputs": [
        {
          "output_type": "execute_result",
          "data": {
            "text/plain": [
              "array([[ 1.,  3.,  5.,  7.],\n",
              "       [ 2.,  4.,  9., 10.]])"
            ]
          },
          "metadata": {},
          "execution_count": 261
        }
      ]
    },
    {
      "cell_type": "code",
      "source": [
        "# You can use vstack (identical to axis=0) or hstack (axis=1)"
      ],
      "metadata": {
        "id": "2TVh2PlCxaeU"
      },
      "execution_count": null,
      "outputs": []
    },
    {
      "cell_type": "code",
      "source": [
        "np.zeros((3,9))"
      ],
      "metadata": {
        "colab": {
          "base_uri": "https://localhost:8080/"
        },
        "id": "evEBWp4ZxpkH",
        "outputId": "4923b4be-7388-4723-9515-5a5103bea988"
      },
      "execution_count": null,
      "outputs": [
        {
          "output_type": "execute_result",
          "data": {
            "text/plain": [
              "array([[0., 0., 0., 0., 0., 0., 0., 0., 0.],\n",
              "       [0., 0., 0., 0., 0., 0., 0., 0., 0.],\n",
              "       [0., 0., 0., 0., 0., 0., 0., 0., 0.]])"
            ]
          },
          "metadata": {},
          "execution_count": 263
        }
      ]
    },
    {
      "cell_type": "markdown",
      "source": [
        "How to access ingredients (elements) of array"
      ],
      "metadata": {
        "id": "wbHjkT4szSbh"
      }
    },
    {
      "cell_type": "code",
      "source": [
        "x = array([1.0,2.0,3.0,4.0,5.0])"
      ],
      "metadata": {
        "id": "x9x_veHBzB1Q"
      },
      "execution_count": null,
      "outputs": []
    },
    {
      "cell_type": "code",
      "source": [
        "x[0]"
      ],
      "metadata": {
        "colab": {
          "base_uri": "https://localhost:8080/"
        },
        "id": "As0J5FGazKUe",
        "outputId": "f1c3893d-a607-4468-844a-d8e3f842f46b"
      },
      "execution_count": null,
      "outputs": [
        {
          "output_type": "execute_result",
          "data": {
            "text/plain": [
              "1.0"
            ]
          },
          "metadata": {},
          "execution_count": 265
        }
      ]
    },
    {
      "cell_type": "code",
      "source": [
        "x = array([[1.0,2,3],[4,5,6]])\n",
        "x"
      ],
      "metadata": {
        "colab": {
          "base_uri": "https://localhost:8080/"
        },
        "id": "rR894Xvezf_U",
        "outputId": "16c76557-8d0b-4632-bca0-5273b10e223a"
      },
      "execution_count": null,
      "outputs": [
        {
          "output_type": "execute_result",
          "data": {
            "text/plain": [
              "array([[1., 2., 3.],\n",
              "       [4., 5., 6.]])"
            ]
          },
          "metadata": {},
          "execution_count": 266
        }
      ]
    },
    {
      "cell_type": "code",
      "source": [
        "x[0,2] #second row, third column because python begins with 0"
      ],
      "metadata": {
        "colab": {
          "base_uri": "https://localhost:8080/"
        },
        "id": "pPyvqds0zjkp",
        "outputId": "c066a24e-1ff4-4250-cf36-1ea11230382a"
      },
      "execution_count": null,
      "outputs": [
        {
          "output_type": "execute_result",
          "data": {
            "text/plain": [
              "3.0"
            ]
          },
          "metadata": {},
          "execution_count": 267
        }
      ]
    },
    {
      "cell_type": "code",
      "source": [
        "type(x[1,2])"
      ],
      "metadata": {
        "colab": {
          "base_uri": "https://localhost:8080/"
        },
        "id": "Lu-XzpoWznRW",
        "outputId": "9988aeff-d1b6-4711-893a-7430a5cf9fe2"
      },
      "execution_count": null,
      "outputs": [
        {
          "output_type": "execute_result",
          "data": {
            "text/plain": [
              "numpy.float64"
            ]
          },
          "metadata": {},
          "execution_count": 268
        }
      ]
    },
    {
      "cell_type": "code",
      "source": [
        "#Basic slicing of 1-dimensional arrays is identical to slicing a simple list, and the returned type of all slicing operations matches the array being sliced.\n"
      ],
      "metadata": {
        "id": "5-h0JKttzx4n"
      },
      "execution_count": null,
      "outputs": []
    },
    {
      "cell_type": "code",
      "source": [
        "x = array([1.0,2.0,3.0,4.0,5.0])\n",
        "Y = x[:]"
      ],
      "metadata": {
        "id": "c4oEfwl51HJa"
      },
      "execution_count": null,
      "outputs": []
    },
    {
      "cell_type": "code",
      "source": [
        "Y"
      ],
      "metadata": {
        "colab": {
          "base_uri": "https://localhost:8080/"
        },
        "id": "nHm3eWRz1Y5-",
        "outputId": "a0bbd70f-1489-451e-8459-d24780d665cb"
      },
      "execution_count": null,
      "outputs": [
        {
          "output_type": "execute_result",
          "data": {
            "text/plain": [
              "array([1., 2., 3., 4., 5.])"
            ]
          },
          "metadata": {},
          "execution_count": 271
        }
      ]
    },
    {
      "cell_type": "code",
      "source": [
        "y = x[:2]"
      ],
      "metadata": {
        "id": "hbvWjSKq1aSF"
      },
      "execution_count": null,
      "outputs": []
    },
    {
      "cell_type": "code",
      "source": [
        "y=x[1:2]"
      ],
      "metadata": {
        "id": "xS_LYqfU1dQr"
      },
      "execution_count": null,
      "outputs": []
    },
    {
      "cell_type": "code",
      "source": [
        "y"
      ],
      "metadata": {
        "colab": {
          "base_uri": "https://localhost:8080/"
        },
        "id": "Dw7-BVTR1nQ8",
        "outputId": "a1ee0f72-9441-4554-986e-dacd30be7fb4"
      },
      "execution_count": null,
      "outputs": [
        {
          "output_type": "execute_result",
          "data": {
            "text/plain": [
              "array([2.])"
            ]
          },
          "metadata": {},
          "execution_count": 274
        }
      ]
    },
    {
      "cell_type": "code",
      "source": [
        "y = array([[0.0, 1, 2, 3, 4],[5, 6, 7, 8, 9]])"
      ],
      "metadata": {
        "id": "uA27xBBw1n5B"
      },
      "execution_count": null,
      "outputs": []
    },
    {
      "cell_type": "code",
      "source": [
        "y"
      ],
      "metadata": {
        "colab": {
          "base_uri": "https://localhost:8080/"
        },
        "id": "bnJybyBF2Rtf",
        "outputId": "90dc68c2-1c10-4374-9fa8-fe4562d0af68"
      },
      "execution_count": null,
      "outputs": [
        {
          "output_type": "execute_result",
          "data": {
            "text/plain": [
              "array([[0., 1., 2., 3., 4.],\n",
              "       [5., 6., 7., 8., 9.]])"
            ]
          },
          "metadata": {},
          "execution_count": 276
        }
      ]
    },
    {
      "cell_type": "code",
      "source": [
        "y[:1,:] # Row 0, all columns"
      ],
      "metadata": {
        "colab": {
          "base_uri": "https://localhost:8080/"
        },
        "id": "GKrCmnsE2SHm",
        "outputId": "1f661188-c1e9-4666-d83d-9b3d7a9a9728"
      },
      "execution_count": null,
      "outputs": [
        {
          "output_type": "execute_result",
          "data": {
            "text/plain": [
              "array([[0., 1., 2., 3., 4.]])"
            ]
          },
          "metadata": {},
          "execution_count": 277
        }
      ]
    },
    {
      "cell_type": "code",
      "source": [
        "y[:1] # Same as y[:1,:]"
      ],
      "metadata": {
        "colab": {
          "base_uri": "https://localhost:8080/"
        },
        "id": "G_BMFPPZ7GTb",
        "outputId": "df5a7ca0-1560-4c43-faf1-9f753f9a2d25"
      },
      "execution_count": null,
      "outputs": [
        {
          "output_type": "execute_result",
          "data": {
            "text/plain": [
              "array([[0., 1., 2., 3., 4.]])"
            ]
          },
          "metadata": {},
          "execution_count": 278
        }
      ]
    },
    {
      "cell_type": "code",
      "source": [
        "y[:,:1] # all rows, column 0"
      ],
      "metadata": {
        "colab": {
          "base_uri": "https://localhost:8080/"
        },
        "id": "bpg39mNB7N_S",
        "outputId": "608915be-c11e-4781-f132-e07094872723"
      },
      "execution_count": null,
      "outputs": [
        {
          "output_type": "execute_result",
          "data": {
            "text/plain": [
              "array([[0.],\n",
              "       [5.]])"
            ]
          },
          "metadata": {},
          "execution_count": 279
        }
      ]
    },
    {
      "cell_type": "code",
      "source": [
        "y[:1,0:3] # Row 0, columns 0 to 2"
      ],
      "metadata": {
        "colab": {
          "base_uri": "https://localhost:8080/"
        },
        "id": "vOYhOjq37Q1x",
        "outputId": "edba3c6b-67ce-444c-d23b-42309b0a0e9e"
      },
      "execution_count": null,
      "outputs": [
        {
          "output_type": "execute_result",
          "data": {
            "text/plain": [
              "array([[0., 1., 2.]])"
            ]
          },
          "metadata": {},
          "execution_count": 280
        }
      ]
    },
    {
      "cell_type": "code",
      "source": [
        "y[:1][:,0:3] # Same as previous"
      ],
      "metadata": {
        "colab": {
          "base_uri": "https://localhost:8080/"
        },
        "id": "1Teu0YOh7TsK",
        "outputId": "54f21823-a8d4-4f77-f6c4-08fbec33445f"
      },
      "execution_count": null,
      "outputs": [
        {
          "output_type": "execute_result",
          "data": {
            "text/plain": [
              "array([[0., 1., 2.]])"
            ]
          },
          "metadata": {},
          "execution_count": 281
        }
      ]
    },
    {
      "cell_type": "code",
      "source": [
        "y[:,3:] # All rows, columns 3 and 4"
      ],
      "metadata": {
        "colab": {
          "base_uri": "https://localhost:8080/"
        },
        "id": "QuZCLmIS7W51",
        "outputId": "814f834f-4591-4526-8cfd-7660cad2c182"
      },
      "execution_count": null,
      "outputs": [
        {
          "output_type": "execute_result",
          "data": {
            "text/plain": [
              "array([[3., 4.],\n",
              "       [8., 9.]])"
            ]
          },
          "metadata": {},
          "execution_count": 282
        }
      ]
    },
    {
      "cell_type": "code",
      "source": [
        "y = array([[[1.0,2],[3,4]],[[5,6],[7,8]]])"
      ],
      "metadata": {
        "id": "L5AskvV37b_D"
      },
      "execution_count": null,
      "outputs": []
    },
    {
      "cell_type": "code",
      "source": [
        "y[:1,:,:] # Panel 0 of 3D y"
      ],
      "metadata": {
        "colab": {
          "base_uri": "https://localhost:8080/"
        },
        "id": "GRG4rU6-7fsV",
        "outputId": "92ba5a1d-6877-4ead-b914-b55588203338"
      },
      "execution_count": null,
      "outputs": [
        {
          "output_type": "execute_result",
          "data": {
            "text/plain": [
              "array([[[1., 2.],\n",
              "        [3., 4.]]])"
            ]
          },
          "metadata": {},
          "execution_count": 284
        }
      ]
    },
    {
      "cell_type": "code",
      "source": [
        "x=[[0.0]*3]*3"
      ],
      "metadata": {
        "id": "-GbZLdmO7pm6"
      },
      "execution_count": null,
      "outputs": []
    },
    {
      "cell_type": "code",
      "source": [
        "y = array(x)"
      ],
      "metadata": {
        "id": "fTqgiATh8hUH"
      },
      "execution_count": null,
      "outputs": []
    },
    {
      "cell_type": "code",
      "source": [
        "y"
      ],
      "metadata": {
        "colab": {
          "base_uri": "https://localhost:8080/"
        },
        "id": "UPlg625k9BCz",
        "outputId": "bcd2a2b7-1e8a-4bff-8609-351345681968"
      },
      "execution_count": null,
      "outputs": [
        {
          "output_type": "execute_result",
          "data": {
            "text/plain": [
              "array([[0., 0., 0.],\n",
              "       [0., 0., 0.],\n",
              "       [0., 0., 0.]])"
            ]
          },
          "metadata": {},
          "execution_count": 287
        }
      ]
    },
    {
      "cell_type": "code",
      "source": [
        "y = np.reshape(np.arange(25.0),(5,5))"
      ],
      "metadata": {
        "id": "jHMRBV3b9B0C"
      },
      "execution_count": null,
      "outputs": []
    },
    {
      "cell_type": "code",
      "source": [
        "y"
      ],
      "metadata": {
        "colab": {
          "base_uri": "https://localhost:8080/"
        },
        "id": "oepzwGUc9khN",
        "outputId": "9ffdd191-2f3f-46c2-c18f-fb8808161fd3"
      },
      "execution_count": null,
      "outputs": [
        {
          "output_type": "execute_result",
          "data": {
            "text/plain": [
              "array([[ 0.,  1.,  2.,  3.,  4.],\n",
              "       [ 5.,  6.,  7.,  8.,  9.],\n",
              "       [10., 11., 12., 13., 14.],\n",
              "       [15., 16., 17., 18., 19.],\n",
              "       [20., 21., 22., 23., 24.]])"
            ]
          },
          "metadata": {},
          "execution_count": 289
        }
      ]
    },
    {
      "cell_type": "code",
      "source": [
        "y.flat[:]"
      ],
      "metadata": {
        "colab": {
          "base_uri": "https://localhost:8080/"
        },
        "id": "dOdxOnJ79pIa",
        "outputId": "c9292d5c-6f2a-48ec-9609-71eedc2e162b"
      },
      "execution_count": null,
      "outputs": [
        {
          "output_type": "execute_result",
          "data": {
            "text/plain": [
              "array([ 0.,  1.,  2.,  3.,  4.,  5.,  6.,  7.,  8.,  9., 10., 11., 12.,\n",
              "       13., 14., 15., 16., 17., 18., 19., 20., 21., 22., 23., 24.])"
            ]
          },
          "metadata": {},
          "execution_count": 290
        }
      ]
    },
    {
      "cell_type": "code",
      "source": [
        "# Another useful trick with array is to use tile when you want to create a block matrix\n",
        "\n",
        "\n",
        "x = array([[1,2],[3,4]])\n",
        "x"
      ],
      "metadata": {
        "id": "oTKA9xXN9xRf",
        "colab": {
          "base_uri": "https://localhost:8080/"
        },
        "outputId": "9396230b-2b06-49a5-8f88-4e4a41bd4a22"
      },
      "execution_count": null,
      "outputs": [
        {
          "output_type": "execute_result",
          "data": {
            "text/plain": [
              "array([[1, 2],\n",
              "       [3, 4]])"
            ]
          },
          "metadata": {},
          "execution_count": 291
        }
      ]
    },
    {
      "cell_type": "code",
      "source": [
        "z = np.tile(x,(2,3))\n",
        "z"
      ],
      "metadata": {
        "colab": {
          "base_uri": "https://localhost:8080/"
        },
        "id": "YbzlHGES6W3b",
        "outputId": "96d609bb-2624-4cf6-f2af-000d00aac93f"
      },
      "execution_count": null,
      "outputs": [
        {
          "output_type": "execute_result",
          "data": {
            "text/plain": [
              "array([[1, 2, 1, 2, 1, 2],\n",
              "       [3, 4, 3, 4, 3, 4],\n",
              "       [1, 2, 1, 2, 1, 2],\n",
              "       [3, 4, 3, 4, 3, 4]])"
            ]
          },
          "metadata": {},
          "execution_count": 292
        }
      ]
    },
    {
      "cell_type": "markdown",
      "source": [
        "# Basic Operations Using Array\n",
        "\n",
        "## (Matrix) Algebra\n",
        "\n",
        "### Standard Operators\n",
        "\n",
        "- $ + $: Addition\n",
        "- $ - $: Subtraction\n",
        "- $ * $: Multiplication\n",
        "- $ / $: Division (Left divide)\n",
        "- $ // $: Integer division\n",
        "- $**$: Exponentiation, $x**y$, doing $x^y$\n",
        "- $@$: Matrix Multiplication\n",
        "\n",
        "When $x$ and $y$ are scalars, these operators work in usual ways. For arrays, it is tricky because Numpy uses certain rules that are not necessarily compatible with conventional matrix algebra. We will investigate more in the below."
      ],
      "metadata": {
        "id": "A0ozmsI0TBO2"
      }
    },
    {
      "cell_type": "code",
      "source": [
        "# Can you add, subtract, or multiply an array with a scalar? This is not a matrix algebra, but numpy does the following.\n",
        "z2 = 3\n",
        "z+z2"
      ],
      "metadata": {
        "colab": {
          "base_uri": "https://localhost:8080/"
        },
        "id": "cPebS-oV7Cl5",
        "outputId": "8ec1e52f-de14-4c6f-f466-ba5edf17f3d6"
      },
      "execution_count": null,
      "outputs": [
        {
          "output_type": "execute_result",
          "data": {
            "text/plain": [
              "array([[4, 5, 4, 5, 4, 5],\n",
              "       [6, 7, 6, 7, 6, 7],\n",
              "       [4, 5, 4, 5, 4, 5],\n",
              "       [6, 7, 6, 7, 6, 7]])"
            ]
          },
          "metadata": {},
          "execution_count": 293
        }
      ]
    },
    {
      "cell_type": "code",
      "source": [
        "z-z2"
      ],
      "metadata": {
        "colab": {
          "base_uri": "https://localhost:8080/"
        },
        "id": "MfUAYlOrR3tF",
        "outputId": "b5159e10-d72c-4084-af6c-e8f9723ac6cb"
      },
      "execution_count": null,
      "outputs": [
        {
          "output_type": "execute_result",
          "data": {
            "text/plain": [
              "array([[-2, -1, -2, -1, -2, -1],\n",
              "       [ 0,  1,  0,  1,  0,  1],\n",
              "       [-2, -1, -2, -1, -2, -1],\n",
              "       [ 0,  1,  0,  1,  0,  1]])"
            ]
          },
          "metadata": {},
          "execution_count": 294
        }
      ]
    },
    {
      "cell_type": "code",
      "source": [
        "z2-z"
      ],
      "metadata": {
        "colab": {
          "base_uri": "https://localhost:8080/"
        },
        "id": "zkqmcpw1R7Ze",
        "outputId": "71ba2c2e-6291-4aae-d65c-d8bb37612298"
      },
      "execution_count": null,
      "outputs": [
        {
          "output_type": "execute_result",
          "data": {
            "text/plain": [
              "array([[ 2,  1,  2,  1,  2,  1],\n",
              "       [ 0, -1,  0, -1,  0, -1],\n",
              "       [ 2,  1,  2,  1,  2,  1],\n",
              "       [ 0, -1,  0, -1,  0, -1]])"
            ]
          },
          "metadata": {},
          "execution_count": 295
        }
      ]
    },
    {
      "cell_type": "code",
      "source": [
        "z*z2"
      ],
      "metadata": {
        "colab": {
          "base_uri": "https://localhost:8080/"
        },
        "id": "6tPp0K1aRk8t",
        "outputId": "4416afa6-ef15-46ff-8ffa-92b7dc5da7ee"
      },
      "execution_count": null,
      "outputs": [
        {
          "output_type": "execute_result",
          "data": {
            "text/plain": [
              "array([[ 3,  6,  3,  6,  3,  6],\n",
              "       [ 9, 12,  9, 12,  9, 12],\n",
              "       [ 3,  6,  3,  6,  3,  6],\n",
              "       [ 9, 12,  9, 12,  9, 12]])"
            ]
          },
          "metadata": {},
          "execution_count": 296
        }
      ]
    },
    {
      "cell_type": "code",
      "source": [
        "# Again it is not the actual matrix algebra but below are the numpy operations with an array with another array with lesser dimension\n",
        "z3 = [1,2,3,4,5,6]\n",
        "z3"
      ],
      "metadata": {
        "colab": {
          "base_uri": "https://localhost:8080/"
        },
        "id": "XvoCM4PIR6O-",
        "outputId": "2466c487-dc8b-4f9f-b312-3b2f3bfeffeb"
      },
      "execution_count": null,
      "outputs": [
        {
          "output_type": "execute_result",
          "data": {
            "text/plain": [
              "[1, 2, 3, 4, 5, 6]"
            ]
          },
          "metadata": {},
          "execution_count": 297
        }
      ]
    },
    {
      "cell_type": "code",
      "source": [
        "z+z3"
      ],
      "metadata": {
        "colab": {
          "base_uri": "https://localhost:8080/"
        },
        "id": "5Na6HXqYR1Q_",
        "outputId": "f84ddc9e-85d7-4a44-c37f-dcdc16d09c26"
      },
      "execution_count": null,
      "outputs": [
        {
          "output_type": "execute_result",
          "data": {
            "text/plain": [
              "array([[ 2,  4,  4,  6,  6,  8],\n",
              "       [ 4,  6,  6,  8,  8, 10],\n",
              "       [ 2,  4,  4,  6,  6,  8],\n",
              "       [ 4,  6,  6,  8,  8, 10]])"
            ]
          },
          "metadata": {},
          "execution_count": 298
        }
      ]
    },
    {
      "cell_type": "code",
      "source": [
        "z*z3"
      ],
      "metadata": {
        "colab": {
          "base_uri": "https://localhost:8080/"
        },
        "id": "Yd3z969oSXh-",
        "outputId": "fc3f42dc-e70e-48b0-b93f-4a1f3fdee466"
      },
      "execution_count": null,
      "outputs": [
        {
          "output_type": "execute_result",
          "data": {
            "text/plain": [
              "array([[ 1,  4,  3,  8,  5, 12],\n",
              "       [ 3,  8,  9, 16, 15, 24],\n",
              "       [ 1,  4,  3,  8,  5, 12],\n",
              "       [ 3,  8,  9, 16, 15, 24]])"
            ]
          },
          "metadata": {},
          "execution_count": 299
        }
      ]
    },
    {
      "cell_type": "markdown",
      "source": [
        "# Exercises\n",
        "\n",
        "Input the following matrices into Python as arrays\n",
        "\n",
        "$  x = \\begin{bmatrix}\n",
        "    1 & 2 & 3 & 5\\\\\n",
        "\\end{bmatrix} $\n",
        "\n",
        "$  y = \\begin{bmatrix}\n",
        "    1 & 2 & 1 & 2 \\\\ 3 & 5 & 6 & 4 \\\\ 5 & 9 & 1.5 & 10 \\\\\n",
        "\\end{bmatrix} $\n",
        "\n",
        "$  Z = \\begin{bmatrix}\n",
        "    x & x \\\\ y & y \\\\\n",
        "\\end{bmatrix} $\n",
        "\n",
        "Q1) Concatenate x to y above the first row of y and name it as K\n",
        "\n",
        "Q2) Select x from Z\n",
        "\n",
        "Q3) Select [x' y'] from Z, where x' and y' are transposed x and y, respectively.\n",
        "\n"
      ],
      "metadata": {
        "id": "NRbaHY-j-Yk3"
      }
    },
    {
      "cell_type": "markdown",
      "source": [
        "## Formal matrix multiplication"
      ],
      "metadata": {
        "id": "T8cnJDGBZx2z"
      }
    },
    {
      "cell_type": "code",
      "source": [
        "x = array([[1.0, 2],[ 3, 2], [3, 4]])\n",
        "x"
      ],
      "metadata": {
        "colab": {
          "base_uri": "https://localhost:8080/"
        },
        "id": "8EfLUYb1Z2rR",
        "outputId": "c06fb4e6-d83b-42d1-96e7-5be39bd43c58"
      },
      "execution_count": null,
      "outputs": [
        {
          "output_type": "execute_result",
          "data": {
            "text/plain": [
              "array([[1., 2.],\n",
              "       [3., 2.],\n",
              "       [3., 4.]])"
            ]
          },
          "metadata": {},
          "execution_count": 300
        }
      ]
    },
    {
      "cell_type": "code",
      "source": [
        "y = array([[9.0, 8],[7, 6]])\n",
        "y"
      ],
      "metadata": {
        "colab": {
          "base_uri": "https://localhost:8080/"
        },
        "id": "SUQ3bUO2aG_8",
        "outputId": "392c2eb8-c677-4d7f-c9a3-a1b39d7f3629"
      },
      "execution_count": null,
      "outputs": [
        {
          "output_type": "execute_result",
          "data": {
            "text/plain": [
              "array([[9., 8.],\n",
              "       [7., 6.]])"
            ]
          },
          "metadata": {},
          "execution_count": 301
        }
      ]
    },
    {
      "cell_type": "markdown",
      "source": [
        "$x$ is a $3 × 2$ matrix, and $y$ is a $2 \\times 2$ matrix. Thus, $x \\times y$ will be $3 \\times 2$ matrix."
      ],
      "metadata": {
        "id": "bSdpc5Y9aYDO"
      }
    },
    {
      "cell_type": "code",
      "source": [
        "x@y\n",
        "#1*9+2*7=23, 1*8+2*6=20 : This is the first row of the result"
      ],
      "metadata": {
        "colab": {
          "base_uri": "https://localhost:8080/"
        },
        "id": "g8f6WoNzaKkl",
        "outputId": "67ab9737-fcba-4da0-fe26-9a8fc4fa616c"
      },
      "execution_count": null,
      "outputs": [
        {
          "output_type": "execute_result",
          "data": {
            "text/plain": [
              "array([[23., 20.],\n",
              "       [41., 36.],\n",
              "       [55., 48.]])"
            ]
          },
          "metadata": {},
          "execution_count": 302
        }
      ]
    },
    {
      "cell_type": "markdown",
      "source": [
        "## Division and Exponentiation is done in an element-by-element fashion."
      ],
      "metadata": {
        "id": "TO3-NWvEbzMp"
      }
    },
    {
      "cell_type": "code",
      "source": [
        "z= array([[1.0, 4],[ 3, 5], [3, 1]])"
      ],
      "metadata": {
        "id": "B0zqVZIpa7Tm"
      },
      "execution_count": null,
      "outputs": []
    },
    {
      "cell_type": "code",
      "source": [
        "z/x"
      ],
      "metadata": {
        "colab": {
          "base_uri": "https://localhost:8080/"
        },
        "id": "r65jph21b5K0",
        "outputId": "a065e8c3-8103-476c-cc21-c81980d6d009"
      },
      "execution_count": null,
      "outputs": [
        {
          "output_type": "execute_result",
          "data": {
            "text/plain": [
              "array([[1.  , 2.  ],\n",
              "       [1.  , 2.5 ],\n",
              "       [1.  , 0.25]])"
            ]
          },
          "metadata": {},
          "execution_count": 304
        }
      ]
    },
    {
      "cell_type": "markdown",
      "source": [
        "## Transpose? .T or .transpose() or np.transpose(x)"
      ],
      "metadata": {
        "id": "A0YonUqbcP1j"
      }
    },
    {
      "cell_type": "code",
      "source": [
        "xtr = x.transpose()\n",
        "xtr"
      ],
      "metadata": {
        "colab": {
          "base_uri": "https://localhost:8080/"
        },
        "id": "yonRMOTdcCia",
        "outputId": "f607f095-4355-4841-a009-80663d4eba99"
      },
      "execution_count": null,
      "outputs": [
        {
          "output_type": "execute_result",
          "data": {
            "text/plain": [
              "array([[1., 3., 3.],\n",
              "       [2., 2., 4.]])"
            ]
          },
          "metadata": {},
          "execution_count": 305
        }
      ]
    },
    {
      "cell_type": "code",
      "source": [
        "x.T"
      ],
      "metadata": {
        "colab": {
          "base_uri": "https://localhost:8080/"
        },
        "id": "ilyGVpqmcejd",
        "outputId": "93193c62-d605-4b99-cd03-fda2485fe78a"
      },
      "execution_count": null,
      "outputs": [
        {
          "output_type": "execute_result",
          "data": {
            "text/plain": [
              "array([[1., 3., 3.],\n",
              "       [2., 2., 4.]])"
            ]
          },
          "metadata": {},
          "execution_count": 306
        }
      ]
    },
    {
      "cell_type": "code",
      "source": [
        "np.transpose(x)"
      ],
      "metadata": {
        "colab": {
          "base_uri": "https://localhost:8080/"
        },
        "id": "_joQMPRIcnJz",
        "outputId": "8b5b3e08-76b9-4715-8809-84fb958fdb07"
      },
      "execution_count": null,
      "outputs": [
        {
          "output_type": "execute_result",
          "data": {
            "text/plain": [
              "array([[1., 3., 3.],\n",
              "       [2., 2., 4.]])"
            ]
          },
          "metadata": {},
          "execution_count": 307
        }
      ]
    },
    {
      "cell_type": "code",
      "source": [],
      "metadata": {
        "id": "t3QrUvSxcolz"
      },
      "execution_count": null,
      "outputs": []
    }
  ]
}