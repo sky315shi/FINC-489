{
 "cells": [
  {
   "cell_type": "markdown",
   "metadata": {
    "id": "XHvJHHsf4yRF"
   },
   "source": [
    "# Motivation\n",
    "\n",
    "Let's recall the basic statistics we learned in the beginning.\n",
    "\n",
    "\n",
    "*   Let's try to compute standard deviation for an estimator (or statistic): i.e., standard error\n",
    "\n",
    "*   For example, in case of mean $\\overline{x}$ for i.i.d. data, we know that\n",
    "\n",
    "\\begin{equation}\n",
    "s^2 = \\frac{\\sum_{i=1}^{n} (x_i - \\overline{x})^2}{n - 1}\n",
    "\\end{equation}\n",
    "\n",
    "is a unbiased estimator of the standard deviation of the $\\bf{data}$ (i.e., $x_i$, for $i=1,2,...,n$'s variance is estimated via $s^2$)\n",
    "\n",
    "*   Then, the standard error of the mean is computed\n",
    "\n",
    "\\begin{equation}\n",
    "V[\\overline{x}] = \\sqrt{\\frac{s^2}{n}}\n",
    "\\end{equation}\n",
    "\n",
    "which can be used to form confidence intervals or conduct hypothesis tests (in conjunction with the Central Limit Theorem).\n",
    "\n",
    "* How do you estimate the standard error for the median of $x_1, ..., x_n$?\n",
    "\n",
    "* What about statistical inferences about a quantile, for example the 5th percentile of $X_1, ..., X_n$? Surprisingly hard, epspecially the shape of distribution is not quite normal even after enough number of samples exist.\n",
    "\n",
    "* Bootstrap is a computational method to construct standard error estimates of confidence interval for a wide range of estimators.\n"
   ]
  },
  {
   "cell_type": "markdown",
   "metadata": {
    "id": "vLJBJXj38b3D"
   },
   "source": [
    "* Assume $n$ i.i.d. random variables $x_1, ..., x_n$\n",
    "\n",
    "* Estimator of a parameter of interest such as mean, median, variance, quantile and other function of the random variable(s) $x$\n",
    "\n",
    "* Define \"Empirical Distribution Function\" (EDF) $\\hat{F}(X)$ as follows.\n",
    "\n",
    "$$ \\hat{F}(x) = \\frac{1}{n} \\sum_{i=1}^{n} I(X_i \\leq x) $$\n",
    "\n",
    "where $I(X_i \\leq x)$ is the indicator function, which is 1 if $X_i \\leq x$ and 0 otherwise.\n",
    "\n",
    "The EDF is a step function that jumps up by 1/n at each of the n data points. Its value at any specified value of the measured variable is the fraction of observations of the measured variable that are less than or equal to the specified value. The EDF is an estimate of the cumulative distribution function that generated the points in the sample."
   ]
  },
  {
   "cell_type": "markdown",
   "metadata": {
    "id": "k-soGkUCjM2z"
   },
   "source": [
    "# Basic Bootstrapping (i.i.d. sampling)\n",
    "\n",
    "1. Simulate a set of n i.i.d. uniform random integers $u_i$ , $i = 1, . . . n$ from the range $1, . . . , n$ (with replacement)\n",
    "\n",
    "2. Construct a bootstrap sample $ x_b^⋆ = { x_{u_1},x_{u_2},...x_{u_n} }$\n",
    "\n",
    "3. Compute the statistic of interest (e.g., mean, median, quantile, variance, regression coefficients, t-statistics, etc.) In the case of mean, compute\n",
    "\n",
    "$$ \\hat{\\theta}^{*}_b = \\frac{1}{n} \\sum_{i=1}^n x^*_{b,i} $$\n",
    "\n",
    "4. Repeat steps 2 and 3 for $I$ times (i.e., $I$ number of $n$ samples).\n",
    "\n",
    "5. Compute the standard error of $\\hat{\\theta}$ by\n",
    "\n",
    "$$ \\frac{1}{B} \\sum_{b=1}^{I} (\\hat{\\theta}^{*}_b - \\hat{\\theta})^2 $$, where $\\hat{\\theta}$ normally comes from your estimation but you may use an average of the bootstrapped estimates with some caution on bias (more on this).\n",
    "\n",
    "Let's have a first example."
   ]
  },
  {
   "cell_type": "code",
   "execution_count": 1,
   "metadata": {
    "colab": {
     "base_uri": "https://localhost:8080/"
    },
    "id": "gguH8X2yjIz5",
    "outputId": "4ffa22f0-2242-4b92-ac15-b461384446fe"
   },
   "outputs": [
    {
     "name": "stdout",
     "output_type": "stream",
     "text": [
      "Standard Error: 0.09682903961327602\n",
      "Bootstrap Standard Error: 0.0963278096079583\n"
     ]
    }
   ],
   "source": [
    "import numpy as np\n",
    "\n",
    "n = 100\n",
    "x = np.random.randn(n) # generate random numbers representing the actual samples\n",
    "\n",
    "# Compute the mean of x\n",
    "mu = np.mean(x)\n",
    "\n",
    "# The number of bootstrapped samples\n",
    "B = 1000\n",
    "\n",
    "# Initialize muStar\n",
    "muStar = np.zeros(B)\n",
    "\n",
    "# Loop over B bootstraps\n",
    "for b in range(B):\n",
    "    # Uniform random numbers over 1...n\n",
    "    u = np.ceil(n * np.random.rand(n)).astype(int) - 1 #random permutation of order\n",
    "    # x-star sample simulation\n",
    "    xStar = x[u] # Plug the random order obtained from above to the original x\n",
    "    # Mean of x-star\n",
    "    muStar[b] = np.mean(xStar)\n",
    "\n",
    "s2 = 1 / (n - 1) * np.sum((x - mu) ** 2) # Original varince formula\n",
    "\n",
    "stdErr = np.sqrt(s2 / n) #traditional standard error\n",
    "\n",
    "bootstrapStdErr = np.sqrt(np.mean((muStar - mu) ** 2))\n",
    "\n",
    "print(\"Standard Error:\", stdErr)\n",
    "print(\"Bootstrap Standard Error:\", bootstrapStdErr)"
   ]
  },
  {
   "cell_type": "markdown",
   "metadata": {
    "id": "cllqwXK8x7I3"
   },
   "source": [
    "Balanced resampling\n",
    "\n",
    "In standard i.i.d. bootstrap, some values will inevitibly appear more than others\n",
    "\n",
    "Balanced resampling ensures that all values appear the same number of times\n",
    "\n",
    "In practice simple to implement.\n",
    "\n",
    "1. Replicate the data so that there are $B$ copies of each $x_i$. The data set should have $Bn$ observations\n",
    "\n",
    "2. Construct a random permutation of the numbers $1,...,Bn$ as $u_1,...u_{Bn} $\n",
    "\n",
    "3. Construct the bootstrap sample $x_b^⋆ = x_{u_{n(b−1)+1}},x_{u_{n(b−1)+2}},...x_{u_{n(b−1)+n}} $"
   ]
  },
  {
   "cell_type": "code",
   "execution_count": 2,
   "metadata": {
    "colab": {
     "base_uri": "https://localhost:8080/"
    },
    "id": "yjaQGG4K3H41",
    "outputId": "b3c0fc24-f440-4b84-af03-f758fcf303c1"
   },
   "outputs": [
    {
     "name": "stdout",
     "output_type": "stream",
     "text": [
      "Bootstrap Standard Error of the Mean: 0.09535692063701844\n"
     ]
    }
   ],
   "source": [
    "#Data Generation:\n",
    "\n",
    "# Sets the number of data points in the dataset.\n",
    "\n",
    "n = 100\n",
    "# Generates n random data points from a standard normal distribution (mean = 0, standard deviation = 1).\n",
    "#x = np.random.randn(n)\n",
    "# Sets the number of bootstrap samples to be generated.\n",
    "B = 1000\n",
    "\n",
    "# Replicate the data\n",
    "# Creates a larger array by repeating the original dataset x B times. This is done to efficiently sample bootstrap datasets later.\n",
    "xRepl = np.tile(x, B)\n",
    "\n",
    "# Random permutation of 1,...,B*n\n",
    "# Generates a random permutation of integers from 0 to n*B - 1.\n",
    "# This will be used to randomly select elements from the replicated dataset xRepl to form bootstrap samples.\n",
    "\n",
    "u = np.random.permutation(n * B)\n",
    "\n",
    "# Initialize an array to store the means of bootstrap samples\n",
    "bootstrap_means = np.zeros(B)\n",
    "\n",
    "# Loop over B bootstraps\n",
    "for b in range(B):\n",
    "    # Uniform random numbers over 1...n\n",
    "    ind = np.arange(n * (b - 1), n * b) #Shift index\n",
    "    xb = xRepl[u[ind]]\n",
    "    # Compute the mean of the bootstrap sample and store it\n",
    "    bootstrap_means[b] = np.mean(xb)\n",
    "\n",
    "# Compute the standard error of the mean using the bootstrap samples\n",
    "bootstrap_std_error = np.sqrt(np.var(bootstrap_means, ddof=1))\n",
    "\n",
    "print(\"Bootstrap Standard Error of the Mean:\", bootstrap_std_error)\n"
   ]
  },
  {
   "cell_type": "markdown",
   "metadata": {
    "id": "6X0-bOmS-vTo"
   },
   "source": [
    "Antithetic Random Variables\n",
    "\n",
    "  . If samples are negatively correlated, variance of statistics can be reduced.\n",
    "\n",
    "  . Basic idea is to order data so that if one sample has too many large values of $x$, then the next will have too many small.\n",
    "\n",
    "  .This can induce negative correlation while not corrupting bootstrap\n"
   ]
  },
  {
   "cell_type": "code",
   "execution_count": 3,
   "metadata": {
    "colab": {
     "base_uri": "https://localhost:8080/"
    },
    "id": "zXmxlKHT-6Wu",
    "outputId": "4819554f-220a-4e7e-b9b5-3d7eaad94898"
   },
   "outputs": [
    {
     "name": "stdout",
     "output_type": "stream",
     "text": [
      "Correlation: -0.9899613677885594\n"
     ]
    }
   ],
   "source": [
    "#n = 100\n",
    "#x = np.random.randn(n)\n",
    "\n",
    "\n",
    "# Initialize muStar\n",
    "muStar = np.zeros(B)\n",
    "\n",
    "# Sort x\n",
    "x = np.sort(x)\n",
    "\n",
    "# Loop over B bootstraps\n",
    "for b in range(0, B, 2):\n",
    "    # Uniform random numbers over 1...n\n",
    "    u = np.ceil(n * np.random.rand(n)).astype(int) - 1\n",
    "    xStar = x[u]\n",
    "    # Mean of x-star\n",
    "    muStar[b] = np.mean(xStar)\n",
    "    # Uniform random numbers over 1...n, mirrored\n",
    "    u = n - u - 1\n",
    "    xStar = x[u]\n",
    "    # Mean of x-star\n",
    "    if b+1 < B:  # Check to prevent index out of bounds\n",
    "        muStar[b+1] = np.mean(xStar)\n",
    "\n",
    "# Compute the correlation\n",
    "correlation = np.corrcoef(muStar[0:B:2], muStar[1:B:2])[0, 1]\n",
    "\n",
    "print(\"Correlation:\", correlation)\n",
    "\n",
    "\n"
   ]
  },
  {
   "cell_type": "code",
   "execution_count": 4,
   "metadata": {
    "colab": {
     "base_uri": "https://localhost:8080/"
    },
    "id": "beb8tSWuAW2t",
    "outputId": "d1011301-7c17-44ca-9dc7-1261302a7436"
   },
   "outputs": [
    {
     "name": "stdout",
     "output_type": "stream",
     "text": [
      "Bootstrap Standard Error of the Mean: 0.0029859142925219256\n"
     ]
    }
   ],
   "source": [
    "muStar = np.zeros(B)\n",
    "x = np.sort(x)\n",
    "\n",
    "for b in range(0, B, 2):\n",
    "    u = np.ceil(n * np.random.rand(n)).astype(int) - 1\n",
    "    xStar = x[u]\n",
    "    muStar[b] = np.mean(xStar)\n",
    "\n",
    "    u = n - u - 1\n",
    "    xStar = x[u]\n",
    "    if b+1 < B:\n",
    "        muStar[b+1] = np.mean(xStar)\n",
    "\n",
    "bootstrap_std_error = np.sqrt(np.var(muStar, ddof=1) / B)\n",
    "\n",
    "print(\"Bootstrap Standard Error of the Mean:\", bootstrap_std_error)\n"
   ]
  }
 ],
 "metadata": {
  "colab": {
   "provenance": []
  },
  "kernelspec": {
   "display_name": "Python 3 (ipykernel)",
   "language": "python",
   "name": "python3"
  },
  "language_info": {
   "codemirror_mode": {
    "name": "ipython",
    "version": 3
   },
   "file_extension": ".py",
   "mimetype": "text/x-python",
   "name": "python",
   "nbconvert_exporter": "python",
   "pygments_lexer": "ipython3",
   "version": "3.9.13"
  }
 },
 "nbformat": 4,
 "nbformat_minor": 1
}
