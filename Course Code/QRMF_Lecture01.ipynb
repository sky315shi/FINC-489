{
  "cells": [
    {
      "cell_type": "markdown",
      "metadata": {
        "id": "bMsWotPSNItF"
      },
      "source": [
        "# Getting Started\n",
        "## Data Structure\n",
        "### Code line or text line"
      ]
    },
    {
      "cell_type": "code",
      "execution_count": 1,
      "metadata": {
        "colab": {
          "base_uri": "https://localhost:8080/"
        },
        "id": "F73pZeprMPQS",
        "outputId": "e27ab3f3-8066-4817-8552-7b87e4fff1a1"
      },
      "outputs": [
        {
          "data": {
            "text/plain": [
              "3"
            ]
          },
          "execution_count": 1,
          "metadata": {},
          "output_type": "execute_result"
        }
      ],
      "source": [
        "1+2 # For summation"
      ]
    },
    {
      "cell_type": "markdown",
      "metadata": {
        "id": "nDT8v0fqN1ns"
      },
      "source": [
        "$ y = f(x) $ #Latex Equation Editor\n"
      ]
    },
    {
      "cell_type": "markdown",
      "metadata": {
        "id": "oMSXbAUTOV_t"
      },
      "source": [
        "$ y = \\int_{0}^{∞}f(x)dx $ # Example with latex"
      ]
    },
    {
      "cell_type": "code",
      "execution_count": 2,
      "metadata": {
        "id": "cuaD0t4mMwem"
      },
      "outputs": [],
      "source": [
        "z = 1+2"
      ]
    },
    {
      "cell_type": "code",
      "execution_count": 3,
      "metadata": {
        "colab": {
          "base_uri": "https://localhost:8080/"
        },
        "id": "yytF1g1hO8cg",
        "outputId": "abaf27f2-385c-42e1-81a2-7bb7e6581c4f"
      },
      "outputs": [
        {
          "data": {
            "text/plain": [
              "3"
            ]
          },
          "execution_count": 3,
          "metadata": {},
          "output_type": "execute_result"
        }
      ],
      "source": [
        "z"
      ]
    },
    {
      "cell_type": "code",
      "execution_count": 4,
      "metadata": {
        "id": "Gf1vi2B1PGvq"
      },
      "outputs": [],
      "source": [
        "x = 2;\n",
        "y = 5;"
      ]
    },
    {
      "cell_type": "code",
      "execution_count": 5,
      "metadata": {
        "colab": {
          "base_uri": "https://localhost:8080/"
        },
        "id": "zWGVPesQPReO",
        "outputId": "7ef6b3a1-d968-4e02-ae6b-efdb71194ad9"
      },
      "outputs": [
        {
          "data": {
            "text/plain": [
              "True"
            ]
          },
          "execution_count": 5,
          "metadata": {},
          "output_type": "execute_result"
        }
      ],
      "source": [
        "x<y"
      ]
    },
    {
      "cell_type": "code",
      "execution_count": 6,
      "metadata": {
        "colab": {
          "base_uri": "https://localhost:8080/"
        },
        "id": "5i1aDyYqPfUh",
        "outputId": "1888ac5b-4264-47cb-9839-cf6e846c2e37"
      },
      "outputs": [
        {
          "data": {
            "text/plain": [
              "int"
            ]
          },
          "execution_count": 6,
          "metadata": {},
          "output_type": "execute_result"
        }
      ],
      "source": [
        "type(z)"
      ]
    },
    {
      "cell_type": "code",
      "execution_count": 7,
      "metadata": {
        "id": "c7leFTXNQFpr"
      },
      "outputs": [],
      "source": [
        "h = 1.0+2.0"
      ]
    },
    {
      "cell_type": "code",
      "execution_count": 8,
      "metadata": {
        "colab": {
          "base_uri": "https://localhost:8080/"
        },
        "id": "VVdPJAHVQTga",
        "outputId": "8efd71ee-6c67-4473-d098-7d0ef9237e46"
      },
      "outputs": [
        {
          "data": {
            "text/plain": [
              "float"
            ]
          },
          "execution_count": 8,
          "metadata": {},
          "output_type": "execute_result"
        }
      ],
      "source": [
        "type(h)"
      ]
    },
    {
      "cell_type": "code",
      "execution_count": 9,
      "metadata": {
        "colab": {
          "base_uri": "https://localhost:8080/"
        },
        "id": "o1lEpZU8QXrQ",
        "outputId": "6cc54010-0dc1-4f59-9c25-a3152970345a"
      },
      "outputs": [
        {
          "data": {
            "text/plain": [
              "3.0"
            ]
          },
          "execution_count": 9,
          "metadata": {},
          "output_type": "execute_result"
        }
      ],
      "source": [
        "h"
      ]
    },
    {
      "cell_type": "code",
      "execution_count": 10,
      "metadata": {
        "id": "c50ClKKTQZQ4"
      },
      "outputs": [],
      "source": [
        "#Complex numbers\n",
        "k = 3 + 5j # Alt, complex(3,5)"
      ]
    },
    {
      "cell_type": "code",
      "execution_count": 11,
      "metadata": {
        "colab": {
          "base_uri": "https://localhost:8080/"
        },
        "id": "GPWKqeGQQ7dK",
        "outputId": "ae9aac59-5533-4361-e05f-77cb4e19790a"
      },
      "outputs": [
        {
          "data": {
            "text/plain": [
              "(3+5j)"
            ]
          },
          "execution_count": 11,
          "metadata": {},
          "output_type": "execute_result"
        }
      ],
      "source": [
        "k"
      ]
    },
    {
      "cell_type": "code",
      "execution_count": 12,
      "metadata": {
        "colab": {
          "base_uri": "https://localhost:8080/"
        },
        "id": "iWUlw3SsQ8pe",
        "outputId": "6765e6ee-877c-4ab3-fa37-0b8c39cd003e"
      },
      "outputs": [
        {
          "data": {
            "text/plain": [
              "(-16+30j)"
            ]
          },
          "execution_count": 12,
          "metadata": {},
          "output_type": "execute_result"
        }
      ],
      "source": [
        "k**2"
      ]
    },
    {
      "cell_type": "code",
      "execution_count": 13,
      "metadata": {
        "colab": {
          "base_uri": "https://localhost:8080/"
        },
        "id": "erYFzafkRB8a",
        "outputId": "a91b6d21-cd96-4d3f-f26c-bec81c82c0de"
      },
      "outputs": [
        {
          "data": {
            "text/plain": [
              "15"
            ]
          },
          "execution_count": 13,
          "metadata": {},
          "output_type": "execute_result"
        }
      ],
      "source": [
        "3*5"
      ]
    },
    {
      "cell_type": "code",
      "execution_count": 14,
      "metadata": {
        "colab": {
          "base_uri": "https://localhost:8080/"
        },
        "id": "HtXxPKWhRJuM",
        "outputId": "4f067d34-de5e-45e4-c0c6-5f1d34dfc518"
      },
      "outputs": [
        {
          "data": {
            "text/plain": [
              "9"
            ]
          },
          "execution_count": 14,
          "metadata": {},
          "output_type": "execute_result"
        }
      ],
      "source": [
        "3**2"
      ]
    },
    {
      "cell_type": "code",
      "execution_count": 15,
      "metadata": {
        "colab": {
          "base_uri": "https://localhost:8080/"
        },
        "id": "ZNE5rgoyRLlY",
        "outputId": "7a753a37-56fe-4fa9-f519-68b4de28d667"
      },
      "outputs": [
        {
          "data": {
            "text/plain": [
              "27"
            ]
          },
          "execution_count": 15,
          "metadata": {},
          "output_type": "execute_result"
        }
      ],
      "source": [
        "3**3"
      ]
    },
    {
      "cell_type": "code",
      "execution_count": 16,
      "metadata": {
        "id": "kVin9CNARMpj"
      },
      "outputs": [],
      "source": [
        "#boolean type\n",
        "xT = True"
      ]
    },
    {
      "cell_type": "code",
      "execution_count": 17,
      "metadata": {
        "colab": {
          "base_uri": "https://localhost:8080/"
        },
        "id": "9flB-zi0Ranp",
        "outputId": "a0e17229-d0cf-4120-e610-0dfbb16f14bc"
      },
      "outputs": [
        {
          "data": {
            "text/plain": [
              "True"
            ]
          },
          "execution_count": 17,
          "metadata": {},
          "output_type": "execute_result"
        }
      ],
      "source": [
        "xT"
      ]
    },
    {
      "cell_type": "code",
      "execution_count": 18,
      "metadata": {
        "colab": {
          "base_uri": "https://localhost:8080/"
        },
        "id": "9a7BTVKuRb_M",
        "outputId": "34534bf2-061b-45bc-cd21-550e7262dcc2"
      },
      "outputs": [
        {
          "data": {
            "text/plain": [
              "bool"
            ]
          },
          "execution_count": 18,
          "metadata": {},
          "output_type": "execute_result"
        }
      ],
      "source": [
        "type(xT)"
      ]
    },
    {
      "cell_type": "code",
      "execution_count": 19,
      "metadata": {
        "id": "QRXnrikERegI"
      },
      "outputs": [],
      "source": [
        "yT = bool(0)"
      ]
    },
    {
      "cell_type": "code",
      "execution_count": 20,
      "metadata": {
        "colab": {
          "base_uri": "https://localhost:8080/"
        },
        "id": "lTZyKPIJRkzb",
        "outputId": "83a9f2e8-f5a4-429b-82d1-e8396800ce5c"
      },
      "outputs": [
        {
          "data": {
            "text/plain": [
              "False"
            ]
          },
          "execution_count": 20,
          "metadata": {},
          "output_type": "execute_result"
        }
      ],
      "source": [
        "yT"
      ]
    },
    {
      "cell_type": "markdown",
      "metadata": {
        "id": "OEZp2dZDR780"
      },
      "source": [
        "## Data Strucure with multiple values\n",
        "\n",
        "### String variables"
      ]
    },
    {
      "cell_type": "code",
      "execution_count": 21,
      "metadata": {
        "id": "3EB43dFLRlUF"
      },
      "outputs": [],
      "source": [
        "A = 'Hello World';"
      ]
    },
    {
      "cell_type": "code",
      "execution_count": 22,
      "metadata": {
        "colab": {
          "base_uri": "https://localhost:8080/"
        },
        "id": "0QwQxPdKSKsg",
        "outputId": "334ff3b8-7bf8-432c-9478-5b2f08d860b5"
      },
      "outputs": [
        {
          "name": "stdout",
          "output_type": "stream",
          "text": [
            "Hello World\n"
          ]
        }
      ],
      "source": [
        "print(A)"
      ]
    },
    {
      "cell_type": "code",
      "execution_count": 23,
      "metadata": {
        "id": "zWm36nuZSPtG"
      },
      "outputs": [],
      "source": [
        "TRP = 'Trading and Risk Program';"
      ]
    },
    {
      "cell_type": "code",
      "execution_count": 24,
      "metadata": {
        "id": "9InJvoRVSZPa"
      },
      "outputs": [],
      "source": [
        "B = \"\"\"In the fifteenth century mathematics was mainly concerned with\n",
        " 'questions of commercial arithmetic and the problems of the architect'.\"\"\";"
      ]
    },
    {
      "cell_type": "code",
      "execution_count": 25,
      "metadata": {
        "colab": {
          "base_uri": "https://localhost:8080/"
        },
        "id": "Ib1LVC-7Stmj",
        "outputId": "8f595d8d-2f79-4edf-b506-78521e520ba5"
      },
      "outputs": [
        {
          "name": "stdout",
          "output_type": "stream",
          "text": [
            "In the fifteenth century mathematics was mainly concerned with\n",
            " 'questions of commercial arithmetic and the problems of the architect'.\n"
          ]
        }
      ],
      "source": [
        "print(B)"
      ]
    },
    {
      "cell_type": "code",
      "execution_count": 26,
      "metadata": {
        "colab": {
          "base_uri": "https://localhost:8080/"
        },
        "id": "u2U7ifT5SvDJ",
        "outputId": "d67ab330-19d1-450f-a844-6bf516d6f1a2"
      },
      "outputs": [
        {
          "data": {
            "text/plain": [
              "str"
            ]
          },
          "execution_count": 26,
          "metadata": {},
          "output_type": "execute_result"
        }
      ],
      "source": [
        "type(B)"
      ]
    },
    {
      "cell_type": "code",
      "execution_count": 27,
      "metadata": {
        "colab": {
          "base_uri": "https://localhost:8080/",
          "height": 35
        },
        "id": "H3sghhc9Sz20",
        "outputId": "3912e3ba-0899-4f8b-cb59-185a9736d5a2"
      },
      "outputs": [
        {
          "data": {
            "text/plain": [
              "'Trading'"
            ]
          },
          "execution_count": 27,
          "metadata": {},
          "output_type": "execute_result"
        }
      ],
      "source": [
        "# Slice strings\n",
        "TRP[0:7]"
      ]
    },
    {
      "cell_type": "code",
      "execution_count": 28,
      "metadata": {
        "colab": {
          "base_uri": "https://localhost:8080/",
          "height": 35
        },
        "id": "wxrPjdn1T6_f",
        "outputId": "3f299443-bf3d-4988-fbdf-cb2232e172a9"
      },
      "outputs": [
        {
          "data": {
            "text/plain": [
              "'Trading'"
            ]
          },
          "execution_count": 28,
          "metadata": {},
          "output_type": "execute_result"
        }
      ],
      "source": [
        "TRP[:7]"
      ]
    },
    {
      "cell_type": "code",
      "execution_count": 29,
      "metadata": {
        "colab": {
          "base_uri": "https://localhost:8080/"
        },
        "id": "RkCHGjQ5Ub13",
        "outputId": "623d70c3-8adb-4e48-9b13-60e6a00d9930"
      },
      "outputs": [
        {
          "data": {
            "text/plain": [
              "24"
            ]
          },
          "execution_count": 29,
          "metadata": {},
          "output_type": "execute_result"
        }
      ],
      "source": [
        "len(TRP) # give the lenth of the TRP variable"
      ]
    },
    {
      "cell_type": "code",
      "execution_count": 30,
      "metadata": {
        "colab": {
          "base_uri": "https://localhost:8080/",
          "height": 35
        },
        "id": "HpEF-3NEUza5",
        "outputId": "b4e6710b-9d15-482b-a258-7626183338ec"
      },
      "outputs": [
        {
          "data": {
            "text/plain": [
              "'Trading and Risk Prog'"
            ]
          },
          "execution_count": 30,
          "metadata": {},
          "output_type": "execute_result"
        }
      ],
      "source": [
        "TRP[:-3]"
      ]
    },
    {
      "cell_type": "code",
      "execution_count": 31,
      "metadata": {
        "id": "tXMkypztU1V0"
      },
      "outputs": [],
      "source": [
        "TRP_sub = TRP[5:-2]"
      ]
    },
    {
      "cell_type": "code",
      "execution_count": 32,
      "metadata": {
        "colab": {
          "base_uri": "https://localhost:8080/",
          "height": 35
        },
        "id": "7ovB0AUUVOHV",
        "outputId": "60075eeb-af8d-4697-8620-92c9b4427cd6"
      },
      "outputs": [
        {
          "data": {
            "text/plain": [
              "'ng and Risk Progr'"
            ]
          },
          "execution_count": 32,
          "metadata": {},
          "output_type": "execute_result"
        }
      ],
      "source": [
        "TRP_sub"
      ]
    },
    {
      "cell_type": "code",
      "execution_count": 33,
      "metadata": {
        "colab": {
          "base_uri": "https://localhost:8080/",
          "height": 35
        },
        "id": "SAP-6M3WVO49",
        "outputId": "947ea34d-0b33-4c57-e2c2-5f75d63fb3cd"
      },
      "outputs": [
        {
          "data": {
            "text/plain": [
              "'rading an'"
            ]
          },
          "execution_count": 33,
          "metadata": {},
          "output_type": "execute_result"
        }
      ],
      "source": [
        "TRP[1:10]"
      ]
    },
    {
      "cell_type": "code",
      "execution_count": 34,
      "metadata": {
        "colab": {
          "base_uri": "https://localhost:8080/",
          "height": 35
        },
        "id": "Dkb9d1HOVbvl",
        "outputId": "a3a18af1-ffa9-4d21-8cd4-7fbb6e6bd321"
      },
      "outputs": [
        {
          "data": {
            "text/plain": [
              "'rdn n'"
            ]
          },
          "execution_count": 34,
          "metadata": {},
          "output_type": "execute_result"
        }
      ],
      "source": [
        "TRP[1:10:2] # Characters 1,1+2,1+2*2,1+2*3, 1+2*4"
      ]
    },
    {
      "cell_type": "code",
      "execution_count": 35,
      "metadata": {
        "colab": {
          "base_uri": "https://localhost:8080/",
          "height": 35
        },
        "id": "mmRSZxbLVkCj",
        "outputId": "b410d485-1649-4a82-a66c-893ac8fedbe9"
      },
      "outputs": [
        {
          "data": {
            "text/plain": [
              "'ri '"
            ]
          },
          "execution_count": 35,
          "metadata": {},
          "output_type": "execute_result"
        }
      ],
      "source": [
        "TRP[1:10:3]"
      ]
    },
    {
      "cell_type": "code",
      "execution_count": 36,
      "metadata": {
        "colab": {
          "base_uri": "https://localhost:8080/",
          "height": 35
        },
        "id": "-931NtG2V3V2",
        "outputId": "1cf2f0a5-cea1-4a62-a90e-9e22bda0e91b"
      },
      "outputs": [
        {
          "data": {
            "text/plain": [
              "\"Hello WorldIn the fifteenth century mathematics was mainly concerned with\\n 'questions of commercial arithmetic and the problems of the architect'.\""
            ]
          },
          "execution_count": 36,
          "metadata": {},
          "output_type": "execute_result"
        }
      ],
      "source": [
        "A + B"
      ]
    },
    {
      "cell_type": "code",
      "execution_count": 37,
      "metadata": {
        "colab": {
          "base_uri": "https://localhost:8080/",
          "height": 35
        },
        "id": "CjGw59cpWXZN",
        "outputId": "461dc000-9e18-4d7b-fed2-72ca98945ba0"
      },
      "outputs": [
        {
          "data": {
            "text/plain": [
              "'Hello WorldTrading and Risk Program'"
            ]
          },
          "execution_count": 37,
          "metadata": {},
          "output_type": "execute_result"
        }
      ],
      "source": [
        "A + TRP"
      ]
    },
    {
      "cell_type": "code",
      "execution_count": 38,
      "metadata": {
        "id": "JY4AevLJWbMg"
      },
      "outputs": [],
      "source": [
        "C = A + \". This is from the \" + TRP"
      ]
    },
    {
      "cell_type": "code",
      "execution_count": 39,
      "metadata": {
        "colab": {
          "base_uri": "https://localhost:8080/",
          "height": 35
        },
        "id": "FyKlcnJwWlIH",
        "outputId": "03fe9921-3062-4af7-deba-a668f4eac0f5"
      },
      "outputs": [
        {
          "data": {
            "text/plain": [
              "'Hello World. This is from the Trading and Risk Program'"
            ]
          },
          "execution_count": 39,
          "metadata": {},
          "output_type": "execute_result"
        }
      ],
      "source": [
        "C"
      ]
    },
    {
      "cell_type": "code",
      "execution_count": 40,
      "metadata": {
        "colab": {
          "base_uri": "https://localhost:8080/",
          "height": 35
        },
        "id": "MmTANrPxWlqi",
        "outputId": "eb2380fc-47f6-4fc6-ef37-c7cc600d0279"
      },
      "outputs": [
        {
          "data": {
            "text/plain": [
              "'TRP'"
            ]
          },
          "execution_count": 40,
          "metadata": {},
          "output_type": "execute_result"
        }
      ],
      "source": [
        "TRP[0] + TRP[12] + TRP[17]"
      ]
    },
    {
      "cell_type": "code",
      "execution_count": 41,
      "metadata": {
        "id": "fb4EX0WtXDMo"
      },
      "outputs": [],
      "source": [
        "# You can Convert strings to numeric values.\n",
        "x = \"37\"; y = \"42.0\";"
      ]
    },
    {
      "cell_type": "code",
      "execution_count": 42,
      "metadata": {
        "colab": {
          "base_uri": "https://localhost:8080/",
          "height": 35
        },
        "id": "HRsbQLqmXWEC",
        "outputId": "d87927e2-1624-42b4-c232-4760162a7e81"
      },
      "outputs": [
        {
          "data": {
            "text/plain": [
              "'3742.0'"
            ]
          },
          "execution_count": 42,
          "metadata": {},
          "output_type": "execute_result"
        }
      ],
      "source": [
        "x+y"
      ]
    },
    {
      "cell_type": "code",
      "execution_count": 43,
      "metadata": {
        "id": "OPNj3u_lXaHv"
      },
      "outputs": [],
      "source": [
        "H = int(x) + float(y)"
      ]
    },
    {
      "cell_type": "code",
      "execution_count": 44,
      "metadata": {
        "colab": {
          "base_uri": "https://localhost:8080/"
        },
        "id": "Z7a51swmXxu8",
        "outputId": "4440fadd-3741-4e3e-b010-06eab26d41b4"
      },
      "outputs": [
        {
          "data": {
            "text/plain": [
              "79.0"
            ]
          },
          "execution_count": 44,
          "metadata": {},
          "output_type": "execute_result"
        }
      ],
      "source": [
        "H"
      ]
    },
    {
      "cell_type": "code",
      "execution_count": 45,
      "metadata": {
        "colab": {
          "base_uri": "https://localhost:8080/"
        },
        "id": "ptKc2sqsXyXw",
        "outputId": "8ee5781d-219d-4727-8663-ef86c0935962"
      },
      "outputs": [
        {
          "data": {
            "text/plain": [
              "float"
            ]
          },
          "execution_count": 45,
          "metadata": {},
          "output_type": "execute_result"
        }
      ],
      "source": [
        "type(H)"
      ]
    },
    {
      "cell_type": "code",
      "execution_count": 46,
      "metadata": {
        "id": "xvQ-HbKaYXWk"
      },
      "outputs": [],
      "source": [
        "g = x+y"
      ]
    },
    {
      "cell_type": "code",
      "execution_count": 47,
      "metadata": {
        "colab": {
          "base_uri": "https://localhost:8080/"
        },
        "id": "XuoCjl_-X3J9",
        "outputId": "99b64ab9-35ff-4a4b-d521-c10df7454700"
      },
      "outputs": [
        {
          "name": "stdout",
          "output_type": "stream",
          "text": [
            "The sum of 37 and 42.0 is 79.0 instead of 3742.0.\n"
          ]
        }
      ],
      "source": [
        "print(\"The sum of \" + x + \" and \" + y + \" is \" + str(H) +\n",
        "      \" instead of \" + g + \".\")"
      ]
    },
    {
      "cell_type": "markdown",
      "metadata": {
        "id": "EBC6j1j-YuYR"
      },
      "source": [
        "## List\n",
        "\n",
        "*   Lists are a collection of arbitrary objects.\n",
        "*   Lists contain data with multiple data types.\n",
        "*   A list is a collection of other objects – floats, integers, complex numbers, strings or even other lists.\n",
        "* Lists are essential to Python programming and are used to store collections of other values.\n",
        "* For example, a list of floats can be used to express a vector (although the NumPy data type array is better suited to working with collections of numeric values).\n",
        "* Lists also support slicing to retrieve one or more elements. Basic lists are constructed using square braces, [], and values are separated using commas."
      ]
    },
    {
      "cell_type": "code",
      "execution_count": 48,
      "metadata": {
        "id": "-EGgyUyHYkZO"
      },
      "outputs": [],
      "source": [
        "shop_list =  ['apple', 'banana', 'orange', 'carrot']"
      ]
    },
    {
      "cell_type": "code",
      "execution_count": 49,
      "metadata": {
        "colab": {
          "base_uri": "https://localhost:8080/"
        },
        "id": "k8DGGsOEYrNL",
        "outputId": "ee00b1c6-6983-479f-bc0d-b10764324c63"
      },
      "outputs": [
        {
          "data": {
            "text/plain": [
              "['apple', 'banana', 'orange', 'carrot']"
            ]
          },
          "execution_count": 49,
          "metadata": {},
          "output_type": "execute_result"
        }
      ],
      "source": [
        "shop_list"
      ]
    },
    {
      "cell_type": "code",
      "execution_count": 50,
      "metadata": {
        "id": "HZRWyhB3ZsXi"
      },
      "outputs": [],
      "source": [
        "a = shop_list[2]"
      ]
    },
    {
      "cell_type": "code",
      "execution_count": 51,
      "metadata": {
        "colab": {
          "base_uri": "https://localhost:8080/",
          "height": 35
        },
        "id": "DyqsROjFZ96H",
        "outputId": "f4ae3bf7-8a5e-4add-a667-943fc54a1cff"
      },
      "outputs": [
        {
          "data": {
            "text/plain": [
              "'orange'"
            ]
          },
          "execution_count": 51,
          "metadata": {},
          "output_type": "execute_result"
        }
      ],
      "source": [
        "a"
      ]
    },
    {
      "cell_type": "code",
      "execution_count": 52,
      "metadata": {
        "id": "2YiDh-REZ-hz"
      },
      "outputs": [],
      "source": [
        "# Lists are indexed by integers, starting with zero"
      ]
    },
    {
      "cell_type": "code",
      "execution_count": 53,
      "metadata": {
        "id": "t4dtYVVzaKgv"
      },
      "outputs": [],
      "source": [
        "shop_list[3] = 'pineapple' # replacing"
      ]
    },
    {
      "cell_type": "code",
      "execution_count": 54,
      "metadata": {
        "colab": {
          "base_uri": "https://localhost:8080/"
        },
        "id": "k8ExgdULaYSS",
        "outputId": "dbee5061-c9c5-48bd-bc16-80d7515f4a01"
      },
      "outputs": [
        {
          "data": {
            "text/plain": [
              "['apple', 'banana', 'orange', 'pineapple']"
            ]
          },
          "execution_count": 54,
          "metadata": {},
          "output_type": "execute_result"
        }
      ],
      "source": [
        "shop_list"
      ]
    },
    {
      "cell_type": "code",
      "execution_count": 55,
      "metadata": {
        "id": "YnHyuDHJaZOF"
      },
      "outputs": [],
      "source": [
        "b = shop_list[0:2]"
      ]
    },
    {
      "cell_type": "code",
      "execution_count": 56,
      "metadata": {
        "colab": {
          "base_uri": "https://localhost:8080/"
        },
        "id": "X-qfLLZmahvA",
        "outputId": "53a490f2-b041-49e4-b6b3-4e654a9192ae"
      },
      "outputs": [
        {
          "data": {
            "text/plain": [
              "['apple', 'banana']"
            ]
          },
          "execution_count": 56,
          "metadata": {},
          "output_type": "execute_result"
        }
      ],
      "source": [
        "b"
      ]
    },
    {
      "cell_type": "code",
      "execution_count": 57,
      "metadata": {
        "id": "Kjl6YxEvaiYz"
      },
      "outputs": [],
      "source": [
        "# Append and insert item to a list\n",
        "shop_list.append('avocado')\n"
      ]
    },
    {
      "cell_type": "code",
      "execution_count": 58,
      "metadata": {
        "colab": {
          "base_uri": "https://localhost:8080/"
        },
        "id": "3FGjaFn6bVih",
        "outputId": "2774c631-6bdb-469b-e75a-c155ce796c57"
      },
      "outputs": [
        {
          "data": {
            "text/plain": [
              "['apple', 'banana', 'orange', 'pineapple', 'avocado']"
            ]
          },
          "execution_count": 58,
          "metadata": {},
          "output_type": "execute_result"
        }
      ],
      "source": [
        "shop_list"
      ]
    },
    {
      "cell_type": "code",
      "execution_count": 59,
      "metadata": {
        "id": "3Q9BhdDebWnU"
      },
      "outputs": [],
      "source": [
        "shop_list.insert(2,'strawberry')"
      ]
    },
    {
      "cell_type": "code",
      "execution_count": 60,
      "metadata": {
        "colab": {
          "base_uri": "https://localhost:8080/"
        },
        "id": "P2SsRm_wbz9T",
        "outputId": "95565f54-d2fd-4ee0-9b19-0537aadcdd72"
      },
      "outputs": [
        {
          "data": {
            "text/plain": [
              "['apple', 'banana', 'strawberry', 'orange', 'pineapple', 'avocado']"
            ]
          },
          "execution_count": 60,
          "metadata": {},
          "output_type": "execute_result"
        }
      ],
      "source": [
        "shop_list"
      ]
    },
    {
      "cell_type": "code",
      "execution_count": 61,
      "metadata": {
        "id": "BgrESLBsb04-"
      },
      "outputs": [],
      "source": [
        "# Concatenate lists\n",
        "c = b + ['burger']"
      ]
    },
    {
      "cell_type": "code",
      "execution_count": 62,
      "metadata": {
        "colab": {
          "base_uri": "https://localhost:8080/"
        },
        "id": "907a-kYbccJ4",
        "outputId": "5e2d1370-5476-421a-ed5c-bc2ae7892ba4"
      },
      "outputs": [
        {
          "data": {
            "text/plain": [
              "['apple', 'banana', 'burger']"
            ]
          },
          "execution_count": 62,
          "metadata": {},
          "output_type": "execute_result"
        }
      ],
      "source": [
        "c"
      ]
    },
    {
      "cell_type": "code",
      "execution_count": 63,
      "metadata": {
        "id": "OT-QZjL3ce3C"
      },
      "outputs": [],
      "source": [
        "d = [1, 'Dave', 3.14, [\"Mark\", 9, [20, 21]], b]"
      ]
    },
    {
      "cell_type": "code",
      "execution_count": 64,
      "metadata": {
        "colab": {
          "base_uri": "https://localhost:8080/"
        },
        "id": "ref6ot_5c9Yc",
        "outputId": "f16fb082-82db-4072-c6dd-500f6ce01c50"
      },
      "outputs": [
        {
          "data": {
            "text/plain": [
              "[1, 'Dave', 3.14, ['Mark', 9, [20, 21]], ['apple', 'banana']]"
            ]
          },
          "execution_count": 64,
          "metadata": {},
          "output_type": "execute_result"
        }
      ],
      "source": [
        "d"
      ]
    },
    {
      "cell_type": "code",
      "execution_count": 65,
      "metadata": {
        "colab": {
          "base_uri": "https://localhost:8080/"
        },
        "id": "beRvcHi6c96P",
        "outputId": "2f4b8675-2af0-420c-fbef-c7703e174448"
      },
      "outputs": [
        {
          "data": {
            "text/plain": [
              "['Mark', 9, [20, 21]]"
            ]
          },
          "execution_count": 65,
          "metadata": {},
          "output_type": "execute_result"
        }
      ],
      "source": [
        "d[3]"
      ]
    },
    {
      "cell_type": "code",
      "execution_count": 66,
      "metadata": {
        "colab": {
          "base_uri": "https://localhost:8080/",
          "height": 35
        },
        "id": "nqC6SgTmdPXl",
        "outputId": "70521a1a-1efe-4b75-8d18-71cbd1b2bec7"
      },
      "outputs": [
        {
          "data": {
            "text/plain": [
              "'Mark'"
            ]
          },
          "execution_count": 66,
          "metadata": {},
          "output_type": "execute_result"
        }
      ],
      "source": [
        "d[3][0]"
      ]
    },
    {
      "cell_type": "code",
      "execution_count": 67,
      "metadata": {
        "colab": {
          "base_uri": "https://localhost:8080/"
        },
        "id": "mB3J-rO6dTao",
        "outputId": "a882d631-1e42-425e-edc8-2bfae091dbe0"
      },
      "outputs": [
        {
          "data": {
            "text/plain": [
              "float"
            ]
          },
          "execution_count": 67,
          "metadata": {},
          "output_type": "execute_result"
        }
      ],
      "source": [
        "type(d[2])"
      ]
    },
    {
      "cell_type": "code",
      "execution_count": 68,
      "metadata": {
        "colab": {
          "base_uri": "https://localhost:8080/"
        },
        "id": "hAgf-u3bdrqb",
        "outputId": "76bf59e5-099e-4b06-a927-7d99e3310491"
      },
      "outputs": [
        {
          "data": {
            "text/plain": [
              "20"
            ]
          },
          "execution_count": 68,
          "metadata": {},
          "output_type": "execute_result"
        }
      ],
      "source": [
        "d[3][2][0]"
      ]
    },
    {
      "cell_type": "code",
      "execution_count": 69,
      "metadata": {
        "id": "5gHEc0Cld7S-"
      },
      "outputs": [],
      "source": [
        "b[0]='pear'"
      ]
    },
    {
      "cell_type": "code",
      "execution_count": 70,
      "metadata": {
        "colab": {
          "base_uri": "https://localhost:8080/"
        },
        "id": "mZj5cCK9eIi7",
        "outputId": "8cc4786c-7001-41da-c4bb-0a615a44b92e"
      },
      "outputs": [
        {
          "data": {
            "text/plain": [
              "['pear', 'banana']"
            ]
          },
          "execution_count": 70,
          "metadata": {},
          "output_type": "execute_result"
        }
      ],
      "source": [
        "b"
      ]
    },
    {
      "cell_type": "code",
      "execution_count": 71,
      "metadata": {
        "colab": {
          "base_uri": "https://localhost:8080/"
        },
        "id": "LnHUH06ReKKS",
        "outputId": "7d76b6c1-85bc-4cb1-c809-fdca9b17de12"
      },
      "outputs": [
        {
          "data": {
            "text/plain": [
              "[1, 'Dave', 3.14, ['Mark', 9, [20, 21]], ['pear', 'banana']]"
            ]
          },
          "execution_count": 71,
          "metadata": {},
          "output_type": "execute_result"
        }
      ],
      "source": [
        "d"
      ]
    },
    {
      "cell_type": "markdown",
      "metadata": {
        "id": "kVgkHulgenQY"
      },
      "source": [
        "## Tuple\n",
        "\n",
        "A tuple is very similar to a list, yet it is impossible to modify after creation. tuples are more memory-saving."
      ]
    },
    {
      "cell_type": "code",
      "execution_count": 72,
      "metadata": {
        "id": "yDJDVh4zepYQ"
      },
      "outputs": [],
      "source": [
        "x =(0,1,2,3,4,5,6,7,8,9)"
      ]
    },
    {
      "cell_type": "code",
      "execution_count": 73,
      "metadata": {
        "colab": {
          "base_uri": "https://localhost:8080/"
        },
        "id": "R6KvIfwzez75",
        "outputId": "1554bde7-751a-4149-945e-17976f2d6a8b"
      },
      "outputs": [
        {
          "data": {
            "text/plain": [
              "(0, 1, 2, 3, 4, 5, 6, 7, 8, 9)"
            ]
          },
          "execution_count": 73,
          "metadata": {},
          "output_type": "execute_result"
        }
      ],
      "source": [
        "x"
      ]
    },
    {
      "cell_type": "code",
      "execution_count": 74,
      "metadata": {
        "colab": {
          "base_uri": "https://localhost:8080/"
        },
        "id": "c1uTUogre0gV",
        "outputId": "39f2404c-96b1-40bf-a55d-439f0ea7c138"
      },
      "outputs": [
        {
          "data": {
            "text/plain": [
              "tuple"
            ]
          },
          "execution_count": 74,
          "metadata": {},
          "output_type": "execute_result"
        }
      ],
      "source": [
        "type(x)"
      ]
    },
    {
      "cell_type": "code",
      "execution_count": 75,
      "metadata": {
        "colab": {
          "base_uri": "https://localhost:8080/"
        },
        "id": "ahIYFI7Be8TV",
        "outputId": "fe155dc5-5d45-40c3-8091-e11d7bd9d3e1"
      },
      "outputs": [
        {
          "data": {
            "text/plain": [
              "0"
            ]
          },
          "execution_count": 75,
          "metadata": {},
          "output_type": "execute_result"
        }
      ],
      "source": [
        "x[0]"
      ]
    },
    {
      "cell_type": "code",
      "execution_count": 76,
      "metadata": {
        "colab": {
          "base_uri": "https://localhost:8080/"
        },
        "id": "yFVt13CefEMP",
        "outputId": "fcd86e8d-6319-431f-cec0-1b389259761f"
      },
      "outputs": [
        {
          "data": {
            "text/plain": [
              "(0, 1, 2, 3)"
            ]
          },
          "execution_count": 76,
          "metadata": {},
          "output_type": "execute_result"
        }
      ],
      "source": [
        "x[:4]"
      ]
    },
    {
      "cell_type": "code",
      "execution_count": 77,
      "metadata": {
        "id": "v5xDiwK-fGrF"
      },
      "outputs": [],
      "source": [
        "y =(10,15,20)"
      ]
    },
    {
      "cell_type": "code",
      "execution_count": 78,
      "metadata": {
        "id": "EAhb0MGMfPTC"
      },
      "outputs": [],
      "source": [
        "z = x+y"
      ]
    },
    {
      "cell_type": "code",
      "execution_count": 79,
      "metadata": {
        "colab": {
          "base_uri": "https://localhost:8080/"
        },
        "id": "tVsF1hSofTc2",
        "outputId": "4da655f1-11e3-49e5-be5b-18a035429e93"
      },
      "outputs": [
        {
          "data": {
            "text/plain": [
              "(0, 1, 2, 3, 4, 5, 6, 7, 8, 9, 10, 15, 20)"
            ]
          },
          "execution_count": 79,
          "metadata": {},
          "output_type": "execute_result"
        }
      ],
      "source": [
        "z"
      ]
    },
    {
      "cell_type": "code",
      "execution_count": 80,
      "metadata": {
        "id": "4p4LUnAvfUEP"
      },
      "outputs": [],
      "source": [
        "x2 = list(x)"
      ]
    },
    {
      "cell_type": "code",
      "execution_count": 81,
      "metadata": {
        "colab": {
          "base_uri": "https://localhost:8080/"
        },
        "id": "yj25WcW9fchX",
        "outputId": "7d714ecd-336c-4bed-8fe4-1f85a5993f58"
      },
      "outputs": [
        {
          "data": {
            "text/plain": [
              "[0, 1, 2, 3, 4, 5, 6, 7, 8, 9]"
            ]
          },
          "execution_count": 81,
          "metadata": {},
          "output_type": "execute_result"
        }
      ],
      "source": [
        "x2"
      ]
    },
    {
      "cell_type": "code",
      "execution_count": 82,
      "metadata": {
        "id": "9sdgn98HfdUY"
      },
      "outputs": [],
      "source": [
        "x3 = tuple(x2)"
      ]
    },
    {
      "cell_type": "code",
      "execution_count": 83,
      "metadata": {
        "colab": {
          "base_uri": "https://localhost:8080/"
        },
        "id": "DEn7jl4Pfl6J",
        "outputId": "2736ee13-ac24-4e20-8a71-d7eca4553871"
      },
      "outputs": [
        {
          "data": {
            "text/plain": [
              "(0, 1, 2, 3, 4, 5, 6, 7, 8, 9)"
            ]
          },
          "execution_count": 83,
          "metadata": {},
          "output_type": "execute_result"
        }
      ],
      "source": [
        "x3"
      ]
    },
    {
      "cell_type": "markdown",
      "metadata": {
        "id": "IgEarDf19PhE"
      },
      "source": [
        "## Exercises\n",
        "\n",
        "Try execute the lines to figure out what these commands are for."
      ]
    },
    {
      "cell_type": "code",
      "execution_count": 84,
      "metadata": {
        "id": "P-hvq6EP_Cv9"
      },
      "outputs": [],
      "source": [
        "x=range(0,15)"
      ]
    },
    {
      "cell_type": "code",
      "execution_count": 85,
      "metadata": {
        "colab": {
          "base_uri": "https://localhost:8080/"
        },
        "id": "ne832geD7u39",
        "outputId": "1be1cbc2-73fc-4882-9ba6-b08a262b8fb6"
      },
      "outputs": [
        {
          "data": {
            "text/plain": [
              "range(0, 15)"
            ]
          },
          "execution_count": 85,
          "metadata": {},
          "output_type": "execute_result"
        }
      ],
      "source": [
        "x"
      ]
    },
    {
      "cell_type": "code",
      "execution_count": 86,
      "metadata": {
        "colab": {
          "base_uri": "https://localhost:8080/"
        },
        "id": "zyp469AT777c",
        "outputId": "e8a57d25-8af4-4fda-c948-c39426ecea40"
      },
      "outputs": [
        {
          "data": {
            "text/plain": [
              "range"
            ]
          },
          "execution_count": 86,
          "metadata": {},
          "output_type": "execute_result"
        }
      ],
      "source": [
        "type(x)"
      ]
    },
    {
      "cell_type": "code",
      "execution_count": 87,
      "metadata": {
        "id": "h2W6jdA47-L2"
      },
      "outputs": [],
      "source": [
        "x = list(x)"
      ]
    },
    {
      "cell_type": "code",
      "execution_count": 88,
      "metadata": {
        "colab": {
          "base_uri": "https://localhost:8080/"
        },
        "id": "nUXBhhEm8Az7",
        "outputId": "5c614be9-46fc-4850-80cc-1d330c3e4f10"
      },
      "outputs": [
        {
          "data": {
            "text/plain": [
              "[0, 1, 2, 3, 4, 5, 6, 7, 8, 9, 10, 11, 12, 13, 14]"
            ]
          },
          "execution_count": 88,
          "metadata": {},
          "output_type": "execute_result"
        }
      ],
      "source": [
        "x"
      ]
    },
    {
      "cell_type": "code",
      "execution_count": 89,
      "metadata": {
        "id": "pnLqz2Ou8BNu"
      },
      "outputs": [],
      "source": [
        "# Try all these commands to figure out how to slice lists\n",
        "\n",
        "#x[0]\n",
        "#x[:]\n",
        "#x[:5]\n",
        "#x[3:]\n",
        "#x[3:5]\n",
        "#x[3:10:2]\n"
      ]
    },
    {
      "cell_type": "markdown",
      "metadata": {
        "id": "RNnb799v93F9"
      },
      "source": [
        "Try all these in the below."
      ]
    },
    {
      "cell_type": "code",
      "execution_count": 90,
      "metadata": {
        "colab": {
          "base_uri": "https://localhost:8080/"
        },
        "id": "DZI8k-BMLz7s",
        "outputId": "7572091f-2f2d-4be4-9b75-85eeeaffd0a1"
      },
      "outputs": [
        {
          "data": {
            "text/plain": [
              "12"
            ]
          },
          "execution_count": 90,
          "metadata": {},
          "output_type": "execute_result"
        }
      ],
      "source": [
        "x[-3]"
      ]
    },
    {
      "cell_type": "code",
      "execution_count": 91,
      "metadata": {
        "colab": {
          "base_uri": "https://localhost:8080/"
        },
        "id": "0qUglfaCL5fG",
        "outputId": "081b9593-e1ab-4a50-f44e-aa51a9797198"
      },
      "outputs": [
        {
          "data": {
            "text/plain": [
              "[13, 14]"
            ]
          },
          "execution_count": 91,
          "metadata": {},
          "output_type": "execute_result"
        }
      ],
      "source": [
        "x[-2:]"
      ]
    },
    {
      "cell_type": "code",
      "execution_count": 92,
      "metadata": {
        "colab": {
          "base_uri": "https://localhost:8080/"
        },
        "id": "ZbXhcCcjMK1Q",
        "outputId": "48342e5f-8cb6-4b5d-f218-a2db139bb982"
      },
      "outputs": [
        {
          "data": {
            "text/plain": [
              "[14]"
            ]
          },
          "execution_count": 92,
          "metadata": {},
          "output_type": "execute_result"
        }
      ],
      "source": [
        "x[-1:]"
      ]
    },
    {
      "cell_type": "code",
      "execution_count": 93,
      "metadata": {
        "colab": {
          "base_uri": "https://localhost:8080/"
        },
        "id": "aop08GMpMNyT",
        "outputId": "7566a8b7-c01f-4546-9230-f9192be6e14f"
      },
      "outputs": [
        {
          "data": {
            "text/plain": [
              "[0, 1, 2, 3, 4, 5, 6, 7, 8, 9, 10, 11, 12, 13]"
            ]
          },
          "execution_count": 93,
          "metadata": {},
          "output_type": "execute_result"
        }
      ],
      "source": [
        "x[:-1]"
      ]
    },
    {
      "cell_type": "code",
      "execution_count": 94,
      "metadata": {
        "colab": {
          "base_uri": "https://localhost:8080/"
        },
        "id": "Bs0O9-6-MP2j",
        "outputId": "19293119-7f46-4b13-bdab-14039a958656"
      },
      "outputs": [
        {
          "data": {
            "text/plain": [
              "[13]"
            ]
          },
          "execution_count": 94,
          "metadata": {},
          "output_type": "execute_result"
        }
      ],
      "source": [
        "x[-2:-1]"
      ]
    },
    {
      "cell_type": "code",
      "execution_count": 95,
      "metadata": {
        "colab": {
          "base_uri": "https://localhost:8080/"
        },
        "id": "I0Cu9GbRMSUA",
        "outputId": "1755d23d-87ee-40c4-f683-a8b1d8001dfd"
      },
      "outputs": [
        {
          "data": {
            "text/plain": [
              "[10, 11, 12, 13]"
            ]
          },
          "execution_count": 95,
          "metadata": {},
          "output_type": "execute_result"
        }
      ],
      "source": [
        "x[-5:-1]"
      ]
    },
    {
      "cell_type": "code",
      "execution_count": 96,
      "metadata": {
        "colab": {
          "base_uri": "https://localhost:8080/"
        },
        "id": "lXhqaTmkMXjk",
        "outputId": "f2063e63-9d3d-4162-c6e7-20bfb0ad9674"
      },
      "outputs": [
        {
          "data": {
            "text/plain": [
              "[5, 8, 11]"
            ]
          },
          "execution_count": 96,
          "metadata": {},
          "output_type": "execute_result"
        }
      ],
      "source": [
        "x[-10:-2:3]"
      ]
    }
  ],
  "metadata": {
    "colab": {
      "provenance": []
    },
    "kernelspec": {
      "display_name": "Python 3",
      "language": "python",
      "name": "python3"
    },
    "language_info": {
      "codemirror_mode": {
        "name": "ipython",
        "version": 3
      },
      "file_extension": ".py",
      "mimetype": "text/x-python",
      "name": "python",
      "nbconvert_exporter": "python",
      "pygments_lexer": "ipython3",
      "version": "3.9.13"
    }
  },
  "nbformat": 4,
  "nbformat_minor": 0
}
