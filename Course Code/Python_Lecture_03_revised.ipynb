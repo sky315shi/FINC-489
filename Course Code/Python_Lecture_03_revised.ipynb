{
  "nbformat": 4,
  "nbformat_minor": 0,
  "metadata": {
    "colab": {
      "provenance": []
    },
    "kernelspec": {
      "name": "python3",
      "display_name": "Python 3"
    },
    "language_info": {
      "name": "python"
    }
  },
  "cells": [
    {
      "cell_type": "markdown",
      "source": [
        "# Array, Matrices, and Data Handling (with Numpy and Pandas)\n",
        "\n",
        "## Part 2 (More Numpy + Introducing Pandas)\n",
        "\n",
        "In this part, we learn some commands and functions useful for your programming. There are too many functions to cover in this lecture, so we will learn a core set of functions. Then, we add one more library to Python, Pandas, which is useful for data analytics."
      ],
      "metadata": {
        "id": "4sMhCzleIf_L"
      }
    },
    {
      "cell_type": "markdown",
      "source": [
        "## Contents\n",
        "\n",
        "- Functions and Methods/Properties\n",
        "- Convenient functions\n",
        "- Special Arrays\n",
        "- NaN and Inf\n",
        "- Sorting and Extreme Values"
      ],
      "metadata": {
        "id": "G3NJW0FWLSxA"
      }
    },
    {
      "cell_type": "code",
      "source": [
        "import numpy as np"
      ],
      "metadata": {
        "id": "1TFOMzGTMFxz"
      },
      "execution_count": null,
      "outputs": []
    },
    {
      "cell_type": "code",
      "source": [
        "#linspace(a,b,n) produces a set of n points with an equal distance between a and b.\n",
        "\n",
        "x=np.linspace(0,10,21)"
      ],
      "metadata": {
        "id": "PYEuC0qiIYtg"
      },
      "execution_count": null,
      "outputs": []
    },
    {
      "cell_type": "code",
      "source": [
        "x"
      ],
      "metadata": {
        "colab": {
          "base_uri": "https://localhost:8080/"
        },
        "id": "hoE5LQI3MCJA",
        "outputId": "37b66d07-17ed-44ce-b03c-b8158406ea08"
      },
      "execution_count": null,
      "outputs": [
        {
          "output_type": "execute_result",
          "data": {
            "text/plain": [
              "array([ 0. ,  0.5,  1. ,  1.5,  2. ,  2.5,  3. ,  3.5,  4. ,  4.5,  5. ,\n",
              "        5.5,  6. ,  6.5,  7. ,  7.5,  8. ,  8.5,  9. ,  9.5, 10. ])"
            ]
          },
          "metadata": {},
          "execution_count": 124
        }
      ]
    },
    {
      "cell_type": "code",
      "source": [
        "#logspace(a,b,n) is similar to linspace(a,b,n), except taht it makes an array of points between 10**a and 10**b\n",
        "\n",
        "logx = np.logspace(0,1,11)"
      ],
      "metadata": {
        "id": "POT-OZQOMKlf",
        "outputId": "787536a9-3ba1-444a-d660-37e73823d189",
        "colab": {
          "base_uri": "https://localhost:8080/",
          "height": 201
        }
      },
      "execution_count": null,
      "outputs": [
        {
          "output_type": "error",
          "ename": "NameError",
          "evalue": "ignored",
          "traceback": [
            "\u001b[0;31m---------------------------------------------------------------------------\u001b[0m",
            "\u001b[0;31mNameError\u001b[0m                                 Traceback (most recent call last)",
            "\u001b[0;32m<ipython-input-1-fe28d2c50375>\u001b[0m in \u001b[0;36m<module>\u001b[0;34m\u001b[0m\n\u001b[1;32m      1\u001b[0m \u001b[0;31m#logspace(a,b,n) is similar to linspace(a,b,n), except taht it makes an array of points between 10**a and 10**b\u001b[0m\u001b[0;34m\u001b[0m\u001b[0;34m\u001b[0m\u001b[0;34m\u001b[0m\u001b[0m\n\u001b[1;32m      2\u001b[0m \u001b[0;34m\u001b[0m\u001b[0m\n\u001b[0;32m----> 3\u001b[0;31m \u001b[0mlogx\u001b[0m \u001b[0;34m=\u001b[0m \u001b[0mnp\u001b[0m\u001b[0;34m.\u001b[0m\u001b[0mlogspace\u001b[0m\u001b[0;34m(\u001b[0m\u001b[0;36m0\u001b[0m\u001b[0;34m,\u001b[0m\u001b[0;36m1\u001b[0m\u001b[0;34m,\u001b[0m\u001b[0;36m11\u001b[0m\u001b[0;34m)\u001b[0m\u001b[0;34m\u001b[0m\u001b[0;34m\u001b[0m\u001b[0m\n\u001b[0m",
            "\u001b[0;31mNameError\u001b[0m: name 'np' is not defined"
          ]
        }
      ]
    },
    {
      "cell_type": "code",
      "source": [
        "logx"
      ],
      "metadata": {
        "colab": {
          "base_uri": "https://localhost:8080/"
        },
        "id": "JeN2y5sMMSXe",
        "outputId": "03ae671d-f385-4426-ad11-52af03b52ecc"
      },
      "execution_count": null,
      "outputs": [
        {
          "output_type": "execute_result",
          "data": {
            "text/plain": [
              "array([1.e+00, 1.e+01, 1.e+02, 1.e+03, 1.e+04, 1.e+05, 1.e+06, 1.e+07,\n",
              "       1.e+08, 1.e+09, 1.e+10])"
            ]
          },
          "metadata": {},
          "execution_count": 126
        }
      ]
    },
    {
      "cell_type": "markdown",
      "source": [
        "## arange(a,b,s)\n",
        "\n",
        "arange(a,b,n) creates an array of numbers between a and b (b not included) with a distance $s$. So, the main difference between linspace and arange lies in the way the set of points is spaced by. If only one input is provided for the arange, say arange(b), this refers to arange(0,b,1)."
      ],
      "metadata": {
        "id": "zy3LNxVwh3RL"
      }
    },
    {
      "cell_type": "code",
      "source": [
        "x = np.arange(11.5)"
      ],
      "metadata": {
        "id": "eDR4QoDVMTFu"
      },
      "execution_count": null,
      "outputs": []
    },
    {
      "cell_type": "code",
      "source": [
        "x"
      ],
      "metadata": {
        "colab": {
          "base_uri": "https://localhost:8080/"
        },
        "id": "u_xZwca1McZS",
        "outputId": "9530be20-6b99-4310-b79e-abfc543611b9"
      },
      "execution_count": null,
      "outputs": [
        {
          "output_type": "execute_result",
          "data": {
            "text/plain": [
              "array([ 0.,  1.,  2.,  3.,  4.,  5.,  6.,  7.,  8.,  9., 10., 11.])"
            ]
          },
          "metadata": {},
          "execution_count": 128
        }
      ]
    },
    {
      "cell_type": "code",
      "source": [
        "x = np.arange(12)"
      ],
      "metadata": {
        "id": "Z2nlltSJMcvN"
      },
      "execution_count": null,
      "outputs": []
    },
    {
      "cell_type": "code",
      "source": [
        "x"
      ],
      "metadata": {
        "colab": {
          "base_uri": "https://localhost:8080/"
        },
        "id": "jnj-Kr3UMhCl",
        "outputId": "13e3e3d1-c769-4b5f-b162-a4d32b4667c1"
      },
      "execution_count": null,
      "outputs": [
        {
          "output_type": "execute_result",
          "data": {
            "text/plain": [
              "array([ 0,  1,  2,  3,  4,  5,  6,  7,  8,  9, 10, 11])"
            ]
          },
          "metadata": {},
          "execution_count": 130
        }
      ]
    },
    {
      "cell_type": "code",
      "source": [
        "x=np.arange(1,10,.3)\n",
        "x"
      ],
      "metadata": {
        "colab": {
          "base_uri": "https://localhost:8080/"
        },
        "id": "QHWmkfZXjBKN",
        "outputId": "5d19d4c1-623e-43b4-f3da-c67a80a19e54"
      },
      "execution_count": null,
      "outputs": [
        {
          "output_type": "execute_result",
          "data": {
            "text/plain": [
              "array([1. , 1.3, 1.6, 1.9, 2.2, 2.5, 2.8, 3.1, 3.4, 3.7, 4. , 4.3, 4.6,\n",
              "       4.9, 5.2, 5.5, 5.8, 6.1, 6.4, 6.7, 7. , 7.3, 7.6, 7.9, 8.2, 8.5,\n",
              "       8.8, 9.1, 9.4, 9.7])"
            ]
          },
          "metadata": {},
          "execution_count": 131
        }
      ]
    },
    {
      "cell_type": "markdown",
      "source": [
        "# You can create a mesh grid"
      ],
      "metadata": {
        "id": "U5AUVxwejK3N"
      }
    },
    {
      "cell_type": "code",
      "source": [
        "x = np.arange(5)\n",
        "y = np.arange(3)"
      ],
      "metadata": {
        "id": "HqlvXOA_MhV0"
      },
      "execution_count": null,
      "outputs": []
    },
    {
      "cell_type": "code",
      "source": [
        "X,Y = np.meshgrid(x,y)"
      ],
      "metadata": {
        "id": "50nKYTeGMoPl"
      },
      "execution_count": null,
      "outputs": []
    },
    {
      "cell_type": "code",
      "source": [
        "X"
      ],
      "metadata": {
        "colab": {
          "base_uri": "https://localhost:8080/"
        },
        "id": "x9SNX1e9MqZN",
        "outputId": "e2b14ee3-024a-4414-8c9e-b0cd95ac7d8b"
      },
      "execution_count": null,
      "outputs": [
        {
          "output_type": "execute_result",
          "data": {
            "text/plain": [
              "array([[0, 1, 2, 3, 4],\n",
              "       [0, 1, 2, 3, 4],\n",
              "       [0, 1, 2, 3, 4]])"
            ]
          },
          "metadata": {},
          "execution_count": 13
        }
      ]
    },
    {
      "cell_type": "code",
      "source": [
        "Y"
      ],
      "metadata": {
        "colab": {
          "base_uri": "https://localhost:8080/"
        },
        "id": "Gz6RgIksMtyK",
        "outputId": "cbe772d6-a9c1-4b15-f02c-01d31961a448"
      },
      "execution_count": null,
      "outputs": [
        {
          "output_type": "execute_result",
          "data": {
            "text/plain": [
              "array([[0, 0, 0, 0, 0],\n",
              "       [1, 1, 1, 1, 1],\n",
              "       [2, 2, 2, 2, 2]])"
            ]
          },
          "metadata": {},
          "execution_count": 14
        }
      ]
    },
    {
      "cell_type": "code",
      "source": [
        "np.r_[0:10:.5] # arange equivalent"
      ],
      "metadata": {
        "colab": {
          "base_uri": "https://localhost:8080/"
        },
        "id": "k-SX_xz1MuNH",
        "outputId": "1a8b185f-1f5a-42e0-d395-971984242039"
      },
      "execution_count": null,
      "outputs": [
        {
          "output_type": "execute_result",
          "data": {
            "text/plain": [
              "array([0. , 0.5, 1. , 1.5, 2. , 2.5, 3. , 3.5, 4. , 4.5, 5. , 5.5, 6. ,\n",
              "       6.5, 7. , 7.5, 8. , 8.5, 9. , 9.5])"
            ]
          },
          "metadata": {},
          "execution_count": 15
        }
      ]
    },
    {
      "cell_type": "code",
      "source": [
        "np.r_[0:10:0.3]"
      ],
      "metadata": {
        "colab": {
          "base_uri": "https://localhost:8080/"
        },
        "id": "_18ARIVvM5yT",
        "outputId": "d02d485a-dbdc-4fa1-c5fb-13a3a045e1ff"
      },
      "execution_count": null,
      "outputs": [
        {
          "output_type": "execute_result",
          "data": {
            "text/plain": [
              "array([0. , 0.3, 0.6, 0.9, 1.2, 1.5, 1.8, 2.1, 2.4, 2.7, 3. , 3.3, 3.6,\n",
              "       3.9, 4.2, 4.5, 4.8, 5.1, 5.4, 5.7, 6. , 6.3, 6.6, 6.9, 7.2, 7.5,\n",
              "       7.8, 8.1, 8.4, 8.7, 9. , 9.3, 9.6, 9.9])"
            ]
          },
          "metadata": {},
          "execution_count": 16
        }
      ]
    },
    {
      "cell_type": "code",
      "source": [
        "# Additional related commands to check\n",
        "# c_, ix_, mgrid_, ogrid_,..."
      ],
      "metadata": {
        "id": "vhjNjirLNAXK"
      },
      "execution_count": null,
      "outputs": []
    },
    {
      "cell_type": "code",
      "source": [],
      "metadata": {
        "id": "C2_THvMVJUUA"
      },
      "execution_count": null,
      "outputs": []
    },
    {
      "cell_type": "code",
      "source": [
        "# Can we generate random (normal distribution) array?\n",
        "\n",
        "x = np.random.randn(2,10)\n",
        "x"
      ],
      "metadata": {
        "colab": {
          "base_uri": "https://localhost:8080/"
        },
        "id": "d05OsZchNfDC",
        "outputId": "2a667ad0-82d8-49df-d404-2dbf2ff4b1ce"
      },
      "execution_count": null,
      "outputs": [
        {
          "output_type": "execute_result",
          "data": {
            "text/plain": [
              "array([[-0.45962571, -1.25578534, -0.06266895, -0.36031787, -1.51809098,\n",
              "        -1.93827317,  0.71588438,  0.38529488,  1.02682798,  0.27648031],\n",
              "       [-0.17731286,  0.51117623,  0.50814367,  0.26217402,  0.41249797,\n",
              "        -0.90417702,  0.67136863, -0.80109326, -0.21695582,  1.44959955]])"
            ]
          },
          "metadata": {},
          "execution_count": 159
        }
      ]
    },
    {
      "cell_type": "markdown",
      "source": [
        "## You can create random samples from various other distributions:\n",
        "https://numpy.org/doc/1.16/reference/routines.random.html"
      ],
      "metadata": {
        "id": "xltreXEEJvbR"
      }
    },
    {
      "cell_type": "code",
      "source": [
        "#random permutation of x drawn above\n",
        "np.random.permutation(x)"
      ],
      "metadata": {
        "colab": {
          "base_uri": "https://localhost:8080/"
        },
        "id": "YJMafLKXJu0M",
        "outputId": "41f0ee24-c02a-4f4b-a95f-766468b9fdd2"
      },
      "execution_count": null,
      "outputs": [
        {
          "output_type": "execute_result",
          "data": {
            "text/plain": [
              "array([[-1.6383711 , -0.20833419, -1.71678759,  0.54000776, -1.473469  ,\n",
              "        -1.09070123, -0.5430217 , -0.85895011, -0.58735258, -0.19968494]])"
            ]
          },
          "metadata": {},
          "execution_count": 153
        }
      ]
    },
    {
      "cell_type": "code",
      "source": [
        "np.sum(x)"
      ],
      "metadata": {
        "colab": {
          "base_uri": "https://localhost:8080/"
        },
        "id": "BGYgUJ-yNpwg",
        "outputId": "74142730-f26e-4da4-a1c0-40ef1b5c8abf"
      },
      "execution_count": null,
      "outputs": [
        {
          "output_type": "execute_result",
          "data": {
            "text/plain": [
              "-7.776664691964929"
            ]
          },
          "metadata": {},
          "execution_count": 154
        }
      ]
    },
    {
      "cell_type": "code",
      "source": [
        "x.sum()"
      ],
      "metadata": {
        "colab": {
          "base_uri": "https://localhost:8080/"
        },
        "id": "f_f1xQG_mhvA",
        "outputId": "9b07c2b4-1c8d-47b3-fa77-72592714ed6a"
      },
      "execution_count": null,
      "outputs": [
        {
          "output_type": "execute_result",
          "data": {
            "text/plain": [
              "-7.776664691964929"
            ]
          },
          "metadata": {},
          "execution_count": 155
        }
      ]
    },
    {
      "cell_type": "code",
      "source": [
        "np.sum(x,1)"
      ],
      "metadata": {
        "colab": {
          "base_uri": "https://localhost:8080/"
        },
        "id": "l_iFcLnON_Iy",
        "outputId": "ad5cb5e1-1212-4846-dc56-a93e86187e42"
      },
      "execution_count": null,
      "outputs": [
        {
          "output_type": "execute_result",
          "data": {
            "text/plain": [
              "array([-3.19027446,  1.71542112])"
            ]
          },
          "metadata": {},
          "execution_count": 160
        }
      ]
    },
    {
      "cell_type": "code",
      "source": [
        "x.sum(1)"
      ],
      "metadata": {
        "colab": {
          "base_uri": "https://localhost:8080/"
        },
        "id": "p0DYvwz-nRER",
        "outputId": "0b813e92-22df-411e-8861-32889445bb5c"
      },
      "execution_count": null,
      "outputs": [
        {
          "output_type": "execute_result",
          "data": {
            "text/plain": [
              "array([-7.77666469])"
            ]
          },
          "metadata": {},
          "execution_count": 157
        }
      ]
    },
    {
      "cell_type": "code",
      "source": [
        "np.sum(x,0)"
      ],
      "metadata": {
        "colab": {
          "base_uri": "https://localhost:8080/"
        },
        "id": "iRdSc7rYOOwl",
        "outputId": "66e34abd-9a6c-46a6-82ee-6905064062fe"
      },
      "execution_count": null,
      "outputs": [
        {
          "output_type": "execute_result",
          "data": {
            "text/plain": [
              "array([-0.63693857, -0.74460911,  0.44547472, -0.09814384, -1.105593  ,\n",
              "       -2.84245018,  1.38725301, -0.41579837,  0.80987215,  1.72607986])"
            ]
          },
          "metadata": {},
          "execution_count": 161
        }
      ]
    },
    {
      "cell_type": "code",
      "source": [
        "np.cumsum(x,0)"
      ],
      "metadata": {
        "colab": {
          "base_uri": "https://localhost:8080/"
        },
        "id": "7sUvCo6VOSmH",
        "outputId": "0e90b632-bbad-4478-f268-36a5353aa44d"
      },
      "execution_count": null,
      "outputs": [
        {
          "output_type": "execute_result",
          "data": {
            "text/plain": [
              "array([[-0.45962571, -1.25578534, -0.06266895, -0.36031787, -1.51809098,\n",
              "        -1.93827317,  0.71588438,  0.38529488,  1.02682798,  0.27648031],\n",
              "       [-0.63693857, -0.74460911,  0.44547472, -0.09814384, -1.105593  ,\n",
              "        -2.84245018,  1.38725301, -0.41579837,  0.80987215,  1.72607986]])"
            ]
          },
          "metadata": {},
          "execution_count": 162
        }
      ]
    },
    {
      "cell_type": "code",
      "source": [
        "np.cumsum(x,1)"
      ],
      "metadata": {
        "colab": {
          "base_uri": "https://localhost:8080/"
        },
        "id": "y5ZDqWvIOhAR",
        "outputId": "ca90a635-db7b-4648-e41e-16d6ce298485"
      },
      "execution_count": null,
      "outputs": [
        {
          "output_type": "execute_result",
          "data": {
            "text/plain": [
              "array([[-0.45962571, -1.71541106, -1.77808001, -2.13839787, -3.65648885,\n",
              "        -5.59476202, -4.87887764, -4.49358275, -3.46675477, -3.19027446],\n",
              "       [-0.17731286,  0.33386337,  0.84200704,  1.10418106,  1.51667904,\n",
              "         0.61250202,  1.28387065,  0.4827774 ,  0.26582157,  1.71542112]])"
            ]
          },
          "metadata": {},
          "execution_count": 163
        }
      ]
    },
    {
      "cell_type": "code",
      "source": [
        "# As methods,...\n",
        "x.cumsum(1)"
      ],
      "metadata": {
        "colab": {
          "base_uri": "https://localhost:8080/"
        },
        "id": "pyMxPi45OoW8",
        "outputId": "fd701893-3938-4fe4-f712-e334849c3f76"
      },
      "execution_count": null,
      "outputs": [
        {
          "output_type": "execute_result",
          "data": {
            "text/plain": [
              "array([[ 1.07928743,  0.37721001,  1.27543942,  1.36949988],\n",
              "       [ 2.08848848,  1.27392065, -0.24009179,  0.71790588],\n",
              "       [-0.54704932,  0.4954562 , -0.65380508, -1.56909567]])"
            ]
          },
          "metadata": {},
          "execution_count": 26
        }
      ]
    },
    {
      "cell_type": "code",
      "source": [
        "x.cumsum(0)"
      ],
      "metadata": {
        "colab": {
          "base_uri": "https://localhost:8080/"
        },
        "id": "RpPWMcESOuj5",
        "outputId": "34dd6404-deaa-4d0b-92fc-e34a0d440d7c"
      },
      "execution_count": null,
      "outputs": [
        {
          "output_type": "execute_result",
          "data": {
            "text/plain": [
              "array([[ 1.07928743, -0.70207741,  0.89822941,  0.09406046],\n",
              "       [ 3.1677759 , -1.51664524, -0.61578303,  1.05205813],\n",
              "       [ 2.62072658, -0.47413972, -1.76504431,  0.13676754]])"
            ]
          },
          "metadata": {},
          "execution_count": 27
        }
      ]
    },
    {
      "cell_type": "code",
      "source": [
        "x"
      ],
      "metadata": {
        "colab": {
          "base_uri": "https://localhost:8080/"
        },
        "id": "Ri92mEbXO-kj",
        "outputId": "37336dec-95fe-48e8-9a25-26a0b8787f02"
      },
      "execution_count": null,
      "outputs": [
        {
          "output_type": "execute_result",
          "data": {
            "text/plain": [
              "array([[ 1.07928743, -0.70207741,  0.89822941,  0.09406046],\n",
              "       [ 2.08848848, -0.81456783, -1.51401244,  0.95799767],\n",
              "       [-0.54704932,  1.04250552, -1.14926127, -0.91529059]])"
            ]
          },
          "metadata": {},
          "execution_count": 28
        }
      ]
    },
    {
      "cell_type": "code",
      "source": [
        "np.diff(x)"
      ],
      "metadata": {
        "colab": {
          "base_uri": "https://localhost:8080/"
        },
        "id": "0v6ZmB5oPGle",
        "outputId": "8e143192-a812-4709-8021-74a25ebe55c1"
      },
      "execution_count": null,
      "outputs": [
        {
          "output_type": "execute_result",
          "data": {
            "text/plain": [
              "array([[-0.79615963,  1.19311639, -0.29764892, -1.15777311, -0.42018219,\n",
              "         2.65415755, -0.3305895 ,  0.6415331 , -0.75034767],\n",
              "       [ 0.68848909, -0.00303257, -0.24596964,  0.15032395, -1.31667499,\n",
              "         1.57554565, -1.47246189,  0.58413743,  1.66655538]])"
            ]
          },
          "metadata": {},
          "execution_count": 164
        }
      ]
    },
    {
      "cell_type": "code",
      "source": [
        "np.diff(x,axis=0)"
      ],
      "metadata": {
        "colab": {
          "base_uri": "https://localhost:8080/"
        },
        "id": "FflTY6a-PQ_9",
        "outputId": "91f93525-fb9e-4787-b6dd-628218d77080"
      },
      "execution_count": null,
      "outputs": [
        {
          "output_type": "execute_result",
          "data": {
            "text/plain": [
              "array([[ 1.00920105, -0.11249041, -2.41224185,  0.86393721],\n",
              "       [-2.6355378 ,  1.85707334,  0.36475117, -1.87328826]])"
            ]
          },
          "metadata": {},
          "execution_count": 30
        }
      ]
    },
    {
      "cell_type": "code",
      "source": [
        "np.diff(x,1,axis=0)"
      ],
      "metadata": {
        "colab": {
          "base_uri": "https://localhost:8080/"
        },
        "id": "X-emNcxCPcm0",
        "outputId": "9fbf82a5-f43c-4055-c2b7-17955366075b"
      },
      "execution_count": null,
      "outputs": [
        {
          "output_type": "execute_result",
          "data": {
            "text/plain": [
              "array([[ 1.00920105, -0.11249041, -2.41224185,  0.86393721],\n",
              "       [-2.6355378 ,  1.85707334,  0.36475117, -1.87328826]])"
            ]
          },
          "metadata": {},
          "execution_count": 31
        }
      ]
    },
    {
      "cell_type": "markdown",
      "source": [
        "## Sorting?"
      ],
      "metadata": {
        "id": "Nmc-1pKwP-eD"
      }
    },
    {
      "cell_type": "code",
      "source": [
        "x = np.random.randn(5,3)"
      ],
      "metadata": {
        "id": "FsKB5K1MP3xT"
      },
      "execution_count": null,
      "outputs": []
    },
    {
      "cell_type": "code",
      "source": [
        "x"
      ],
      "metadata": {
        "colab": {
          "base_uri": "https://localhost:8080/"
        },
        "id": "iClmCoeTQE01",
        "outputId": "866a5914-85c4-4be2-fdbb-78b245a06d27"
      },
      "execution_count": null,
      "outputs": [
        {
          "output_type": "execute_result",
          "data": {
            "text/plain": [
              "array([[-0.61365876,  0.11918675,  0.08381229],\n",
              "       [-0.07573014, -0.27730183, -0.12985448],\n",
              "       [ 0.66386577,  0.7114311 ,  0.63554794],\n",
              "       [ 0.72846744, -1.54696893, -2.20271902],\n",
              "       [ 0.29517969, -1.42263535, -1.56002334]])"
            ]
          },
          "metadata": {},
          "execution_count": 166
        }
      ]
    },
    {
      "cell_type": "code",
      "source": [
        "np.sort(x)"
      ],
      "metadata": {
        "colab": {
          "base_uri": "https://localhost:8080/"
        },
        "id": "qTbre8aEQFOX",
        "outputId": "206f7c49-7397-474c-90c6-972e7de7fd91"
      },
      "execution_count": null,
      "outputs": [
        {
          "output_type": "execute_result",
          "data": {
            "text/plain": [
              "array([[-0.61365876,  0.08381229,  0.11918675],\n",
              "       [-0.27730183, -0.12985448, -0.07573014],\n",
              "       [ 0.63554794,  0.66386577,  0.7114311 ],\n",
              "       [-2.20271902, -1.54696893,  0.72846744],\n",
              "       [-1.56002334, -1.42263535,  0.29517969]])"
            ]
          },
          "metadata": {},
          "execution_count": 167
        }
      ]
    },
    {
      "cell_type": "code",
      "source": [
        "np.sort(x,0)"
      ],
      "metadata": {
        "colab": {
          "base_uri": "https://localhost:8080/"
        },
        "id": "S72tzLQgQHGA",
        "outputId": "ecfb5337-b931-42c7-fdc9-8eb71ad28900"
      },
      "execution_count": null,
      "outputs": [
        {
          "output_type": "execute_result",
          "data": {
            "text/plain": [
              "array([[-0.61365876, -1.54696893, -2.20271902],\n",
              "       [-0.07573014, -1.42263535, -1.56002334],\n",
              "       [ 0.29517969, -0.27730183, -0.12985448],\n",
              "       [ 0.66386577,  0.11918675,  0.08381229],\n",
              "       [ 0.72846744,  0.7114311 ,  0.63554794]])"
            ]
          },
          "metadata": {},
          "execution_count": 168
        }
      ]
    },
    {
      "cell_type": "code",
      "source": [
        "np.sort(x,axis=None)"
      ],
      "metadata": {
        "colab": {
          "base_uri": "https://localhost:8080/"
        },
        "id": "lr5NNsmFQMiZ",
        "outputId": "7b9c213e-a138-4fc5-cbf2-a6688308ce30"
      },
      "execution_count": null,
      "outputs": [
        {
          "output_type": "execute_result",
          "data": {
            "text/plain": [
              "array([-2.20271902, -1.56002334, -1.54696893, -1.42263535, -0.61365876,\n",
              "       -0.27730183, -0.12985448, -0.07573014,  0.08381229,  0.11918675,\n",
              "        0.29517969,  0.63554794,  0.66386577,  0.7114311 ,  0.72846744])"
            ]
          },
          "metadata": {},
          "execution_count": 169
        }
      ]
    },
    {
      "cell_type": "code",
      "source": [],
      "metadata": {
        "id": "HxFVy1xzQSXy"
      },
      "execution_count": null,
      "outputs": []
    },
    {
      "cell_type": "markdown",
      "source": [
        "## Nan Functions"
      ],
      "metadata": {
        "id": "wk_mPQUijpk4"
      }
    },
    {
      "cell_type": "code",
      "source": [
        "x = np.random.randn(5)\n",
        "x"
      ],
      "metadata": {
        "colab": {
          "base_uri": "https://localhost:8080/"
        },
        "id": "x9WCF-SPj0CX",
        "outputId": "a8f8c4c3-852d-474e-aee6-27a54a70537a"
      },
      "execution_count": null,
      "outputs": [
        {
          "output_type": "execute_result",
          "data": {
            "text/plain": [
              "array([-0.81392343, -0.81975275, -1.62937969,  0.37671035, -1.75623803])"
            ]
          },
          "metadata": {},
          "execution_count": 170
        }
      ]
    },
    {
      "cell_type": "code",
      "source": [
        "x[1]= np.nan #You can add a nan number using this way.\n",
        "x"
      ],
      "metadata": {
        "colab": {
          "base_uri": "https://localhost:8080/"
        },
        "id": "7Sb-4Z5zkBmu",
        "outputId": "f5b934f1-0113-4aba-f0e7-27a0b052de38"
      },
      "execution_count": null,
      "outputs": [
        {
          "output_type": "execute_result",
          "data": {
            "text/plain": [
              "array([-0.81392343,         nan, -1.62937969,  0.37671035, -1.75623803])"
            ]
          },
          "metadata": {},
          "execution_count": 171
        }
      ]
    },
    {
      "cell_type": "code",
      "source": [
        "np.sum(x)"
      ],
      "metadata": {
        "colab": {
          "base_uri": "https://localhost:8080/"
        },
        "id": "Al1crMKEkQTg",
        "outputId": "f628305d-0ee2-4b90-e2cd-51a9e316cfc3"
      },
      "execution_count": null,
      "outputs": [
        {
          "output_type": "execute_result",
          "data": {
            "text/plain": [
              "nan"
            ]
          },
          "metadata": {},
          "execution_count": 172
        }
      ]
    },
    {
      "cell_type": "code",
      "source": [
        "np.nansum(x)"
      ],
      "metadata": {
        "colab": {
          "base_uri": "https://localhost:8080/"
        },
        "id": "lSV5DJJnkTtD",
        "outputId": "f22a67b4-db51-4330-c32a-70990e6b236a"
      },
      "execution_count": null,
      "outputs": [
        {
          "output_type": "execute_result",
          "data": {
            "text/plain": [
              "-3.82283079327737"
            ]
          },
          "metadata": {},
          "execution_count": 173
        }
      ]
    },
    {
      "cell_type": "code",
      "source": [
        "sum(x[np.logical_not(np.isnan(x))]) # A verbose, alternative way"
      ],
      "metadata": {
        "colab": {
          "base_uri": "https://localhost:8080/"
        },
        "id": "mh0YYlwekpHZ",
        "outputId": "1a03b52a-869b-447d-e93e-7ffc26c16855"
      },
      "execution_count": null,
      "outputs": [
        {
          "output_type": "execute_result",
          "data": {
            "text/plain": [
              "-2.8255988456093584"
            ]
          },
          "metadata": {},
          "execution_count": 41
        }
      ]
    },
    {
      "cell_type": "code",
      "source": [
        "np.isnan(x) # What does 'isnan' do?"
      ],
      "metadata": {
        "colab": {
          "base_uri": "https://localhost:8080/"
        },
        "id": "ETfVaiLZk_GL",
        "outputId": "daccdc82-293d-4098-f86b-d63640e3ab17"
      },
      "execution_count": null,
      "outputs": [
        {
          "output_type": "execute_result",
          "data": {
            "text/plain": [
              "array([False,  True, False, False, False])"
            ]
          },
          "metadata": {},
          "execution_count": 174
        }
      ]
    },
    {
      "cell_type": "code",
      "source": [
        "np.mean(x)"
      ],
      "metadata": {
        "colab": {
          "base_uri": "https://localhost:8080/"
        },
        "id": "V-tHeY2Skc5w",
        "outputId": "cf9e3e20-1432-4a36-ff6b-8ce7c8da8a98"
      },
      "execution_count": null,
      "outputs": [
        {
          "output_type": "execute_result",
          "data": {
            "text/plain": [
              "nan"
            ]
          },
          "metadata": {},
          "execution_count": 175
        }
      ]
    },
    {
      "cell_type": "code",
      "source": [
        "np.nanmean(x)"
      ],
      "metadata": {
        "colab": {
          "base_uri": "https://localhost:8080/"
        },
        "id": "SKkkOmGekg7c",
        "outputId": "7fe94128-70e7-4ad4-eb4e-0ef1eb6c73d7"
      },
      "execution_count": null,
      "outputs": [
        {
          "output_type": "execute_result",
          "data": {
            "text/plain": [
              "-0.9557076983193425"
            ]
          },
          "metadata": {},
          "execution_count": 177
        }
      ]
    },
    {
      "cell_type": "code",
      "source": [
        "np.nancumsum(x)"
      ],
      "metadata": {
        "colab": {
          "base_uri": "https://localhost:8080/"
        },
        "id": "U8b7FQdbl-BR",
        "outputId": "60ab7d0a-0364-45fb-f3b9-2692278f1b86"
      },
      "execution_count": null,
      "outputs": [
        {
          "output_type": "execute_result",
          "data": {
            "text/plain": [
              "array([-0.81392343, -0.81392343, -2.44330311, -2.06659276, -3.82283079])"
            ]
          },
          "metadata": {},
          "execution_count": 178
        }
      ]
    },
    {
      "cell_type": "markdown",
      "source": [
        "Also check nanmax, nanargmax, nanmin, nanargmin, etc."
      ],
      "metadata": {
        "id": "cv2k_MNkj1fu"
      }
    },
    {
      "cell_type": "markdown",
      "source": [
        "# There are useful functions that generate arrays we often need to build\n",
        "\n",
        "## ones\n",
        "## zeros\n",
        "## empty\n",
        "## eye, identity\n",
        "\n"
      ],
      "metadata": {
        "id": "ZFnvNw6fmdOZ"
      }
    },
    {
      "cell_type": "code",
      "source": [
        "np.ones((3,3))"
      ],
      "metadata": {
        "colab": {
          "base_uri": "https://localhost:8080/"
        },
        "id": "NbexuxmRlTA1",
        "outputId": "b8bb2100-348c-4fb7-e7ec-8ebba8417c94"
      },
      "execution_count": null,
      "outputs": [
        {
          "output_type": "execute_result",
          "data": {
            "text/plain": [
              "array([[1., 1., 1.],\n",
              "       [1., 1., 1.],\n",
              "       [1., 1., 1.]])"
            ]
          },
          "metadata": {},
          "execution_count": 46
        }
      ]
    },
    {
      "cell_type": "code",
      "source": [
        "np.zeros((3,3))"
      ],
      "metadata": {
        "colab": {
          "base_uri": "https://localhost:8080/"
        },
        "id": "o0XJeh1tnAlq",
        "outputId": "b146678d-0e28-4cda-9717-2ee88eba83f7"
      },
      "execution_count": null,
      "outputs": [
        {
          "output_type": "execute_result",
          "data": {
            "text/plain": [
              "array([[0., 0., 0.],\n",
              "       [0., 0., 0.],\n",
              "       [0., 0., 0.]])"
            ]
          },
          "metadata": {},
          "execution_count": 47
        }
      ]
    },
    {
      "cell_type": "code",
      "source": [
        "np.empty((2,2))"
      ],
      "metadata": {
        "colab": {
          "base_uri": "https://localhost:8080/"
        },
        "id": "oggMU_8XnLRy",
        "outputId": "d5f7ac7f-929d-4d68-821e-854559c348ac"
      },
      "execution_count": null,
      "outputs": [
        {
          "output_type": "execute_result",
          "data": {
            "text/plain": [
              "array([[-1.66321233, -1.409716  ],\n",
              "       [ 0.79207063, -0.54474114]])"
            ]
          },
          "metadata": {},
          "execution_count": 48
        }
      ]
    },
    {
      "cell_type": "code",
      "source": [
        "np.eye(5)"
      ],
      "metadata": {
        "colab": {
          "base_uri": "https://localhost:8080/"
        },
        "id": "OGqGNjPRnQ06",
        "outputId": "0697840e-aef2-44bc-a3cf-e8dd03057364"
      },
      "execution_count": null,
      "outputs": [
        {
          "output_type": "execute_result",
          "data": {
            "text/plain": [
              "array([[1., 0., 0., 0., 0.],\n",
              "       [0., 1., 0., 0., 0.],\n",
              "       [0., 0., 1., 0., 0.],\n",
              "       [0., 0., 0., 1., 0.],\n",
              "       [0., 0., 0., 0., 1.]])"
            ]
          },
          "metadata": {},
          "execution_count": 49
        }
      ]
    },
    {
      "cell_type": "markdown",
      "source": [
        "## Reshaping arrays\n",
        "You can reshape or resize ndarray objects. Reshape function provides another view on the same data points, whereas Resize function produces a new object.\n"
      ],
      "metadata": {
        "id": "N733_n_wjUcw"
      }
    },
    {
      "cell_type": "code",
      "source": [
        "X = np.arange(16)"
      ],
      "metadata": {
        "id": "UzyrYVbynfIe"
      },
      "execution_count": null,
      "outputs": []
    },
    {
      "cell_type": "code",
      "source": [
        "X"
      ],
      "metadata": {
        "colab": {
          "base_uri": "https://localhost:8080/"
        },
        "id": "ND4Dg4mskAmM",
        "outputId": "98f367f9-0a79-4769-af6f-13c0e1f5c8d4"
      },
      "execution_count": null,
      "outputs": [
        {
          "output_type": "execute_result",
          "data": {
            "text/plain": [
              "array([ 0,  1,  2,  3,  4,  5,  6,  7,  8,  9, 10, 11, 12, 13, 14, 15])"
            ]
          },
          "metadata": {},
          "execution_count": 180
        }
      ]
    },
    {
      "cell_type": "code",
      "source": [
        "X[1] =20 # Remeber, you can modify some elements in array.\n",
        "X"
      ],
      "metadata": {
        "colab": {
          "base_uri": "https://localhost:8080/"
        },
        "id": "szQABceOkHgX",
        "outputId": "adb496b8-b755-4eb8-d26b-4b3c84d436be"
      },
      "execution_count": null,
      "outputs": [
        {
          "output_type": "execute_result",
          "data": {
            "text/plain": [
              "array([ 0, 20,  2,  3,  4,  5,  6,  7,  8,  9, 10, 11, 12, 13, 14, 15])"
            ]
          },
          "metadata": {},
          "execution_count": 181
        }
      ]
    },
    {
      "cell_type": "code",
      "source": [
        "X.shape"
      ],
      "metadata": {
        "colab": {
          "base_uri": "https://localhost:8080/"
        },
        "id": "wKA82AEXks5i",
        "outputId": "eb80811a-cd5c-4ff7-a22f-d1694d36e4cb"
      },
      "execution_count": null,
      "outputs": [
        {
          "output_type": "execute_result",
          "data": {
            "text/plain": [
              "(16,)"
            ]
          },
          "metadata": {},
          "execution_count": 182
        }
      ]
    },
    {
      "cell_type": "code",
      "source": [
        "X = np.reshape(X,(2,8))\n",
        "X"
      ],
      "metadata": {
        "colab": {
          "base_uri": "https://localhost:8080/"
        },
        "id": "cu8XlGahqh5f",
        "outputId": "ece19e37-bd1a-489b-9e54-15009c84318f"
      },
      "execution_count": null,
      "outputs": [
        {
          "output_type": "execute_result",
          "data": {
            "text/plain": [
              "array([[ 0, 20,  2,  3,  4,  5,  6,  7],\n",
              "       [ 8,  9, 10, 11, 12, 13, 14, 15]])"
            ]
          },
          "metadata": {},
          "execution_count": 183
        }
      ]
    },
    {
      "cell_type": "code",
      "source": [
        "X2 = np.resize(X,(3,3))\n",
        "X2"
      ],
      "metadata": {
        "colab": {
          "base_uri": "https://localhost:8080/"
        },
        "id": "F3u4jqsHlcf6",
        "outputId": "f1b4f006-e993-49fe-ac5b-c1a8b36e6917"
      },
      "execution_count": null,
      "outputs": [
        {
          "output_type": "execute_result",
          "data": {
            "text/plain": [
              "array([[ 0, 20,  2],\n",
              "       [ 3,  4,  5],\n",
              "       [ 6,  7,  8]])"
            ]
          },
          "metadata": {},
          "execution_count": 184
        }
      ]
    },
    {
      "cell_type": "code",
      "source": [
        "X3 = np.resize(X,(2,5))\n",
        "X3"
      ],
      "metadata": {
        "colab": {
          "base_uri": "https://localhost:8080/"
        },
        "id": "2ryD7SBQl0Gc",
        "outputId": "8d1010db-23aa-4ec3-c353-a2f4a08e4d46"
      },
      "execution_count": null,
      "outputs": [
        {
          "output_type": "execute_result",
          "data": {
            "text/plain": [
              "array([[ 0, 20,  2,  3,  4],\n",
              "       [ 5,  6,  7,  8,  9]])"
            ]
          },
          "metadata": {},
          "execution_count": 185
        }
      ]
    },
    {
      "cell_type": "code",
      "source": [
        "X4 = np.resize(X,(5,5))\n",
        "X4"
      ],
      "metadata": {
        "colab": {
          "base_uri": "https://localhost:8080/"
        },
        "id": "nB4M7AbWmDsy",
        "outputId": "2a2792f6-bcc1-46cc-809a-0a5c4e7e8179"
      },
      "execution_count": null,
      "outputs": [
        {
          "output_type": "execute_result",
          "data": {
            "text/plain": [
              "array([[ 0, 20,  2,  3,  4],\n",
              "       [ 5,  6,  7,  8,  9],\n",
              "       [10, 11, 12, 13, 14],\n",
              "       [15,  0, 20,  2,  3],\n",
              "       [ 4,  5,  6,  7,  8]])"
            ]
          },
          "metadata": {},
          "execution_count": 186
        }
      ]
    },
    {
      "cell_type": "markdown",
      "source": [
        "# Linear algebra functions\n",
        "\n",
        "Note: Not all, but some functions use the following format (numpy.linalg.XXX)\n",
        "\n",
        "## T or transpose\n",
        "## diag\n",
        "## triu, tril\n",
        "## linalg.svd\n",
        "\n",
        "## lstsq\n",
        "## cholesky\n",
        "## det\n",
        "## eig\n",
        "## inv\n",
        "## trace\n",
        "## kron\n",
        "## matrix_rank"
      ],
      "metadata": {
        "id": "9PgR2-DVqKgE"
      }
    },
    {
      "cell_type": "code",
      "source": [
        "X"
      ],
      "metadata": {
        "colab": {
          "base_uri": "https://localhost:8080/"
        },
        "id": "9trlqJ-DwyV9",
        "outputId": "0e5d3e97-88c6-4b90-a1a2-e1993b6a1cfa"
      },
      "execution_count": null,
      "outputs": [
        {
          "output_type": "execute_result",
          "data": {
            "text/plain": [
              "array([[ 0, 20,  2,  3,  4,  5,  6,  7],\n",
              "       [ 8,  9, 10, 11, 12, 13, 14, 15]])"
            ]
          },
          "metadata": {},
          "execution_count": 58
        }
      ]
    },
    {
      "cell_type": "code",
      "source": [
        "X.T # transpose"
      ],
      "metadata": {
        "colab": {
          "base_uri": "https://localhost:8080/"
        },
        "id": "mMycI-Ttk6zw",
        "outputId": "e54ebbdc-f959-4b67-bcd4-2a6c71695792"
      },
      "execution_count": null,
      "outputs": [
        {
          "output_type": "execute_result",
          "data": {
            "text/plain": [
              "array([[ 0,  8],\n",
              "       [20,  9],\n",
              "       [ 2, 10],\n",
              "       [ 3, 11],\n",
              "       [ 4, 12],\n",
              "       [ 5, 13],\n",
              "       [ 6, 14],\n",
              "       [ 7, 15]])"
            ]
          },
          "metadata": {},
          "execution_count": 59
        }
      ]
    },
    {
      "cell_type": "code",
      "source": [
        "#Alternatively,\n",
        "X.transpose()"
      ],
      "metadata": {
        "colab": {
          "base_uri": "https://localhost:8080/"
        },
        "id": "GpeV7awLlL-D",
        "outputId": "736c04ab-f926-41ff-ec00-3b312e8c11a6"
      },
      "execution_count": null,
      "outputs": [
        {
          "output_type": "execute_result",
          "data": {
            "text/plain": [
              "array([[ 0,  8],\n",
              "       [20,  9],\n",
              "       [ 2, 10],\n",
              "       [ 3, 11],\n",
              "       [ 4, 12],\n",
              "       [ 5, 13],\n",
              "       [ 6, 14],\n",
              "       [ 7, 15]])"
            ]
          },
          "metadata": {},
          "execution_count": 60
        }
      ]
    },
    {
      "cell_type": "code",
      "source": [
        "np.diag(X4) # Diagonal elements"
      ],
      "metadata": {
        "colab": {
          "base_uri": "https://localhost:8080/"
        },
        "id": "_-qc8cMlqkPl",
        "outputId": "3d176996-4574-444c-85a3-f1af1690eed6"
      },
      "execution_count": null,
      "outputs": [
        {
          "output_type": "execute_result",
          "data": {
            "text/plain": [
              "array([ 0,  6, 12,  2,  8])"
            ]
          },
          "metadata": {},
          "execution_count": 61
        }
      ]
    },
    {
      "cell_type": "code",
      "source": [],
      "metadata": {
        "id": "cFGXLPdplVOR"
      },
      "execution_count": null,
      "outputs": []
    },
    {
      "cell_type": "code",
      "source": [
        "np.triu(X4) #Upper triangular matrix"
      ],
      "metadata": {
        "colab": {
          "base_uri": "https://localhost:8080/"
        },
        "id": "n1w9N0atqqVh",
        "outputId": "58ff3660-6de1-4143-f4a9-a1c3205a40d4"
      },
      "execution_count": null,
      "outputs": [
        {
          "output_type": "execute_result",
          "data": {
            "text/plain": [
              "array([[ 0, 20,  2,  3,  4],\n",
              "       [ 0,  6,  7,  8,  9],\n",
              "       [ 0,  0, 12, 13, 14],\n",
              "       [ 0,  0,  0,  2,  3],\n",
              "       [ 0,  0,  0,  0,  8]])"
            ]
          },
          "metadata": {},
          "execution_count": 62
        }
      ]
    },
    {
      "cell_type": "code",
      "source": [
        "np.tril(X) #Lower triangular matrix"
      ],
      "metadata": {
        "colab": {
          "base_uri": "https://localhost:8080/"
        },
        "id": "sr5JrqxAqvXm",
        "outputId": "035c019e-0c30-41d8-cb90-39891418a6f2"
      },
      "execution_count": null,
      "outputs": [
        {
          "output_type": "execute_result",
          "data": {
            "text/plain": [
              "array([[0, 0, 0, 0, 0, 0, 0, 0],\n",
              "       [8, 9, 0, 0, 0, 0, 0, 0]])"
            ]
          },
          "metadata": {},
          "execution_count": 63
        }
      ]
    },
    {
      "cell_type": "code",
      "source": [
        "X = X.reshape((4,4))\n",
        "X"
      ],
      "metadata": {
        "colab": {
          "base_uri": "https://localhost:8080/"
        },
        "id": "6e7vHYADqzx8",
        "outputId": "ba79cf6c-1668-4d88-b433-626127f1e406"
      },
      "execution_count": null,
      "outputs": [
        {
          "output_type": "execute_result",
          "data": {
            "text/plain": [
              "array([[ 0, 20,  2,  3],\n",
              "       [ 4,  5,  6,  7],\n",
              "       [ 8,  9, 10, 11],\n",
              "       [12, 13, 14, 15]])"
            ]
          },
          "metadata": {},
          "execution_count": 64
        }
      ]
    },
    {
      "cell_type": "code",
      "source": [
        "y =np.reshape(np.random.randn(128,1),(32,4))"
      ],
      "metadata": {
        "id": "QQY4Gwcrq2A7"
      },
      "execution_count": null,
      "outputs": []
    },
    {
      "cell_type": "code",
      "source": [
        "u, s, vh = np.linalg.svd(y) # singular value decomposition X=USV'"
      ],
      "metadata": {
        "id": "KFrwIarYrxbT"
      },
      "execution_count": null,
      "outputs": []
    },
    {
      "cell_type": "code",
      "source": [
        "np.size(u)"
      ],
      "metadata": {
        "colab": {
          "base_uri": "https://localhost:8080/"
        },
        "id": "is1LGw9sryBS",
        "outputId": "f73cd785-5c7a-4805-e014-6e52ba3bbb1b"
      },
      "execution_count": null,
      "outputs": [
        {
          "output_type": "execute_result",
          "data": {
            "text/plain": [
              "1024"
            ]
          },
          "metadata": {},
          "execution_count": 67
        }
      ]
    },
    {
      "cell_type": "code",
      "source": [
        "s"
      ],
      "metadata": {
        "colab": {
          "base_uri": "https://localhost:8080/"
        },
        "id": "sbnvKTc9slP0",
        "outputId": "4c367a58-1e2b-49f5-f869-44c1e3ba92ac"
      },
      "execution_count": null,
      "outputs": [
        {
          "output_type": "execute_result",
          "data": {
            "text/plain": [
              "array([6.56860286, 6.26391178, 5.90154329, 4.16672781])"
            ]
          },
          "metadata": {},
          "execution_count": 68
        }
      ]
    },
    {
      "cell_type": "code",
      "source": [
        "vh"
      ],
      "metadata": {
        "colab": {
          "base_uri": "https://localhost:8080/"
        },
        "id": "aFlpmbghsl7d",
        "outputId": "50abb099-15f7-4089-df8a-a5b4cd88f236"
      },
      "execution_count": null,
      "outputs": [
        {
          "output_type": "execute_result",
          "data": {
            "text/plain": [
              "array([[ 0.48711622,  0.19719861,  0.78475115, -0.32862763],\n",
              "       [-0.68042771,  0.2712934 ,  0.53203218,  0.42468787],\n",
              "       [-0.44103396, -0.68017232,  0.21692482, -0.54387342],\n",
              "       [ 0.32438399, -0.65182683,  0.23248875,  0.64486107]])"
            ]
          },
          "metadata": {},
          "execution_count": 69
        }
      ]
    },
    {
      "cell_type": "code",
      "source": [
        "x = np.array([[1,.5],[.5,1]])\n",
        "x"
      ],
      "metadata": {
        "id": "mfEGKD1usmjy",
        "colab": {
          "base_uri": "https://localhost:8080/"
        },
        "outputId": "72b9a7da-d051-419e-bd4c-a54eacacd201"
      },
      "execution_count": null,
      "outputs": [
        {
          "output_type": "execute_result",
          "data": {
            "text/plain": [
              "array([[1. , 0.5],\n",
              "       [0.5, 1. ]])"
            ]
          },
          "metadata": {},
          "execution_count": 70
        }
      ]
    },
    {
      "cell_type": "code",
      "source": [
        "xInv = np.linalg.inv(x) #Inverse matrix"
      ],
      "metadata": {
        "id": "9-yJHU0z6CRL"
      },
      "execution_count": null,
      "outputs": []
    },
    {
      "cell_type": "code",
      "source": [
        "xInv"
      ],
      "metadata": {
        "colab": {
          "base_uri": "https://localhost:8080/"
        },
        "id": "k6EE7dJk6HcP",
        "outputId": "518620b8-2ab8-48fb-d678-6c7532d0b478"
      },
      "execution_count": null,
      "outputs": [
        {
          "output_type": "execute_result",
          "data": {
            "text/plain": [
              "array([[ 1.33333333, -0.66666667],\n",
              "       [-0.66666667,  1.33333333]])"
            ]
          },
          "metadata": {},
          "execution_count": 72
        }
      ]
    },
    {
      "cell_type": "markdown",
      "source": [
        "# An Example using Numpy: Regression"
      ],
      "metadata": {
        "id": "ZzDlXdhFnnFE"
      }
    },
    {
      "cell_type": "markdown",
      "source": [
        "Let's take a look at the following linear equation system.\n",
        "\n",
        "\\begin{align}\n",
        " b_1 + b_2 = 5 \\\\\n",
        " b_1 + b_2 = 3 \\\\\n",
        " b_1 + b_2 = 7 \\\\\n",
        " b_2 = 1\n",
        " \\end{align}\n",
        "\n",
        "In matrix form,\n",
        "\n",
        "\\begin{equation*}\n",
        "\\begin{bmatrix}\n",
        "1 & 1 \\\\\n",
        "1 & 1 \\\\\n",
        "1 & 1 \\\\\n",
        "0 & 1\n",
        "\\end{bmatrix}\n",
        "\\begin{bmatrix}\n",
        "b_1 \\\\\n",
        "b_2 \\\\\n",
        "\\end{bmatrix} =\n",
        "\\begin{bmatrix}\n",
        "5 \\\\\n",
        "3 \\\\\n",
        "7 \\\\\n",
        "1\n",
        "\\end{bmatrix}\n",
        "\\end{equation*}\n",
        "or\n",
        "$Xb = y$\n",
        "\n",
        "As you can see, this system has no solutions. But what if we think of $X$ as input data and $y$ as outcome data. For instance, the first column of $X$ is an indicator that shows whether a company pay makes positive profits, and the second column of $X$ indicates if the company pays dividend. Suppose that $y$ is the current stock price of the four companies.\n",
        "\n",
        "The dimension of $X$ is $4 \\times 2$. So, we can reduce the dimension by multiplying both sides by $X^T$ (transpose):\n",
        "\n",
        "\\begin{align}\n",
        "X^T X b = X^T y ⟹ b = (X^T X)^{-1} X^T y\n",
        "\\end{align}\n",
        "\n",
        "This is the punchline of regression, which is a form of projection to find a solution from this type of equation systems.\n",
        "\n",
        "Let's code this in the below."
      ],
      "metadata": {
        "id": "tj6nXsZSnviL"
      }
    },
    {
      "cell_type": "code",
      "source": [
        "X = np.array([1,1,1,1,1,1,0,1])"
      ],
      "metadata": {
        "id": "uFNF7fnCtPZP"
      },
      "execution_count": null,
      "outputs": []
    },
    {
      "cell_type": "code",
      "source": [
        "X = np.reshape(X,(4,2)) # Alternatively, X = X.reshape([4,2])\n",
        "X"
      ],
      "metadata": {
        "colab": {
          "base_uri": "https://localhost:8080/"
        },
        "id": "Yro203KVtcHZ",
        "outputId": "e53baa26-b73f-4976-91ca-3d4dcd6fee21"
      },
      "execution_count": null,
      "outputs": [
        {
          "output_type": "execute_result",
          "data": {
            "text/plain": [
              "array([[1, 1],\n",
              "       [1, 1],\n",
              "       [1, 1],\n",
              "       [0, 1]])"
            ]
          },
          "metadata": {},
          "execution_count": 188
        }
      ]
    },
    {
      "cell_type": "code",
      "source": [
        "y = np.array([5,3,7,1])\n",
        "y = y.reshape([4,1])\n",
        "y"
      ],
      "metadata": {
        "colab": {
          "base_uri": "https://localhost:8080/"
        },
        "id": "1snoMsUCtubH",
        "outputId": "bb649e28-6935-4a94-8261-2ba010cb4bb3"
      },
      "execution_count": null,
      "outputs": [
        {
          "output_type": "execute_result",
          "data": {
            "text/plain": [
              "array([[5],\n",
              "       [3],\n",
              "       [7],\n",
              "       [1]])"
            ]
          },
          "metadata": {},
          "execution_count": 189
        }
      ]
    },
    {
      "cell_type": "markdown",
      "source": [
        "Because it is annoying to keep using np.linalg.inv if we need to keep using the inverse function, we can use 'from numpy.linalg import inv'."
      ],
      "metadata": {
        "id": "6iTgzMUCuPQp"
      }
    },
    {
      "cell_type": "code",
      "source": [
        "from numpy.linalg import inv\n",
        "\n",
        "b = inv(X.T @ X) @ (X.T @ y)\n",
        "\n",
        "print(b)"
      ],
      "metadata": {
        "colab": {
          "base_uri": "https://localhost:8080/"
        },
        "id": "LoFt98DouEFv",
        "outputId": "1ed5a1ec-6cef-4e21-edd9-1ed016a228ec"
      },
      "execution_count": null,
      "outputs": [
        {
          "output_type": "stream",
          "name": "stdout",
          "text": [
            "[[4.]\n",
            " [1.]]\n"
          ]
        }
      ]
    },
    {
      "cell_type": "markdown",
      "source": [
        "# An Example with Numpy: Black-Scholes Model of European Option Pricing (Monte Carlo Simulation Method)\n",
        "The underlying stock (asset) price at time $T$ is described by the following equation:\n",
        "\n",
        "$ S_T = S_0 exp \\left( (r- \\frac{1}{2}\\sigma^2)T + \\sigma \\sqrt{T} z \\right)$, where $z$ is the standard Brownian motion under a risk-neutral ($Q$) measure, and $r$ is the constant risk-free rate.\n",
        "\n",
        "Then, a derivate asset such as an European call option value today (time $0$) with strike price $K$ and an expiry ($T$) under the no-arbitrage condition is\n",
        "\n",
        "\\begin{equation}\n",
        "C_0 = e^{-rT} E_0^Q \\left( max(S_{T}-K,0)\\right)\n",
        "\\end{equation}"
      ],
      "metadata": {
        "id": "ZsTjvGuqE3kQ"
      }
    },
    {
      "cell_type": "markdown",
      "source": [
        "There are several ways to solve the above problem but a simulation-based method uses the ideas that i) the expectation value is analogous to the sample average (analogy principle), and ii) the computer can simulate many sample paths to comput such averages. That is, we simulate $S$ up to time $T$ for $I$ times then compute the average with the option payoff:\n",
        "\n",
        "\\begin{equation}\n",
        "C_0 \\approx e^{-rT} \\frac{1}{I} \\sum_{i=1}^{I}( max(S_{T}(i)-K,0))\n",
        "\\end{equation}\n",
        "\n"
      ],
      "metadata": {
        "id": "B4QWamlMuLdt"
      }
    },
    {
      "cell_type": "code",
      "source": [
        "from math import sqrt, log\n",
        "\n",
        "# Parameters\n",
        "S0 = 100.0;\n",
        "K = 101.0;\n",
        "T = 1.0;\n",
        "r = 0.02;\n",
        "sigma = 0.15;\n",
        "\n",
        "I=5*10**5;\n",
        "\n",
        "z= np.random.standard_normal(I)\n",
        "\n",
        "ST = S0*np.exp((r-0.5*sigma ** 2)*T+sigma*sqrt(T)*z)\n",
        "\n",
        "hT = np.maximum(ST-K,0)\n",
        "\n",
        "C0= np.exp(-r*T)*np.mean(hT)\n",
        "\n",
        "print('Value of the European Call option %5.3f.' % C0)\n",
        "\n"
      ],
      "metadata": {
        "colab": {
          "base_uri": "https://localhost:8080/"
        },
        "id": "MvXuAtx5EIj8",
        "outputId": "cfe635f3-7840-478b-dd4c-f1168a7aaa3a"
      },
      "execution_count": null,
      "outputs": [
        {
          "output_type": "stream",
          "name": "stdout",
          "text": [
            "Value of the European Call option 6.449.\n"
          ]
        }
      ]
    },
    {
      "cell_type": "markdown",
      "source": [
        "Compare with the actual formula"
      ],
      "metadata": {
        "id": "BWVjY8czEtnx"
      }
    },
    {
      "cell_type": "code",
      "source": [
        "from scipy.stats import norm\n",
        "\n",
        "# S is stock price\n",
        "# K is strike price\n",
        "# T is maturity\n",
        "# r is continuously compounded rate\n",
        "# sigma is the volatility of stock price\n",
        "def call(S, K, T, r, sigma):\n",
        "    cdf = norm.cdf\n",
        "    d1 = (log(S/K) + (r + sigma**2 / 2.)*T) / (sigma * sqrt(T))\n",
        "    d2 = d1 - sigma * sqrt(T)\n",
        "    return S * cdf(d1) - K * np.exp(- r * T) * cdf(d2)\n",
        "\n",
        "def main():\n",
        "    print(call(100, 101, 1.0, 0.02, 0.15))"
      ],
      "metadata": {
        "id": "jK4iT-CBEx9i"
      },
      "execution_count": null,
      "outputs": []
    },
    {
      "cell_type": "code",
      "source": [
        "main()"
      ],
      "metadata": {
        "colab": {
          "base_uri": "https://localhost:8080/"
        },
        "id": "1UZvYNyqEz1L",
        "outputId": "ee929e26-13b5-470e-d512-d8461dae321c"
      },
      "execution_count": null,
      "outputs": [
        {
          "output_type": "stream",
          "name": "stdout",
          "text": [
            "6.461925840199832\n"
          ]
        }
      ]
    },
    {
      "cell_type": "markdown",
      "source": [
        "Question: Can we use the same method to price Americal-style derivatives in which exercise timing is also to be chosen?\n",
        "\n"
      ],
      "metadata": {
        "id": "6-kZ2pBfcugG"
      }
    },
    {
      "cell_type": "markdown",
      "source": [
        "\\begin{equation}\n",
        "V_0 = sup_{\\tau \\in \\{0,\\Delta t, 2 \\Delta t,...,T \\}} e^{-rT} E_0^Q \\left( F_{\\tau}(S_{\\tau})\\right)\n",
        "\\end{equation}\n",
        "\n",
        " After all, we can think recursively of the structure of this problem by solving backwards.\n",
        "\n",
        "At each given point of time $t$ and the price of the underlying asset $s$,\n",
        "\n",
        "\\begin{equation}\n",
        "V_t(s) = max (F_t(s),C_t(s)),\n",
        "\\end{equation}\n",
        "where $C_t(s) = E_t^Q(e^{-r \\Delta t} V_{t+\\Delta t}(S_{t+\\Delta t})|S_t=s)$ is the continuation value of the option given $S_t = s$\n",
        "\n",
        "Let's try solving for this after we learn function and loops.\n",
        "\n"
      ],
      "metadata": {
        "id": "lJxFUAQcePEL"
      }
    },
    {
      "cell_type": "markdown",
      "source": [
        "Question: Can we extend the above model to include a stochastic and time-varying volatility? e.g., Heston model or k-regime volatility model\n",
        "\n",
        "Yes. We can try an intuitive one. For instance, there are two possible volatility values $\\sigma_{low}$ and $\\sigma_{high}$ with the latter being higher than the former. In most cases, stock volatility is low, but from time to time, volatility is high and persistent for a while.\n",
        "\n"
      ],
      "metadata": {
        "id": "HEuD1tpnV5OP"
      }
    },
    {
      "cell_type": "code",
      "source": [],
      "metadata": {
        "id": "8ycTTwQPb_H1"
      },
      "execution_count": null,
      "outputs": []
    },
    {
      "cell_type": "markdown",
      "source": [
        "# Pandas\n",
        "\n",
        "## Data Structures\n",
        "\n",
        "- Series, DataFrames, and Panels\n",
        "- A Series behaves similar to a NumPy array.\n",
        "- We can set up a Series via a list, tuple, array, or a dictionary.\n",
        "- A Series has another column, called an index, which makes important differnces.\n"
      ],
      "metadata": {
        "id": "QrsQyW_V9QVz"
      }
    },
    {
      "cell_type": "code",
      "source": [
        "import pandas as pd"
      ],
      "metadata": {
        "id": "wfPeV99v6Q_P"
      },
      "execution_count": null,
      "outputs": []
    },
    {
      "cell_type": "code",
      "source": [
        "a = np.array([0.1, 1.2, 2.3, 3.4, 4.5])\n",
        "a"
      ],
      "metadata": {
        "colab": {
          "base_uri": "https://localhost:8080/"
        },
        "id": "4Xvos3QVDKp1",
        "outputId": "d2a58c44-7132-4b96-be27-a4a3fe1c5550"
      },
      "execution_count": null,
      "outputs": [
        {
          "output_type": "execute_result",
          "data": {
            "text/plain": [
              "array([0.1, 1.2, 2.3, 3.4, 4.5])"
            ]
          },
          "metadata": {},
          "execution_count": 81
        }
      ]
    },
    {
      "cell_type": "code",
      "source": [
        "s=pd.Series(a)\n",
        "s"
      ],
      "metadata": {
        "colab": {
          "base_uri": "https://localhost:8080/"
        },
        "id": "xWF5jDAwDnzv",
        "outputId": "52ec6f04-bf7c-4762-e110-4ef30e82a062"
      },
      "execution_count": null,
      "outputs": [
        {
          "output_type": "execute_result",
          "data": {
            "text/plain": [
              "0    0.1\n",
              "1    1.2\n",
              "2    2.3\n",
              "3    3.4\n",
              "4    4.5\n",
              "dtype: float64"
            ]
          },
          "metadata": {},
          "execution_count": 82
        }
      ]
    },
    {
      "cell_type": "code",
      "source": [
        "s = pd.Series([0.1, 1.2, 2.3, 3.4, 4.5], index = ['a','b','c','d','e'])"
      ],
      "metadata": {
        "id": "lw77ZVHADsuF"
      },
      "execution_count": null,
      "outputs": []
    },
    {
      "cell_type": "code",
      "source": [
        "s"
      ],
      "metadata": {
        "colab": {
          "base_uri": "https://localhost:8080/"
        },
        "id": "fACCy_BQEvKy",
        "outputId": "47b98125-b4dc-4ad8-d5b3-99a3bc6c2dad"
      },
      "execution_count": null,
      "outputs": [
        {
          "output_type": "execute_result",
          "data": {
            "text/plain": [
              "a    0.1\n",
              "b    1.2\n",
              "c    2.3\n",
              "d    3.4\n",
              "e    4.5\n",
              "dtype: float64"
            ]
          },
          "metadata": {},
          "execution_count": 84
        }
      ]
    },
    {
      "cell_type": "code",
      "source": [
        "s['a']"
      ],
      "metadata": {
        "colab": {
          "base_uri": "https://localhost:8080/"
        },
        "id": "piZOTHUsEyoJ",
        "outputId": "2c65c755-d261-4a1d-ff32-170b7217f2e2"
      },
      "execution_count": null,
      "outputs": [
        {
          "output_type": "execute_result",
          "data": {
            "text/plain": [
              "0.1"
            ]
          },
          "metadata": {},
          "execution_count": 85
        }
      ]
    },
    {
      "cell_type": "code",
      "source": [
        "s[0]"
      ],
      "metadata": {
        "colab": {
          "base_uri": "https://localhost:8080/"
        },
        "id": "5MYpBeBNE8Os",
        "outputId": "576f4f96-af67-4779-e968-297bfa1ae70d"
      },
      "execution_count": null,
      "outputs": [
        {
          "output_type": "execute_result",
          "data": {
            "text/plain": [
              "0.1"
            ]
          },
          "metadata": {},
          "execution_count": 86
        }
      ]
    },
    {
      "cell_type": "code",
      "source": [
        "s.iloc[0]"
      ],
      "metadata": {
        "colab": {
          "base_uri": "https://localhost:8080/"
        },
        "id": "CZyXOdngE90b",
        "outputId": "23539714-a02e-4dc7-d9df-8e722513e31d"
      },
      "execution_count": null,
      "outputs": [
        {
          "output_type": "execute_result",
          "data": {
            "text/plain": [
              "0.1"
            ]
          },
          "metadata": {},
          "execution_count": 87
        }
      ]
    },
    {
      "cell_type": "code",
      "source": [
        "s.loc['a']"
      ],
      "metadata": {
        "colab": {
          "base_uri": "https://localhost:8080/"
        },
        "id": "XlMWvgyzFBdt",
        "outputId": "36f0a025-07eb-400b-e485-d7a970cc424d"
      },
      "execution_count": null,
      "outputs": [
        {
          "output_type": "execute_result",
          "data": {
            "text/plain": [
              "0.1"
            ]
          },
          "metadata": {},
          "execution_count": 88
        }
      ]
    },
    {
      "cell_type": "code",
      "source": [
        "s[['a','d']]"
      ],
      "metadata": {
        "colab": {
          "base_uri": "https://localhost:8080/"
        },
        "id": "6aCRbJ_KFDiC",
        "outputId": "3819906c-476d-498a-e753-f3e2c369baaa"
      },
      "execution_count": null,
      "outputs": [
        {
          "output_type": "execute_result",
          "data": {
            "text/plain": [
              "a    0.1\n",
              "d    3.4\n",
              "dtype: float64"
            ]
          },
          "metadata": {},
          "execution_count": 89
        }
      ]
    },
    {
      "cell_type": "code",
      "source": [
        "s.iloc[:3]"
      ],
      "metadata": {
        "colab": {
          "base_uri": "https://localhost:8080/"
        },
        "id": "W3wDbAd9FKLj",
        "outputId": "05ecb621-d3dd-4e1f-e61d-d64a68e1ee13"
      },
      "execution_count": null,
      "outputs": [
        {
          "output_type": "execute_result",
          "data": {
            "text/plain": [
              "a    0.1\n",
              "b    1.2\n",
              "c    2.3\n",
              "dtype: float64"
            ]
          },
          "metadata": {},
          "execution_count": 90
        }
      ]
    },
    {
      "cell_type": "code",
      "source": [
        "s.loc[['a','d']]"
      ],
      "metadata": {
        "colab": {
          "base_uri": "https://localhost:8080/"
        },
        "id": "8PsCpkt8FUXt",
        "outputId": "63466e2f-377a-4876-9178-e5fababcf022"
      },
      "execution_count": null,
      "outputs": [
        {
          "output_type": "execute_result",
          "data": {
            "text/plain": [
              "a    0.1\n",
              "d    3.4\n",
              "dtype: float64"
            ]
          },
          "metadata": {},
          "execution_count": 91
        }
      ]
    },
    {
      "cell_type": "code",
      "source": [
        "s.iloc[[0,3]]"
      ],
      "metadata": {
        "colab": {
          "base_uri": "https://localhost:8080/"
        },
        "id": "nySQqIRZFawF",
        "outputId": "4f432fd9-3fa4-4aad-e3b9-1d3c3b69a4ff"
      },
      "execution_count": null,
      "outputs": [
        {
          "output_type": "execute_result",
          "data": {
            "text/plain": [
              "a    0.1\n",
              "d    3.4\n",
              "dtype: float64"
            ]
          },
          "metadata": {},
          "execution_count": 92
        }
      ]
    },
    {
      "cell_type": "code",
      "source": [
        "s1 = pd.Series([0.1, 1.2, 2.3, 3.4, 4.5], index = ['a','b','c','a','b'])"
      ],
      "metadata": {
        "id": "9aI4BOz8FwGE"
      },
      "execution_count": null,
      "outputs": []
    },
    {
      "cell_type": "code",
      "source": [
        "s1.loc['a']"
      ],
      "metadata": {
        "colab": {
          "base_uri": "https://localhost:8080/"
        },
        "id": "njtCWpiFGJC6",
        "outputId": "d3c3ccd0-64d1-4a7b-b937-b260131429bd"
      },
      "execution_count": null,
      "outputs": [
        {
          "output_type": "execute_result",
          "data": {
            "text/plain": [
              "a    0.1\n",
              "a    3.4\n",
              "dtype: float64"
            ]
          },
          "metadata": {},
          "execution_count": 94
        }
      ]
    },
    {
      "cell_type": "code",
      "source": [
        "s1.describe() # Create summary statistics"
      ],
      "metadata": {
        "colab": {
          "base_uri": "https://localhost:8080/"
        },
        "id": "2mIV3wysGRsh",
        "outputId": "19b8e30b-81d2-4d30-cab9-16e73f961338"
      },
      "execution_count": null,
      "outputs": [
        {
          "output_type": "execute_result",
          "data": {
            "text/plain": [
              "count    5.000000\n",
              "mean     2.300000\n",
              "std      1.739253\n",
              "min      0.100000\n",
              "25%      1.200000\n",
              "50%      2.300000\n",
              "75%      3.400000\n",
              "max      4.500000\n",
              "dtype: float64"
            ]
          },
          "metadata": {},
          "execution_count": 95
        }
      ]
    },
    {
      "cell_type": "code",
      "source": [
        "s2 = pd.Series(np.arange(1.0,4.0),index=['a','b','c'])\n",
        "s2"
      ],
      "metadata": {
        "colab": {
          "base_uri": "https://localhost:8080/"
        },
        "id": "xSwUFuLcLsIa",
        "outputId": "3d715b07-49d1-4139-ed64-2329f175fc06"
      },
      "execution_count": null,
      "outputs": [
        {
          "output_type": "execute_result",
          "data": {
            "text/plain": [
              "a    1.0\n",
              "b    2.0\n",
              "c    3.0\n",
              "dtype: float64"
            ]
          },
          "metadata": {},
          "execution_count": 96
        }
      ]
    },
    {
      "cell_type": "code",
      "source": [
        "s3 = pd.Series(np.arange(1.0,4.0),index=['c','d','e'])"
      ],
      "metadata": {
        "id": "Vs1JhGkdMwya"
      },
      "execution_count": null,
      "outputs": []
    },
    {
      "cell_type": "code",
      "source": [
        "s4 = s2 + s3"
      ],
      "metadata": {
        "id": "zSJtZ-5lM-MA"
      },
      "execution_count": null,
      "outputs": []
    },
    {
      "cell_type": "code",
      "source": [
        "s4"
      ],
      "metadata": {
        "colab": {
          "base_uri": "https://localhost:8080/"
        },
        "id": "rCpbD9bPNbMu",
        "outputId": "75f1af93-bac2-460a-bed9-5ce454fbaae2"
      },
      "execution_count": null,
      "outputs": [
        {
          "output_type": "execute_result",
          "data": {
            "text/plain": [
              "a    NaN\n",
              "b    NaN\n",
              "c    4.0\n",
              "d    NaN\n",
              "e    NaN\n",
              "dtype: float64"
            ]
          },
          "metadata": {},
          "execution_count": 99
        }
      ]
    },
    {
      "cell_type": "code",
      "source": [
        "s4.dropna()"
      ],
      "metadata": {
        "colab": {
          "base_uri": "https://localhost:8080/"
        },
        "id": "Yrlkbb4lNbzX",
        "outputId": "c096b1e7-38a8-43a8-f2e2-b772acacc685"
      },
      "execution_count": null,
      "outputs": [
        {
          "output_type": "execute_result",
          "data": {
            "text/plain": [
              "c    4.0\n",
              "dtype: float64"
            ]
          },
          "metadata": {},
          "execution_count": 100
        }
      ]
    },
    {
      "cell_type": "code",
      "source": [
        "# You can drop a specific element using drop()\n",
        "s4.drop('a')"
      ],
      "metadata": {
        "colab": {
          "base_uri": "https://localhost:8080/"
        },
        "id": "RodITWV3NiTg",
        "outputId": "4ca4476c-d7a2-44f5-95d1-4b58072b47b3"
      },
      "execution_count": null,
      "outputs": [
        {
          "output_type": "execute_result",
          "data": {
            "text/plain": [
              "b    NaN\n",
              "c    4.0\n",
              "d    NaN\n",
              "e    NaN\n",
              "dtype: float64"
            ]
          },
          "metadata": {},
          "execution_count": 101
        }
      ]
    },
    {
      "cell_type": "code",
      "source": [
        "s4.drop(['d','e'])"
      ],
      "metadata": {
        "colab": {
          "base_uri": "https://localhost:8080/"
        },
        "id": "uL7v1s4cOE4A",
        "outputId": "77445d75-5f5a-4d84-e048-b2c36b9e3409"
      },
      "execution_count": null,
      "outputs": [
        {
          "output_type": "execute_result",
          "data": {
            "text/plain": [
              "a    NaN\n",
              "b    NaN\n",
              "c    4.0\n",
              "dtype: float64"
            ]
          },
          "metadata": {},
          "execution_count": 102
        }
      ]
    },
    {
      "cell_type": "code",
      "source": [
        "# You can fill all null values in a series with a specific value\n",
        "\n",
        "s4.fillna(0.0)"
      ],
      "metadata": {
        "colab": {
          "base_uri": "https://localhost:8080/"
        },
        "id": "U4lqZXsVOKTv",
        "outputId": "2f6895d6-3725-434b-ba47-d3486fb0d73c"
      },
      "execution_count": null,
      "outputs": [
        {
          "output_type": "execute_result",
          "data": {
            "text/plain": [
              "a    0.0\n",
              "b    0.0\n",
              "c    4.0\n",
              "d    0.0\n",
              "e    0.0\n",
              "dtype: float64"
            ]
          },
          "metadata": {},
          "execution_count": 103
        }
      ]
    },
    {
      "cell_type": "code",
      "source": [
        "s4.append(pd.Series([5,4,3,2,1],index=['f','g','h','k','l']))"
      ],
      "metadata": {
        "colab": {
          "base_uri": "https://localhost:8080/"
        },
        "id": "NCE7pYl-OnU5",
        "outputId": "2f71001e-3679-451c-ab6d-5ea9082893dd"
      },
      "execution_count": null,
      "outputs": [
        {
          "output_type": "execute_result",
          "data": {
            "text/plain": [
              "a    NaN\n",
              "b    NaN\n",
              "c    4.0\n",
              "d    NaN\n",
              "e    NaN\n",
              "f    5.0\n",
              "g    4.0\n",
              "h    3.0\n",
              "k    2.0\n",
              "l    1.0\n",
              "dtype: float64"
            ]
          },
          "metadata": {},
          "execution_count": 104
        }
      ]
    },
    {
      "cell_type": "code",
      "source": [
        "# update\n",
        "\n",
        "s1 = pd.Series(np.arange(1.0,4.0),index=['a','b','c'])\n",
        "s1"
      ],
      "metadata": {
        "id": "SxC-F0pfOvGh",
        "colab": {
          "base_uri": "https://localhost:8080/"
        },
        "outputId": "4ac84bd5-e3aa-4346-a5a7-d34ee3e0391b"
      },
      "execution_count": null,
      "outputs": [
        {
          "output_type": "execute_result",
          "data": {
            "text/plain": [
              "a    1.0\n",
              "b    2.0\n",
              "c    3.0\n",
              "dtype: float64"
            ]
          },
          "metadata": {},
          "execution_count": 105
        }
      ]
    },
    {
      "cell_type": "code",
      "source": [
        "s2 = pd.Series(-1.0*np.arange(1.0,4.0),index=['c','d','e'])"
      ],
      "metadata": {
        "id": "_RtVQ-hlE8L-"
      },
      "execution_count": null,
      "outputs": []
    },
    {
      "cell_type": "code",
      "source": [
        "s1.update(s2)"
      ],
      "metadata": {
        "id": "RVzozy-BFJ1k"
      },
      "execution_count": null,
      "outputs": []
    },
    {
      "cell_type": "code",
      "source": [
        "s1"
      ],
      "metadata": {
        "colab": {
          "base_uri": "https://localhost:8080/"
        },
        "id": "Dc7L6qb5FtRY",
        "outputId": "8db2515b-8b3d-4b0c-c849-d45cf38e4324"
      },
      "execution_count": null,
      "outputs": [
        {
          "output_type": "execute_result",
          "data": {
            "text/plain": [
              "a    1.0\n",
              "b    2.0\n",
              "c   -1.0\n",
              "dtype: float64"
            ]
          },
          "metadata": {},
          "execution_count": 108
        }
      ]
    },
    {
      "cell_type": "markdown",
      "source": [
        "You can create a series using dictionaries."
      ],
      "metadata": {
        "id": "-LJsOY8AGLNw"
      }
    },
    {
      "cell_type": "code",
      "source": [
        "s = pd.Series({'a':0.1 ,'b': 1.2, 'c': 2.3, 'd':3.4, 'e': 4.5})"
      ],
      "metadata": {
        "id": "Mv-6bRawFygy"
      },
      "execution_count": null,
      "outputs": []
    },
    {
      "cell_type": "code",
      "source": [
        "s*3"
      ],
      "metadata": {
        "colab": {
          "base_uri": "https://localhost:8080/"
        },
        "id": "GgFfT2_zGSDl",
        "outputId": "3abbe525-eda4-4632-bacf-700376edd3b7"
      },
      "execution_count": null,
      "outputs": [
        {
          "output_type": "execute_result",
          "data": {
            "text/plain": [
              "a     0.3\n",
              "b     3.6\n",
              "c     6.9\n",
              "d    10.2\n",
              "e    13.5\n",
              "dtype: float64"
            ]
          },
          "metadata": {},
          "execution_count": 110
        }
      ]
    },
    {
      "cell_type": "code",
      "source": [
        "2*s-2"
      ],
      "metadata": {
        "colab": {
          "base_uri": "https://localhost:8080/"
        },
        "id": "-BlJ3MepGbdN",
        "outputId": "53f2d980-9040-46e9-84d0-b1deda295c33"
      },
      "execution_count": null,
      "outputs": [
        {
          "output_type": "execute_result",
          "data": {
            "text/plain": [
              "a   -1.8\n",
              "b    0.4\n",
              "c    2.6\n",
              "d    4.8\n",
              "e    7.0\n",
              "dtype: float64"
            ]
          },
          "metadata": {},
          "execution_count": 111
        }
      ]
    },
    {
      "cell_type": "code",
      "source": [
        "s1 = pd.Series(np.arange(10.0,20.0))"
      ],
      "metadata": {
        "id": "OybpjIJnGfOS"
      },
      "execution_count": null,
      "outputs": []
    },
    {
      "cell_type": "code",
      "source": [
        "s1.describe()"
      ],
      "metadata": {
        "colab": {
          "base_uri": "https://localhost:8080/"
        },
        "id": "U5vfdBgJOLpu",
        "outputId": "37ef2519-3387-4728-8eb6-2d1ad1534046"
      },
      "execution_count": null,
      "outputs": [
        {
          "output_type": "execute_result",
          "data": {
            "text/plain": [
              "count    10.00000\n",
              "mean     14.50000\n",
              "std       3.02765\n",
              "min      10.00000\n",
              "25%      12.25000\n",
              "50%      14.50000\n",
              "75%      16.75000\n",
              "max      19.00000\n",
              "dtype: float64"
            ]
          },
          "metadata": {},
          "execution_count": 113
        }
      ]
    },
    {
      "cell_type": "code",
      "source": [
        "sumstat = s1.describe()"
      ],
      "metadata": {
        "id": "5dnaOoZYOOo3"
      },
      "execution_count": null,
      "outputs": []
    },
    {
      "cell_type": "code",
      "source": [
        "sumstat['max']"
      ],
      "metadata": {
        "colab": {
          "base_uri": "https://localhost:8080/"
        },
        "id": "MBoeIEMYORNp",
        "outputId": "d2a0bb51-eecc-499f-85c4-50d144c15595"
      },
      "execution_count": null,
      "outputs": [
        {
          "output_type": "execute_result",
          "data": {
            "text/plain": [
              "19.0"
            ]
          },
          "metadata": {},
          "execution_count": 115
        }
      ]
    },
    {
      "cell_type": "code",
      "source": [
        "for it in range(0,10):\n",
        "  print(it)\n",
        "  it += 1"
      ],
      "metadata": {
        "id": "v5etsz6OOTIc",
        "colab": {
          "base_uri": "https://localhost:8080/"
        },
        "outputId": "eaa6b936-d628-4449-a076-7aeb1f1e1c45"
      },
      "execution_count": null,
      "outputs": [
        {
          "output_type": "stream",
          "name": "stdout",
          "text": [
            "0\n",
            "1\n",
            "2\n",
            "3\n",
            "4\n",
            "5\n",
            "6\n",
            "7\n",
            "8\n",
            "9\n"
          ]
        }
      ]
    },
    {
      "cell_type": "code",
      "source": [],
      "metadata": {
        "id": "lx0Xg69du1RN"
      },
      "execution_count": null,
      "outputs": []
    }
  ]
}